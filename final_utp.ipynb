{
 "cells": [
  {
   "attachments": {},
   "cell_type": "markdown",
   "metadata": {},
   "source": [
    "# Calculation of back allocation using machine learning"
   ]
  },
  {
   "attachments": {},
   "cell_type": "markdown",
   "metadata": {},
   "source": [
    "## Importing necessary libraries"
   ]
  },
  {
   "cell_type": "code",
   "execution_count": 420,
   "metadata": {},
   "outputs": [],
   "source": [
    "import pandas as pd\n",
    "import plotly.figure_factory as ff\n",
    "import plotly.express as px\n",
    "from sklearn.model_selection import train_test_split\n",
    "from sklearn.model_selection import cross_val_score\n",
    "from sklearn.metrics import r2_score\n",
    "import plotly.subplots as sp\n",
    "from plotly.subplots import make_subplots\n",
    "import plotly.graph_objects as go\n",
    "from xgboost import XGBRegressor\n",
    "from sklearn.linear_model import LinearRegression\n",
    "from sklearn.multioutput import MultiOutputRegressor\n",
    "from sklearn.ensemble import RandomForestRegressor\n",
    "from sklearn.svm import SVR\n",
    "from sklearn.model_selection import GridSearchCV\n",
    "#ignore warnings\n",
    "import warnings\n",
    "warnings.filterwarnings('ignore')"
   ]
  },
  {
   "attachments": {},
   "cell_type": "markdown",
   "metadata": {},
   "source": [
    "## Loading data"
   ]
  },
  {
   "cell_type": "code",
   "execution_count": 421,
   "metadata": {},
   "outputs": [],
   "source": [
    "df_well1 = pd.read_excel(r'C:\\Users\\aliyu\\Documents\\Machine Learning\\Work\\back-allocation-using-machine-learning\\datasets\\well1.xlsx', sheet_name='Full History', header=2)\n",
    "df_well2 = pd.read_excel(r'C:\\Users\\aliyu\\Documents\\Machine Learning\\Work\\back-allocation-using-machine-learning\\datasets\\well2.xlsx', sheet_name='Full History', header=2)\n",
    "df_well3 = pd.read_excel(r'C:\\Users\\aliyu\\Documents\\Machine Learning\\Work\\back-allocation-using-machine-learning\\datasets\\well3.xlsx', sheet_name='Full History', header=2)\n",
    "df_well4 = pd.read_excel(r'C:\\Users\\aliyu\\Documents\\Machine Learning\\Work\\back-allocation-using-machine-learning\\datasets\\well4.xlsx', sheet_name='Full History', header=2)\n"
   ]
  },
  {
   "cell_type": "code",
   "execution_count": 422,
   "metadata": {},
   "outputs": [
    {
     "data": {
      "text/html": [
       "<div>\n",
       "<style scoped>\n",
       "    .dataframe tbody tr th:only-of-type {\n",
       "        vertical-align: middle;\n",
       "    }\n",
       "\n",
       "    .dataframe tbody tr th {\n",
       "        vertical-align: top;\n",
       "    }\n",
       "\n",
       "    .dataframe thead th {\n",
       "        text-align: right;\n",
       "    }\n",
       "</style>\n",
       "<table border=\"1\" class=\"dataframe\">\n",
       "  <thead>\n",
       "    <tr style=\"text-align: right;\">\n",
       "      <th></th>\n",
       "      <th>Ir. Calender</th>\n",
       "      <th>Eng. Calender</th>\n",
       "      <th>Choke(/64\")</th>\n",
       "      <th>WHT (0C)</th>\n",
       "      <th>WHP (psig)</th>\n",
       "      <th>WHP (barg)</th>\n",
       "      <th>Oil Rate (STBD)</th>\n",
       "      <th>∆Q (STBD)</th>\n",
       "      <th>Water Rate(sbwpd)</th>\n",
       "      <th>BS&amp;W</th>\n",
       "      <th>...</th>\n",
       "      <th>Unnamed: 17</th>\n",
       "      <th>Unnamed: 18</th>\n",
       "      <th>Unnamed: 19</th>\n",
       "      <th>Unnamed: 20</th>\n",
       "      <th>Unnamed: 21</th>\n",
       "      <th>Unnamed: 22</th>\n",
       "      <th>Unnamed: 23</th>\n",
       "      <th>Unnamed: 24</th>\n",
       "      <th>Unnamed: 25</th>\n",
       "      <th>Unnamed: 26</th>\n",
       "    </tr>\n",
       "  </thead>\n",
       "  <tbody>\n",
       "    <tr>\n",
       "      <th>0</th>\n",
       "      <td>1999-01-18 00:00:00</td>\n",
       "      <td>1999-01-19</td>\n",
       "      <td>44.0</td>\n",
       "      <td>76.4</td>\n",
       "      <td>1785.58</td>\n",
       "      <td>123.143448</td>\n",
       "      <td>7409.0</td>\n",
       "      <td>NaN</td>\n",
       "      <td>3.29</td>\n",
       "      <td>0.044386</td>\n",
       "      <td>...</td>\n",
       "      <td>NaN</td>\n",
       "      <td>NaN</td>\n",
       "      <td>NaN</td>\n",
       "      <td>NaN</td>\n",
       "      <td>NaN</td>\n",
       "      <td>NaN</td>\n",
       "      <td>NaN</td>\n",
       "      <td>NaN</td>\n",
       "      <td>NaN</td>\n",
       "      <td>NaN</td>\n",
       "    </tr>\n",
       "    <tr>\n",
       "      <th>1</th>\n",
       "      <td>1999-02-05 00:00:00</td>\n",
       "      <td>1999-01-20</td>\n",
       "      <td>50.0</td>\n",
       "      <td>NaN</td>\n",
       "      <td>1683.38</td>\n",
       "      <td>116.095172</td>\n",
       "      <td>9205.0</td>\n",
       "      <td>1796.0</td>\n",
       "      <td>0.00</td>\n",
       "      <td>0.000000</td>\n",
       "      <td>...</td>\n",
       "      <td>NaN</td>\n",
       "      <td>NaN</td>\n",
       "      <td>NaN</td>\n",
       "      <td>NaN</td>\n",
       "      <td>NaN</td>\n",
       "      <td>NaN</td>\n",
       "      <td>NaN</td>\n",
       "      <td>NaN</td>\n",
       "      <td>NaN</td>\n",
       "      <td>NaN</td>\n",
       "    </tr>\n",
       "    <tr>\n",
       "      <th>2</th>\n",
       "      <td>1999-02-06 00:00:00</td>\n",
       "      <td>1999-01-21</td>\n",
       "      <td>55.0</td>\n",
       "      <td>NaN</td>\n",
       "      <td>1566.58</td>\n",
       "      <td>108.040000</td>\n",
       "      <td>10454.0</td>\n",
       "      <td>1249.0</td>\n",
       "      <td>0.00</td>\n",
       "      <td>0.000000</td>\n",
       "      <td>...</td>\n",
       "      <td>NaN</td>\n",
       "      <td>NaN</td>\n",
       "      <td>NaN</td>\n",
       "      <td>NaN</td>\n",
       "      <td>NaN</td>\n",
       "      <td>NaN</td>\n",
       "      <td>NaN</td>\n",
       "      <td>NaN</td>\n",
       "      <td>NaN</td>\n",
       "      <td>NaN</td>\n",
       "    </tr>\n",
       "    <tr>\n",
       "      <th>3</th>\n",
       "      <td>1999-02-08 00:00:00</td>\n",
       "      <td>1999-01-22</td>\n",
       "      <td>55.0</td>\n",
       "      <td>NaN</td>\n",
       "      <td>1576.80</td>\n",
       "      <td>108.744828</td>\n",
       "      <td>10006.0</td>\n",
       "      <td>-448.0</td>\n",
       "      <td>0.00</td>\n",
       "      <td>0.000000</td>\n",
       "      <td>...</td>\n",
       "      <td>NaN</td>\n",
       "      <td>NaN</td>\n",
       "      <td>NaN</td>\n",
       "      <td>NaN</td>\n",
       "      <td>NaN</td>\n",
       "      <td>NaN</td>\n",
       "      <td>NaN</td>\n",
       "      <td>NaN</td>\n",
       "      <td>NaN</td>\n",
       "      <td>NaN</td>\n",
       "    </tr>\n",
       "    <tr>\n",
       "      <th>4</th>\n",
       "      <td>1999-02-09 00:00:00</td>\n",
       "      <td>1999-01-25</td>\n",
       "      <td>55.0</td>\n",
       "      <td>NaN</td>\n",
       "      <td>1575.34</td>\n",
       "      <td>108.644138</td>\n",
       "      <td>9877.0</td>\n",
       "      <td>-129.0</td>\n",
       "      <td>0.00</td>\n",
       "      <td>0.000000</td>\n",
       "      <td>...</td>\n",
       "      <td>NaN</td>\n",
       "      <td>NaN</td>\n",
       "      <td>NaN</td>\n",
       "      <td>NaN</td>\n",
       "      <td>NaN</td>\n",
       "      <td>NaN</td>\n",
       "      <td>NaN</td>\n",
       "      <td>NaN</td>\n",
       "      <td>NaN</td>\n",
       "      <td>NaN</td>\n",
       "    </tr>\n",
       "  </tbody>\n",
       "</table>\n",
       "<p>5 rows × 27 columns</p>\n",
       "</div>"
      ],
      "text/plain": [
       "          Ir. Calender Eng. Calender  Choke(/64\")  WHT (0C)  WHP (psig)  \\\n",
       "0  1999-01-18 00:00:00    1999-01-19         44.0      76.4     1785.58   \n",
       "1  1999-02-05 00:00:00    1999-01-20         50.0       NaN     1683.38   \n",
       "2  1999-02-06 00:00:00    1999-01-21         55.0       NaN     1566.58   \n",
       "3  1999-02-08 00:00:00    1999-01-22         55.0       NaN     1576.80   \n",
       "4  1999-02-09 00:00:00    1999-01-25         55.0       NaN     1575.34   \n",
       "\n",
       "   WHP (barg)  Oil Rate (STBD)  ∆Q (STBD)  Water Rate(sbwpd)      BS&W  ...  \\\n",
       "0  123.143448           7409.0        NaN               3.29  0.044386  ...   \n",
       "1  116.095172           9205.0     1796.0               0.00  0.000000  ...   \n",
       "2  108.040000          10454.0     1249.0               0.00  0.000000  ...   \n",
       "3  108.744828          10006.0     -448.0               0.00  0.000000  ...   \n",
       "4  108.644138           9877.0     -129.0               0.00  0.000000  ...   \n",
       "\n",
       "   Unnamed: 17  Unnamed: 18  Unnamed: 19  Unnamed: 20  Unnamed: 21  \\\n",
       "0          NaN          NaN          NaN          NaN          NaN   \n",
       "1          NaN          NaN          NaN          NaN          NaN   \n",
       "2          NaN          NaN          NaN          NaN          NaN   \n",
       "3          NaN          NaN          NaN          NaN          NaN   \n",
       "4          NaN          NaN          NaN          NaN          NaN   \n",
       "\n",
       "   Unnamed: 22  Unnamed: 23 Unnamed: 24  Unnamed: 25  Unnamed: 26  \n",
       "0          NaN          NaN         NaN          NaN          NaN  \n",
       "1          NaN          NaN         NaN          NaN          NaN  \n",
       "2          NaN          NaN         NaN          NaN          NaN  \n",
       "3          NaN          NaN         NaN          NaN          NaN  \n",
       "4          NaN          NaN         NaN          NaN          NaN  \n",
       "\n",
       "[5 rows x 27 columns]"
      ]
     },
     "execution_count": 422,
     "metadata": {},
     "output_type": "execute_result"
    }
   ],
   "source": [
    "df_well1.head()"
   ]
  },
  {
   "cell_type": "code",
   "execution_count": 423,
   "metadata": {},
   "outputs": [
    {
     "data": {
      "text/html": [
       "<div>\n",
       "<style scoped>\n",
       "    .dataframe tbody tr th:only-of-type {\n",
       "        vertical-align: middle;\n",
       "    }\n",
       "\n",
       "    .dataframe tbody tr th {\n",
       "        vertical-align: top;\n",
       "    }\n",
       "\n",
       "    .dataframe thead th {\n",
       "        text-align: right;\n",
       "    }\n",
       "</style>\n",
       "<table border=\"1\" class=\"dataframe\">\n",
       "  <thead>\n",
       "    <tr style=\"text-align: right;\">\n",
       "      <th></th>\n",
       "      <th>Ir. Calender</th>\n",
       "      <th>Eng. Calender</th>\n",
       "      <th>Choke(/64\")</th>\n",
       "      <th>WHT (0C)</th>\n",
       "      <th>WHP (psig)</th>\n",
       "      <th>WHP (barg)</th>\n",
       "      <th>Oil Rate (STBD)</th>\n",
       "      <th>∆Q (STBD)</th>\n",
       "      <th>Water Rate(sbwpd)</th>\n",
       "      <th>BS&amp;W</th>\n",
       "      <th>Gas Rate (mscfd)</th>\n",
       "      <th>GOR</th>\n",
       "      <th>API</th>\n",
       "    </tr>\n",
       "  </thead>\n",
       "  <tbody>\n",
       "    <tr>\n",
       "      <th>0</th>\n",
       "      <td>1999-01-18 00:00:00</td>\n",
       "      <td>1999-01-19</td>\n",
       "      <td>44.0</td>\n",
       "      <td>76.4</td>\n",
       "      <td>1785.58</td>\n",
       "      <td>123.143448</td>\n",
       "      <td>7409.0</td>\n",
       "      <td>NaN</td>\n",
       "      <td>3.29</td>\n",
       "      <td>0.044386</td>\n",
       "      <td>6936.0</td>\n",
       "      <td>936.158726</td>\n",
       "      <td>NaN</td>\n",
       "    </tr>\n",
       "    <tr>\n",
       "      <th>1</th>\n",
       "      <td>1999-02-05 00:00:00</td>\n",
       "      <td>1999-01-20</td>\n",
       "      <td>50.0</td>\n",
       "      <td>NaN</td>\n",
       "      <td>1683.38</td>\n",
       "      <td>116.095172</td>\n",
       "      <td>9205.0</td>\n",
       "      <td>1796.0</td>\n",
       "      <td>0.00</td>\n",
       "      <td>0.000000</td>\n",
       "      <td>9420.0</td>\n",
       "      <td>1023.356871</td>\n",
       "      <td>NaN</td>\n",
       "    </tr>\n",
       "    <tr>\n",
       "      <th>2</th>\n",
       "      <td>1999-02-06 00:00:00</td>\n",
       "      <td>1999-01-21</td>\n",
       "      <td>55.0</td>\n",
       "      <td>NaN</td>\n",
       "      <td>1566.58</td>\n",
       "      <td>108.040000</td>\n",
       "      <td>10454.0</td>\n",
       "      <td>1249.0</td>\n",
       "      <td>0.00</td>\n",
       "      <td>0.000000</td>\n",
       "      <td>10812.0</td>\n",
       "      <td>1034.245265</td>\n",
       "      <td>NaN</td>\n",
       "    </tr>\n",
       "    <tr>\n",
       "      <th>3</th>\n",
       "      <td>1999-02-08 00:00:00</td>\n",
       "      <td>1999-01-22</td>\n",
       "      <td>55.0</td>\n",
       "      <td>NaN</td>\n",
       "      <td>1576.80</td>\n",
       "      <td>108.744828</td>\n",
       "      <td>10006.0</td>\n",
       "      <td>-448.0</td>\n",
       "      <td>0.00</td>\n",
       "      <td>0.000000</td>\n",
       "      <td>10832.0</td>\n",
       "      <td>1082.550470</td>\n",
       "      <td>NaN</td>\n",
       "    </tr>\n",
       "    <tr>\n",
       "      <th>4</th>\n",
       "      <td>1999-02-09 00:00:00</td>\n",
       "      <td>1999-01-25</td>\n",
       "      <td>55.0</td>\n",
       "      <td>NaN</td>\n",
       "      <td>1575.34</td>\n",
       "      <td>108.644138</td>\n",
       "      <td>9877.0</td>\n",
       "      <td>-129.0</td>\n",
       "      <td>0.00</td>\n",
       "      <td>0.000000</td>\n",
       "      <td>10976.0</td>\n",
       "      <td>1111.268604</td>\n",
       "      <td>NaN</td>\n",
       "    </tr>\n",
       "  </tbody>\n",
       "</table>\n",
       "</div>"
      ],
      "text/plain": [
       "          Ir. Calender Eng. Calender  Choke(/64\")  WHT (0C)  WHP (psig)  \\\n",
       "0  1999-01-18 00:00:00    1999-01-19         44.0      76.4     1785.58   \n",
       "1  1999-02-05 00:00:00    1999-01-20         50.0       NaN     1683.38   \n",
       "2  1999-02-06 00:00:00    1999-01-21         55.0       NaN     1566.58   \n",
       "3  1999-02-08 00:00:00    1999-01-22         55.0       NaN     1576.80   \n",
       "4  1999-02-09 00:00:00    1999-01-25         55.0       NaN     1575.34   \n",
       "\n",
       "   WHP (barg)  Oil Rate (STBD)  ∆Q (STBD)  Water Rate(sbwpd)      BS&W  \\\n",
       "0  123.143448           7409.0        NaN               3.29  0.044386   \n",
       "1  116.095172           9205.0     1796.0               0.00  0.000000   \n",
       "2  108.040000          10454.0     1249.0               0.00  0.000000   \n",
       "3  108.744828          10006.0     -448.0               0.00  0.000000   \n",
       "4  108.644138           9877.0     -129.0               0.00  0.000000   \n",
       "\n",
       "   Gas Rate (mscfd)          GOR  API  \n",
       "0            6936.0   936.158726  NaN  \n",
       "1            9420.0  1023.356871  NaN  \n",
       "2           10812.0  1034.245265  NaN  \n",
       "3           10832.0  1082.550470  NaN  \n",
       "4           10976.0  1111.268604  NaN  "
      ]
     },
     "execution_count": 423,
     "metadata": {},
     "output_type": "execute_result"
    }
   ],
   "source": [
    "#selecting columns with proper names only\n",
    "df_well1 = df_well1[['Ir. Calender', 'Eng. Calender', 'Choke(/64\")', 'WHT (0C)',\n",
    "       'WHP (psig)', 'WHP (barg)', 'Oil Rate (STBD)', '∆Q (STBD)',\n",
    "       'Water Rate(sbwpd)', 'BS&W', 'Gas Rate (mscfd)', 'GOR', 'API']]\n",
    "df_well2 = df_well2[['Ir. Calender', 'Eng. Calender', 'Choke(/64\")', 'WHT (0C)',\n",
    "       'WHP (psig)', 'WHP (barg)', 'Oil Rate (STBD)', '∆Q (STBD)',\n",
    "       'Water Rate(sbwpd)', 'BS&W', 'Gas Rate (mscfd)', 'GOR', 'API']]\n",
    "df_well3 = df_well3[['Ir. Calender', 'Eng. Calender', 'Choke(/64\")', 'WHT (0C)',\n",
    "       'WHP (psig)', 'WHP (barg)', 'Oil Rate (STBD)', '∆Q (STBD)',\n",
    "       'Water Rate(sbwpd)', 'BS&W', 'Gas Rate (mscfd)', 'GOR', 'API']]\n",
    "df_well4 = df_well4[['Ir. Calender', 'Eng. Calender', 'Choke(/64\")', 'WHT (0C)',\n",
    "       'WHP (psig)', 'WHP (barg)', 'Oil Rate (STBD)', '∆Q (STBD)',\n",
    "       'Water Rate(sbwpd)', 'BS&W', 'Gas Rate (mscfd)', 'GOR', 'API']]\n",
    "df_well1.head()"
   ]
  },
  {
   "attachments": {},
   "cell_type": "markdown",
   "metadata": {},
   "source": [
    "## Data cleaning and EDA"
   ]
  },
  {
   "attachments": {},
   "cell_type": "markdown",
   "metadata": {},
   "source": [
    "### Well 1"
   ]
  },
  {
   "cell_type": "code",
   "execution_count": 424,
   "metadata": {},
   "outputs": [
    {
     "data": {
      "text/plain": [
       "(191, 13)"
      ]
     },
     "execution_count": 424,
     "metadata": {},
     "output_type": "execute_result"
    }
   ],
   "source": [
    "df_well1.shape"
   ]
  },
  {
   "cell_type": "code",
   "execution_count": 425,
   "metadata": {},
   "outputs": [
    {
     "data": {
      "text/plain": [
       "Ir. Calender           0\n",
       "Eng. Calender         13\n",
       "Choke(/64\")           96\n",
       "WHT (0C)              22\n",
       "WHP (psig)             0\n",
       "WHP (barg)             0\n",
       "Oil Rate (STBD)        0\n",
       "∆Q (STBD)              1\n",
       "Water Rate(sbwpd)      5\n",
       "BS&W                   0\n",
       "Gas Rate (mscfd)       6\n",
       "GOR                    1\n",
       "API                  176\n",
       "dtype: int64"
      ]
     },
     "execution_count": 425,
     "metadata": {},
     "output_type": "execute_result"
    }
   ],
   "source": [
    "df_well1.isnull().sum()"
   ]
  },
  {
   "cell_type": "code",
   "execution_count": 426,
   "metadata": {},
   "outputs": [],
   "source": [
    "## since API has null values more than 50% of data we can drop these columns\n",
    "df_well1 = df_well1.drop(['API' ], axis=1)"
   ]
  },
  {
   "cell_type": "code",
   "execution_count": 427,
   "metadata": {},
   "outputs": [
    {
     "data": {
      "text/html": [
       "<div>\n",
       "<style scoped>\n",
       "    .dataframe tbody tr th:only-of-type {\n",
       "        vertical-align: middle;\n",
       "    }\n",
       "\n",
       "    .dataframe tbody tr th {\n",
       "        vertical-align: top;\n",
       "    }\n",
       "\n",
       "    .dataframe thead th {\n",
       "        text-align: right;\n",
       "    }\n",
       "</style>\n",
       "<table border=\"1\" class=\"dataframe\">\n",
       "  <thead>\n",
       "    <tr style=\"text-align: right;\">\n",
       "      <th></th>\n",
       "      <th>Ir. Calender</th>\n",
       "      <th>Eng. Calender</th>\n",
       "      <th>Choke(/64\")</th>\n",
       "      <th>WHT (0C)</th>\n",
       "      <th>WHP (psig)</th>\n",
       "      <th>WHP (barg)</th>\n",
       "      <th>Oil Rate (STBD)</th>\n",
       "      <th>∆Q (STBD)</th>\n",
       "      <th>Water Rate(sbwpd)</th>\n",
       "      <th>BS&amp;W</th>\n",
       "      <th>Gas Rate (mscfd)</th>\n",
       "      <th>GOR</th>\n",
       "    </tr>\n",
       "  </thead>\n",
       "  <tbody>\n",
       "    <tr>\n",
       "      <th>0</th>\n",
       "      <td>1999-01-18 00:00:00</td>\n",
       "      <td>1999-01-19</td>\n",
       "      <td>44.0</td>\n",
       "      <td>76.4</td>\n",
       "      <td>1785.58</td>\n",
       "      <td>123.143448</td>\n",
       "      <td>7409.0</td>\n",
       "      <td>NaN</td>\n",
       "      <td>3.29</td>\n",
       "      <td>0.044386</td>\n",
       "      <td>6936.0</td>\n",
       "      <td>936.158726</td>\n",
       "    </tr>\n",
       "    <tr>\n",
       "      <th>1</th>\n",
       "      <td>1999-02-05 00:00:00</td>\n",
       "      <td>1999-01-20</td>\n",
       "      <td>50.0</td>\n",
       "      <td>NaN</td>\n",
       "      <td>1683.38</td>\n",
       "      <td>116.095172</td>\n",
       "      <td>9205.0</td>\n",
       "      <td>1796.0</td>\n",
       "      <td>0.00</td>\n",
       "      <td>0.000000</td>\n",
       "      <td>9420.0</td>\n",
       "      <td>1023.356871</td>\n",
       "    </tr>\n",
       "    <tr>\n",
       "      <th>2</th>\n",
       "      <td>1999-02-06 00:00:00</td>\n",
       "      <td>1999-01-21</td>\n",
       "      <td>55.0</td>\n",
       "      <td>NaN</td>\n",
       "      <td>1566.58</td>\n",
       "      <td>108.040000</td>\n",
       "      <td>10454.0</td>\n",
       "      <td>1249.0</td>\n",
       "      <td>0.00</td>\n",
       "      <td>0.000000</td>\n",
       "      <td>10812.0</td>\n",
       "      <td>1034.245265</td>\n",
       "    </tr>\n",
       "    <tr>\n",
       "      <th>3</th>\n",
       "      <td>1999-02-08 00:00:00</td>\n",
       "      <td>1999-01-22</td>\n",
       "      <td>55.0</td>\n",
       "      <td>NaN</td>\n",
       "      <td>1576.80</td>\n",
       "      <td>108.744828</td>\n",
       "      <td>10006.0</td>\n",
       "      <td>-448.0</td>\n",
       "      <td>0.00</td>\n",
       "      <td>0.000000</td>\n",
       "      <td>10832.0</td>\n",
       "      <td>1082.550470</td>\n",
       "    </tr>\n",
       "    <tr>\n",
       "      <th>4</th>\n",
       "      <td>1999-02-09 00:00:00</td>\n",
       "      <td>1999-01-25</td>\n",
       "      <td>55.0</td>\n",
       "      <td>NaN</td>\n",
       "      <td>1575.34</td>\n",
       "      <td>108.644138</td>\n",
       "      <td>9877.0</td>\n",
       "      <td>-129.0</td>\n",
       "      <td>0.00</td>\n",
       "      <td>0.000000</td>\n",
       "      <td>10976.0</td>\n",
       "      <td>1111.268604</td>\n",
       "    </tr>\n",
       "    <tr>\n",
       "      <th>...</th>\n",
       "      <td>...</td>\n",
       "      <td>...</td>\n",
       "      <td>...</td>\n",
       "      <td>...</td>\n",
       "      <td>...</td>\n",
       "      <td>...</td>\n",
       "      <td>...</td>\n",
       "      <td>...</td>\n",
       "      <td>...</td>\n",
       "      <td>...</td>\n",
       "      <td>...</td>\n",
       "      <td>...</td>\n",
       "    </tr>\n",
       "    <tr>\n",
       "      <th>186</th>\n",
       "      <td>1388/08/24</td>\n",
       "      <td>NaT</td>\n",
       "      <td>NaN</td>\n",
       "      <td>87.3</td>\n",
       "      <td>1858.90</td>\n",
       "      <td>128.200000</td>\n",
       "      <td>4793.0</td>\n",
       "      <td>313.0</td>\n",
       "      <td>0.00</td>\n",
       "      <td>0.000000</td>\n",
       "      <td>5925.0</td>\n",
       "      <td>1236.177759</td>\n",
       "    </tr>\n",
       "    <tr>\n",
       "      <th>187</th>\n",
       "      <td>1388/09/25</td>\n",
       "      <td>NaT</td>\n",
       "      <td>NaN</td>\n",
       "      <td>87.0</td>\n",
       "      <td>1812.50</td>\n",
       "      <td>125.000000</td>\n",
       "      <td>4825.0</td>\n",
       "      <td>32.0</td>\n",
       "      <td>0.00</td>\n",
       "      <td>0.000000</td>\n",
       "      <td>6013.0</td>\n",
       "      <td>1246.217617</td>\n",
       "    </tr>\n",
       "    <tr>\n",
       "      <th>188</th>\n",
       "      <td>1388/11/15</td>\n",
       "      <td>NaT</td>\n",
       "      <td>NaN</td>\n",
       "      <td>86.0</td>\n",
       "      <td>1777.70</td>\n",
       "      <td>122.600000</td>\n",
       "      <td>4580.0</td>\n",
       "      <td>-245.0</td>\n",
       "      <td>5.00</td>\n",
       "      <td>0.100000</td>\n",
       "      <td>5716.0</td>\n",
       "      <td>1248.034934</td>\n",
       "    </tr>\n",
       "    <tr>\n",
       "      <th>189</th>\n",
       "      <td>1388/12/29</td>\n",
       "      <td>NaT</td>\n",
       "      <td>NaN</td>\n",
       "      <td>87.0</td>\n",
       "      <td>1767.55</td>\n",
       "      <td>121.900000</td>\n",
       "      <td>4825.0</td>\n",
       "      <td>245.0</td>\n",
       "      <td>5.00</td>\n",
       "      <td>0.100000</td>\n",
       "      <td>6205.0</td>\n",
       "      <td>1286.010363</td>\n",
       "    </tr>\n",
       "    <tr>\n",
       "      <th>190</th>\n",
       "      <td>1389/03/03</td>\n",
       "      <td>NaT</td>\n",
       "      <td>NaN</td>\n",
       "      <td>88.0</td>\n",
       "      <td>1713.90</td>\n",
       "      <td>118.200000</td>\n",
       "      <td>5504.0</td>\n",
       "      <td>679.0</td>\n",
       "      <td>3.00</td>\n",
       "      <td>0.100000</td>\n",
       "      <td>7314.0</td>\n",
       "      <td>1328.851744</td>\n",
       "    </tr>\n",
       "  </tbody>\n",
       "</table>\n",
       "<p>191 rows × 12 columns</p>\n",
       "</div>"
      ],
      "text/plain": [
       "            Ir. Calender Eng. Calender  Choke(/64\")  WHT (0C)  WHP (psig)  \\\n",
       "0    1999-01-18 00:00:00    1999-01-19         44.0      76.4     1785.58   \n",
       "1    1999-02-05 00:00:00    1999-01-20         50.0       NaN     1683.38   \n",
       "2    1999-02-06 00:00:00    1999-01-21         55.0       NaN     1566.58   \n",
       "3    1999-02-08 00:00:00    1999-01-22         55.0       NaN     1576.80   \n",
       "4    1999-02-09 00:00:00    1999-01-25         55.0       NaN     1575.34   \n",
       "..                   ...           ...          ...       ...         ...   \n",
       "186           1388/08/24           NaT          NaN      87.3     1858.90   \n",
       "187           1388/09/25           NaT          NaN      87.0     1812.50   \n",
       "188           1388/11/15           NaT          NaN      86.0     1777.70   \n",
       "189           1388/12/29           NaT          NaN      87.0     1767.55   \n",
       "190           1389/03/03           NaT          NaN      88.0     1713.90   \n",
       "\n",
       "     WHP (barg)  Oil Rate (STBD)  ∆Q (STBD)  Water Rate(sbwpd)      BS&W  \\\n",
       "0    123.143448           7409.0        NaN               3.29  0.044386   \n",
       "1    116.095172           9205.0     1796.0               0.00  0.000000   \n",
       "2    108.040000          10454.0     1249.0               0.00  0.000000   \n",
       "3    108.744828          10006.0     -448.0               0.00  0.000000   \n",
       "4    108.644138           9877.0     -129.0               0.00  0.000000   \n",
       "..          ...              ...        ...                ...       ...   \n",
       "186  128.200000           4793.0      313.0               0.00  0.000000   \n",
       "187  125.000000           4825.0       32.0               0.00  0.000000   \n",
       "188  122.600000           4580.0     -245.0               5.00  0.100000   \n",
       "189  121.900000           4825.0      245.0               5.00  0.100000   \n",
       "190  118.200000           5504.0      679.0               3.00  0.100000   \n",
       "\n",
       "     Gas Rate (mscfd)          GOR  \n",
       "0              6936.0   936.158726  \n",
       "1              9420.0  1023.356871  \n",
       "2             10812.0  1034.245265  \n",
       "3             10832.0  1082.550470  \n",
       "4             10976.0  1111.268604  \n",
       "..                ...          ...  \n",
       "186            5925.0  1236.177759  \n",
       "187            6013.0  1246.217617  \n",
       "188            5716.0  1248.034934  \n",
       "189            6205.0  1286.010363  \n",
       "190            7314.0  1328.851744  \n",
       "\n",
       "[191 rows x 12 columns]"
      ]
     },
     "execution_count": 427,
     "metadata": {},
     "output_type": "execute_result"
    }
   ],
   "source": [
    "df_well1"
   ]
  },
  {
   "cell_type": "code",
   "execution_count": 428,
   "metadata": {},
   "outputs": [],
   "source": [
    "#drop unnecessary colunms\n",
    "df_well1 = df_well1.drop(['Ir. Calender','WHP (barg)'], axis=1)"
   ]
  },
  {
   "cell_type": "code",
   "execution_count": 429,
   "metadata": {},
   "outputs": [
    {
     "data": {
      "text/html": [
       "<div>\n",
       "<style scoped>\n",
       "    .dataframe tbody tr th:only-of-type {\n",
       "        vertical-align: middle;\n",
       "    }\n",
       "\n",
       "    .dataframe tbody tr th {\n",
       "        vertical-align: top;\n",
       "    }\n",
       "\n",
       "    .dataframe thead th {\n",
       "        text-align: right;\n",
       "    }\n",
       "</style>\n",
       "<table border=\"1\" class=\"dataframe\">\n",
       "  <thead>\n",
       "    <tr style=\"text-align: right;\">\n",
       "      <th></th>\n",
       "      <th>Eng. Calender</th>\n",
       "      <th>Choke(/64\")</th>\n",
       "      <th>WHT (0C)</th>\n",
       "      <th>WHP (psig)</th>\n",
       "      <th>Oil Rate (STBD)</th>\n",
       "      <th>∆Q (STBD)</th>\n",
       "      <th>Water Rate(sbwpd)</th>\n",
       "      <th>BS&amp;W</th>\n",
       "      <th>Gas Rate (mscfd)</th>\n",
       "      <th>GOR</th>\n",
       "    </tr>\n",
       "  </thead>\n",
       "  <tbody>\n",
       "    <tr>\n",
       "      <th>0</th>\n",
       "      <td>1999-01-19</td>\n",
       "      <td>44.0</td>\n",
       "      <td>76.4</td>\n",
       "      <td>1785.58</td>\n",
       "      <td>7409.0</td>\n",
       "      <td>NaN</td>\n",
       "      <td>3.29</td>\n",
       "      <td>0.044386</td>\n",
       "      <td>6936.0</td>\n",
       "      <td>936.158726</td>\n",
       "    </tr>\n",
       "    <tr>\n",
       "      <th>1</th>\n",
       "      <td>1999-01-20</td>\n",
       "      <td>50.0</td>\n",
       "      <td>NaN</td>\n",
       "      <td>1683.38</td>\n",
       "      <td>9205.0</td>\n",
       "      <td>1796.0</td>\n",
       "      <td>0.00</td>\n",
       "      <td>0.000000</td>\n",
       "      <td>9420.0</td>\n",
       "      <td>1023.356871</td>\n",
       "    </tr>\n",
       "    <tr>\n",
       "      <th>2</th>\n",
       "      <td>1999-01-21</td>\n",
       "      <td>55.0</td>\n",
       "      <td>NaN</td>\n",
       "      <td>1566.58</td>\n",
       "      <td>10454.0</td>\n",
       "      <td>1249.0</td>\n",
       "      <td>0.00</td>\n",
       "      <td>0.000000</td>\n",
       "      <td>10812.0</td>\n",
       "      <td>1034.245265</td>\n",
       "    </tr>\n",
       "    <tr>\n",
       "      <th>3</th>\n",
       "      <td>1999-01-22</td>\n",
       "      <td>55.0</td>\n",
       "      <td>NaN</td>\n",
       "      <td>1576.80</td>\n",
       "      <td>10006.0</td>\n",
       "      <td>-448.0</td>\n",
       "      <td>0.00</td>\n",
       "      <td>0.000000</td>\n",
       "      <td>10832.0</td>\n",
       "      <td>1082.550470</td>\n",
       "    </tr>\n",
       "    <tr>\n",
       "      <th>4</th>\n",
       "      <td>1999-01-25</td>\n",
       "      <td>55.0</td>\n",
       "      <td>NaN</td>\n",
       "      <td>1575.34</td>\n",
       "      <td>9877.0</td>\n",
       "      <td>-129.0</td>\n",
       "      <td>0.00</td>\n",
       "      <td>0.000000</td>\n",
       "      <td>10976.0</td>\n",
       "      <td>1111.268604</td>\n",
       "    </tr>\n",
       "  </tbody>\n",
       "</table>\n",
       "</div>"
      ],
      "text/plain": [
       "  Eng. Calender  Choke(/64\")  WHT (0C)  WHP (psig)  Oil Rate (STBD)  \\\n",
       "0    1999-01-19         44.0      76.4     1785.58           7409.0   \n",
       "1    1999-01-20         50.0       NaN     1683.38           9205.0   \n",
       "2    1999-01-21         55.0       NaN     1566.58          10454.0   \n",
       "3    1999-01-22         55.0       NaN     1576.80          10006.0   \n",
       "4    1999-01-25         55.0       NaN     1575.34           9877.0   \n",
       "\n",
       "   ∆Q (STBD)  Water Rate(sbwpd)      BS&W  Gas Rate (mscfd)          GOR  \n",
       "0        NaN               3.29  0.044386            6936.0   936.158726  \n",
       "1     1796.0               0.00  0.000000            9420.0  1023.356871  \n",
       "2     1249.0               0.00  0.000000           10812.0  1034.245265  \n",
       "3     -448.0               0.00  0.000000           10832.0  1082.550470  \n",
       "4     -129.0               0.00  0.000000           10976.0  1111.268604  "
      ]
     },
     "execution_count": 429,
     "metadata": {},
     "output_type": "execute_result"
    }
   ],
   "source": [
    "df_well1.head()"
   ]
  },
  {
   "cell_type": "code",
   "execution_count": 430,
   "metadata": {},
   "outputs": [
    {
     "data": {
      "text/html": [
       "<div>\n",
       "<style scoped>\n",
       "    .dataframe tbody tr th:only-of-type {\n",
       "        vertical-align: middle;\n",
       "    }\n",
       "\n",
       "    .dataframe tbody tr th {\n",
       "        vertical-align: top;\n",
       "    }\n",
       "\n",
       "    .dataframe thead th {\n",
       "        text-align: right;\n",
       "    }\n",
       "</style>\n",
       "<table border=\"1\" class=\"dataframe\">\n",
       "  <thead>\n",
       "    <tr style=\"text-align: right;\">\n",
       "      <th></th>\n",
       "      <th>Eng. Calender</th>\n",
       "      <th>Choke(/64\")</th>\n",
       "      <th>WHT (0C)</th>\n",
       "      <th>WHP (psig)</th>\n",
       "      <th>Oil Rate (STBD)</th>\n",
       "      <th>∆Q (STBD)</th>\n",
       "      <th>Water Rate(sbwpd)</th>\n",
       "      <th>BS&amp;W</th>\n",
       "      <th>Gas Rate (mscfd)</th>\n",
       "      <th>GOR</th>\n",
       "    </tr>\n",
       "  </thead>\n",
       "  <tbody>\n",
       "    <tr>\n",
       "      <th>0</th>\n",
       "      <td>1999-01-19</td>\n",
       "      <td>44.0</td>\n",
       "      <td>76.4</td>\n",
       "      <td>1785.58</td>\n",
       "      <td>7409.0</td>\n",
       "      <td>NaN</td>\n",
       "      <td>3.29</td>\n",
       "      <td>0.044386</td>\n",
       "      <td>6936.0</td>\n",
       "      <td>936.158726</td>\n",
       "    </tr>\n",
       "    <tr>\n",
       "      <th>1</th>\n",
       "      <td>1999-01-20</td>\n",
       "      <td>50.0</td>\n",
       "      <td>NaN</td>\n",
       "      <td>1683.38</td>\n",
       "      <td>9205.0</td>\n",
       "      <td>1796.0</td>\n",
       "      <td>0.00</td>\n",
       "      <td>0.000000</td>\n",
       "      <td>9420.0</td>\n",
       "      <td>1023.356871</td>\n",
       "    </tr>\n",
       "    <tr>\n",
       "      <th>2</th>\n",
       "      <td>1999-01-21</td>\n",
       "      <td>55.0</td>\n",
       "      <td>NaN</td>\n",
       "      <td>1566.58</td>\n",
       "      <td>10454.0</td>\n",
       "      <td>1249.0</td>\n",
       "      <td>0.00</td>\n",
       "      <td>0.000000</td>\n",
       "      <td>10812.0</td>\n",
       "      <td>1034.245265</td>\n",
       "    </tr>\n",
       "    <tr>\n",
       "      <th>3</th>\n",
       "      <td>1999-01-22</td>\n",
       "      <td>55.0</td>\n",
       "      <td>NaN</td>\n",
       "      <td>1576.80</td>\n",
       "      <td>10006.0</td>\n",
       "      <td>-448.0</td>\n",
       "      <td>0.00</td>\n",
       "      <td>0.000000</td>\n",
       "      <td>10832.0</td>\n",
       "      <td>1082.550470</td>\n",
       "    </tr>\n",
       "    <tr>\n",
       "      <th>4</th>\n",
       "      <td>1999-01-25</td>\n",
       "      <td>55.0</td>\n",
       "      <td>NaN</td>\n",
       "      <td>1575.34</td>\n",
       "      <td>9877.0</td>\n",
       "      <td>-129.0</td>\n",
       "      <td>0.00</td>\n",
       "      <td>0.000000</td>\n",
       "      <td>10976.0</td>\n",
       "      <td>1111.268604</td>\n",
       "    </tr>\n",
       "    <tr>\n",
       "      <th>...</th>\n",
       "      <td>...</td>\n",
       "      <td>...</td>\n",
       "      <td>...</td>\n",
       "      <td>...</td>\n",
       "      <td>...</td>\n",
       "      <td>...</td>\n",
       "      <td>...</td>\n",
       "      <td>...</td>\n",
       "      <td>...</td>\n",
       "      <td>...</td>\n",
       "    </tr>\n",
       "    <tr>\n",
       "      <th>173</th>\n",
       "      <td>2005-12-09</td>\n",
       "      <td>NaN</td>\n",
       "      <td>85.0</td>\n",
       "      <td>1941.55</td>\n",
       "      <td>4086.0</td>\n",
       "      <td>-2.0</td>\n",
       "      <td>2.00</td>\n",
       "      <td>0.050000</td>\n",
       "      <td>5583.0</td>\n",
       "      <td>1366.372981</td>\n",
       "    </tr>\n",
       "    <tr>\n",
       "      <th>174</th>\n",
       "      <td>2006-01-09</td>\n",
       "      <td>NaN</td>\n",
       "      <td>85.0</td>\n",
       "      <td>1953.15</td>\n",
       "      <td>4107.0</td>\n",
       "      <td>21.0</td>\n",
       "      <td>NaN</td>\n",
       "      <td>0.100000</td>\n",
       "      <td>NaN</td>\n",
       "      <td>1178.600000</td>\n",
       "    </tr>\n",
       "    <tr>\n",
       "      <th>175</th>\n",
       "      <td>2006-02-06</td>\n",
       "      <td>NaN</td>\n",
       "      <td>85.0</td>\n",
       "      <td>1902.40</td>\n",
       "      <td>4203.0</td>\n",
       "      <td>96.0</td>\n",
       "      <td>NaN</td>\n",
       "      <td>0.100000</td>\n",
       "      <td>NaN</td>\n",
       "      <td>1120.000000</td>\n",
       "    </tr>\n",
       "    <tr>\n",
       "      <th>176</th>\n",
       "      <td>2006-03-07</td>\n",
       "      <td>NaN</td>\n",
       "      <td>85.0</td>\n",
       "      <td>1918.35</td>\n",
       "      <td>4155.0</td>\n",
       "      <td>-48.0</td>\n",
       "      <td>NaN</td>\n",
       "      <td>0.100000</td>\n",
       "      <td>NaN</td>\n",
       "      <td>1317.000000</td>\n",
       "    </tr>\n",
       "    <tr>\n",
       "      <th>177</th>\n",
       "      <td>2006-04-05</td>\n",
       "      <td>NaN</td>\n",
       "      <td>87.0</td>\n",
       "      <td>1899.50</td>\n",
       "      <td>4599.0</td>\n",
       "      <td>444.0</td>\n",
       "      <td>NaN</td>\n",
       "      <td>0.000000</td>\n",
       "      <td>NaN</td>\n",
       "      <td>1280.000000</td>\n",
       "    </tr>\n",
       "  </tbody>\n",
       "</table>\n",
       "<p>178 rows × 10 columns</p>\n",
       "</div>"
      ],
      "text/plain": [
       "    Eng. Calender  Choke(/64\")  WHT (0C)  WHP (psig)  Oil Rate (STBD)  \\\n",
       "0      1999-01-19         44.0      76.4     1785.58           7409.0   \n",
       "1      1999-01-20         50.0       NaN     1683.38           9205.0   \n",
       "2      1999-01-21         55.0       NaN     1566.58          10454.0   \n",
       "3      1999-01-22         55.0       NaN     1576.80          10006.0   \n",
       "4      1999-01-25         55.0       NaN     1575.34           9877.0   \n",
       "..            ...          ...       ...         ...              ...   \n",
       "173    2005-12-09          NaN      85.0     1941.55           4086.0   \n",
       "174    2006-01-09          NaN      85.0     1953.15           4107.0   \n",
       "175    2006-02-06          NaN      85.0     1902.40           4203.0   \n",
       "176    2006-03-07          NaN      85.0     1918.35           4155.0   \n",
       "177    2006-04-05          NaN      87.0     1899.50           4599.0   \n",
       "\n",
       "     ∆Q (STBD)  Water Rate(sbwpd)      BS&W  Gas Rate (mscfd)          GOR  \n",
       "0          NaN               3.29  0.044386            6936.0   936.158726  \n",
       "1       1796.0               0.00  0.000000            9420.0  1023.356871  \n",
       "2       1249.0               0.00  0.000000           10812.0  1034.245265  \n",
       "3       -448.0               0.00  0.000000           10832.0  1082.550470  \n",
       "4       -129.0               0.00  0.000000           10976.0  1111.268604  \n",
       "..         ...                ...       ...               ...          ...  \n",
       "173       -2.0               2.00  0.050000            5583.0  1366.372981  \n",
       "174       21.0                NaN  0.100000               NaN  1178.600000  \n",
       "175       96.0                NaN  0.100000               NaN  1120.000000  \n",
       "176      -48.0                NaN  0.100000               NaN  1317.000000  \n",
       "177      444.0                NaN  0.000000               NaN  1280.000000  \n",
       "\n",
       "[178 rows x 10 columns]"
      ]
     },
     "execution_count": 430,
     "metadata": {},
     "output_type": "execute_result"
    }
   ],
   "source": [
    "#select the data until Eng. Calendar is not null\n",
    "df_well1 = df_well1[df_well1['Eng. Calender'].notnull()]\n",
    "df_well1"
   ]
  },
  {
   "cell_type": "code",
   "execution_count": 431,
   "metadata": {},
   "outputs": [
    {
     "data": {
      "text/plain": [
       "Eng. Calender         0\n",
       "Choke(/64\")          83\n",
       "WHT (0C)             22\n",
       "WHP (psig)            0\n",
       "Oil Rate (STBD)       0\n",
       "∆Q (STBD)             1\n",
       "Water Rate(sbwpd)     4\n",
       "BS&W                  0\n",
       "Gas Rate (mscfd)      5\n",
       "GOR                   1\n",
       "dtype: int64"
      ]
     },
     "execution_count": 431,
     "metadata": {},
     "output_type": "execute_result"
    }
   ],
   "source": [
    "df_well1.isnull().sum()"
   ]
  },
  {
   "cell_type": "code",
   "execution_count": 432,
   "metadata": {},
   "outputs": [
    {
     "data": {
      "application/vnd.plotly.v1+json": {
       "config": {
        "plotlyServerURL": "https://plot.ly"
       },
       "data": [
        {
         "name": "WHT (0C)",
         "nbinsx": 40,
         "type": "histogram",
         "x": [
          76.4,
          null,
          null,
          null,
          null,
          null,
          null,
          null,
          null,
          null,
          null,
          null,
          70.7,
          null,
          88,
          88.2,
          86.9,
          82.3,
          85.5,
          85,
          85.8,
          85.7,
          85.7,
          85.5,
          85.6,
          88,
          null,
          86.1,
          90,
          null,
          90,
          90,
          89.9,
          89.9,
          89.8,
          89.7,
          89.7,
          88.7,
          null,
          86.7,
          88.7,
          88.6,
          88.7,
          88.8,
          88.8,
          88.8,
          null,
          88.8,
          88.9,
          89,
          88.9,
          88.7,
          88.7,
          86.5,
          88.6,
          86.6,
          86.1,
          83,
          82.6,
          83,
          82,
          82.6,
          82.8,
          83,
          72,
          75.1,
          75.1,
          72.2,
          69.8,
          80.2,
          80.7,
          null,
          80.4,
          80.2,
          81,
          null,
          79.5,
          79.8,
          79.7,
          80.1,
          78.8,
          78.7,
          83.7,
          null,
          76.9,
          80.9,
          85,
          84.6,
          84.4,
          84.7,
          84.4,
          84.2,
          84.4,
          84.6,
          84.8,
          81.8,
          82.1,
          82.4,
          80.1,
          80.3,
          80.3,
          80.1,
          80.5,
          80,
          80.4,
          83.9,
          80.5,
          80.6,
          80.6,
          80.7,
          81.9,
          81.7,
          81.6,
          null,
          79.1,
          78,
          78,
          79.1,
          83,
          83.8,
          84,
          84,
          83,
          83,
          82.4,
          82.4,
          82.5,
          82.5,
          82.9,
          79.2,
          80.7,
          81,
          80.6,
          79.1,
          84.3,
          84,
          83.9,
          83.6,
          83.7,
          83.8,
          84,
          83.8,
          84.3,
          84,
          85,
          82.6,
          84.7,
          84.7,
          85,
          85.5,
          85.2,
          85,
          85.3,
          84,
          84.4,
          85.7,
          85.5,
          85.4,
          85.2,
          85.4,
          85.6,
          86.3,
          86.3,
          86.2,
          85.6,
          85.3,
          84.6,
          null,
          84.6,
          null,
          85,
          85.1,
          85.2,
          85,
          85,
          85,
          85,
          87
         ],
         "xaxis": "x",
         "yaxis": "y"
        },
        {
         "name": "∆Q (STBD)",
         "nbinsx": 40,
         "type": "histogram",
         "x": [
          null,
          1796,
          1249,
          -448,
          -129,
          -173,
          -162,
          -647,
          -652,
          -715,
          -171,
          -24,
          -2456.12,
          4997.740000000001,
          138.8199999999997,
          -2335.290000000001,
          -997.5599999999995,
          -2491.66,
          1758.54,
          -392.35000000000036,
          -61.57999999999993,
          50.23999999999978,
          -20.399999999999636,
          -0.7600000000002183,
          -0.7699999999995271,
          116.14999999999964,
          -97,
          43,
          3373,
          -21,
          -103,
          -96,
          -53,
          -122,
          -36,
          -248.79999999999927,
          -10.200000000000728,
          -1269,
          6,
          -4,
          -17,
          -13.199999999999818,
          -32.400000000000546,
          -70.09999999999945,
          131.5,
          25,
          0.1999999999998181,
          29,
          -48,
          103.69999999999982,
          -159.39999999999964,
          133.30000000000018,
          -32.900000000000546,
          1218.3000000000002,
          -1271.8999999999996,
          -429.90000000000055,
          -802.8999999999996,
          -1598.6000000000004,
          161.90000000000055,
          167.39999999999964,
          317,
          -262,
          44,
          5,
          -1552.4,
          24.40000000000009,
          -569.8000000000002,
          -162.5,
          824.3000000000002,
          391.0999999999999,
          43.59999999999991,
          319.3000000000002,
          -328,
          92,
          350,
          -505,
          -17,
          -15,
          38,
          246,
          -392,
          -170,
          1716,
          -2317,
          332,
          927,
          1670,
          0,
          -117,
          -46,
          -243.89999999999964,
          -115.90000000000055,
          -37.5,
          98,
          90.30000000000018,
          -1292.1,
          11.400000000000091,
          131,
          -735,
          102.19999999999982,
          91.30000000000018,
          -147.80000000000018,
          37.09999999999991,
          -145.9000000000001,
          68.90000000000009,
          1250.6,
          -1325.1999999999998,
          -220.5999999999999,
          137.29999999999973,
          12.700000000000273,
          271.1999999999998,
          -49.19999999999982,
          -42.80000000000018,
          -862.2999999999997,
          320.6999999999998,
          -258.5,
          35,
          193.80000000000018,
          926.1999999999998,
          -5.800000000000182,
          197.10000000000036,
          -134.60000000000036,
          72,
          16.90000000000009,
          -351.2999999999997,
          -6.200000000000273,
          -40.29999999999973,
          -52.90000000000009,
          -606.2000000000003,
          -112.09999999999991,
          32.40000000000009,
          406.0999999999999,
          -44,
          -267.6999999999998,
          1239.5,
          -1128.5,
          919.4000000000001,
          -119.80000000000018,
          14.400000000000091,
          19.5,
          18.199999999999818,
          -85.19999999999982,
          201.29999999999973,
          0.900000000000091,
          413.9000000000001,
          -1037.1,
          800.1999999999998,
          15.900000000000091,
          55,
          132.89999999999964,
          -130.89999999999964,
          -55,
          93,
          -568,
          745.8000000000002,
          -439.8000000000002,
          309,
          76,
          -66.19999999999982,
          19.199999999999818,
          60,
          243,
          20,
          -45.30000000000018,
          -329.6999999999998,
          8.800000000000182,
          -115.80000000000018,
          -6,
          -14,
          29,
          13,
          -36,
          33,
          -2,
          21,
          96,
          -48,
          444
         ],
         "xaxis": "x2",
         "yaxis": "y2"
        },
        {
         "name": "Water Rate(sbwpd)",
         "nbinsx": 40,
         "type": "histogram",
         "x": [
          3.29,
          0,
          0,
          0,
          0,
          0,
          0,
          0,
          0,
          0,
          0,
          0,
          0,
          0,
          0,
          0,
          0,
          0,
          0,
          0,
          0,
          0,
          0,
          0,
          0,
          0,
          0,
          6,
          0,
          0,
          0,
          0,
          0,
          0,
          0,
          0,
          0,
          0,
          0,
          0,
          0,
          0,
          0,
          0,
          0,
          0,
          0,
          0,
          0,
          0,
          0,
          0,
          0,
          0,
          0,
          0,
          0,
          0,
          0,
          0,
          0,
          0,
          0,
          0,
          0,
          0,
          0,
          0,
          0,
          17.9,
          0,
          0,
          0,
          0,
          0,
          0,
          0,
          0,
          0,
          0,
          0,
          0,
          0,
          0,
          0,
          0,
          0,
          0,
          0,
          0,
          0,
          0,
          0,
          11.7,
          0,
          0,
          0,
          0,
          0,
          0,
          0,
          0,
          0,
          0,
          0,
          0,
          0,
          0,
          0,
          0,
          3.4,
          3.4,
          3.3,
          0,
          0,
          0,
          0,
          1.7,
          2.2,
          2.2,
          2.3,
          0,
          0,
          1.1,
          1,
          0.9,
          0.9,
          0,
          0.7,
          0,
          0,
          3.1,
          3.1,
          2,
          0.8,
          0,
          0,
          0,
          0,
          0,
          0,
          0,
          0,
          0,
          0,
          0,
          0,
          0,
          0,
          0,
          0,
          0,
          0,
          0,
          0,
          0,
          1.1,
          1.1,
          1.1,
          10.6,
          10.7,
          4.5,
          2.3,
          2.3,
          2.1,
          2.1,
          4.1,
          10.2,
          10,
          10,
          2,
          6,
          2,
          2,
          null,
          null,
          null,
          null
         ],
         "xaxis": "x3",
         "yaxis": "y3"
        },
        {
         "name": "Gas Rate (mscfd)",
         "nbinsx": 40,
         "type": "histogram",
         "x": [
          6936,
          9420,
          10812,
          10832,
          10976,
          11059.2,
          10624,
          10812,
          9976,
          8732,
          8468,
          8476,
          4752,
          11376,
          11609.14,
          9047.2,
          8080,
          5308,
          7236,
          6854,
          6356,
          7914.13,
          7932.66,
          8047.23,
          8072,
          8281,
          8320,
          8339,
          13261,
          13208,
          13262,
          13206,
          13326,
          13366,
          13415,
          11380,
          11367,
          11476,
          11467.4,
          11488.7,
          11498.6,
          11513.2,
          11466.2,
          11495.8,
          12304.8,
          12551.9,
          12664.3,
          12806.4,
          12848.3,
          13039.1,
          12850.5,
          13021.6,
          13252.4,
          13259.1,
          13365.1,
          10949.7,
          11012.2,
          8291.5,
          8504.8,
          8862,
          9371,
          8918,
          9104,
          9243,
          6550.1,
          6146.4,
          4676.3,
          4434.7,
          6569.7,
          7254.5,
          7477.4,
          8013,
          7411,
          6824,
          7156,
          5865,
          5356,
          6274,
          5972,
          null,
          5934,
          5280,
          8824,
          4306,
          4896,
          6419,
          8419,
          8419,
          8140,
          9053,
          8995.7,
          6203.3,
          9258.3,
          9463.5,
          9845.6,
          7451.6,
          7240.7,
          7650.9,
          6558.4,
          6689.1,
          7042.5,
          8835,
          6775.8,
          6546.9,
          6638.6,
          9230.1,
          6287.2,
          6325.7,
          6526.3,
          6351.4,
          6955.1,
          6885.9,
          6861.7,
          4840.9,
          4799.6,
          3932.1,
          4235.7,
          4617,
          4895,
          6163.7,
          6096.3,
          6007.9,
          6102.1,
          6039,
          5335.9,
          5251.4,
          5092.2,
          5009.9,
          5054.1,
          3538.2,
          4126,
          4788.2,
          5004.9,
          4769.9,
          8716.5,
          5521.2,
          5919.6,
          5484.1,
          5559.1,
          5578.2,
          5396.4,
          5225,
          5546,
          5567,
          6103.6,
          4827.2,
          5979.2,
          5843.2,
          5922,
          6345,
          6421,
          5854.8,
          6671,
          5920,
          7088.7,
          7143,
          6708,
          7342.9,
          6273,
          6210,
          6343,
          6772,
          6689.7,
          6573,
          6131,
          6136.5,
          5688.9,
          5806,
          5675,
          5615,
          5696,
          5001,
          5071,
          5583,
          null,
          null,
          null,
          null
         ],
         "xaxis": "x4",
         "yaxis": "y4"
        },
        {
         "name": "GOR",
         "nbinsx": 40,
         "type": "histogram",
         "x": [
          936.1587258739371,
          1023.3568712656165,
          1034.2452649703462,
          1082.550469718169,
          1111.268603827073,
          1139.653751030503,
          1113.3934185705302,
          1215.514333895447,
          1210.2389906587407,
          1159.9362380446335,
          1151.0126410221558,
          1155.8707213964271,
          974.3934646741359,
          1152.044331832516,
          1159.3558257701648,
          1178.304669744665,
          1209.4740135227578,
          1267.149367499576,
          1216.651786389843,
          1233.8167312317287,
          1156.995307215384,
          1427.5692758370642,
          1436.196676672617,
          1457.1399082319624,
          1461.8289160335755,
          1468.783256473927,
          1501.534019130121,
          1493.3739255014327,
          1480.5180305905994,
          1478.066248880931,
          1501.415147741424,
          1511.5028041661897,
          1534.546292031322,
          1561.0838589114692,
          1573.4224724372507,
          1374.8610641279658,
          1374.9848796419499,
          1639.8971134609887,
          1637.2644203312393,
          1641.2428571428572,
          1646.656164972075,
          1651.8694941031306,
          1652.8094098653676,
          1673.99123381824,
          1758.1299651368806,
          1787.052592613685,
          1803.003986332574,
          1815.7379838366653,
          1834.161313347609,
          1834.2453613178218,
          1849.1790540054394,
          1838.5338717420157,
          1879.8530433919175,
          1603.6647314949203,
          1910.3643458498304,
          1667.5855136913283,
          1910.7455797893567,
          1990.8997046605998,
          1965.7005500855173,
          1971.96261682243,
          1947.827894408647,
          1960.4308639261376,
          1982.1467450468103,
          2010.2218355806872,
          2150.6763856054636,
          2002.084690553746,
          1870.3703703703704,
          1897.0355477606195,
          2077.703984819734,
          2041.7382004446822,
          2078.9612700531043,
          2046.220633299285,
          2065.496098104794,
          1854.3478260869565,
          1775.6823821339951,
          1663.8297872340424,
          1526.7958950969214,
          1796.1637560835957,
          1691.3055791560464,
          null,
          1753.0280649926144,
          1642.3017107309486,
          1789.4950314337862,
          1647.2838561591432,
          1661.9144602851325,
          1657.3715466046992,
          1518.8526068915749,
          1518.8526068915749,
          1500.1842978252857,
          1682.7137546468402,
          1751.4651194486087,
          1235.667901677224,
          1858.0889878981277,
          1862.6370382033972,
          1904.0030941790756,
          1921.0600943566474,
          1861.2189291314294,
          1902.5936886081615,
          1995.6790311292334,
          1974.059318282426,
          2023.823208230358,
          2651.5606242496997,
          2011.1602505120063,
          2031.180193596426,
          2016.5244069135204,
          2031.8533031016798,
          1954.063714063714,
          2110.747772698455,
          2082.285750749793,
          2018.3037274778353,
          2034.7854070975104,
          2043.9609368042982,
          2062.9866810979825,
          1964.8104553941066,
          1723.6846830669779,
          1556.6508313539193,
          1653.9242483404919,
          1675.9837374764047,
          1329.8016843249118,
          1677.1060078363082,
          1574.3356661415696,
          1607.3788693581614,
          1601.727170118382,
          1578.1633826373281,
          1535.378240727419,
          1513.7643769277336,
          1485.12599160056,
          1484.019076394443,
          1824.7824674152437,
          1331.351595424443,
          1533.828996282528,
          1546.5262749911178,
          1639.8217620654632,
          1713.0800172389024,
          2166.1820621784836,
          1906.8867859363127,
          1551.7458320226485,
          1484.1948579161028,
          1498.6520731115545,
          1495.9371396390356,
          1440.1537188759307,
          1426.8549113848003,
          1435.5974321805757,
          1440.6977045107528,
          1426.7414679756896,
          1489.4628035422259,
          1479.5971393927396,
          1440.2760660586641,
          1440.1750972762645,
          1494.734858300549,
          1560.7681088964512,
          1442.4242424242425,
          1606.6955684007708,
          1651.7857142857142,
          1637.1887847013718,
          1836.2467866323907,
          1597.5232198142414,
          1717.6374269005848,
          1490.448583919407,
          1468.7795648060549,
          1479.2444029850747,
          1494.5928051202825,
          1469.9406723796967,
          1458.8188294826555,
          1468.1513409961685,
          1466.3783215446376,
          1398.1076431555664,
          1428.9933546640414,
          1401.580637194369,
          1376.9004413928396,
          1392.3246150085554,
          1233.292231812577,
          1240.4598825831702,
          1366.372980910426,
          1178.6,
          1120,
          1317,
          1280
         ],
         "xaxis": "x5",
         "yaxis": "y5"
        }
       ],
       "layout": {
        "annotations": [
         {
          "font": {
           "size": 16
          },
          "showarrow": false,
          "text": "WHT (0C)",
          "x": 0.08399999999999999,
          "xanchor": "center",
          "xref": "paper",
          "y": 1,
          "yanchor": "bottom",
          "yref": "paper"
         },
         {
          "font": {
           "size": 16
          },
          "showarrow": false,
          "text": "∆Q (STBD)",
          "x": 0.292,
          "xanchor": "center",
          "xref": "paper",
          "y": 1,
          "yanchor": "bottom",
          "yref": "paper"
         },
         {
          "font": {
           "size": 16
          },
          "showarrow": false,
          "text": "Water Rate(sbwpd)",
          "x": 0.5,
          "xanchor": "center",
          "xref": "paper",
          "y": 1,
          "yanchor": "bottom",
          "yref": "paper"
         },
         {
          "font": {
           "size": 16
          },
          "showarrow": false,
          "text": "Gas Rate (mscfd)",
          "x": 0.708,
          "xanchor": "center",
          "xref": "paper",
          "y": 1,
          "yanchor": "bottom",
          "yref": "paper"
         },
         {
          "font": {
           "size": 16
          },
          "showarrow": false,
          "text": "GOR",
          "x": 0.9159999999999999,
          "xanchor": "center",
          "xref": "paper",
          "y": 1,
          "yanchor": "bottom",
          "yref": "paper"
         }
        ],
        "height": 500,
        "template": {
         "data": {
          "bar": [
           {
            "error_x": {
             "color": "#2a3f5f"
            },
            "error_y": {
             "color": "#2a3f5f"
            },
            "marker": {
             "line": {
              "color": "#E5ECF6",
              "width": 0.5
             },
             "pattern": {
              "fillmode": "overlay",
              "size": 10,
              "solidity": 0.2
             }
            },
            "type": "bar"
           }
          ],
          "barpolar": [
           {
            "marker": {
             "line": {
              "color": "#E5ECF6",
              "width": 0.5
             },
             "pattern": {
              "fillmode": "overlay",
              "size": 10,
              "solidity": 0.2
             }
            },
            "type": "barpolar"
           }
          ],
          "carpet": [
           {
            "aaxis": {
             "endlinecolor": "#2a3f5f",
             "gridcolor": "white",
             "linecolor": "white",
             "minorgridcolor": "white",
             "startlinecolor": "#2a3f5f"
            },
            "baxis": {
             "endlinecolor": "#2a3f5f",
             "gridcolor": "white",
             "linecolor": "white",
             "minorgridcolor": "white",
             "startlinecolor": "#2a3f5f"
            },
            "type": "carpet"
           }
          ],
          "choropleth": [
           {
            "colorbar": {
             "outlinewidth": 0,
             "ticks": ""
            },
            "type": "choropleth"
           }
          ],
          "contour": [
           {
            "colorbar": {
             "outlinewidth": 0,
             "ticks": ""
            },
            "colorscale": [
             [
              0,
              "#0d0887"
             ],
             [
              0.1111111111111111,
              "#46039f"
             ],
             [
              0.2222222222222222,
              "#7201a8"
             ],
             [
              0.3333333333333333,
              "#9c179e"
             ],
             [
              0.4444444444444444,
              "#bd3786"
             ],
             [
              0.5555555555555556,
              "#d8576b"
             ],
             [
              0.6666666666666666,
              "#ed7953"
             ],
             [
              0.7777777777777778,
              "#fb9f3a"
             ],
             [
              0.8888888888888888,
              "#fdca26"
             ],
             [
              1,
              "#f0f921"
             ]
            ],
            "type": "contour"
           }
          ],
          "contourcarpet": [
           {
            "colorbar": {
             "outlinewidth": 0,
             "ticks": ""
            },
            "type": "contourcarpet"
           }
          ],
          "heatmap": [
           {
            "colorbar": {
             "outlinewidth": 0,
             "ticks": ""
            },
            "colorscale": [
             [
              0,
              "#0d0887"
             ],
             [
              0.1111111111111111,
              "#46039f"
             ],
             [
              0.2222222222222222,
              "#7201a8"
             ],
             [
              0.3333333333333333,
              "#9c179e"
             ],
             [
              0.4444444444444444,
              "#bd3786"
             ],
             [
              0.5555555555555556,
              "#d8576b"
             ],
             [
              0.6666666666666666,
              "#ed7953"
             ],
             [
              0.7777777777777778,
              "#fb9f3a"
             ],
             [
              0.8888888888888888,
              "#fdca26"
             ],
             [
              1,
              "#f0f921"
             ]
            ],
            "type": "heatmap"
           }
          ],
          "heatmapgl": [
           {
            "colorbar": {
             "outlinewidth": 0,
             "ticks": ""
            },
            "colorscale": [
             [
              0,
              "#0d0887"
             ],
             [
              0.1111111111111111,
              "#46039f"
             ],
             [
              0.2222222222222222,
              "#7201a8"
             ],
             [
              0.3333333333333333,
              "#9c179e"
             ],
             [
              0.4444444444444444,
              "#bd3786"
             ],
             [
              0.5555555555555556,
              "#d8576b"
             ],
             [
              0.6666666666666666,
              "#ed7953"
             ],
             [
              0.7777777777777778,
              "#fb9f3a"
             ],
             [
              0.8888888888888888,
              "#fdca26"
             ],
             [
              1,
              "#f0f921"
             ]
            ],
            "type": "heatmapgl"
           }
          ],
          "histogram": [
           {
            "marker": {
             "pattern": {
              "fillmode": "overlay",
              "size": 10,
              "solidity": 0.2
             }
            },
            "type": "histogram"
           }
          ],
          "histogram2d": [
           {
            "colorbar": {
             "outlinewidth": 0,
             "ticks": ""
            },
            "colorscale": [
             [
              0,
              "#0d0887"
             ],
             [
              0.1111111111111111,
              "#46039f"
             ],
             [
              0.2222222222222222,
              "#7201a8"
             ],
             [
              0.3333333333333333,
              "#9c179e"
             ],
             [
              0.4444444444444444,
              "#bd3786"
             ],
             [
              0.5555555555555556,
              "#d8576b"
             ],
             [
              0.6666666666666666,
              "#ed7953"
             ],
             [
              0.7777777777777778,
              "#fb9f3a"
             ],
             [
              0.8888888888888888,
              "#fdca26"
             ],
             [
              1,
              "#f0f921"
             ]
            ],
            "type": "histogram2d"
           }
          ],
          "histogram2dcontour": [
           {
            "colorbar": {
             "outlinewidth": 0,
             "ticks": ""
            },
            "colorscale": [
             [
              0,
              "#0d0887"
             ],
             [
              0.1111111111111111,
              "#46039f"
             ],
             [
              0.2222222222222222,
              "#7201a8"
             ],
             [
              0.3333333333333333,
              "#9c179e"
             ],
             [
              0.4444444444444444,
              "#bd3786"
             ],
             [
              0.5555555555555556,
              "#d8576b"
             ],
             [
              0.6666666666666666,
              "#ed7953"
             ],
             [
              0.7777777777777778,
              "#fb9f3a"
             ],
             [
              0.8888888888888888,
              "#fdca26"
             ],
             [
              1,
              "#f0f921"
             ]
            ],
            "type": "histogram2dcontour"
           }
          ],
          "mesh3d": [
           {
            "colorbar": {
             "outlinewidth": 0,
             "ticks": ""
            },
            "type": "mesh3d"
           }
          ],
          "parcoords": [
           {
            "line": {
             "colorbar": {
              "outlinewidth": 0,
              "ticks": ""
             }
            },
            "type": "parcoords"
           }
          ],
          "pie": [
           {
            "automargin": true,
            "type": "pie"
           }
          ],
          "scatter": [
           {
            "fillpattern": {
             "fillmode": "overlay",
             "size": 10,
             "solidity": 0.2
            },
            "type": "scatter"
           }
          ],
          "scatter3d": [
           {
            "line": {
             "colorbar": {
              "outlinewidth": 0,
              "ticks": ""
             }
            },
            "marker": {
             "colorbar": {
              "outlinewidth": 0,
              "ticks": ""
             }
            },
            "type": "scatter3d"
           }
          ],
          "scattercarpet": [
           {
            "marker": {
             "colorbar": {
              "outlinewidth": 0,
              "ticks": ""
             }
            },
            "type": "scattercarpet"
           }
          ],
          "scattergeo": [
           {
            "marker": {
             "colorbar": {
              "outlinewidth": 0,
              "ticks": ""
             }
            },
            "type": "scattergeo"
           }
          ],
          "scattergl": [
           {
            "marker": {
             "colorbar": {
              "outlinewidth": 0,
              "ticks": ""
             }
            },
            "type": "scattergl"
           }
          ],
          "scattermapbox": [
           {
            "marker": {
             "colorbar": {
              "outlinewidth": 0,
              "ticks": ""
             }
            },
            "type": "scattermapbox"
           }
          ],
          "scatterpolar": [
           {
            "marker": {
             "colorbar": {
              "outlinewidth": 0,
              "ticks": ""
             }
            },
            "type": "scatterpolar"
           }
          ],
          "scatterpolargl": [
           {
            "marker": {
             "colorbar": {
              "outlinewidth": 0,
              "ticks": ""
             }
            },
            "type": "scatterpolargl"
           }
          ],
          "scatterternary": [
           {
            "marker": {
             "colorbar": {
              "outlinewidth": 0,
              "ticks": ""
             }
            },
            "type": "scatterternary"
           }
          ],
          "surface": [
           {
            "colorbar": {
             "outlinewidth": 0,
             "ticks": ""
            },
            "colorscale": [
             [
              0,
              "#0d0887"
             ],
             [
              0.1111111111111111,
              "#46039f"
             ],
             [
              0.2222222222222222,
              "#7201a8"
             ],
             [
              0.3333333333333333,
              "#9c179e"
             ],
             [
              0.4444444444444444,
              "#bd3786"
             ],
             [
              0.5555555555555556,
              "#d8576b"
             ],
             [
              0.6666666666666666,
              "#ed7953"
             ],
             [
              0.7777777777777778,
              "#fb9f3a"
             ],
             [
              0.8888888888888888,
              "#fdca26"
             ],
             [
              1,
              "#f0f921"
             ]
            ],
            "type": "surface"
           }
          ],
          "table": [
           {
            "cells": {
             "fill": {
              "color": "#EBF0F8"
             },
             "line": {
              "color": "white"
             }
            },
            "header": {
             "fill": {
              "color": "#C8D4E3"
             },
             "line": {
              "color": "white"
             }
            },
            "type": "table"
           }
          ]
         },
         "layout": {
          "annotationdefaults": {
           "arrowcolor": "#2a3f5f",
           "arrowhead": 0,
           "arrowwidth": 1
          },
          "autotypenumbers": "strict",
          "coloraxis": {
           "colorbar": {
            "outlinewidth": 0,
            "ticks": ""
           }
          },
          "colorscale": {
           "diverging": [
            [
             0,
             "#8e0152"
            ],
            [
             0.1,
             "#c51b7d"
            ],
            [
             0.2,
             "#de77ae"
            ],
            [
             0.3,
             "#f1b6da"
            ],
            [
             0.4,
             "#fde0ef"
            ],
            [
             0.5,
             "#f7f7f7"
            ],
            [
             0.6,
             "#e6f5d0"
            ],
            [
             0.7,
             "#b8e186"
            ],
            [
             0.8,
             "#7fbc41"
            ],
            [
             0.9,
             "#4d9221"
            ],
            [
             1,
             "#276419"
            ]
           ],
           "sequential": [
            [
             0,
             "#0d0887"
            ],
            [
             0.1111111111111111,
             "#46039f"
            ],
            [
             0.2222222222222222,
             "#7201a8"
            ],
            [
             0.3333333333333333,
             "#9c179e"
            ],
            [
             0.4444444444444444,
             "#bd3786"
            ],
            [
             0.5555555555555556,
             "#d8576b"
            ],
            [
             0.6666666666666666,
             "#ed7953"
            ],
            [
             0.7777777777777778,
             "#fb9f3a"
            ],
            [
             0.8888888888888888,
             "#fdca26"
            ],
            [
             1,
             "#f0f921"
            ]
           ],
           "sequentialminus": [
            [
             0,
             "#0d0887"
            ],
            [
             0.1111111111111111,
             "#46039f"
            ],
            [
             0.2222222222222222,
             "#7201a8"
            ],
            [
             0.3333333333333333,
             "#9c179e"
            ],
            [
             0.4444444444444444,
             "#bd3786"
            ],
            [
             0.5555555555555556,
             "#d8576b"
            ],
            [
             0.6666666666666666,
             "#ed7953"
            ],
            [
             0.7777777777777778,
             "#fb9f3a"
            ],
            [
             0.8888888888888888,
             "#fdca26"
            ],
            [
             1,
             "#f0f921"
            ]
           ]
          },
          "colorway": [
           "#636efa",
           "#EF553B",
           "#00cc96",
           "#ab63fa",
           "#FFA15A",
           "#19d3f3",
           "#FF6692",
           "#B6E880",
           "#FF97FF",
           "#FECB52"
          ],
          "font": {
           "color": "#2a3f5f"
          },
          "geo": {
           "bgcolor": "white",
           "lakecolor": "white",
           "landcolor": "#E5ECF6",
           "showlakes": true,
           "showland": true,
           "subunitcolor": "white"
          },
          "hoverlabel": {
           "align": "left"
          },
          "hovermode": "closest",
          "mapbox": {
           "style": "light"
          },
          "paper_bgcolor": "white",
          "plot_bgcolor": "#E5ECF6",
          "polar": {
           "angularaxis": {
            "gridcolor": "white",
            "linecolor": "white",
            "ticks": ""
           },
           "bgcolor": "#E5ECF6",
           "radialaxis": {
            "gridcolor": "white",
            "linecolor": "white",
            "ticks": ""
           }
          },
          "scene": {
           "xaxis": {
            "backgroundcolor": "#E5ECF6",
            "gridcolor": "white",
            "gridwidth": 2,
            "linecolor": "white",
            "showbackground": true,
            "ticks": "",
            "zerolinecolor": "white"
           },
           "yaxis": {
            "backgroundcolor": "#E5ECF6",
            "gridcolor": "white",
            "gridwidth": 2,
            "linecolor": "white",
            "showbackground": true,
            "ticks": "",
            "zerolinecolor": "white"
           },
           "zaxis": {
            "backgroundcolor": "#E5ECF6",
            "gridcolor": "white",
            "gridwidth": 2,
            "linecolor": "white",
            "showbackground": true,
            "ticks": "",
            "zerolinecolor": "white"
           }
          },
          "shapedefaults": {
           "line": {
            "color": "#2a3f5f"
           }
          },
          "ternary": {
           "aaxis": {
            "gridcolor": "white",
            "linecolor": "white",
            "ticks": ""
           },
           "baxis": {
            "gridcolor": "white",
            "linecolor": "white",
            "ticks": ""
           },
           "bgcolor": "#E5ECF6",
           "caxis": {
            "gridcolor": "white",
            "linecolor": "white",
            "ticks": ""
           }
          },
          "title": {
           "x": 0.05
          },
          "xaxis": {
           "automargin": true,
           "gridcolor": "white",
           "linecolor": "white",
           "ticks": "",
           "title": {
            "standoff": 15
           },
           "zerolinecolor": "white",
           "zerolinewidth": 2
          },
          "yaxis": {
           "automargin": true,
           "gridcolor": "white",
           "linecolor": "white",
           "ticks": "",
           "title": {
            "standoff": 15
           },
           "zerolinecolor": "white",
           "zerolinewidth": 2
          }
         }
        },
        "title": {
         "text": "Distribution of Variables"
        },
        "width": 1000,
        "xaxis": {
         "anchor": "y",
         "domain": [
          0,
          0.16799999999999998
         ]
        },
        "xaxis2": {
         "anchor": "y2",
         "domain": [
          0.208,
          0.376
         ]
        },
        "xaxis3": {
         "anchor": "y3",
         "domain": [
          0.416,
          0.584
         ]
        },
        "xaxis4": {
         "anchor": "y4",
         "domain": [
          0.624,
          0.792
         ]
        },
        "xaxis5": {
         "anchor": "y5",
         "domain": [
          0.832,
          1
         ]
        },
        "yaxis": {
         "anchor": "x",
         "domain": [
          0,
          1
         ]
        },
        "yaxis2": {
         "anchor": "x2",
         "domain": [
          0,
          1
         ]
        },
        "yaxis3": {
         "anchor": "x3",
         "domain": [
          0,
          1
         ]
        },
        "yaxis4": {
         "anchor": "x4",
         "domain": [
          0,
          1
         ]
        },
        "yaxis5": {
         "anchor": "x5",
         "domain": [
          0,
          1
         ]
        }
       }
      }
     },
     "metadata": {},
     "output_type": "display_data"
    }
   ],
   "source": [
    "fig = sp.make_subplots(rows=1, cols=5, subplot_titles=('WHT (0C)', '∆Q (STBD)', 'Water Rate(sbwpd)', 'Gas Rate (mscfd)', 'GOR'))\n",
    "\n",
    "trace1 = go.Histogram(x=df_well1['WHT (0C)'], nbinsx=40, name='WHT (0C)')\n",
    "trace2 = go.Histogram(x=df_well1['∆Q (STBD)'], nbinsx=40, name='∆Q (STBD)')\n",
    "trace3 = go.Histogram(x=df_well1['Water Rate(sbwpd)'], nbinsx=40, name='Water Rate(sbwpd)')\n",
    "trace4 = go.Histogram(x=df_well1['Gas Rate (mscfd)'], nbinsx=40, name='Gas Rate (mscfd)')\n",
    "trace5 = go.Histogram(x=df_well1['GOR'], nbinsx=40, name='GOR')\n",
    "\n",
    "fig.add_trace(trace1, row=1, col=1)\n",
    "fig.add_trace(trace2, row=1, col=2)\n",
    "fig.add_trace(trace3, row=1, col=3)\n",
    "fig.add_trace(trace4, row=1, col=4)\n",
    "fig.add_trace(trace5, row=1, col=5)\n",
    "\n",
    "fig.update_layout(height=500, width=1000, title_text=\"Distribution of Variables\")\n",
    "fig.show()\n"
   ]
  },
  {
   "cell_type": "code",
   "execution_count": 433,
   "metadata": {},
   "outputs": [],
   "source": [
    "# fill up the null values with mean for WHT, delta Q, Gas rate, GOR and median for Water Rate\n",
    "df_well1['WHT (0C)'] = df_well1['WHT (0C)'].fillna(df_well1['WHT (0C)'].mean())\n",
    "df_well1['∆Q (STBD)'] = df_well1['∆Q (STBD)'].fillna(df_well1['∆Q (STBD)'].mean())\n",
    "df_well1['Water Rate(sbwpd)'] = df_well1['Water Rate(sbwpd)'].fillna(df_well1['Water Rate(sbwpd)'].median())\n",
    "df_well1['Gas Rate (mscfd)'] = df_well1['Gas Rate (mscfd)'].fillna(df_well1['Gas Rate (mscfd)'].mean())\n",
    "df_well1['GOR'] = df_well1['GOR'].fillna(df_well1['GOR'].mean())"
   ]
  },
  {
   "cell_type": "code",
   "execution_count": 434,
   "metadata": {},
   "outputs": [
    {
     "data": {
      "text/plain": [
       "Eng. Calender         0\n",
       "Choke(/64\")          83\n",
       "WHT (0C)              0\n",
       "WHP (psig)            0\n",
       "Oil Rate (STBD)       0\n",
       "∆Q (STBD)             0\n",
       "Water Rate(sbwpd)     0\n",
       "BS&W                  0\n",
       "Gas Rate (mscfd)      0\n",
       "GOR                   0\n",
       "dtype: int64"
      ]
     },
     "execution_count": 434,
     "metadata": {},
     "output_type": "execute_result"
    }
   ],
   "source": [
    "df_well1.isnull().sum()\n"
   ]
  },
  {
   "cell_type": "code",
   "execution_count": 435,
   "metadata": {},
   "outputs": [
    {
     "data": {
      "text/html": [
       "<div>\n",
       "<style scoped>\n",
       "    .dataframe tbody tr th:only-of-type {\n",
       "        vertical-align: middle;\n",
       "    }\n",
       "\n",
       "    .dataframe tbody tr th {\n",
       "        vertical-align: top;\n",
       "    }\n",
       "\n",
       "    .dataframe thead th {\n",
       "        text-align: right;\n",
       "    }\n",
       "</style>\n",
       "<table border=\"1\" class=\"dataframe\">\n",
       "  <thead>\n",
       "    <tr style=\"text-align: right;\">\n",
       "      <th></th>\n",
       "      <th>Eng_Calender</th>\n",
       "      <th>Choke_well_1</th>\n",
       "      <th>WHT_well_1</th>\n",
       "      <th>WHP_well_1</th>\n",
       "      <th>Oil_Rate_well_1</th>\n",
       "      <th>delta_Q_well_1</th>\n",
       "      <th>Water_Rate_well_1</th>\n",
       "      <th>BS&amp;W_well_1</th>\n",
       "      <th>Gas_Rate_well_1</th>\n",
       "      <th>GOR_well_1</th>\n",
       "    </tr>\n",
       "  </thead>\n",
       "  <tbody>\n",
       "    <tr>\n",
       "      <th>0</th>\n",
       "      <td>1999-01-19</td>\n",
       "      <td>44.0</td>\n",
       "      <td>76.400000</td>\n",
       "      <td>1785.58</td>\n",
       "      <td>7409.0</td>\n",
       "      <td>-15.875706</td>\n",
       "      <td>3.29</td>\n",
       "      <td>0.044386</td>\n",
       "      <td>6936.0</td>\n",
       "      <td>936.158726</td>\n",
       "    </tr>\n",
       "    <tr>\n",
       "      <th>1</th>\n",
       "      <td>1999-01-20</td>\n",
       "      <td>50.0</td>\n",
       "      <td>83.657051</td>\n",
       "      <td>1683.38</td>\n",
       "      <td>9205.0</td>\n",
       "      <td>1796.000000</td>\n",
       "      <td>0.00</td>\n",
       "      <td>0.000000</td>\n",
       "      <td>9420.0</td>\n",
       "      <td>1023.356871</td>\n",
       "    </tr>\n",
       "    <tr>\n",
       "      <th>2</th>\n",
       "      <td>1999-01-21</td>\n",
       "      <td>55.0</td>\n",
       "      <td>83.657051</td>\n",
       "      <td>1566.58</td>\n",
       "      <td>10454.0</td>\n",
       "      <td>1249.000000</td>\n",
       "      <td>0.00</td>\n",
       "      <td>0.000000</td>\n",
       "      <td>10812.0</td>\n",
       "      <td>1034.245265</td>\n",
       "    </tr>\n",
       "    <tr>\n",
       "      <th>3</th>\n",
       "      <td>1999-01-22</td>\n",
       "      <td>55.0</td>\n",
       "      <td>83.657051</td>\n",
       "      <td>1576.80</td>\n",
       "      <td>10006.0</td>\n",
       "      <td>-448.000000</td>\n",
       "      <td>0.00</td>\n",
       "      <td>0.000000</td>\n",
       "      <td>10832.0</td>\n",
       "      <td>1082.550470</td>\n",
       "    </tr>\n",
       "    <tr>\n",
       "      <th>4</th>\n",
       "      <td>1999-01-25</td>\n",
       "      <td>55.0</td>\n",
       "      <td>83.657051</td>\n",
       "      <td>1575.34</td>\n",
       "      <td>9877.0</td>\n",
       "      <td>-129.000000</td>\n",
       "      <td>0.00</td>\n",
       "      <td>0.000000</td>\n",
       "      <td>10976.0</td>\n",
       "      <td>1111.268604</td>\n",
       "    </tr>\n",
       "  </tbody>\n",
       "</table>\n",
       "</div>"
      ],
      "text/plain": [
       "  Eng_Calender  Choke_well_1  WHT_well_1  WHP_well_1  Oil_Rate_well_1  \\\n",
       "0   1999-01-19          44.0   76.400000     1785.58           7409.0   \n",
       "1   1999-01-20          50.0   83.657051     1683.38           9205.0   \n",
       "2   1999-01-21          55.0   83.657051     1566.58          10454.0   \n",
       "3   1999-01-22          55.0   83.657051     1576.80          10006.0   \n",
       "4   1999-01-25          55.0   83.657051     1575.34           9877.0   \n",
       "\n",
       "   delta_Q_well_1  Water_Rate_well_1  BS&W_well_1  Gas_Rate_well_1  \\\n",
       "0      -15.875706               3.29     0.044386           6936.0   \n",
       "1     1796.000000               0.00     0.000000           9420.0   \n",
       "2     1249.000000               0.00     0.000000          10812.0   \n",
       "3     -448.000000               0.00     0.000000          10832.0   \n",
       "4     -129.000000               0.00     0.000000          10976.0   \n",
       "\n",
       "    GOR_well_1  \n",
       "0   936.158726  \n",
       "1  1023.356871  \n",
       "2  1034.245265  \n",
       "3  1082.550470  \n",
       "4  1111.268604  "
      ]
     },
     "execution_count": 435,
     "metadata": {},
     "output_type": "execute_result"
    }
   ],
   "source": [
    "#rename all the columns to add _ in between the names and exclude the units\n",
    "df_well1 = df_well1.rename(columns={'Choke(/64\")':'Choke','Eng. Calender':'Eng_Calender', 'WHT (0C)':'WHT', 'WHP (psig)':'WHP', 'Oil Rate (STBD)':'Oil_Rate', '∆Q (STBD)':'delta_Q', 'Water Rate(sbwpd)':'Water_Rate', 'Gas Rate (mscfd)':'Gas_Rate'})\n",
    "# add 'well_1' at the end of each column name except Eng_Calender\n",
    "df_well1 = df_well1.add_suffix('_well_1')\n",
    "df_well1 = df_well1.rename(columns={'Eng_Calender_well_1':'Eng_Calender'})\n",
    "df_well1.head()"
   ]
  },
  {
   "cell_type": "code",
   "execution_count": 436,
   "metadata": {},
   "outputs": [
    {
     "name": "stdout",
     "output_type": "stream",
     "text": [
      "Oil_Rate_well_1      1.000000\n",
      "Choke_well_1         0.911953\n",
      "Gas_Rate_well_1      0.847613\n",
      "WHT_well_1           0.573824\n",
      "delta_Q_well_1       0.185587\n",
      "Water_Rate_well_1   -0.150540\n",
      "BS&W_well_1         -0.178875\n",
      "GOR_well_1          -0.446712\n",
      "WHP_well_1          -0.911352\n",
      "Name: Oil_Rate_well_1, dtype: float64\n"
     ]
    }
   ],
   "source": [
    "# Compute correlation matrix\n",
    "correlation_matrix = df_well1.corr()\n",
    "\n",
    "# Get correlations of 'target' with other variables\n",
    "correlations = correlation_matrix['Oil_Rate_well_1'].sort_values(ascending=False)\n",
    "\n",
    "# Print the correlations\n",
    "print(correlations)"
   ]
  },
  {
   "cell_type": "code",
   "execution_count": 437,
   "metadata": {},
   "outputs": [
    {
     "data": {
      "application/vnd.plotly.v1+json": {
       "config": {
        "plotlyServerURL": "https://plot.ly"
       },
       "data": [
        {
         "mode": "markers",
         "type": "scatter",
         "x": [
          44,
          50,
          55,
          55,
          55,
          55,
          55,
          55,
          50,
          45,
          45,
          45,
          30,
          55,
          55,
          45,
          40,
          36,
          36,
          36,
          36,
          36,
          36,
          36,
          36,
          36,
          36,
          36,
          48,
          48,
          48,
          48,
          48,
          48,
          48,
          48,
          48,
          44,
          44,
          44,
          44,
          44,
          44,
          44,
          44,
          44,
          44,
          44,
          44,
          44,
          44,
          44,
          44,
          44,
          44,
          38,
          38,
          32,
          32,
          32,
          32,
          32,
          32,
          32,
          32,
          32,
          32,
          32,
          32,
          36,
          36,
          25,
          25,
          25,
          25,
          25,
          25,
          25,
          25,
          25,
          14,
          14,
          20,
          14,
          14,
          18,
          30,
          30,
          30,
          30,
          30,
          30,
          30,
          30,
          30,
          null,
          null,
          null,
          null,
          null,
          null,
          null,
          null,
          null,
          null,
          null,
          null,
          null,
          null,
          null,
          null,
          null,
          null,
          null,
          null,
          null,
          null,
          null,
          null,
          null,
          null,
          null,
          null,
          null,
          null,
          null,
          null,
          null,
          null,
          null,
          null,
          null,
          null,
          null,
          null,
          null,
          null,
          null,
          null,
          null,
          null,
          null,
          null,
          null,
          null,
          null,
          null,
          null,
          null,
          null,
          null,
          null,
          null,
          null,
          null,
          null,
          null,
          null,
          null,
          null,
          null,
          null,
          null,
          null,
          null,
          null,
          null,
          null,
          null,
          null,
          null,
          null,
          null,
          null,
          null,
          null,
          null,
          null
         ],
         "y": [
          7409,
          9205,
          10454,
          10006,
          9877,
          9704,
          9542,
          8895,
          8243,
          7528,
          7357,
          7333,
          4876.88,
          9874.62,
          10013.44,
          7678.15,
          6680.59,
          4188.93,
          5947.47,
          5555.12,
          5493.54,
          5543.78,
          5523.38,
          5522.62,
          5521.85,
          5638,
          5541,
          5584,
          8957,
          8936,
          8833,
          8737,
          8684,
          8562,
          8526,
          8277.2,
          8267,
          6998,
          7004,
          7000,
          6983,
          6969.8,
          6937.4,
          6867.3,
          6998.8,
          7023.8,
          7024,
          7053,
          7005,
          7108.7,
          6949.3,
          7082.6,
          7049.7,
          8268,
          6996.1,
          6566.2,
          5763.3,
          4164.7,
          4326.6,
          4494,
          4811,
          4549,
          4593,
          4598,
          3045.6,
          3070,
          2500.2,
          2337.7,
          3162,
          3553.1,
          3596.7,
          3916,
          3588,
          3680,
          4030,
          3525,
          3508,
          3493,
          3531,
          3777,
          3385,
          3215,
          4931,
          2614,
          2946,
          3873,
          5543,
          5543,
          5426,
          5380,
          5136.1,
          5020.2,
          4982.7,
          5080.7,
          5171,
          3878.9,
          3890.3,
          4021.3,
          3286.3,
          3388.5,
          3479.8,
          3332,
          3369.1,
          3223.2,
          3292.1,
          4542.7,
          3217.5,
          2996.9,
          3134.2,
          3146.9,
          3418.1,
          3368.9,
          3326.1,
          2463.8,
          2784.5,
          2526,
          2561,
          2754.8,
          3681,
          3675.2,
          3872.3,
          3737.7,
          3809.7,
          3826.6,
          3475.3,
          3469.1,
          3428.8,
          3375.9,
          2769.7,
          2657.6,
          2690,
          3096.1,
          3052.1,
          2784.4,
          4023.9,
          2895.4,
          3814.8,
          3695,
          3709.4,
          3728.9,
          3747.1,
          3661.9,
          3863.2,
          3864.1,
          4278,
          3240.9,
          4041.1,
          4057,
          4112,
          4244.9,
          4114,
          4059,
          4152,
          3584,
          4329.8,
          3890,
          4199,
          4275,
          4208.8,
          4228,
          4288,
          4531,
          4551,
          4505.7,
          4176,
          4184.8,
          4069,
          4063,
          4049,
          4078,
          4091,
          4055,
          4088,
          4086,
          4107,
          4203,
          4155,
          4599
         ]
        }
       ],
       "layout": {
        "template": {
         "data": {
          "bar": [
           {
            "error_x": {
             "color": "#2a3f5f"
            },
            "error_y": {
             "color": "#2a3f5f"
            },
            "marker": {
             "line": {
              "color": "#E5ECF6",
              "width": 0.5
             },
             "pattern": {
              "fillmode": "overlay",
              "size": 10,
              "solidity": 0.2
             }
            },
            "type": "bar"
           }
          ],
          "barpolar": [
           {
            "marker": {
             "line": {
              "color": "#E5ECF6",
              "width": 0.5
             },
             "pattern": {
              "fillmode": "overlay",
              "size": 10,
              "solidity": 0.2
             }
            },
            "type": "barpolar"
           }
          ],
          "carpet": [
           {
            "aaxis": {
             "endlinecolor": "#2a3f5f",
             "gridcolor": "white",
             "linecolor": "white",
             "minorgridcolor": "white",
             "startlinecolor": "#2a3f5f"
            },
            "baxis": {
             "endlinecolor": "#2a3f5f",
             "gridcolor": "white",
             "linecolor": "white",
             "minorgridcolor": "white",
             "startlinecolor": "#2a3f5f"
            },
            "type": "carpet"
           }
          ],
          "choropleth": [
           {
            "colorbar": {
             "outlinewidth": 0,
             "ticks": ""
            },
            "type": "choropleth"
           }
          ],
          "contour": [
           {
            "colorbar": {
             "outlinewidth": 0,
             "ticks": ""
            },
            "colorscale": [
             [
              0,
              "#0d0887"
             ],
             [
              0.1111111111111111,
              "#46039f"
             ],
             [
              0.2222222222222222,
              "#7201a8"
             ],
             [
              0.3333333333333333,
              "#9c179e"
             ],
             [
              0.4444444444444444,
              "#bd3786"
             ],
             [
              0.5555555555555556,
              "#d8576b"
             ],
             [
              0.6666666666666666,
              "#ed7953"
             ],
             [
              0.7777777777777778,
              "#fb9f3a"
             ],
             [
              0.8888888888888888,
              "#fdca26"
             ],
             [
              1,
              "#f0f921"
             ]
            ],
            "type": "contour"
           }
          ],
          "contourcarpet": [
           {
            "colorbar": {
             "outlinewidth": 0,
             "ticks": ""
            },
            "type": "contourcarpet"
           }
          ],
          "heatmap": [
           {
            "colorbar": {
             "outlinewidth": 0,
             "ticks": ""
            },
            "colorscale": [
             [
              0,
              "#0d0887"
             ],
             [
              0.1111111111111111,
              "#46039f"
             ],
             [
              0.2222222222222222,
              "#7201a8"
             ],
             [
              0.3333333333333333,
              "#9c179e"
             ],
             [
              0.4444444444444444,
              "#bd3786"
             ],
             [
              0.5555555555555556,
              "#d8576b"
             ],
             [
              0.6666666666666666,
              "#ed7953"
             ],
             [
              0.7777777777777778,
              "#fb9f3a"
             ],
             [
              0.8888888888888888,
              "#fdca26"
             ],
             [
              1,
              "#f0f921"
             ]
            ],
            "type": "heatmap"
           }
          ],
          "heatmapgl": [
           {
            "colorbar": {
             "outlinewidth": 0,
             "ticks": ""
            },
            "colorscale": [
             [
              0,
              "#0d0887"
             ],
             [
              0.1111111111111111,
              "#46039f"
             ],
             [
              0.2222222222222222,
              "#7201a8"
             ],
             [
              0.3333333333333333,
              "#9c179e"
             ],
             [
              0.4444444444444444,
              "#bd3786"
             ],
             [
              0.5555555555555556,
              "#d8576b"
             ],
             [
              0.6666666666666666,
              "#ed7953"
             ],
             [
              0.7777777777777778,
              "#fb9f3a"
             ],
             [
              0.8888888888888888,
              "#fdca26"
             ],
             [
              1,
              "#f0f921"
             ]
            ],
            "type": "heatmapgl"
           }
          ],
          "histogram": [
           {
            "marker": {
             "pattern": {
              "fillmode": "overlay",
              "size": 10,
              "solidity": 0.2
             }
            },
            "type": "histogram"
           }
          ],
          "histogram2d": [
           {
            "colorbar": {
             "outlinewidth": 0,
             "ticks": ""
            },
            "colorscale": [
             [
              0,
              "#0d0887"
             ],
             [
              0.1111111111111111,
              "#46039f"
             ],
             [
              0.2222222222222222,
              "#7201a8"
             ],
             [
              0.3333333333333333,
              "#9c179e"
             ],
             [
              0.4444444444444444,
              "#bd3786"
             ],
             [
              0.5555555555555556,
              "#d8576b"
             ],
             [
              0.6666666666666666,
              "#ed7953"
             ],
             [
              0.7777777777777778,
              "#fb9f3a"
             ],
             [
              0.8888888888888888,
              "#fdca26"
             ],
             [
              1,
              "#f0f921"
             ]
            ],
            "type": "histogram2d"
           }
          ],
          "histogram2dcontour": [
           {
            "colorbar": {
             "outlinewidth": 0,
             "ticks": ""
            },
            "colorscale": [
             [
              0,
              "#0d0887"
             ],
             [
              0.1111111111111111,
              "#46039f"
             ],
             [
              0.2222222222222222,
              "#7201a8"
             ],
             [
              0.3333333333333333,
              "#9c179e"
             ],
             [
              0.4444444444444444,
              "#bd3786"
             ],
             [
              0.5555555555555556,
              "#d8576b"
             ],
             [
              0.6666666666666666,
              "#ed7953"
             ],
             [
              0.7777777777777778,
              "#fb9f3a"
             ],
             [
              0.8888888888888888,
              "#fdca26"
             ],
             [
              1,
              "#f0f921"
             ]
            ],
            "type": "histogram2dcontour"
           }
          ],
          "mesh3d": [
           {
            "colorbar": {
             "outlinewidth": 0,
             "ticks": ""
            },
            "type": "mesh3d"
           }
          ],
          "parcoords": [
           {
            "line": {
             "colorbar": {
              "outlinewidth": 0,
              "ticks": ""
             }
            },
            "type": "parcoords"
           }
          ],
          "pie": [
           {
            "automargin": true,
            "type": "pie"
           }
          ],
          "scatter": [
           {
            "fillpattern": {
             "fillmode": "overlay",
             "size": 10,
             "solidity": 0.2
            },
            "type": "scatter"
           }
          ],
          "scatter3d": [
           {
            "line": {
             "colorbar": {
              "outlinewidth": 0,
              "ticks": ""
             }
            },
            "marker": {
             "colorbar": {
              "outlinewidth": 0,
              "ticks": ""
             }
            },
            "type": "scatter3d"
           }
          ],
          "scattercarpet": [
           {
            "marker": {
             "colorbar": {
              "outlinewidth": 0,
              "ticks": ""
             }
            },
            "type": "scattercarpet"
           }
          ],
          "scattergeo": [
           {
            "marker": {
             "colorbar": {
              "outlinewidth": 0,
              "ticks": ""
             }
            },
            "type": "scattergeo"
           }
          ],
          "scattergl": [
           {
            "marker": {
             "colorbar": {
              "outlinewidth": 0,
              "ticks": ""
             }
            },
            "type": "scattergl"
           }
          ],
          "scattermapbox": [
           {
            "marker": {
             "colorbar": {
              "outlinewidth": 0,
              "ticks": ""
             }
            },
            "type": "scattermapbox"
           }
          ],
          "scatterpolar": [
           {
            "marker": {
             "colorbar": {
              "outlinewidth": 0,
              "ticks": ""
             }
            },
            "type": "scatterpolar"
           }
          ],
          "scatterpolargl": [
           {
            "marker": {
             "colorbar": {
              "outlinewidth": 0,
              "ticks": ""
             }
            },
            "type": "scatterpolargl"
           }
          ],
          "scatterternary": [
           {
            "marker": {
             "colorbar": {
              "outlinewidth": 0,
              "ticks": ""
             }
            },
            "type": "scatterternary"
           }
          ],
          "surface": [
           {
            "colorbar": {
             "outlinewidth": 0,
             "ticks": ""
            },
            "colorscale": [
             [
              0,
              "#0d0887"
             ],
             [
              0.1111111111111111,
              "#46039f"
             ],
             [
              0.2222222222222222,
              "#7201a8"
             ],
             [
              0.3333333333333333,
              "#9c179e"
             ],
             [
              0.4444444444444444,
              "#bd3786"
             ],
             [
              0.5555555555555556,
              "#d8576b"
             ],
             [
              0.6666666666666666,
              "#ed7953"
             ],
             [
              0.7777777777777778,
              "#fb9f3a"
             ],
             [
              0.8888888888888888,
              "#fdca26"
             ],
             [
              1,
              "#f0f921"
             ]
            ],
            "type": "surface"
           }
          ],
          "table": [
           {
            "cells": {
             "fill": {
              "color": "#EBF0F8"
             },
             "line": {
              "color": "white"
             }
            },
            "header": {
             "fill": {
              "color": "#C8D4E3"
             },
             "line": {
              "color": "white"
             }
            },
            "type": "table"
           }
          ]
         },
         "layout": {
          "annotationdefaults": {
           "arrowcolor": "#2a3f5f",
           "arrowhead": 0,
           "arrowwidth": 1
          },
          "autotypenumbers": "strict",
          "coloraxis": {
           "colorbar": {
            "outlinewidth": 0,
            "ticks": ""
           }
          },
          "colorscale": {
           "diverging": [
            [
             0,
             "#8e0152"
            ],
            [
             0.1,
             "#c51b7d"
            ],
            [
             0.2,
             "#de77ae"
            ],
            [
             0.3,
             "#f1b6da"
            ],
            [
             0.4,
             "#fde0ef"
            ],
            [
             0.5,
             "#f7f7f7"
            ],
            [
             0.6,
             "#e6f5d0"
            ],
            [
             0.7,
             "#b8e186"
            ],
            [
             0.8,
             "#7fbc41"
            ],
            [
             0.9,
             "#4d9221"
            ],
            [
             1,
             "#276419"
            ]
           ],
           "sequential": [
            [
             0,
             "#0d0887"
            ],
            [
             0.1111111111111111,
             "#46039f"
            ],
            [
             0.2222222222222222,
             "#7201a8"
            ],
            [
             0.3333333333333333,
             "#9c179e"
            ],
            [
             0.4444444444444444,
             "#bd3786"
            ],
            [
             0.5555555555555556,
             "#d8576b"
            ],
            [
             0.6666666666666666,
             "#ed7953"
            ],
            [
             0.7777777777777778,
             "#fb9f3a"
            ],
            [
             0.8888888888888888,
             "#fdca26"
            ],
            [
             1,
             "#f0f921"
            ]
           ],
           "sequentialminus": [
            [
             0,
             "#0d0887"
            ],
            [
             0.1111111111111111,
             "#46039f"
            ],
            [
             0.2222222222222222,
             "#7201a8"
            ],
            [
             0.3333333333333333,
             "#9c179e"
            ],
            [
             0.4444444444444444,
             "#bd3786"
            ],
            [
             0.5555555555555556,
             "#d8576b"
            ],
            [
             0.6666666666666666,
             "#ed7953"
            ],
            [
             0.7777777777777778,
             "#fb9f3a"
            ],
            [
             0.8888888888888888,
             "#fdca26"
            ],
            [
             1,
             "#f0f921"
            ]
           ]
          },
          "colorway": [
           "#636efa",
           "#EF553B",
           "#00cc96",
           "#ab63fa",
           "#FFA15A",
           "#19d3f3",
           "#FF6692",
           "#B6E880",
           "#FF97FF",
           "#FECB52"
          ],
          "font": {
           "color": "#2a3f5f"
          },
          "geo": {
           "bgcolor": "white",
           "lakecolor": "white",
           "landcolor": "#E5ECF6",
           "showlakes": true,
           "showland": true,
           "subunitcolor": "white"
          },
          "hoverlabel": {
           "align": "left"
          },
          "hovermode": "closest",
          "mapbox": {
           "style": "light"
          },
          "paper_bgcolor": "white",
          "plot_bgcolor": "#E5ECF6",
          "polar": {
           "angularaxis": {
            "gridcolor": "white",
            "linecolor": "white",
            "ticks": ""
           },
           "bgcolor": "#E5ECF6",
           "radialaxis": {
            "gridcolor": "white",
            "linecolor": "white",
            "ticks": ""
           }
          },
          "scene": {
           "xaxis": {
            "backgroundcolor": "#E5ECF6",
            "gridcolor": "white",
            "gridwidth": 2,
            "linecolor": "white",
            "showbackground": true,
            "ticks": "",
            "zerolinecolor": "white"
           },
           "yaxis": {
            "backgroundcolor": "#E5ECF6",
            "gridcolor": "white",
            "gridwidth": 2,
            "linecolor": "white",
            "showbackground": true,
            "ticks": "",
            "zerolinecolor": "white"
           },
           "zaxis": {
            "backgroundcolor": "#E5ECF6",
            "gridcolor": "white",
            "gridwidth": 2,
            "linecolor": "white",
            "showbackground": true,
            "ticks": "",
            "zerolinecolor": "white"
           }
          },
          "shapedefaults": {
           "line": {
            "color": "#2a3f5f"
           }
          },
          "ternary": {
           "aaxis": {
            "gridcolor": "white",
            "linecolor": "white",
            "ticks": ""
           },
           "baxis": {
            "gridcolor": "white",
            "linecolor": "white",
            "ticks": ""
           },
           "bgcolor": "#E5ECF6",
           "caxis": {
            "gridcolor": "white",
            "linecolor": "white",
            "ticks": ""
           }
          },
          "title": {
           "x": 0.05
          },
          "xaxis": {
           "automargin": true,
           "gridcolor": "white",
           "linecolor": "white",
           "ticks": "",
           "title": {
            "standoff": 15
           },
           "zerolinecolor": "white",
           "zerolinewidth": 2
          },
          "yaxis": {
           "automargin": true,
           "gridcolor": "white",
           "linecolor": "white",
           "ticks": "",
           "title": {
            "standoff": 15
           },
           "zerolinecolor": "white",
           "zerolinewidth": 2
          }
         }
        },
        "title": {
         "text": "Scatter plot of Choke Size vs Oil Rate"
        },
        "xaxis": {
         "title": {
          "text": "Choke Size"
         }
        },
        "yaxis": {
         "title": {
          "text": "Oil Rate"
         }
        }
       }
      }
     },
     "metadata": {},
     "output_type": "display_data"
    }
   ],
   "source": [
    "# Create a scatter plot\n",
    "trace = go.Scatter(x=df_well1['Choke_well_1'], y=df_well1['Oil_Rate_well_1'], mode='markers')\n",
    "\n",
    "# Create layout\n",
    "layout = go.Layout(\n",
    "    title='Scatter plot of Choke Size vs Oil Rate',\n",
    "    xaxis=dict(title='Choke Size'),\n",
    "    yaxis=dict(title='Oil Rate'),\n",
    ")\n",
    "\n",
    "fig = go.Figure(data=[trace], layout=layout)\n",
    "\n",
    "fig.show()\n"
   ]
  },
  {
   "attachments": {},
   "cell_type": "markdown",
   "metadata": {},
   "source": [
    "### Well 2"
   ]
  },
  {
   "cell_type": "code",
   "execution_count": 438,
   "metadata": {},
   "outputs": [
    {
     "data": {
      "text/plain": [
       "(233, 13)"
      ]
     },
     "execution_count": 438,
     "metadata": {},
     "output_type": "execute_result"
    }
   ],
   "source": [
    "df_well2.shape"
   ]
  },
  {
   "cell_type": "code",
   "execution_count": 439,
   "metadata": {},
   "outputs": [
    {
     "data": {
      "text/plain": [
       "Ir. Calender          44\n",
       "Eng. Calender         27\n",
       "Choke(/64\")          107\n",
       "WHT (0C)              19\n",
       "WHP (psig)             0\n",
       "WHP (barg)            11\n",
       "Oil Rate (STBD)       11\n",
       "∆Q (STBD)             12\n",
       "Water Rate(sbwpd)     16\n",
       "BS&W                  11\n",
       "Gas Rate (mscfd)      17\n",
       "GOR                   12\n",
       "API                  219\n",
       "dtype: int64"
      ]
     },
     "execution_count": 439,
     "metadata": {},
     "output_type": "execute_result"
    }
   ],
   "source": [
    "df_well2.isnull().sum()"
   ]
  },
  {
   "cell_type": "code",
   "execution_count": 440,
   "metadata": {},
   "outputs": [],
   "source": [
    "## since API has null values more than 50% of data we can drop these columns\n",
    "df_well2 = df_well2.drop(['API' ], axis=1)"
   ]
  },
  {
   "cell_type": "code",
   "execution_count": 441,
   "metadata": {},
   "outputs": [
    {
     "data": {
      "text/html": [
       "<div>\n",
       "<style scoped>\n",
       "    .dataframe tbody tr th:only-of-type {\n",
       "        vertical-align: middle;\n",
       "    }\n",
       "\n",
       "    .dataframe tbody tr th {\n",
       "        vertical-align: top;\n",
       "    }\n",
       "\n",
       "    .dataframe thead th {\n",
       "        text-align: right;\n",
       "    }\n",
       "</style>\n",
       "<table border=\"1\" class=\"dataframe\">\n",
       "  <thead>\n",
       "    <tr style=\"text-align: right;\">\n",
       "      <th></th>\n",
       "      <th>Ir. Calender</th>\n",
       "      <th>Eng. Calender</th>\n",
       "      <th>Choke(/64\")</th>\n",
       "      <th>WHT (0C)</th>\n",
       "      <th>WHP (psig)</th>\n",
       "      <th>WHP (barg)</th>\n",
       "      <th>Oil Rate (STBD)</th>\n",
       "      <th>∆Q (STBD)</th>\n",
       "      <th>Water Rate(sbwpd)</th>\n",
       "      <th>BS&amp;W</th>\n",
       "      <th>Gas Rate (mscfd)</th>\n",
       "      <th>GOR</th>\n",
       "    </tr>\n",
       "  </thead>\n",
       "  <tbody>\n",
       "    <tr>\n",
       "      <th>0</th>\n",
       "      <td>1377/10/29</td>\n",
       "      <td>1999-01-19</td>\n",
       "      <td>60.0</td>\n",
       "      <td>79.0</td>\n",
       "      <td>1378.95</td>\n",
       "      <td>95.1</td>\n",
       "      <td>11092.0</td>\n",
       "      <td>NaN</td>\n",
       "      <td>31.95</td>\n",
       "      <td>0.0</td>\n",
       "      <td>8730.6</td>\n",
       "      <td>787.107825</td>\n",
       "    </tr>\n",
       "    <tr>\n",
       "      <th>1</th>\n",
       "      <td>1377/10/30</td>\n",
       "      <td>1999-01-20</td>\n",
       "      <td>64.0</td>\n",
       "      <td>80.0</td>\n",
       "      <td>1326.75</td>\n",
       "      <td>91.5</td>\n",
       "      <td>11784.0</td>\n",
       "      <td>692.0</td>\n",
       "      <td>0.00</td>\n",
       "      <td>0.0</td>\n",
       "      <td>10063.2</td>\n",
       "      <td>853.971487</td>\n",
       "    </tr>\n",
       "    <tr>\n",
       "      <th>2</th>\n",
       "      <td>1377/11/1</td>\n",
       "      <td>1999-01-21</td>\n",
       "      <td>64.0</td>\n",
       "      <td>80.0</td>\n",
       "      <td>1338.35</td>\n",
       "      <td>92.3</td>\n",
       "      <td>11637.0</td>\n",
       "      <td>-147.0</td>\n",
       "      <td>0.00</td>\n",
       "      <td>0.0</td>\n",
       "      <td>9968.0</td>\n",
       "      <td>856.578156</td>\n",
       "    </tr>\n",
       "    <tr>\n",
       "      <th>3</th>\n",
       "      <td>1377/11/2</td>\n",
       "      <td>1999-01-22</td>\n",
       "      <td>64.0</td>\n",
       "      <td>80.0</td>\n",
       "      <td>1363.00</td>\n",
       "      <td>94.0</td>\n",
       "      <td>11305.0</td>\n",
       "      <td>-332.0</td>\n",
       "      <td>0.00</td>\n",
       "      <td>0.0</td>\n",
       "      <td>9763.2</td>\n",
       "      <td>863.617868</td>\n",
       "    </tr>\n",
       "    <tr>\n",
       "      <th>4</th>\n",
       "      <td>1377/11/5</td>\n",
       "      <td>1999-01-25</td>\n",
       "      <td>72.0</td>\n",
       "      <td>80.0</td>\n",
       "      <td>1138.25</td>\n",
       "      <td>78.5</td>\n",
       "      <td>13307.0</td>\n",
       "      <td>2002.0</td>\n",
       "      <td>0.00</td>\n",
       "      <td>0.0</td>\n",
       "      <td>11945.6</td>\n",
       "      <td>897.692944</td>\n",
       "    </tr>\n",
       "  </tbody>\n",
       "</table>\n",
       "</div>"
      ],
      "text/plain": [
       "  Ir. Calender Eng. Calender  Choke(/64\")  WHT (0C)  WHP (psig)  WHP (barg)  \\\n",
       "0   1377/10/29    1999-01-19         60.0      79.0     1378.95        95.1   \n",
       "1   1377/10/30    1999-01-20         64.0      80.0     1326.75        91.5   \n",
       "2    1377/11/1    1999-01-21         64.0      80.0     1338.35        92.3   \n",
       "3    1377/11/2    1999-01-22         64.0      80.0     1363.00        94.0   \n",
       "4    1377/11/5    1999-01-25         72.0      80.0     1138.25        78.5   \n",
       "\n",
       "   Oil Rate (STBD)  ∆Q (STBD)  Water Rate(sbwpd)  BS&W  Gas Rate (mscfd)  \\\n",
       "0          11092.0        NaN              31.95   0.0            8730.6   \n",
       "1          11784.0      692.0               0.00   0.0           10063.2   \n",
       "2          11637.0     -147.0               0.00   0.0            9968.0   \n",
       "3          11305.0     -332.0               0.00   0.0            9763.2   \n",
       "4          13307.0     2002.0               0.00   0.0           11945.6   \n",
       "\n",
       "          GOR  \n",
       "0  787.107825  \n",
       "1  853.971487  \n",
       "2  856.578156  \n",
       "3  863.617868  \n",
       "4  897.692944  "
      ]
     },
     "execution_count": 441,
     "metadata": {},
     "output_type": "execute_result"
    }
   ],
   "source": [
    "df_well2.head()"
   ]
  },
  {
   "cell_type": "code",
   "execution_count": 442,
   "metadata": {},
   "outputs": [],
   "source": [
    "#drop unnecessary colunms\n",
    "df_well2 = df_well2.drop(['Ir. Calender','WHP (barg)'], axis=1)"
   ]
  },
  {
   "cell_type": "code",
   "execution_count": 443,
   "metadata": {},
   "outputs": [
    {
     "data": {
      "text/html": [
       "<div>\n",
       "<style scoped>\n",
       "    .dataframe tbody tr th:only-of-type {\n",
       "        vertical-align: middle;\n",
       "    }\n",
       "\n",
       "    .dataframe tbody tr th {\n",
       "        vertical-align: top;\n",
       "    }\n",
       "\n",
       "    .dataframe thead th {\n",
       "        text-align: right;\n",
       "    }\n",
       "</style>\n",
       "<table border=\"1\" class=\"dataframe\">\n",
       "  <thead>\n",
       "    <tr style=\"text-align: right;\">\n",
       "      <th></th>\n",
       "      <th>Eng. Calender</th>\n",
       "      <th>Choke(/64\")</th>\n",
       "      <th>WHT (0C)</th>\n",
       "      <th>WHP (psig)</th>\n",
       "      <th>Oil Rate (STBD)</th>\n",
       "      <th>∆Q (STBD)</th>\n",
       "      <th>Water Rate(sbwpd)</th>\n",
       "      <th>BS&amp;W</th>\n",
       "      <th>Gas Rate (mscfd)</th>\n",
       "      <th>GOR</th>\n",
       "    </tr>\n",
       "  </thead>\n",
       "  <tbody>\n",
       "    <tr>\n",
       "      <th>0</th>\n",
       "      <td>1999-01-19</td>\n",
       "      <td>60.0</td>\n",
       "      <td>79.0</td>\n",
       "      <td>1378.95</td>\n",
       "      <td>11092.0</td>\n",
       "      <td>NaN</td>\n",
       "      <td>31.95</td>\n",
       "      <td>0.00</td>\n",
       "      <td>8730.6</td>\n",
       "      <td>787.107825</td>\n",
       "    </tr>\n",
       "    <tr>\n",
       "      <th>1</th>\n",
       "      <td>1999-01-20</td>\n",
       "      <td>64.0</td>\n",
       "      <td>80.0</td>\n",
       "      <td>1326.75</td>\n",
       "      <td>11784.0</td>\n",
       "      <td>692.0</td>\n",
       "      <td>0.00</td>\n",
       "      <td>0.00</td>\n",
       "      <td>10063.2</td>\n",
       "      <td>853.971487</td>\n",
       "    </tr>\n",
       "    <tr>\n",
       "      <th>2</th>\n",
       "      <td>1999-01-21</td>\n",
       "      <td>64.0</td>\n",
       "      <td>80.0</td>\n",
       "      <td>1338.35</td>\n",
       "      <td>11637.0</td>\n",
       "      <td>-147.0</td>\n",
       "      <td>0.00</td>\n",
       "      <td>0.00</td>\n",
       "      <td>9968.0</td>\n",
       "      <td>856.578156</td>\n",
       "    </tr>\n",
       "    <tr>\n",
       "      <th>3</th>\n",
       "      <td>1999-01-22</td>\n",
       "      <td>64.0</td>\n",
       "      <td>80.0</td>\n",
       "      <td>1363.00</td>\n",
       "      <td>11305.0</td>\n",
       "      <td>-332.0</td>\n",
       "      <td>0.00</td>\n",
       "      <td>0.00</td>\n",
       "      <td>9763.2</td>\n",
       "      <td>863.617868</td>\n",
       "    </tr>\n",
       "    <tr>\n",
       "      <th>4</th>\n",
       "      <td>1999-01-25</td>\n",
       "      <td>72.0</td>\n",
       "      <td>80.0</td>\n",
       "      <td>1138.25</td>\n",
       "      <td>13307.0</td>\n",
       "      <td>2002.0</td>\n",
       "      <td>0.00</td>\n",
       "      <td>0.00</td>\n",
       "      <td>11945.6</td>\n",
       "      <td>897.692944</td>\n",
       "    </tr>\n",
       "    <tr>\n",
       "      <th>...</th>\n",
       "      <td>...</td>\n",
       "      <td>...</td>\n",
       "      <td>...</td>\n",
       "      <td>...</td>\n",
       "      <td>...</td>\n",
       "      <td>...</td>\n",
       "      <td>...</td>\n",
       "      <td>...</td>\n",
       "      <td>...</td>\n",
       "      <td>...</td>\n",
       "    </tr>\n",
       "    <tr>\n",
       "      <th>201</th>\n",
       "      <td>2008-04-01</td>\n",
       "      <td>NaN</td>\n",
       "      <td>84.4</td>\n",
       "      <td>1758.85</td>\n",
       "      <td>3966.0</td>\n",
       "      <td>6.0</td>\n",
       "      <td>24.00</td>\n",
       "      <td>0.60</td>\n",
       "      <td>4975.0</td>\n",
       "      <td>1254.412506</td>\n",
       "    </tr>\n",
       "    <tr>\n",
       "      <th>202</th>\n",
       "      <td>2008-06-01</td>\n",
       "      <td>NaN</td>\n",
       "      <td>84.9</td>\n",
       "      <td>1744.35</td>\n",
       "      <td>3950.0</td>\n",
       "      <td>-16.0</td>\n",
       "      <td>12.00</td>\n",
       "      <td>0.30</td>\n",
       "      <td>5064.0</td>\n",
       "      <td>1282.025316</td>\n",
       "    </tr>\n",
       "    <tr>\n",
       "      <th>203</th>\n",
       "      <td>2008-08-02</td>\n",
       "      <td>NaN</td>\n",
       "      <td>85.3</td>\n",
       "      <td>1726.95</td>\n",
       "      <td>3984.0</td>\n",
       "      <td>34.0</td>\n",
       "      <td>6.00</td>\n",
       "      <td>0.15</td>\n",
       "      <td>4275.0</td>\n",
       "      <td>1073.042169</td>\n",
       "    </tr>\n",
       "    <tr>\n",
       "      <th>204</th>\n",
       "      <td>2008-09-03</td>\n",
       "      <td>NaN</td>\n",
       "      <td>85.3</td>\n",
       "      <td>1718.25</td>\n",
       "      <td>3954.0</td>\n",
       "      <td>-30.0</td>\n",
       "      <td>24.00</td>\n",
       "      <td>0.60</td>\n",
       "      <td>4290.0</td>\n",
       "      <td>1084.977238</td>\n",
       "    </tr>\n",
       "    <tr>\n",
       "      <th>205</th>\n",
       "      <td>2008-10-04</td>\n",
       "      <td>NaN</td>\n",
       "      <td>85.3</td>\n",
       "      <td>1706.65</td>\n",
       "      <td>3957.0</td>\n",
       "      <td>3.0</td>\n",
       "      <td>24.00</td>\n",
       "      <td>0.60</td>\n",
       "      <td>4958.0</td>\n",
       "      <td>1252.969421</td>\n",
       "    </tr>\n",
       "  </tbody>\n",
       "</table>\n",
       "<p>206 rows × 10 columns</p>\n",
       "</div>"
      ],
      "text/plain": [
       "    Eng. Calender  Choke(/64\")  WHT (0C)  WHP (psig)  Oil Rate (STBD)  \\\n",
       "0      1999-01-19         60.0      79.0     1378.95          11092.0   \n",
       "1      1999-01-20         64.0      80.0     1326.75          11784.0   \n",
       "2      1999-01-21         64.0      80.0     1338.35          11637.0   \n",
       "3      1999-01-22         64.0      80.0     1363.00          11305.0   \n",
       "4      1999-01-25         72.0      80.0     1138.25          13307.0   \n",
       "..            ...          ...       ...         ...              ...   \n",
       "201    2008-04-01          NaN      84.4     1758.85           3966.0   \n",
       "202    2008-06-01          NaN      84.9     1744.35           3950.0   \n",
       "203    2008-08-02          NaN      85.3     1726.95           3984.0   \n",
       "204    2008-09-03          NaN      85.3     1718.25           3954.0   \n",
       "205    2008-10-04          NaN      85.3     1706.65           3957.0   \n",
       "\n",
       "     ∆Q (STBD)  Water Rate(sbwpd)  BS&W  Gas Rate (mscfd)          GOR  \n",
       "0          NaN              31.95  0.00            8730.6   787.107825  \n",
       "1        692.0               0.00  0.00           10063.2   853.971487  \n",
       "2       -147.0               0.00  0.00            9968.0   856.578156  \n",
       "3       -332.0               0.00  0.00            9763.2   863.617868  \n",
       "4       2002.0               0.00  0.00           11945.6   897.692944  \n",
       "..         ...                ...   ...               ...          ...  \n",
       "201        6.0              24.00  0.60            4975.0  1254.412506  \n",
       "202      -16.0              12.00  0.30            5064.0  1282.025316  \n",
       "203       34.0               6.00  0.15            4275.0  1073.042169  \n",
       "204      -30.0              24.00  0.60            4290.0  1084.977238  \n",
       "205        3.0              24.00  0.60            4958.0  1252.969421  \n",
       "\n",
       "[206 rows x 10 columns]"
      ]
     },
     "execution_count": 443,
     "metadata": {},
     "output_type": "execute_result"
    }
   ],
   "source": [
    "#select the data until Eng. Calendar is not null\n",
    "df_well2 = df_well2[df_well2['Eng. Calender'].notnull()]\n",
    "df_well2"
   ]
  },
  {
   "cell_type": "code",
   "execution_count": 444,
   "metadata": {},
   "outputs": [
    {
     "data": {
      "text/plain": [
       "Eng. Calender         0\n",
       "Choke(/64\")          80\n",
       "WHT (0C)              8\n",
       "WHP (psig)            0\n",
       "Oil Rate (STBD)       0\n",
       "∆Q (STBD)             1\n",
       "Water Rate(sbwpd)     0\n",
       "BS&W                  0\n",
       "Gas Rate (mscfd)      1\n",
       "GOR                   1\n",
       "dtype: int64"
      ]
     },
     "execution_count": 444,
     "metadata": {},
     "output_type": "execute_result"
    }
   ],
   "source": [
    "df_well2.isnull().sum()"
   ]
  },
  {
   "cell_type": "code",
   "execution_count": 445,
   "metadata": {},
   "outputs": [
    {
     "data": {
      "application/vnd.plotly.v1+json": {
       "config": {
        "plotlyServerURL": "https://plot.ly"
       },
       "data": [
        {
         "name": "WHT (0C)",
         "nbinsx": 40,
         "type": "histogram",
         "x": [
          79,
          80,
          80,
          80,
          80,
          80,
          92.8,
          93,
          91.7,
          92.2,
          92.3,
          92.3,
          92.6,
          92.7,
          92.7,
          93.4,
          93.7,
          93.7,
          93.5,
          93.6,
          93.1,
          92.7,
          92.7,
          90.3,
          85.1,
          85.2,
          89.4,
          91.6,
          92.2,
          81.7,
          84,
          88.2,
          88.7,
          89.4,
          91.2,
          88.3,
          92.8,
          93.1,
          93,
          93,
          92.9,
          93.2,
          null,
          83,
          93.2,
          93.3,
          93.3,
          null,
          93.3,
          93.3,
          93.3,
          93.3,
          93.3,
          93.3,
          93.3,
          93.2,
          93.3,
          93.8,
          93.8,
          93.8,
          93.7,
          93.6,
          93.6,
          93.5,
          93.4,
          93.5,
          null,
          93.4,
          93.3,
          93.1,
          null,
          92.5,
          92.6,
          92.6,
          92.3,
          88.9,
          88.8,
          88.5,
          null,
          89,
          89.2,
          82.9,
          83,
          83,
          82.8,
          83.8,
          83.7,
          83.7,
          83.9,
          84.2,
          84.4,
          84.5,
          86.1,
          86.1,
          86.4,
          83.8,
          80.9,
          79.4,
          76.9,
          85.7,
          86.3,
          86.6,
          null,
          86.6,
          79.1,
          81.1,
          81.2,
          78.6,
          83.2,
          83.5,
          null,
          84.3,
          84.4,
          84.8,
          84.9,
          85.2,
          85.3,
          85.5,
          86,
          86,
          82.2,
          81,
          81,
          80.6,
          81.4,
          82.5,
          76.9,
          87.4,
          88.3,
          87.7,
          81.4,
          78.4,
          77.6,
          77.8,
          82.5,
          82.8,
          84.1,
          85,
          82.9,
          83,
          84.2,
          84,
          83.8,
          84,
          84.3,
          84.6,
          84.6,
          84.8,
          83.7,
          84,
          83.2,
          83.4,
          83.1,
          83.6,
          84,
          83.6,
          83,
          83,
          84.6,
          86,
          85.4,
          83,
          85.3,
          83.5,
          82.8,
          81.2,
          84,
          84,
          83.9,
          83.6,
          84.2,
          84.1,
          84.1,
          83.8,
          84,
          83.7,
          82.6,
          81.5,
          81.5,
          82.6,
          82.8,
          83.1,
          83.1,
          82.9,
          83.2,
          83.2,
          84,
          83.9,
          83,
          83.3,
          83.3,
          84.3,
          84.8,
          84.9,
          84.8,
          84.7,
          85.2,
          85.1,
          null,
          84.6,
          84.6,
          84.4,
          84.9,
          85.3,
          85.3,
          85.3
         ],
         "xaxis": "x",
         "yaxis": "y"
        },
        {
         "name": "∆Q (STBD)",
         "nbinsx": 40,
         "type": "histogram",
         "x": [
          null,
          692,
          -147,
          -332,
          2002,
          -391,
          -530,
          1091,
          -1186,
          -1048,
          -89,
          -57,
          -926,
          859,
          -340,
          843,
          -55,
          -75,
          79,
          -1236,
          923,
          -1288,
          1152,
          -3833.7,
          -2419.5299999999997,
          573.4699999999993,
          3676.5699999999997,
          1824.2200000000012,
          1543.949999999999,
          -7821.469999999999,
          388.0500000000002,
          1793.5999999999995,
          407.1400000000003,
          447.6099999999997,
          4259.469999999999,
          -5176.169999999999,
          4464.79,
          -213,
          -49,
          -93,
          -14,
          373,
          -104,
          -19,
          -14,
          229,
          -130,
          -12,
          127,
          -296.14999999999964,
          -34.55000000000109,
          85,
          -110.92857142857065,
          181.8285714285721,
          -191.60000000000036,
          -50.600000000000364,
          -56.600000000000364,
          1666.2000000000007,
          -266.2000000000007,
          47.5,
          -106.89999999999964,
          59.600000000000364,
          811.6000000000004,
          -1333,
          71,
          55.19999999999891,
          -10.399999999999636,
          75.20000000000073,
          -157.70000000000073,
          -161.10000000000036,
          -111.39999999999964,
          139.10000000000036,
          1037.7999999999993,
          -187.1999999999989,
          -1995.4000000000015,
          -3976.7999999999993,
          63.5,
          56,
          311,
          -54,
          127,
          -2745.8,
          -53.599999999999454,
          2.7999999999992724,
          -17.699999999999818,
          368.90000000000055,
          -28.400000000000546,
          -29.300000000000182,
          -90.59999999999945,
          172.69999999999982,
          -35.30000000000018,
          32,
          -21.199999999999818,
          289.89999999999964,
          465.7000000000007,
          -1413.7000000000003,
          -996.7000000000003,
          -218.69999999999982,
          -421.3000000000002,
          2537.3,
          -270,
          -278,
          3,
          916,
          254,
          -1429,
          -332,
          -628,
          329,
          -5,
          110,
          931,
          -98,
          48,
          338,
          -25,
          21,
          2,
          175.5,
          -46.80000000000018,
          26.199999999999818,
          -1495.7999999999997,
          31.300000000000182,
          -122.59999999999991,
          65.29999999999973,
          311.5,
          -962.5999999999999,
          2690,
          549.1999999999998,
          -295,
          -2154.2,
          -388.8000000000002,
          -72.79999999999973,
          984.5999999999999,
          -206,
          -14.599999999999909,
          391.1999999999998,
          193.00000000000045,
          -726.0000000000005,
          310.4000000000001,
          38.69999999999982,
          -121,
          -80,
          239.30000000000018,
          -73.19999999999982,
          38.899999999999636,
          -13.299999999999727,
          119.79999999999973,
          -318.6999999999998,
          120.80000000000018,
          -260.7000000000003,
          88.90000000000009,
          -263.3000000000002,
          237.30000000000018,
          111.30000000000018,
          22.399999999999636,
          76,
          42.20000000000027,
          239.70000000000027,
          130.69999999999982,
          -939.3000000000002,
          114.19999999999982,
          272.60000000000036,
          -145.9000000000001,
          -41.90000000000009,
          -364.8000000000002,
          663,
          -727.5,
          589.6000000000004,
          -111.5,
          120,
          -1.400000000000091,
          37.90000000000009,
          -117.80000000000018,
          47.19999999999982,
          1.800000000000182,
          -244.0999999999999,
          -308.9000000000001,
          86.80000000000018,
          134.89999999999964,
          21.100000000000364,
          64.19999999999982,
          -9,
          -10.5,
          124.5,
          -446,
          491.8000000000002,
          -207.30000000000018,
          146.5,
          190.9000000000001,
          -104.90000000000009,
          189,
          119,
          -11,
          25,
          -65,
          102,
          26.800000000000182,
          40.19999999999982,
          -22.300000000000182,
          -1.699999999999818,
          6,
          -16,
          34,
          -30,
          3
         ],
         "xaxis": "x2",
         "yaxis": "y2"
        },
        {
         "name": "Water Rate(sbwpd)",
         "nbinsx": 40,
         "type": "histogram",
         "x": [
          31.95,
          0,
          0,
          0,
          0,
          0,
          0,
          0,
          0,
          3.8832,
          5.82,
          0,
          0,
          0,
          0,
          0,
          0,
          0,
          0,
          0,
          0,
          0,
          0,
          0,
          0,
          0,
          0,
          0,
          0,
          0,
          0,
          0,
          0,
          0,
          0,
          0,
          0,
          0,
          0,
          0,
          0,
          0,
          24,
          11,
          0,
          57,
          0,
          0,
          0,
          0,
          0,
          0,
          0,
          0,
          0,
          0,
          0,
          0,
          0,
          0,
          0,
          0,
          0,
          0,
          0,
          0,
          0,
          0,
          0,
          0,
          0,
          0,
          0,
          0,
          0,
          0,
          0,
          0,
          0,
          0,
          0,
          0,
          0,
          0,
          0,
          0,
          0,
          0,
          0,
          0,
          0,
          0,
          0,
          0,
          0,
          0,
          0,
          0,
          0,
          0,
          0,
          0,
          0,
          0,
          0,
          0,
          0,
          0,
          0,
          0,
          0,
          0,
          0,
          0,
          0,
          0,
          0,
          0,
          0,
          0,
          0,
          0,
          0,
          0,
          0,
          0,
          26.2,
          0,
          0,
          0,
          0,
          0,
          2.9,
          3.9,
          3.7,
          1.8,
          2.6,
          4.3,
          0,
          0,
          0,
          0,
          0,
          0,
          0,
          0,
          1,
          1,
          0,
          0,
          0,
          0,
          0,
          0,
          0,
          0,
          0,
          0,
          0,
          0,
          0.8,
          0.9,
          0,
          0.7,
          0,
          0,
          0,
          0,
          0,
          0,
          0,
          0,
          0,
          0,
          0,
          0,
          0,
          0,
          0,
          0,
          0,
          0,
          0,
          0,
          0,
          0,
          0,
          1.7,
          1.7,
          1.8,
          1.8,
          5.6,
          5.8,
          9.7,
          7.8,
          7.6,
          19.7,
          19.8,
          15.1,
          19.9,
          20,
          24,
          12,
          6,
          24,
          24
         ],
         "xaxis": "x3",
         "yaxis": "y3"
        },
        {
         "name": "Gas Rate (mscfd)",
         "nbinsx": 40,
         "type": "histogram",
         "x": [
          8730.6,
          10063.2,
          9968,
          9763.2,
          11945.6,
          11696.64,
          11313,
          11968.8,
          10702.4,
          9720,
          9666,
          9574.8,
          10493.3,
          9576,
          8688,
          12154.84,
          12132,
          11992,
          11852,
          14420,
          9653.76,
          9224,
          8344,
          5260.8,
          3774,
          3960,
          7116,
          8682,
          10283.4,
          3492,
          3812,
          5339.2,
          5676,
          6056,
          10136,
          4888,
          9944,
          9774,
          9679,
          9699,
          9647,
          10012,
          9939,
          9933,
          9880,
          10100,
          10058,
          10033,
          10100,
          9692.64,
          9717,
          9778.4,
          9739.1,
          9840,
          9647,
          9633.5,
          9628,
          11028.8,
          10895.1,
          11434,
          11373.7,
          11438.7,
          15321.2,
          11096.8,
          11191.6,
          11321.3,
          11444,
          11681.3,
          11796.6,
          11907.2,
          10163,
          10553.4,
          11453.8,
          11684.8,
          12331.4,
          7267,
          7446.6,
          7839,
          8778,
          9015,
          9684.8,
          4723.2,
          5247.4,
          5322,
          5391.9,
          6055.1,
          6108.9,
          6196,
          6290,
          6546,
          6486.6,
          6631,
          7912.2,
          8050.9,
          8552.2,
          6636.8,
          4925.8,
          4305,
          3370.3,
          7690,
          8364,
          8845,
          8728,
          8882,
          5972,
          5451,
          5423,
          4244,
          6442,
          6453,
          6645,
          5875,
          7270,
          5669,
          7369,
          7296,
          6244,
          6140,
          9075.8,
          9146.5,
          9101.2,
          5714.3,
          5230.3,
          5212.6,
          5305,
          5875.5,
          3552.8,
          9150,
          10590.1,
          10692.5,
          5520.6,
          4526.8,
          3919.1,
          5210,
          6197.2,
          6233.1,
          7230.5,
          7996.9,
          6277.5,
          6352.7,
          7190.8,
          7574.1,
          7675.6,
          null,
          8589.7,
          9045,
          9369.7,
          8990.1,
          7675,
          7509,
          6583.6,
          6314.5,
          5891.6,
          5892.2,
          6058.5,
          6111.4,
          5911.8,
          5832,
          5893.5,
          6708.8,
          6074.5,
          5665.9,
          6013.2,
          5861.3,
          5975.7,
          5639.5,
          9023.6,
          6318.7,
          6541.7,
          6100.1,
          6262.6,
          6242.5,
          6009.5,
          5157,
          5939.2,
          6006.5,
          5386.7,
          4929.9,
          5318.5,
          5160.6,
          5118.4,
          5453,
          5442.5,
          5389.5,
          5542,
          5066,
          6087,
          5985,
          5256,
          6128,
          4911,
          5158,
          5352,
          5298,
          5238,
          5129,
          5406,
          5328.6,
          5120,
          5218,
          5076,
          4975,
          5064,
          4275,
          4290,
          4958
         ],
         "xaxis": "x4",
         "yaxis": "y4"
        },
        {
         "name": "GOR",
         "nbinsx": 40,
         "type": "histogram",
         "x": [
          787.1078254597909,
          853.9714867617108,
          856.5781558821002,
          863.6178681999115,
          897.6929435635379,
          905.5930628677609,
          913.3699337962215,
          888.0908213994212,
          870.7509559840533,
          864.5379347149337,
          866.5949435180204,
          862.8277912949446,
          1031.6881329269493,
          868.1776971894832,
          812.7221702525725,
          1053.918321338767,
          1056.9785676947204,
          1051.6530737525213,
          1032.2243511583347,
          1407.378489166504,
          864.3352135374698,
          933.5087541746786,
          756.2766246714402,
          730.7377106107538,
          789.5777411883835,
          739.7389244644365,
          788.056448585297,
          799.8872308257854,
          829.4415703203264,
          763.0268479693041,
          767.8424674089949,
          790.0375250068066,
          792.1510613651906,
          795.4908175717302,
          853.7462581217919,
          729.9651593961361,
          890.9595914344593,
          892.7658019729631,
          888.0631250573447,
          897.5569128262076,
          893.9028910303929,
          896.730855351545,
          898.562516951451,
          899.5652961420033,
          895.9013420384476,
          897.2195078617749,
          903.9273838411073,
          902.6540710751237,
          898.4166518413094,
          885.5082063064997,
          890.5446647053972,
          889.2445640806453,
          894.6961584091887,
          889.1137776492699,
          887.0315201000404,
          889.9307159353349,
          894.0975446677315,
          886.9444935904653,
          895.3601130797805,
          935.9932546926547,
          939.276571145429,
          940.0177506040136,
          1180.3516124558944,
          952.7440071433477,
          955.0613575463808,
          961.5998776903868,
          972.8810677548245,
          986.7462958895777,
          1009.9396429947349,
          1033.6649478271438,
          890.8660589060308,
          913.9437607711027,
          910.1224483309363,
          942.4973987110512,
          1185.4493717735502,
          1130.9625710061473,
          1147.5728155339805,
          1197.7081741787624,
          1280.3383897316219,
          1325.3454866215818,
          1397.7197286765768,
          1129.0877796901893,
          1270.6799690042617,
          1287.8714548446424,
          1310.399300070479,
          1350.4995985368898,
          1371.184234153349,
          1399.941254886012,
          1450.879985237469,
          1452.0851818988465,
          1450.264940639882,
          1472.0181144138346,
          1764.7373703579792,
          1686.6175053421043,
          1632.37960718444,
          1734.9296805562817,
          1741.36529147665,
          1649.4252873563219,
          1539.8638461187006,
          1627.1688531527718,
          1877.019748653501,
          2117.0416467209193,
          2087.538866299928,
          1742.5936825583676,
          1116.0530741917398,
          1389.8521162672107,
          1510.5849582172702,
          1432.8156650911546,
          1957.4597386812518,
          1963.7857577601947,
          1956.713780918728,
          1357.75363993529,
          1719.082525419721,
          1325.4617722702828,
          1596.7497291440955,
          1589.5424836601308,
          1354.1531121231837,
          1331.021027530891,
          1895.3325676098987,
          1928.9495328679589,
          1908.8487594119006,
          1746.3708321872805,
          1583.3081067990554,
          1638.770120724346,
          1634.268814885555,
          1651.5347425230493,
          1369.0944123314066,
          1731.3150425733206,
          1815.1760309896815,
          1930.33290005777,
          1630.901033973412,
          1510.8470729590815,
          1340.5965656427447,
          1333.162743091095,
          1674.0140464613721,
          1690.3780441503498,
          1772.7896827342715,
          1872.1088116864873,
          1770.5042870036102,
          1647.484439834025,
          1846.3039515238659,
          2007.0752842038319,
          2078.024744835802,
          null,
          2225.4261878853827,
          2320.00410393208,
          2411.514901940598,
          2244.6070108858485,
          2081.920520819205,
          1972.2638089985028,
          1856.3130885918908,
          1736.9000137532664,
          1747.1087124132614,
          1632.4144618368196,
          1628.2788647602665,
          1632.667236589015,
          1547.9157938835358,
          1510.3330398301134,
          1437.0534734583402,
          1585.3301195708682,
          1844.9506454062262,
          1663.1637655208854,
          1634.3326176174814,
          1658.8271919397746,
          1711.499355577832,
          1803.6588096075736,
          2381.085574055994,
          2063.4511135784733,
          1791.3631633714879,
          1723.046069542129,
          1710.952654154031,
          1706.1138593566372,
          1625.5951092837047,
          1440.905280804694,
          1178.6,
          1120,
          1317,
          1280,
          1264.4,
          1565.3835653835654,
          1542.7090240520827,
          1612.3595505617977,
          1613.5487696412688,
          1602.825278810409,
          1589.331803842845,
          1665.8993752055244,
          1722.9959239130435,
          1799.7293640054127,
          1513.8248847926268,
          1672.991345655082,
          1380.2698145025295,
          1376.5679210034693,
          1384.3766166580444,
          1374.31906614786,
          1350,
          1344.429882044561,
          1380.1378606076078,
          1351.1334246158526,
          1285.140562248996,
          1317.1113410909459,
          1281.8181818181818,
          1254.4125063035804,
          1282.0253164556962,
          1073.0421686746988,
          1084.9772382397573,
          1252.9694212787465
         ],
         "xaxis": "x5",
         "yaxis": "y5"
        }
       ],
       "layout": {
        "annotations": [
         {
          "font": {
           "size": 16
          },
          "showarrow": false,
          "text": "WHT (0C)",
          "x": 0.08399999999999999,
          "xanchor": "center",
          "xref": "paper",
          "y": 1,
          "yanchor": "bottom",
          "yref": "paper"
         },
         {
          "font": {
           "size": 16
          },
          "showarrow": false,
          "text": "∆Q (STBD)",
          "x": 0.292,
          "xanchor": "center",
          "xref": "paper",
          "y": 1,
          "yanchor": "bottom",
          "yref": "paper"
         },
         {
          "font": {
           "size": 16
          },
          "showarrow": false,
          "text": "Water Rate(sbwpd)",
          "x": 0.5,
          "xanchor": "center",
          "xref": "paper",
          "y": 1,
          "yanchor": "bottom",
          "yref": "paper"
         },
         {
          "font": {
           "size": 16
          },
          "showarrow": false,
          "text": "Gas Rate (mscfd)",
          "x": 0.708,
          "xanchor": "center",
          "xref": "paper",
          "y": 1,
          "yanchor": "bottom",
          "yref": "paper"
         },
         {
          "font": {
           "size": 16
          },
          "showarrow": false,
          "text": "GOR",
          "x": 0.9159999999999999,
          "xanchor": "center",
          "xref": "paper",
          "y": 1,
          "yanchor": "bottom",
          "yref": "paper"
         }
        ],
        "height": 500,
        "template": {
         "data": {
          "bar": [
           {
            "error_x": {
             "color": "#2a3f5f"
            },
            "error_y": {
             "color": "#2a3f5f"
            },
            "marker": {
             "line": {
              "color": "#E5ECF6",
              "width": 0.5
             },
             "pattern": {
              "fillmode": "overlay",
              "size": 10,
              "solidity": 0.2
             }
            },
            "type": "bar"
           }
          ],
          "barpolar": [
           {
            "marker": {
             "line": {
              "color": "#E5ECF6",
              "width": 0.5
             },
             "pattern": {
              "fillmode": "overlay",
              "size": 10,
              "solidity": 0.2
             }
            },
            "type": "barpolar"
           }
          ],
          "carpet": [
           {
            "aaxis": {
             "endlinecolor": "#2a3f5f",
             "gridcolor": "white",
             "linecolor": "white",
             "minorgridcolor": "white",
             "startlinecolor": "#2a3f5f"
            },
            "baxis": {
             "endlinecolor": "#2a3f5f",
             "gridcolor": "white",
             "linecolor": "white",
             "minorgridcolor": "white",
             "startlinecolor": "#2a3f5f"
            },
            "type": "carpet"
           }
          ],
          "choropleth": [
           {
            "colorbar": {
             "outlinewidth": 0,
             "ticks": ""
            },
            "type": "choropleth"
           }
          ],
          "contour": [
           {
            "colorbar": {
             "outlinewidth": 0,
             "ticks": ""
            },
            "colorscale": [
             [
              0,
              "#0d0887"
             ],
             [
              0.1111111111111111,
              "#46039f"
             ],
             [
              0.2222222222222222,
              "#7201a8"
             ],
             [
              0.3333333333333333,
              "#9c179e"
             ],
             [
              0.4444444444444444,
              "#bd3786"
             ],
             [
              0.5555555555555556,
              "#d8576b"
             ],
             [
              0.6666666666666666,
              "#ed7953"
             ],
             [
              0.7777777777777778,
              "#fb9f3a"
             ],
             [
              0.8888888888888888,
              "#fdca26"
             ],
             [
              1,
              "#f0f921"
             ]
            ],
            "type": "contour"
           }
          ],
          "contourcarpet": [
           {
            "colorbar": {
             "outlinewidth": 0,
             "ticks": ""
            },
            "type": "contourcarpet"
           }
          ],
          "heatmap": [
           {
            "colorbar": {
             "outlinewidth": 0,
             "ticks": ""
            },
            "colorscale": [
             [
              0,
              "#0d0887"
             ],
             [
              0.1111111111111111,
              "#46039f"
             ],
             [
              0.2222222222222222,
              "#7201a8"
             ],
             [
              0.3333333333333333,
              "#9c179e"
             ],
             [
              0.4444444444444444,
              "#bd3786"
             ],
             [
              0.5555555555555556,
              "#d8576b"
             ],
             [
              0.6666666666666666,
              "#ed7953"
             ],
             [
              0.7777777777777778,
              "#fb9f3a"
             ],
             [
              0.8888888888888888,
              "#fdca26"
             ],
             [
              1,
              "#f0f921"
             ]
            ],
            "type": "heatmap"
           }
          ],
          "heatmapgl": [
           {
            "colorbar": {
             "outlinewidth": 0,
             "ticks": ""
            },
            "colorscale": [
             [
              0,
              "#0d0887"
             ],
             [
              0.1111111111111111,
              "#46039f"
             ],
             [
              0.2222222222222222,
              "#7201a8"
             ],
             [
              0.3333333333333333,
              "#9c179e"
             ],
             [
              0.4444444444444444,
              "#bd3786"
             ],
             [
              0.5555555555555556,
              "#d8576b"
             ],
             [
              0.6666666666666666,
              "#ed7953"
             ],
             [
              0.7777777777777778,
              "#fb9f3a"
             ],
             [
              0.8888888888888888,
              "#fdca26"
             ],
             [
              1,
              "#f0f921"
             ]
            ],
            "type": "heatmapgl"
           }
          ],
          "histogram": [
           {
            "marker": {
             "pattern": {
              "fillmode": "overlay",
              "size": 10,
              "solidity": 0.2
             }
            },
            "type": "histogram"
           }
          ],
          "histogram2d": [
           {
            "colorbar": {
             "outlinewidth": 0,
             "ticks": ""
            },
            "colorscale": [
             [
              0,
              "#0d0887"
             ],
             [
              0.1111111111111111,
              "#46039f"
             ],
             [
              0.2222222222222222,
              "#7201a8"
             ],
             [
              0.3333333333333333,
              "#9c179e"
             ],
             [
              0.4444444444444444,
              "#bd3786"
             ],
             [
              0.5555555555555556,
              "#d8576b"
             ],
             [
              0.6666666666666666,
              "#ed7953"
             ],
             [
              0.7777777777777778,
              "#fb9f3a"
             ],
             [
              0.8888888888888888,
              "#fdca26"
             ],
             [
              1,
              "#f0f921"
             ]
            ],
            "type": "histogram2d"
           }
          ],
          "histogram2dcontour": [
           {
            "colorbar": {
             "outlinewidth": 0,
             "ticks": ""
            },
            "colorscale": [
             [
              0,
              "#0d0887"
             ],
             [
              0.1111111111111111,
              "#46039f"
             ],
             [
              0.2222222222222222,
              "#7201a8"
             ],
             [
              0.3333333333333333,
              "#9c179e"
             ],
             [
              0.4444444444444444,
              "#bd3786"
             ],
             [
              0.5555555555555556,
              "#d8576b"
             ],
             [
              0.6666666666666666,
              "#ed7953"
             ],
             [
              0.7777777777777778,
              "#fb9f3a"
             ],
             [
              0.8888888888888888,
              "#fdca26"
             ],
             [
              1,
              "#f0f921"
             ]
            ],
            "type": "histogram2dcontour"
           }
          ],
          "mesh3d": [
           {
            "colorbar": {
             "outlinewidth": 0,
             "ticks": ""
            },
            "type": "mesh3d"
           }
          ],
          "parcoords": [
           {
            "line": {
             "colorbar": {
              "outlinewidth": 0,
              "ticks": ""
             }
            },
            "type": "parcoords"
           }
          ],
          "pie": [
           {
            "automargin": true,
            "type": "pie"
           }
          ],
          "scatter": [
           {
            "fillpattern": {
             "fillmode": "overlay",
             "size": 10,
             "solidity": 0.2
            },
            "type": "scatter"
           }
          ],
          "scatter3d": [
           {
            "line": {
             "colorbar": {
              "outlinewidth": 0,
              "ticks": ""
             }
            },
            "marker": {
             "colorbar": {
              "outlinewidth": 0,
              "ticks": ""
             }
            },
            "type": "scatter3d"
           }
          ],
          "scattercarpet": [
           {
            "marker": {
             "colorbar": {
              "outlinewidth": 0,
              "ticks": ""
             }
            },
            "type": "scattercarpet"
           }
          ],
          "scattergeo": [
           {
            "marker": {
             "colorbar": {
              "outlinewidth": 0,
              "ticks": ""
             }
            },
            "type": "scattergeo"
           }
          ],
          "scattergl": [
           {
            "marker": {
             "colorbar": {
              "outlinewidth": 0,
              "ticks": ""
             }
            },
            "type": "scattergl"
           }
          ],
          "scattermapbox": [
           {
            "marker": {
             "colorbar": {
              "outlinewidth": 0,
              "ticks": ""
             }
            },
            "type": "scattermapbox"
           }
          ],
          "scatterpolar": [
           {
            "marker": {
             "colorbar": {
              "outlinewidth": 0,
              "ticks": ""
             }
            },
            "type": "scatterpolar"
           }
          ],
          "scatterpolargl": [
           {
            "marker": {
             "colorbar": {
              "outlinewidth": 0,
              "ticks": ""
             }
            },
            "type": "scatterpolargl"
           }
          ],
          "scatterternary": [
           {
            "marker": {
             "colorbar": {
              "outlinewidth": 0,
              "ticks": ""
             }
            },
            "type": "scatterternary"
           }
          ],
          "surface": [
           {
            "colorbar": {
             "outlinewidth": 0,
             "ticks": ""
            },
            "colorscale": [
             [
              0,
              "#0d0887"
             ],
             [
              0.1111111111111111,
              "#46039f"
             ],
             [
              0.2222222222222222,
              "#7201a8"
             ],
             [
              0.3333333333333333,
              "#9c179e"
             ],
             [
              0.4444444444444444,
              "#bd3786"
             ],
             [
              0.5555555555555556,
              "#d8576b"
             ],
             [
              0.6666666666666666,
              "#ed7953"
             ],
             [
              0.7777777777777778,
              "#fb9f3a"
             ],
             [
              0.8888888888888888,
              "#fdca26"
             ],
             [
              1,
              "#f0f921"
             ]
            ],
            "type": "surface"
           }
          ],
          "table": [
           {
            "cells": {
             "fill": {
              "color": "#EBF0F8"
             },
             "line": {
              "color": "white"
             }
            },
            "header": {
             "fill": {
              "color": "#C8D4E3"
             },
             "line": {
              "color": "white"
             }
            },
            "type": "table"
           }
          ]
         },
         "layout": {
          "annotationdefaults": {
           "arrowcolor": "#2a3f5f",
           "arrowhead": 0,
           "arrowwidth": 1
          },
          "autotypenumbers": "strict",
          "coloraxis": {
           "colorbar": {
            "outlinewidth": 0,
            "ticks": ""
           }
          },
          "colorscale": {
           "diverging": [
            [
             0,
             "#8e0152"
            ],
            [
             0.1,
             "#c51b7d"
            ],
            [
             0.2,
             "#de77ae"
            ],
            [
             0.3,
             "#f1b6da"
            ],
            [
             0.4,
             "#fde0ef"
            ],
            [
             0.5,
             "#f7f7f7"
            ],
            [
             0.6,
             "#e6f5d0"
            ],
            [
             0.7,
             "#b8e186"
            ],
            [
             0.8,
             "#7fbc41"
            ],
            [
             0.9,
             "#4d9221"
            ],
            [
             1,
             "#276419"
            ]
           ],
           "sequential": [
            [
             0,
             "#0d0887"
            ],
            [
             0.1111111111111111,
             "#46039f"
            ],
            [
             0.2222222222222222,
             "#7201a8"
            ],
            [
             0.3333333333333333,
             "#9c179e"
            ],
            [
             0.4444444444444444,
             "#bd3786"
            ],
            [
             0.5555555555555556,
             "#d8576b"
            ],
            [
             0.6666666666666666,
             "#ed7953"
            ],
            [
             0.7777777777777778,
             "#fb9f3a"
            ],
            [
             0.8888888888888888,
             "#fdca26"
            ],
            [
             1,
             "#f0f921"
            ]
           ],
           "sequentialminus": [
            [
             0,
             "#0d0887"
            ],
            [
             0.1111111111111111,
             "#46039f"
            ],
            [
             0.2222222222222222,
             "#7201a8"
            ],
            [
             0.3333333333333333,
             "#9c179e"
            ],
            [
             0.4444444444444444,
             "#bd3786"
            ],
            [
             0.5555555555555556,
             "#d8576b"
            ],
            [
             0.6666666666666666,
             "#ed7953"
            ],
            [
             0.7777777777777778,
             "#fb9f3a"
            ],
            [
             0.8888888888888888,
             "#fdca26"
            ],
            [
             1,
             "#f0f921"
            ]
           ]
          },
          "colorway": [
           "#636efa",
           "#EF553B",
           "#00cc96",
           "#ab63fa",
           "#FFA15A",
           "#19d3f3",
           "#FF6692",
           "#B6E880",
           "#FF97FF",
           "#FECB52"
          ],
          "font": {
           "color": "#2a3f5f"
          },
          "geo": {
           "bgcolor": "white",
           "lakecolor": "white",
           "landcolor": "#E5ECF6",
           "showlakes": true,
           "showland": true,
           "subunitcolor": "white"
          },
          "hoverlabel": {
           "align": "left"
          },
          "hovermode": "closest",
          "mapbox": {
           "style": "light"
          },
          "paper_bgcolor": "white",
          "plot_bgcolor": "#E5ECF6",
          "polar": {
           "angularaxis": {
            "gridcolor": "white",
            "linecolor": "white",
            "ticks": ""
           },
           "bgcolor": "#E5ECF6",
           "radialaxis": {
            "gridcolor": "white",
            "linecolor": "white",
            "ticks": ""
           }
          },
          "scene": {
           "xaxis": {
            "backgroundcolor": "#E5ECF6",
            "gridcolor": "white",
            "gridwidth": 2,
            "linecolor": "white",
            "showbackground": true,
            "ticks": "",
            "zerolinecolor": "white"
           },
           "yaxis": {
            "backgroundcolor": "#E5ECF6",
            "gridcolor": "white",
            "gridwidth": 2,
            "linecolor": "white",
            "showbackground": true,
            "ticks": "",
            "zerolinecolor": "white"
           },
           "zaxis": {
            "backgroundcolor": "#E5ECF6",
            "gridcolor": "white",
            "gridwidth": 2,
            "linecolor": "white",
            "showbackground": true,
            "ticks": "",
            "zerolinecolor": "white"
           }
          },
          "shapedefaults": {
           "line": {
            "color": "#2a3f5f"
           }
          },
          "ternary": {
           "aaxis": {
            "gridcolor": "white",
            "linecolor": "white",
            "ticks": ""
           },
           "baxis": {
            "gridcolor": "white",
            "linecolor": "white",
            "ticks": ""
           },
           "bgcolor": "#E5ECF6",
           "caxis": {
            "gridcolor": "white",
            "linecolor": "white",
            "ticks": ""
           }
          },
          "title": {
           "x": 0.05
          },
          "xaxis": {
           "automargin": true,
           "gridcolor": "white",
           "linecolor": "white",
           "ticks": "",
           "title": {
            "standoff": 15
           },
           "zerolinecolor": "white",
           "zerolinewidth": 2
          },
          "yaxis": {
           "automargin": true,
           "gridcolor": "white",
           "linecolor": "white",
           "ticks": "",
           "title": {
            "standoff": 15
           },
           "zerolinecolor": "white",
           "zerolinewidth": 2
          }
         }
        },
        "title": {
         "text": "Distribution of Variables"
        },
        "width": 1000,
        "xaxis": {
         "anchor": "y",
         "domain": [
          0,
          0.16799999999999998
         ]
        },
        "xaxis2": {
         "anchor": "y2",
         "domain": [
          0.208,
          0.376
         ]
        },
        "xaxis3": {
         "anchor": "y3",
         "domain": [
          0.416,
          0.584
         ]
        },
        "xaxis4": {
         "anchor": "y4",
         "domain": [
          0.624,
          0.792
         ]
        },
        "xaxis5": {
         "anchor": "y5",
         "domain": [
          0.832,
          1
         ]
        },
        "yaxis": {
         "anchor": "x",
         "domain": [
          0,
          1
         ]
        },
        "yaxis2": {
         "anchor": "x2",
         "domain": [
          0,
          1
         ]
        },
        "yaxis3": {
         "anchor": "x3",
         "domain": [
          0,
          1
         ]
        },
        "yaxis4": {
         "anchor": "x4",
         "domain": [
          0,
          1
         ]
        },
        "yaxis5": {
         "anchor": "x5",
         "domain": [
          0,
          1
         ]
        }
       }
      }
     },
     "metadata": {},
     "output_type": "display_data"
    }
   ],
   "source": [
    "fig = sp.make_subplots(rows=1, cols=5, subplot_titles=('WHT (0C)', '∆Q (STBD)', 'Water Rate(sbwpd)', 'Gas Rate (mscfd)', 'GOR'))\n",
    "\n",
    "trace1 = go.Histogram(x=df_well2['WHT (0C)'], nbinsx=40, name='WHT (0C)')\n",
    "trace2 = go.Histogram(x=df_well2['∆Q (STBD)'], nbinsx=40, name='∆Q (STBD)')\n",
    "trace3 = go.Histogram(x=df_well2['Water Rate(sbwpd)'], nbinsx=40, name='Water Rate(sbwpd)')\n",
    "trace4 = go.Histogram(x=df_well2['Gas Rate (mscfd)'], nbinsx=40, name='Gas Rate (mscfd)')\n",
    "trace5 = go.Histogram(x=df_well2['GOR'], nbinsx=40, name='GOR')\n",
    "\n",
    "fig.add_trace(trace1, row=1, col=1)\n",
    "fig.add_trace(trace2, row=1, col=2)\n",
    "fig.add_trace(trace3, row=1, col=3)\n",
    "fig.add_trace(trace4, row=1, col=4)\n",
    "fig.add_trace(trace5, row=1, col=5)\n",
    "\n",
    "fig.update_layout(height=500, width=1000, title_text=\"Distribution of Variables\")\n",
    "fig.show()\n"
   ]
  },
  {
   "cell_type": "code",
   "execution_count": 446,
   "metadata": {},
   "outputs": [],
   "source": [
    "# fill up the null values with mean for delta Q, Gas rate and median for Water Rate, WHT\n",
    "df_well2['∆Q (STBD)'] = df_well2['∆Q (STBD)'].fillna(df_well2['∆Q (STBD)'].mean())\n",
    "df_well2['Gas Rate (mscfd)'] = df_well2['Gas Rate (mscfd)'].fillna(df_well2['Gas Rate (mscfd)'].mean())\n",
    "df_well2['WHT (0C)'] = df_well2['WHT (0C)'].fillna(df_well2['WHT (0C)'].median())\n",
    "df_well2['Water Rate(sbwpd)'] = df_well2['Water Rate(sbwpd)'].fillna(df_well2['Water Rate(sbwpd)'].median())\n",
    "df_well2['GOR'] = df_well2['GOR'].fillna(df_well2['GOR'].mean())\n"
   ]
  },
  {
   "cell_type": "code",
   "execution_count": 447,
   "metadata": {},
   "outputs": [
    {
     "data": {
      "text/plain": [
       "Eng. Calender         0\n",
       "Choke(/64\")          80\n",
       "WHT (0C)              0\n",
       "WHP (psig)            0\n",
       "Oil Rate (STBD)       0\n",
       "∆Q (STBD)             0\n",
       "Water Rate(sbwpd)     0\n",
       "BS&W                  0\n",
       "Gas Rate (mscfd)      0\n",
       "GOR                   0\n",
       "dtype: int64"
      ]
     },
     "execution_count": 447,
     "metadata": {},
     "output_type": "execute_result"
    }
   ],
   "source": [
    "df_well2.isnull().sum()"
   ]
  },
  {
   "cell_type": "code",
   "execution_count": 448,
   "metadata": {},
   "outputs": [
    {
     "data": {
      "text/html": [
       "<div>\n",
       "<style scoped>\n",
       "    .dataframe tbody tr th:only-of-type {\n",
       "        vertical-align: middle;\n",
       "    }\n",
       "\n",
       "    .dataframe tbody tr th {\n",
       "        vertical-align: top;\n",
       "    }\n",
       "\n",
       "    .dataframe thead th {\n",
       "        text-align: right;\n",
       "    }\n",
       "</style>\n",
       "<table border=\"1\" class=\"dataframe\">\n",
       "  <thead>\n",
       "    <tr style=\"text-align: right;\">\n",
       "      <th></th>\n",
       "      <th>Eng_Calender</th>\n",
       "      <th>Choke_well_2</th>\n",
       "      <th>WHT_well_2</th>\n",
       "      <th>WHP_well_2</th>\n",
       "      <th>Oil_Rate_well_2</th>\n",
       "      <th>delta_Q_well_2</th>\n",
       "      <th>Water_Rate_well_2</th>\n",
       "      <th>BS&amp;W_well_2</th>\n",
       "      <th>Gas_Rate_well_2</th>\n",
       "      <th>GOR_well_2</th>\n",
       "    </tr>\n",
       "  </thead>\n",
       "  <tbody>\n",
       "    <tr>\n",
       "      <th>0</th>\n",
       "      <td>1999-01-19</td>\n",
       "      <td>60.0</td>\n",
       "      <td>79.0</td>\n",
       "      <td>1378.95</td>\n",
       "      <td>11092.0</td>\n",
       "      <td>-34.804878</td>\n",
       "      <td>31.95</td>\n",
       "      <td>0.0</td>\n",
       "      <td>8730.6</td>\n",
       "      <td>787.107825</td>\n",
       "    </tr>\n",
       "    <tr>\n",
       "      <th>1</th>\n",
       "      <td>1999-01-20</td>\n",
       "      <td>64.0</td>\n",
       "      <td>80.0</td>\n",
       "      <td>1326.75</td>\n",
       "      <td>11784.0</td>\n",
       "      <td>692.000000</td>\n",
       "      <td>0.00</td>\n",
       "      <td>0.0</td>\n",
       "      <td>10063.2</td>\n",
       "      <td>853.971487</td>\n",
       "    </tr>\n",
       "    <tr>\n",
       "      <th>2</th>\n",
       "      <td>1999-01-21</td>\n",
       "      <td>64.0</td>\n",
       "      <td>80.0</td>\n",
       "      <td>1338.35</td>\n",
       "      <td>11637.0</td>\n",
       "      <td>-147.000000</td>\n",
       "      <td>0.00</td>\n",
       "      <td>0.0</td>\n",
       "      <td>9968.0</td>\n",
       "      <td>856.578156</td>\n",
       "    </tr>\n",
       "    <tr>\n",
       "      <th>3</th>\n",
       "      <td>1999-01-22</td>\n",
       "      <td>64.0</td>\n",
       "      <td>80.0</td>\n",
       "      <td>1363.00</td>\n",
       "      <td>11305.0</td>\n",
       "      <td>-332.000000</td>\n",
       "      <td>0.00</td>\n",
       "      <td>0.0</td>\n",
       "      <td>9763.2</td>\n",
       "      <td>863.617868</td>\n",
       "    </tr>\n",
       "    <tr>\n",
       "      <th>4</th>\n",
       "      <td>1999-01-25</td>\n",
       "      <td>72.0</td>\n",
       "      <td>80.0</td>\n",
       "      <td>1138.25</td>\n",
       "      <td>13307.0</td>\n",
       "      <td>2002.000000</td>\n",
       "      <td>0.00</td>\n",
       "      <td>0.0</td>\n",
       "      <td>11945.6</td>\n",
       "      <td>897.692944</td>\n",
       "    </tr>\n",
       "  </tbody>\n",
       "</table>\n",
       "</div>"
      ],
      "text/plain": [
       "  Eng_Calender  Choke_well_2  WHT_well_2  WHP_well_2  Oil_Rate_well_2  \\\n",
       "0   1999-01-19          60.0        79.0     1378.95          11092.0   \n",
       "1   1999-01-20          64.0        80.0     1326.75          11784.0   \n",
       "2   1999-01-21          64.0        80.0     1338.35          11637.0   \n",
       "3   1999-01-22          64.0        80.0     1363.00          11305.0   \n",
       "4   1999-01-25          72.0        80.0     1138.25          13307.0   \n",
       "\n",
       "   delta_Q_well_2  Water_Rate_well_2  BS&W_well_2  Gas_Rate_well_2  GOR_well_2  \n",
       "0      -34.804878              31.95          0.0           8730.6  787.107825  \n",
       "1      692.000000               0.00          0.0          10063.2  853.971487  \n",
       "2     -147.000000               0.00          0.0           9968.0  856.578156  \n",
       "3     -332.000000               0.00          0.0           9763.2  863.617868  \n",
       "4     2002.000000               0.00          0.0          11945.6  897.692944  "
      ]
     },
     "execution_count": 448,
     "metadata": {},
     "output_type": "execute_result"
    }
   ],
   "source": [
    "#rename all the columns to add _ in between the names and exclude the units\n",
    "df_well2 = df_well2.rename(columns={'Choke(/64\")':'Choke','Eng. Calender':'Eng_Calender', 'WHT (0C)':'WHT', 'WHP (psig)':'WHP', 'Oil Rate (STBD)':'Oil_Rate', '∆Q (STBD)':'delta_Q', 'Water Rate(sbwpd)':'Water_Rate', 'Gas Rate (mscfd)':'Gas_Rate'})\n",
    "# add 'well_1' at the end of each column name except Eng_Calender\n",
    "df_well2 = df_well2.add_suffix('_well_2')\n",
    "df_well2 = df_well2.rename(columns={'Eng_Calender_well_2':'Eng_Calender'})\n",
    "df_well2.head()"
   ]
  },
  {
   "cell_type": "code",
   "execution_count": 449,
   "metadata": {},
   "outputs": [
    {
     "name": "stdout",
     "output_type": "stream",
     "text": [
      "Oil_Rate_well_2      1.000000\n",
      "Choke_well_2         0.957491\n",
      "Gas_Rate_well_2      0.849847\n",
      "WHT_well_2           0.771505\n",
      "delta_Q_well_2       0.148756\n",
      "Water_Rate_well_2   -0.023633\n",
      "BS&W_well_2         -0.166428\n",
      "GOR_well_2          -0.754890\n",
      "WHP_well_2          -0.962139\n",
      "Name: Oil_Rate_well_2, dtype: float64\n"
     ]
    }
   ],
   "source": [
    "# Compute correlation matrix\n",
    "correlation_matrix = df_well2.corr()\n",
    "\n",
    "# Get correlations of 'target' with other variables\n",
    "correlations = correlation_matrix['Oil_Rate_well_2'].sort_values(ascending=False)\n",
    "\n",
    "# Print the correlations\n",
    "print(correlations)"
   ]
  },
  {
   "cell_type": "code",
   "execution_count": 450,
   "metadata": {},
   "outputs": [
    {
     "data": {
      "application/vnd.plotly.v1+json": {
       "config": {
        "plotlyServerURL": "https://plot.ly"
       },
       "data": [
        {
         "mode": "markers",
         "type": "scatter",
         "x": [
          60,
          64,
          64,
          64,
          72,
          72,
          68,
          70,
          60,
          60,
          60,
          60,
          60,
          60,
          60,
          70,
          70,
          70,
          70,
          80,
          64,
          64,
          64,
          50,
          40,
          36,
          50,
          66,
          75,
          40,
          40,
          46,
          46,
          46,
          68,
          46,
          62,
          62,
          62,
          62,
          62,
          64,
          64,
          64,
          64,
          64,
          64,
          64,
          64,
          64,
          64,
          64,
          64,
          64,
          64,
          64,
          64,
          74,
          74,
          74,
          74,
          74,
          85,
          74,
          74,
          74,
          74,
          74,
          74,
          74,
          64,
          64,
          69,
          69,
          69,
          32,
          32,
          32,
          32,
          32,
          32,
          24,
          24,
          24,
          24,
          24,
          24,
          24,
          24,
          30,
          30,
          30,
          30,
          30,
          30,
          27,
          16,
          16,
          16,
          27,
          27,
          27,
          27,
          27,
          20,
          20,
          10,
          10,
          10,
          10,
          10,
          10,
          10,
          10,
          10,
          10,
          10,
          10,
          10,
          10,
          10,
          5,
          5,
          5,
          25,
          25,
          null,
          null,
          null,
          null,
          null,
          null,
          null,
          null,
          null,
          null,
          null,
          null,
          null,
          null,
          null,
          null,
          null,
          null,
          null,
          null,
          null,
          null,
          null,
          null,
          null,
          null,
          null,
          null,
          null,
          null,
          null,
          null,
          null,
          null,
          null,
          null,
          null,
          null,
          null,
          null,
          null,
          null,
          null,
          null,
          null,
          null,
          null,
          null,
          null,
          null,
          null,
          null,
          null,
          null,
          null,
          null,
          null,
          null,
          null,
          null,
          null,
          null,
          null,
          null,
          null,
          null,
          null,
          null,
          null,
          null,
          null,
          null,
          null,
          null,
          null,
          null,
          null,
          null,
          null,
          null
         ],
         "y": [
          11092,
          11784,
          11637,
          11305,
          13307,
          12916,
          12386,
          13477,
          12291,
          11243,
          11154,
          11097,
          10171,
          11030,
          10690,
          11533,
          11478,
          11403,
          11482,
          10246,
          11169,
          9881,
          11033,
          7199.3,
          4779.77,
          5353.24,
          9029.81,
          10854.03,
          12397.98,
          4576.51,
          4964.56,
          6758.16,
          7165.3,
          7612.91,
          11872.38,
          6696.21,
          11161,
          10948,
          10899,
          10806,
          10792,
          11165,
          11061,
          11042,
          11028,
          11257,
          11127,
          11115,
          11242,
          10945.85,
          10911.3,
          10996.3,
          10885.371428571429,
          11067.2,
          10875.6,
          10825,
          10768.4,
          12434.6,
          12168.4,
          12215.9,
          12109,
          12168.6,
          12980.2,
          11647.2,
          11718.2,
          11773.4,
          11763,
          11838.2,
          11680.5,
          11519.4,
          11408,
          11547.1,
          12584.9,
          12397.7,
          10402.3,
          6425.5,
          6489,
          6545,
          6856,
          6802,
          6929,
          4183.2,
          4129.6,
          4132.4,
          4114.7,
          4483.6,
          4455.2,
          4425.9,
          4335.3,
          4508,
          4472.7,
          4504.7,
          4483.5,
          4773.4,
          5239.1,
          3825.4,
          2828.7,
          2610,
          2188.7,
          4726,
          4456,
          4178,
          4181,
          5097,
          5351,
          3922,
          3590,
          2962,
          3291,
          3286,
          3396,
          4327,
          4229,
          4277,
          4615,
          4590,
          4611,
          4613,
          4788.5,
          4741.7,
          4767.9,
          3272.1,
          3303.4,
          3180.8,
          3246.1,
          3557.6,
          2595,
          5285,
          5834.2,
          5539.2,
          3385,
          2996.2,
          2923.4,
          3908,
          3702,
          3687.4,
          4078.6,
          4271.6,
          3545.6,
          3856,
          3894.7,
          3773.7,
          3693.7,
          3933,
          3859.8,
          3898.7,
          3885.4,
          4005.2,
          3686.5,
          3807.3,
          3546.6,
          3635.5,
          3372.2,
          3609.5,
          3720.8,
          3743.2,
          3819.2,
          3861.4,
          4101.1,
          4231.8,
          3292.5,
          3406.7,
          3679.3,
          3533.4,
          3491.5,
          3126.7,
          3789.7,
          3062.2,
          3651.8,
          3540.3,
          3660.3,
          3658.9,
          3696.8,
          3579,
          3626.2,
          3628,
          3383.9,
          3075,
          3161.8,
          3296.7,
          3317.8,
          3382,
          3373,
          3362.5,
          3487,
          3041,
          3532.8,
          3325.5,
          3472,
          3662.9,
          3558,
          3747,
          3866,
          3855,
          3880,
          3815,
          3917,
          3943.8,
          3984,
          3961.7,
          3960,
          3966,
          3950,
          3984,
          3954,
          3957
         ]
        }
       ],
       "layout": {
        "template": {
         "data": {
          "bar": [
           {
            "error_x": {
             "color": "#2a3f5f"
            },
            "error_y": {
             "color": "#2a3f5f"
            },
            "marker": {
             "line": {
              "color": "#E5ECF6",
              "width": 0.5
             },
             "pattern": {
              "fillmode": "overlay",
              "size": 10,
              "solidity": 0.2
             }
            },
            "type": "bar"
           }
          ],
          "barpolar": [
           {
            "marker": {
             "line": {
              "color": "#E5ECF6",
              "width": 0.5
             },
             "pattern": {
              "fillmode": "overlay",
              "size": 10,
              "solidity": 0.2
             }
            },
            "type": "barpolar"
           }
          ],
          "carpet": [
           {
            "aaxis": {
             "endlinecolor": "#2a3f5f",
             "gridcolor": "white",
             "linecolor": "white",
             "minorgridcolor": "white",
             "startlinecolor": "#2a3f5f"
            },
            "baxis": {
             "endlinecolor": "#2a3f5f",
             "gridcolor": "white",
             "linecolor": "white",
             "minorgridcolor": "white",
             "startlinecolor": "#2a3f5f"
            },
            "type": "carpet"
           }
          ],
          "choropleth": [
           {
            "colorbar": {
             "outlinewidth": 0,
             "ticks": ""
            },
            "type": "choropleth"
           }
          ],
          "contour": [
           {
            "colorbar": {
             "outlinewidth": 0,
             "ticks": ""
            },
            "colorscale": [
             [
              0,
              "#0d0887"
             ],
             [
              0.1111111111111111,
              "#46039f"
             ],
             [
              0.2222222222222222,
              "#7201a8"
             ],
             [
              0.3333333333333333,
              "#9c179e"
             ],
             [
              0.4444444444444444,
              "#bd3786"
             ],
             [
              0.5555555555555556,
              "#d8576b"
             ],
             [
              0.6666666666666666,
              "#ed7953"
             ],
             [
              0.7777777777777778,
              "#fb9f3a"
             ],
             [
              0.8888888888888888,
              "#fdca26"
             ],
             [
              1,
              "#f0f921"
             ]
            ],
            "type": "contour"
           }
          ],
          "contourcarpet": [
           {
            "colorbar": {
             "outlinewidth": 0,
             "ticks": ""
            },
            "type": "contourcarpet"
           }
          ],
          "heatmap": [
           {
            "colorbar": {
             "outlinewidth": 0,
             "ticks": ""
            },
            "colorscale": [
             [
              0,
              "#0d0887"
             ],
             [
              0.1111111111111111,
              "#46039f"
             ],
             [
              0.2222222222222222,
              "#7201a8"
             ],
             [
              0.3333333333333333,
              "#9c179e"
             ],
             [
              0.4444444444444444,
              "#bd3786"
             ],
             [
              0.5555555555555556,
              "#d8576b"
             ],
             [
              0.6666666666666666,
              "#ed7953"
             ],
             [
              0.7777777777777778,
              "#fb9f3a"
             ],
             [
              0.8888888888888888,
              "#fdca26"
             ],
             [
              1,
              "#f0f921"
             ]
            ],
            "type": "heatmap"
           }
          ],
          "heatmapgl": [
           {
            "colorbar": {
             "outlinewidth": 0,
             "ticks": ""
            },
            "colorscale": [
             [
              0,
              "#0d0887"
             ],
             [
              0.1111111111111111,
              "#46039f"
             ],
             [
              0.2222222222222222,
              "#7201a8"
             ],
             [
              0.3333333333333333,
              "#9c179e"
             ],
             [
              0.4444444444444444,
              "#bd3786"
             ],
             [
              0.5555555555555556,
              "#d8576b"
             ],
             [
              0.6666666666666666,
              "#ed7953"
             ],
             [
              0.7777777777777778,
              "#fb9f3a"
             ],
             [
              0.8888888888888888,
              "#fdca26"
             ],
             [
              1,
              "#f0f921"
             ]
            ],
            "type": "heatmapgl"
           }
          ],
          "histogram": [
           {
            "marker": {
             "pattern": {
              "fillmode": "overlay",
              "size": 10,
              "solidity": 0.2
             }
            },
            "type": "histogram"
           }
          ],
          "histogram2d": [
           {
            "colorbar": {
             "outlinewidth": 0,
             "ticks": ""
            },
            "colorscale": [
             [
              0,
              "#0d0887"
             ],
             [
              0.1111111111111111,
              "#46039f"
             ],
             [
              0.2222222222222222,
              "#7201a8"
             ],
             [
              0.3333333333333333,
              "#9c179e"
             ],
             [
              0.4444444444444444,
              "#bd3786"
             ],
             [
              0.5555555555555556,
              "#d8576b"
             ],
             [
              0.6666666666666666,
              "#ed7953"
             ],
             [
              0.7777777777777778,
              "#fb9f3a"
             ],
             [
              0.8888888888888888,
              "#fdca26"
             ],
             [
              1,
              "#f0f921"
             ]
            ],
            "type": "histogram2d"
           }
          ],
          "histogram2dcontour": [
           {
            "colorbar": {
             "outlinewidth": 0,
             "ticks": ""
            },
            "colorscale": [
             [
              0,
              "#0d0887"
             ],
             [
              0.1111111111111111,
              "#46039f"
             ],
             [
              0.2222222222222222,
              "#7201a8"
             ],
             [
              0.3333333333333333,
              "#9c179e"
             ],
             [
              0.4444444444444444,
              "#bd3786"
             ],
             [
              0.5555555555555556,
              "#d8576b"
             ],
             [
              0.6666666666666666,
              "#ed7953"
             ],
             [
              0.7777777777777778,
              "#fb9f3a"
             ],
             [
              0.8888888888888888,
              "#fdca26"
             ],
             [
              1,
              "#f0f921"
             ]
            ],
            "type": "histogram2dcontour"
           }
          ],
          "mesh3d": [
           {
            "colorbar": {
             "outlinewidth": 0,
             "ticks": ""
            },
            "type": "mesh3d"
           }
          ],
          "parcoords": [
           {
            "line": {
             "colorbar": {
              "outlinewidth": 0,
              "ticks": ""
             }
            },
            "type": "parcoords"
           }
          ],
          "pie": [
           {
            "automargin": true,
            "type": "pie"
           }
          ],
          "scatter": [
           {
            "fillpattern": {
             "fillmode": "overlay",
             "size": 10,
             "solidity": 0.2
            },
            "type": "scatter"
           }
          ],
          "scatter3d": [
           {
            "line": {
             "colorbar": {
              "outlinewidth": 0,
              "ticks": ""
             }
            },
            "marker": {
             "colorbar": {
              "outlinewidth": 0,
              "ticks": ""
             }
            },
            "type": "scatter3d"
           }
          ],
          "scattercarpet": [
           {
            "marker": {
             "colorbar": {
              "outlinewidth": 0,
              "ticks": ""
             }
            },
            "type": "scattercarpet"
           }
          ],
          "scattergeo": [
           {
            "marker": {
             "colorbar": {
              "outlinewidth": 0,
              "ticks": ""
             }
            },
            "type": "scattergeo"
           }
          ],
          "scattergl": [
           {
            "marker": {
             "colorbar": {
              "outlinewidth": 0,
              "ticks": ""
             }
            },
            "type": "scattergl"
           }
          ],
          "scattermapbox": [
           {
            "marker": {
             "colorbar": {
              "outlinewidth": 0,
              "ticks": ""
             }
            },
            "type": "scattermapbox"
           }
          ],
          "scatterpolar": [
           {
            "marker": {
             "colorbar": {
              "outlinewidth": 0,
              "ticks": ""
             }
            },
            "type": "scatterpolar"
           }
          ],
          "scatterpolargl": [
           {
            "marker": {
             "colorbar": {
              "outlinewidth": 0,
              "ticks": ""
             }
            },
            "type": "scatterpolargl"
           }
          ],
          "scatterternary": [
           {
            "marker": {
             "colorbar": {
              "outlinewidth": 0,
              "ticks": ""
             }
            },
            "type": "scatterternary"
           }
          ],
          "surface": [
           {
            "colorbar": {
             "outlinewidth": 0,
             "ticks": ""
            },
            "colorscale": [
             [
              0,
              "#0d0887"
             ],
             [
              0.1111111111111111,
              "#46039f"
             ],
             [
              0.2222222222222222,
              "#7201a8"
             ],
             [
              0.3333333333333333,
              "#9c179e"
             ],
             [
              0.4444444444444444,
              "#bd3786"
             ],
             [
              0.5555555555555556,
              "#d8576b"
             ],
             [
              0.6666666666666666,
              "#ed7953"
             ],
             [
              0.7777777777777778,
              "#fb9f3a"
             ],
             [
              0.8888888888888888,
              "#fdca26"
             ],
             [
              1,
              "#f0f921"
             ]
            ],
            "type": "surface"
           }
          ],
          "table": [
           {
            "cells": {
             "fill": {
              "color": "#EBF0F8"
             },
             "line": {
              "color": "white"
             }
            },
            "header": {
             "fill": {
              "color": "#C8D4E3"
             },
             "line": {
              "color": "white"
             }
            },
            "type": "table"
           }
          ]
         },
         "layout": {
          "annotationdefaults": {
           "arrowcolor": "#2a3f5f",
           "arrowhead": 0,
           "arrowwidth": 1
          },
          "autotypenumbers": "strict",
          "coloraxis": {
           "colorbar": {
            "outlinewidth": 0,
            "ticks": ""
           }
          },
          "colorscale": {
           "diverging": [
            [
             0,
             "#8e0152"
            ],
            [
             0.1,
             "#c51b7d"
            ],
            [
             0.2,
             "#de77ae"
            ],
            [
             0.3,
             "#f1b6da"
            ],
            [
             0.4,
             "#fde0ef"
            ],
            [
             0.5,
             "#f7f7f7"
            ],
            [
             0.6,
             "#e6f5d0"
            ],
            [
             0.7,
             "#b8e186"
            ],
            [
             0.8,
             "#7fbc41"
            ],
            [
             0.9,
             "#4d9221"
            ],
            [
             1,
             "#276419"
            ]
           ],
           "sequential": [
            [
             0,
             "#0d0887"
            ],
            [
             0.1111111111111111,
             "#46039f"
            ],
            [
             0.2222222222222222,
             "#7201a8"
            ],
            [
             0.3333333333333333,
             "#9c179e"
            ],
            [
             0.4444444444444444,
             "#bd3786"
            ],
            [
             0.5555555555555556,
             "#d8576b"
            ],
            [
             0.6666666666666666,
             "#ed7953"
            ],
            [
             0.7777777777777778,
             "#fb9f3a"
            ],
            [
             0.8888888888888888,
             "#fdca26"
            ],
            [
             1,
             "#f0f921"
            ]
           ],
           "sequentialminus": [
            [
             0,
             "#0d0887"
            ],
            [
             0.1111111111111111,
             "#46039f"
            ],
            [
             0.2222222222222222,
             "#7201a8"
            ],
            [
             0.3333333333333333,
             "#9c179e"
            ],
            [
             0.4444444444444444,
             "#bd3786"
            ],
            [
             0.5555555555555556,
             "#d8576b"
            ],
            [
             0.6666666666666666,
             "#ed7953"
            ],
            [
             0.7777777777777778,
             "#fb9f3a"
            ],
            [
             0.8888888888888888,
             "#fdca26"
            ],
            [
             1,
             "#f0f921"
            ]
           ]
          },
          "colorway": [
           "#636efa",
           "#EF553B",
           "#00cc96",
           "#ab63fa",
           "#FFA15A",
           "#19d3f3",
           "#FF6692",
           "#B6E880",
           "#FF97FF",
           "#FECB52"
          ],
          "font": {
           "color": "#2a3f5f"
          },
          "geo": {
           "bgcolor": "white",
           "lakecolor": "white",
           "landcolor": "#E5ECF6",
           "showlakes": true,
           "showland": true,
           "subunitcolor": "white"
          },
          "hoverlabel": {
           "align": "left"
          },
          "hovermode": "closest",
          "mapbox": {
           "style": "light"
          },
          "paper_bgcolor": "white",
          "plot_bgcolor": "#E5ECF6",
          "polar": {
           "angularaxis": {
            "gridcolor": "white",
            "linecolor": "white",
            "ticks": ""
           },
           "bgcolor": "#E5ECF6",
           "radialaxis": {
            "gridcolor": "white",
            "linecolor": "white",
            "ticks": ""
           }
          },
          "scene": {
           "xaxis": {
            "backgroundcolor": "#E5ECF6",
            "gridcolor": "white",
            "gridwidth": 2,
            "linecolor": "white",
            "showbackground": true,
            "ticks": "",
            "zerolinecolor": "white"
           },
           "yaxis": {
            "backgroundcolor": "#E5ECF6",
            "gridcolor": "white",
            "gridwidth": 2,
            "linecolor": "white",
            "showbackground": true,
            "ticks": "",
            "zerolinecolor": "white"
           },
           "zaxis": {
            "backgroundcolor": "#E5ECF6",
            "gridcolor": "white",
            "gridwidth": 2,
            "linecolor": "white",
            "showbackground": true,
            "ticks": "",
            "zerolinecolor": "white"
           }
          },
          "shapedefaults": {
           "line": {
            "color": "#2a3f5f"
           }
          },
          "ternary": {
           "aaxis": {
            "gridcolor": "white",
            "linecolor": "white",
            "ticks": ""
           },
           "baxis": {
            "gridcolor": "white",
            "linecolor": "white",
            "ticks": ""
           },
           "bgcolor": "#E5ECF6",
           "caxis": {
            "gridcolor": "white",
            "linecolor": "white",
            "ticks": ""
           }
          },
          "title": {
           "x": 0.05
          },
          "xaxis": {
           "automargin": true,
           "gridcolor": "white",
           "linecolor": "white",
           "ticks": "",
           "title": {
            "standoff": 15
           },
           "zerolinecolor": "white",
           "zerolinewidth": 2
          },
          "yaxis": {
           "automargin": true,
           "gridcolor": "white",
           "linecolor": "white",
           "ticks": "",
           "title": {
            "standoff": 15
           },
           "zerolinecolor": "white",
           "zerolinewidth": 2
          }
         }
        },
        "title": {
         "text": "Scatter plot of Choke Size vs Oil Rate"
        },
        "xaxis": {
         "title": {
          "text": "Choke Size"
         }
        },
        "yaxis": {
         "title": {
          "text": "Oil Rate"
         }
        }
       }
      }
     },
     "metadata": {},
     "output_type": "display_data"
    }
   ],
   "source": [
    "# Create a scatter plot\n",
    "trace = go.Scatter(x=df_well2['Choke_well_2'], y=df_well2['Oil_Rate_well_2'], mode='markers')\n",
    "\n",
    "# Create layout\n",
    "layout = go.Layout(\n",
    "    title='Scatter plot of Choke Size vs Oil Rate',\n",
    "    xaxis=dict(title='Choke Size'),\n",
    "    yaxis=dict(title='Oil Rate'),\n",
    ")\n",
    "\n",
    "fig = go.Figure(data=[trace], layout=layout)\n",
    "\n",
    "fig.show()\n"
   ]
  },
  {
   "attachments": {},
   "cell_type": "markdown",
   "metadata": {},
   "source": [
    "### Well 3"
   ]
  },
  {
   "cell_type": "code",
   "execution_count": 451,
   "metadata": {},
   "outputs": [
    {
     "data": {
      "text/plain": [
       "(217, 13)"
      ]
     },
     "execution_count": 451,
     "metadata": {},
     "output_type": "execute_result"
    }
   ],
   "source": [
    "df_well3.shape"
   ]
  },
  {
   "cell_type": "code",
   "execution_count": 452,
   "metadata": {},
   "outputs": [
    {
     "data": {
      "text/plain": [
       "Ir. Calender          47\n",
       "Eng. Calender         39\n",
       "Choke(/64\")          109\n",
       "WHT (0C)              28\n",
       "WHP (psig)             0\n",
       "WHP (barg)            18\n",
       "Oil Rate (STBD)       18\n",
       "∆Q (STBD)              1\n",
       "Water Rate(sbwpd)     27\n",
       "BS&W                  22\n",
       "Gas Rate (mscfd)      23\n",
       "GOR                   18\n",
       "API                  217\n",
       "dtype: int64"
      ]
     },
     "execution_count": 452,
     "metadata": {},
     "output_type": "execute_result"
    }
   ],
   "source": [
    "df_well3.isnull().sum()"
   ]
  },
  {
   "cell_type": "code",
   "execution_count": 453,
   "metadata": {},
   "outputs": [],
   "source": [
    "## since API has null values more than 50% of data we can drop these columns\n",
    "df_well3 = df_well3.drop(['API' ], axis=1)"
   ]
  },
  {
   "cell_type": "code",
   "execution_count": 454,
   "metadata": {},
   "outputs": [],
   "source": [
    "#drop unnecessary colunms\n",
    "df_well3 = df_well3.drop(['Ir. Calender','WHP (barg)'], axis=1)"
   ]
  },
  {
   "cell_type": "code",
   "execution_count": 455,
   "metadata": {},
   "outputs": [
    {
     "data": {
      "text/html": [
       "<div>\n",
       "<style scoped>\n",
       "    .dataframe tbody tr th:only-of-type {\n",
       "        vertical-align: middle;\n",
       "    }\n",
       "\n",
       "    .dataframe tbody tr th {\n",
       "        vertical-align: top;\n",
       "    }\n",
       "\n",
       "    .dataframe thead th {\n",
       "        text-align: right;\n",
       "    }\n",
       "</style>\n",
       "<table border=\"1\" class=\"dataframe\">\n",
       "  <thead>\n",
       "    <tr style=\"text-align: right;\">\n",
       "      <th></th>\n",
       "      <th>Eng. Calender</th>\n",
       "      <th>Choke(/64\")</th>\n",
       "      <th>WHT (0C)</th>\n",
       "      <th>WHP (psig)</th>\n",
       "      <th>Oil Rate (STBD)</th>\n",
       "      <th>∆Q (STBD)</th>\n",
       "      <th>Water Rate(sbwpd)</th>\n",
       "      <th>BS&amp;W</th>\n",
       "      <th>Gas Rate (mscfd)</th>\n",
       "      <th>GOR</th>\n",
       "    </tr>\n",
       "  </thead>\n",
       "  <tbody>\n",
       "    <tr>\n",
       "      <th>0</th>\n",
       "      <td>1999-01-19</td>\n",
       "      <td>44.0</td>\n",
       "      <td>74.6</td>\n",
       "      <td>1541.35</td>\n",
       "      <td>7888.0</td>\n",
       "      <td>NaN</td>\n",
       "      <td>8.96</td>\n",
       "      <td>0.113967</td>\n",
       "      <td>5892.0</td>\n",
       "      <td>746.957404</td>\n",
       "    </tr>\n",
       "    <tr>\n",
       "      <th>1</th>\n",
       "      <td>1999-01-20</td>\n",
       "      <td>52.0</td>\n",
       "      <td>80.0</td>\n",
       "      <td>1442.75</td>\n",
       "      <td>8933.0</td>\n",
       "      <td>1045.0</td>\n",
       "      <td>0.00</td>\n",
       "      <td>0.000000</td>\n",
       "      <td>7174.2</td>\n",
       "      <td>803.112056</td>\n",
       "    </tr>\n",
       "    <tr>\n",
       "      <th>2</th>\n",
       "      <td>1999-01-21</td>\n",
       "      <td>52.0</td>\n",
       "      <td>80.0</td>\n",
       "      <td>1339.80</td>\n",
       "      <td>9558.0</td>\n",
       "      <td>625.0</td>\n",
       "      <td>0.00</td>\n",
       "      <td>0.000000</td>\n",
       "      <td>7778.4</td>\n",
       "      <td>813.810421</td>\n",
       "    </tr>\n",
       "    <tr>\n",
       "      <th>3</th>\n",
       "      <td>1999-01-22</td>\n",
       "      <td>52.0</td>\n",
       "      <td>80.0</td>\n",
       "      <td>1370.25</td>\n",
       "      <td>8896.0</td>\n",
       "      <td>-662.0</td>\n",
       "      <td>0.00</td>\n",
       "      <td>0.000000</td>\n",
       "      <td>7457.6</td>\n",
       "      <td>838.309353</td>\n",
       "    </tr>\n",
       "    <tr>\n",
       "      <th>4</th>\n",
       "      <td>1999-01-25</td>\n",
       "      <td>52.0</td>\n",
       "      <td>80.0</td>\n",
       "      <td>1377.50</td>\n",
       "      <td>8725.0</td>\n",
       "      <td>-171.0</td>\n",
       "      <td>0.00</td>\n",
       "      <td>0.000000</td>\n",
       "      <td>7348.8</td>\n",
       "      <td>842.269341</td>\n",
       "    </tr>\n",
       "    <tr>\n",
       "      <th>...</th>\n",
       "      <td>...</td>\n",
       "      <td>...</td>\n",
       "      <td>...</td>\n",
       "      <td>...</td>\n",
       "      <td>...</td>\n",
       "      <td>...</td>\n",
       "      <td>...</td>\n",
       "      <td>...</td>\n",
       "      <td>...</td>\n",
       "      <td>...</td>\n",
       "    </tr>\n",
       "    <tr>\n",
       "      <th>173</th>\n",
       "      <td>2005-12-09</td>\n",
       "      <td>NaN</td>\n",
       "      <td>84.3</td>\n",
       "      <td>1173.05</td>\n",
       "      <td>3095.0</td>\n",
       "      <td>4.0</td>\n",
       "      <td>422.00</td>\n",
       "      <td>12.000000</td>\n",
       "      <td>3757.0</td>\n",
       "      <td>1213.893376</td>\n",
       "    </tr>\n",
       "    <tr>\n",
       "      <th>174</th>\n",
       "      <td>2006-01-09</td>\n",
       "      <td>NaN</td>\n",
       "      <td>84.4</td>\n",
       "      <td>1168.70</td>\n",
       "      <td>3142.0</td>\n",
       "      <td>47.0</td>\n",
       "      <td>388.00</td>\n",
       "      <td>11.000000</td>\n",
       "      <td>3970.0</td>\n",
       "      <td>1178.600000</td>\n",
       "    </tr>\n",
       "    <tr>\n",
       "      <th>175</th>\n",
       "      <td>2006-02-06</td>\n",
       "      <td>NaN</td>\n",
       "      <td>84.2</td>\n",
       "      <td>1171.60</td>\n",
       "      <td>3156.0</td>\n",
       "      <td>14.0</td>\n",
       "      <td>390.00</td>\n",
       "      <td>11.000000</td>\n",
       "      <td>3896.5</td>\n",
       "      <td>1120.000000</td>\n",
       "    </tr>\n",
       "    <tr>\n",
       "      <th>176</th>\n",
       "      <td>2006-03-07</td>\n",
       "      <td>NaN</td>\n",
       "      <td>NaN</td>\n",
       "      <td>1170.15</td>\n",
       "      <td>3108.0</td>\n",
       "      <td>-48.0</td>\n",
       "      <td>464.50</td>\n",
       "      <td>13.000000</td>\n",
       "      <td>3676.0</td>\n",
       "      <td>1317.000000</td>\n",
       "    </tr>\n",
       "    <tr>\n",
       "      <th>177</th>\n",
       "      <td>2006-04-05</td>\n",
       "      <td>NaN</td>\n",
       "      <td>83.8</td>\n",
       "      <td>1178.85</td>\n",
       "      <td>3089.0</td>\n",
       "      <td>-19.0</td>\n",
       "      <td>461.60</td>\n",
       "      <td>13.000000</td>\n",
       "      <td>3818.0</td>\n",
       "      <td>1280.000000</td>\n",
       "    </tr>\n",
       "  </tbody>\n",
       "</table>\n",
       "<p>178 rows × 10 columns</p>\n",
       "</div>"
      ],
      "text/plain": [
       "    Eng. Calender  Choke(/64\")  WHT (0C)  WHP (psig)  Oil Rate (STBD)  \\\n",
       "0      1999-01-19         44.0      74.6     1541.35           7888.0   \n",
       "1      1999-01-20         52.0      80.0     1442.75           8933.0   \n",
       "2      1999-01-21         52.0      80.0     1339.80           9558.0   \n",
       "3      1999-01-22         52.0      80.0     1370.25           8896.0   \n",
       "4      1999-01-25         52.0      80.0     1377.50           8725.0   \n",
       "..            ...          ...       ...         ...              ...   \n",
       "173    2005-12-09          NaN      84.3     1173.05           3095.0   \n",
       "174    2006-01-09          NaN      84.4     1168.70           3142.0   \n",
       "175    2006-02-06          NaN      84.2     1171.60           3156.0   \n",
       "176    2006-03-07          NaN       NaN     1170.15           3108.0   \n",
       "177    2006-04-05          NaN      83.8     1178.85           3089.0   \n",
       "\n",
       "     ∆Q (STBD)  Water Rate(sbwpd)       BS&W  Gas Rate (mscfd)          GOR  \n",
       "0          NaN               8.96   0.113967            5892.0   746.957404  \n",
       "1       1045.0               0.00   0.000000            7174.2   803.112056  \n",
       "2        625.0               0.00   0.000000            7778.4   813.810421  \n",
       "3       -662.0               0.00   0.000000            7457.6   838.309353  \n",
       "4       -171.0               0.00   0.000000            7348.8   842.269341  \n",
       "..         ...                ...        ...               ...          ...  \n",
       "173        4.0             422.00  12.000000            3757.0  1213.893376  \n",
       "174       47.0             388.00  11.000000            3970.0  1178.600000  \n",
       "175       14.0             390.00  11.000000            3896.5  1120.000000  \n",
       "176      -48.0             464.50  13.000000            3676.0  1317.000000  \n",
       "177      -19.0             461.60  13.000000            3818.0  1280.000000  \n",
       "\n",
       "[178 rows x 10 columns]"
      ]
     },
     "execution_count": 455,
     "metadata": {},
     "output_type": "execute_result"
    }
   ],
   "source": [
    "#select the data until Eng. Calendar is not null\n",
    "df_well3 = df_well3[df_well3['Eng. Calender'].notnull()]\n",
    "df_well3"
   ]
  },
  {
   "cell_type": "code",
   "execution_count": 456,
   "metadata": {},
   "outputs": [
    {
     "data": {
      "text/plain": [
       "Eng. Calender         0\n",
       "Choke(/64\")          70\n",
       "WHT (0C)              9\n",
       "WHP (psig)            0\n",
       "Oil Rate (STBD)       0\n",
       "∆Q (STBD)             1\n",
       "Water Rate(sbwpd)     4\n",
       "BS&W                  4\n",
       "Gas Rate (mscfd)      0\n",
       "GOR                   0\n",
       "dtype: int64"
      ]
     },
     "execution_count": 456,
     "metadata": {},
     "output_type": "execute_result"
    }
   ],
   "source": [
    "df_well3.isnull().sum()"
   ]
  },
  {
   "cell_type": "code",
   "execution_count": 457,
   "metadata": {},
   "outputs": [
    {
     "data": {
      "application/vnd.plotly.v1+json": {
       "config": {
        "plotlyServerURL": "https://plot.ly"
       },
       "data": [
        {
         "name": "WHT (0C)",
         "nbinsx": 40,
         "type": "histogram",
         "x": [
          74.6,
          80,
          80,
          80,
          80,
          80,
          80,
          80,
          90.2,
          86.4,
          89.5,
          89.6,
          90.5,
          90.4,
          90.2,
          89.7,
          89.6,
          89.5,
          89.3,
          89.3,
          85.4,
          84.1,
          84.5,
          84.8,
          84.2,
          83.6,
          68.4,
          null,
          87.2,
          84.8,
          86,
          72,
          86.4,
          86,
          81.1,
          86.5,
          86.5,
          86.1,
          86.5,
          null,
          86.6,
          86.5,
          83.4,
          83.1,
          83.1,
          83.4,
          83.4,
          83.4,
          83.5,
          83.5,
          83.4,
          83.3,
          83.1,
          83.6,
          83.6,
          83.9,
          83.9,
          83.8,
          83.9,
          88.4,
          86.3,
          null,
          null,
          null,
          null,
          83.3,
          83.7,
          83.7,
          84.3,
          84.1,
          83.9,
          83.6,
          79.4,
          80.3,
          80.7,
          80.6,
          80.4,
          74.6,
          69.7,
          67.5,
          67.4,
          67.5,
          73.4,
          79.1,
          66.4,
          77.6,
          78.5,
          79.2,
          77.3,
          74.9,
          null,
          75,
          74,
          60.1,
          null,
          66.1,
          70.7,
          77.9,
          71.1,
          71.7,
          78.4,
          79.7,
          80.3,
          82.5,
          82.6,
          82.4,
          81.4,
          81.6,
          89,
          68.8,
          88.5,
          88.2,
          87.1,
          87.4,
          87.3,
          87.1,
          87.6,
          88.4,
          88.2,
          87.8,
          87.6,
          87.4,
          86.9,
          86.9,
          86.6,
          86.3,
          86.3,
          86.2,
          86.4,
          85.8,
          86,
          86.1,
          85.4,
          85.5,
          85.4,
          85.8,
          85.7,
          85.8,
          85.8,
          86.2,
          86.3,
          85.9,
          85.5,
          86.2,
          86.6,
          86.7,
          86.4,
          86.3,
          86.2,
          86.2,
          86.2,
          86.1,
          84.6,
          84.4,
          85.5,
          85.5,
          85.5,
          85.1,
          85.1,
          85.6,
          84.3,
          85.6,
          85.3,
          85.4,
          85.3,
          84.8,
          84.2,
          84.4,
          84.6,
          84.4,
          84.7,
          84.4,
          84.1,
          84.3,
          84.4,
          84.2,
          null,
          83.8
         ],
         "xaxis": "x",
         "yaxis": "y"
        },
        {
         "name": "∆Q (STBD)",
         "nbinsx": 40,
         "type": "histogram",
         "x": [
          null,
          1045,
          625,
          -662,
          -171,
          2504,
          188,
          -222,
          -416,
          -3644,
          1917,
          -154,
          2253,
          -294,
          -198,
          -534,
          -203,
          -300,
          -2,
          -214,
          -3647,
          -933,
          -119,
          510,
          -274.2399999999998,
          -542.6100000000006,
          2737.3200000000006,
          3150.0600000000004,
          -92.53000000000065,
          -4008.25,
          -126.35999999999967,
          -3818.09,
          3987.67,
          -382.65999999999985,
          -2039.7200000000003,
          2120.9700000000003,
          -27.550000000000182,
          -99.01000000000022,
          52.960000000000036,
          4.979999999999563,
          -18.579999999999927,
          -10.5,
          -1612.54,
          17.400000000000546,
          151.09999999999945,
          1.4700000000002547,
          -0.6300000000001091,
          84.94000000000051,
          -161.95000000000073,
          -26.56999999999971,
          -21.079999999999927,
          -45.899999999999636,
          -5.100000000000364,
          119.39999999999964,
          -15.899999999999636,
          -106.89999999999964,
          101.39999999999964,
          46.30000000000018,
          -11.600000000000364,
          2284.1000000000004,
          -46.400000000000546,
          -59.5,
          -36.899999999999636,
          -2575.4,
          35.40000000000009,
          186.19999999999982,
          -10.599999999999454,
          91.79999999999927,
          154.30000000000018,
          -51.099999999999454,
          -82.10000000000036,
          -113.80000000000018,
          -1089.2999999999997,
          186.79999999999973,
          81.30000000000018,
          -124.69999999999982,
          131.19999999999982,
          -379.5999999999999,
          -964.2,
          -310,
          -477.4000000000001,
          37.299999999999955,
          480.60000000000014,
          1104.2,
          -1725.1000000000001,
          1457.7,
          -51.40000000000009,
          152.9000000000001,
          -104,
          -336,
          2,
          20,
          74,
          -1405,
          2080,
          -1499,
          466,
          1094,
          -731,
          -381,
          1100,
          325,
          131.19999999999982,
          375.7000000000003,
          -26.09999999999991,
          -99.20000000000027,
          -269.0999999999999,
          1.5,
          3017.7,
          63.400000000000546,
          -291.2000000000007,
          -310.2999999999993,
          -247.30000000000018,
          -123.90000000000055,
          -434.6999999999998,
          198.80000000000018,
          389.6999999999998,
          610.6000000000004,
          -210.80000000000018,
          -290.10000000000036,
          -327.59999999999945,
          -64.30000000000018,
          -216,
          35.30000000000018,
          -151.30000000000018,
          -175.39999999999964,
          58.19999999999982,
          -234.5,
          131.69999999999982,
          -159.39999999999964,
          -57.600000000000364,
          53.600000000000364,
          -431.10000000000036,
          71,
          -13.899999999999636,
          57.69999999999982,
          158,
          -46.19999999999982,
          -28.700000000000728,
          -47.29999999999927,
          -245,
          70.89999999999964,
          87.80000000000018,
          46.599999999999454,
          227.80000000000018,
          61.80000000000018,
          -1018.1999999999998,
          705.3000000000002,
          -0.3000000000001819,
          95.39999999999964,
          -145.19999999999982,
          -46.30000000000018,
          -637.7999999999997,
          71.59999999999991,
          321.9000000000001,
          1.099999999999909,
          -75.80000000000018,
          -142,
          -30.199999999999818,
          116.5,
          -633.1999999999998,
          574.3999999999996,
          -650.1999999999998,
          476,
          -46,
          -358,
          -25,
          74,
          100.80000000000018,
          -58.100000000000364,
          99.30000000000018,
          -259,
          -104,
          4,
          47,
          14,
          -48,
          -19
         ],
         "xaxis": "x2",
         "yaxis": "y2"
        },
        {
         "name": "Water Rate(sbwpd)",
         "nbinsx": 40,
         "type": "histogram",
         "x": [
          8.96,
          0,
          0,
          0,
          0,
          0,
          0,
          0,
          0,
          0,
          0,
          0,
          0,
          0,
          0,
          0,
          0,
          0,
          0,
          0,
          0,
          0,
          0,
          0,
          0,
          0,
          0,
          0,
          0,
          0,
          0,
          0,
          0,
          0,
          0,
          0,
          0,
          0,
          0,
          0,
          0,
          0,
          2.11,
          0,
          0,
          0,
          0,
          0,
          0,
          0,
          0,
          0,
          0,
          0,
          0,
          0,
          0,
          0,
          0,
          0,
          0,
          null,
          null,
          null,
          null,
          0,
          0,
          0,
          0,
          0,
          0,
          0,
          0,
          0,
          0,
          0,
          0,
          0,
          0,
          0,
          0,
          0,
          0,
          0,
          0,
          0,
          0,
          0,
          0,
          0,
          0,
          0,
          0,
          0,
          0,
          0,
          0,
          0,
          0,
          0,
          0,
          0,
          0,
          0,
          0,
          0,
          17.3,
          25.2,
          65.3,
          129.2,
          23.5,
          8.9,
          5.7,
          8.3,
          7.7,
          13.3,
          14.3,
          0,
          1.2,
          2,
          2.7,
          3.8,
          11.8,
          4.1,
          2.5,
          2.5,
          2.5,
          11.9,
          2.4,
          2.4,
          2.3,
          2.4,
          2.1,
          21.9,
          41.6,
          42.2,
          41.4,
          59.4,
          49.8,
          99.7,
          68.1,
          95.8,
          125.2,
          135.9,
          133.1,
          154.8,
          113.4,
          182.1,
          158.5,
          22.4,
          275.8,
          272.9,
          273.7,
          279.1,
          280.2,
          280.3,
          297.7,
          287.1,
          329,
          339.1,
          284,
          334,
          278,
          342,
          337.5,
          322.7,
          360,
          368,
          379,
          252,
          260,
          355,
          421.5,
          422,
          388,
          390,
          464.5,
          461.6
         ],
         "xaxis": "x3",
         "yaxis": "y3"
        },
        {
         "name": "Gas Rate (mscfd)",
         "nbinsx": 40,
         "type": "histogram",
         "x": [
          5892,
          7174.2,
          7778.4,
          7457.6,
          7348.8,
          9611.2,
          9534.4,
          10518.4,
          10436.4,
          6903,
          9163.2,
          9167.4,
          11800,
          12024,
          12236,
          13008,
          13160,
          12712,
          12792,
          11540,
          6846,
          5288,
          4692,
          5928,
          5488,
          4411.8,
          8263.2,
          12504,
          14443.8,
          6552,
          7460,
          2664,
          7812,
          7320,
          5400.31,
          8600.87,
          8597.07,
          8504,
          8664.93,
          8690.28,
          8696.41,
          8707.06,
          6272.49,
          6284.94,
          6450.29,
          6474.57,
          6513.1,
          6645.06,
          6456.43,
          6499.7,
          6472.04,
          6460.4,
          6426,
          6656.2,
          6641.1,
          6693.6,
          6693.4,
          6920,
          6891.4,
          10919.5,
          10776.6,
          10800.3,
          10579.4,
          6232,
          6265.9,
          6557,
          6651.4,
          6779.1,
          7039.8,
          6936.4,
          6924.8,
          6890.8,
          5267.7,
          5740.6,
          6268.6,
          6271.3,
          6507,
          6404.2,
          3992.2,
          3302.8,
          3187.6,
          3212.1,
          4557.4,
          6789,
          2082.4,
          5904.1,
          6047.2,
          6074,
          5181,
          3942,
          3797,
          4041,
          3962,
          1439,
          5523,
          1778,
          2214,
          3549,
          2460,
          2391,
          3551,
          3865,
          3667.2,
          4720.4,
          4606.9,
          4434.8,
          3959.5,
          3458.8,
          7801.7,
          8967.5,
          9310.7,
          9403.4,
          8796.6,
          7906.1,
          8036.7,
          7870,
          8471.2,
          9772.9,
          10275,
          10740.8,
          10761.4,
          10602.7,
          11204.6,
          11084.1,
          10147.9,
          8889.5,
          8531.2,
          6229.6,
          6807.8,
          6530.9,
          6446,
          6464.8,
          5724.8,
          5799.9,
          5823.1,
          5884.8,
          5802.6,
          5612.1,
          5524.1,
          5460.3,
          5543.6,
          5652.1,
          6022.1,
          6688.4,
          7302,
          10089.5,
          7176.4,
          7049.2,
          7114.2,
          6963.2,
          6691.3,
          6223.2,
          5004.6,
          4950.9,
          5377.6,
          5377.6,
          5404.4,
          5088.3,
          4966.4,
          5058,
          4423.2,
          5039,
          4572,
          5146,
          5091,
          4891,
          4316,
          5710,
          4099,
          3891,
          3991,
          3760,
          3721.6,
          3757,
          3970,
          3896.5,
          3676,
          3818
         ],
         "xaxis": "x4",
         "yaxis": "y4"
        },
        {
         "name": "GOR",
         "nbinsx": 40,
         "type": "histogram",
         "x": [
          746.9574036511157,
          803.1120564200156,
          813.8104205900817,
          838.3093525179856,
          842.269340974212,
          855.926618576899,
          835.1055443636682,
          939.562304600268,
          968.2159755079321,
          967.4842326559215,
          1012.2845779938135,
          1030.2764666217126,
          1058.2010582010582,
          1107.4882564244267,
          1147.9500891265598,
          1284.7407407407406,
          1326.3454948599074,
          1321.1390563292455,
          1329.7297297297298,
          1226.8764618328726,
          1188.748046535857,
          1095.731454620804,
          996.8132568514977,
          1136.2852213916044,
          1110.3108384789064,
          1002.6476370123746,
          1157.7211532938143,
          1215.4521056074684,
          1416.7533104462973,
          1059.0374590859499,
          1230.9438831494342,
          1188.0658252686972,
          1253.9386224973796,
          1251.857691827524,
          1418.301340217828,
          1450.7519532567774,
          1456.881110182833,
          1465.701482247501,
          1479.929837266181,
          1482.9981194346701,
          1488.76460276374,
          1493.2720044727537,
          1486.9640046274346,
          1483.7949628398476,
          1470.379454821488,
          1475.4198104500842,
          1484.413104023557,
          1485.7264231096005,
          1497.7857167712527,
          1517.1752161490915,
          1518.1890687309406,
          1531.9532380071612,
          1525.6410256410256,
          1536.731772637023,
          1538.8946819603755,
          1590.4576343677231,
          1552.9930394431553,
          1588.5040056929045,
          1586.1624508021268,
          1647.2815592565773,
          1637.1840058337386,
          1655.7512762728236,
          1631.113166820845,
          1593.6173477215773,
          1587.911809427268,
          1586.806059726054,
          1613.790760869565,
          1608.938149712821,
          1611.7865237997116,
          1606.9128480748736,
          1635.3288463809185,
          1672.240153372,
          1737.7119482747246,
          1783.7921819650737,
          1899.8636156993484,
          1975.3370291041954,
          1968.2395644283122,
          2188.422635319847,
          2034.5530526959535,
          1999.0315942379857,
          2713.31290432414,
          2650.0288755053216,
          2692.3849471258936,
          2427.3302585004826,
          1942.8997947378243,
          2334.0976477564736,
          2440.25664823857,
          2308.6278981375904,
          2050.2572220023744,
          1799.1784573254222,
          1731.4181486548107,
          1826.02801626751,
          1732.4005247048535,
          1631.5192743764173,
          1864.6185010128293,
          1215.311004784689,
          1147.7449455676517,
          1173.9993384055574,
          1073.2984293193717,
          1251.177394034537,
          1179.3424111590834,
          1158.5731414868105,
          1057.683433317951,
          1228.343178328866,
          1207.0058687906098,
          1192.920163546374,
          1148.1803682760622,
          1002.5507246376811,
          1206.2557014085378,
          1373.04588813523,
          1492.1232712062695,
          1585.8405288720992,
          1548.0703236365555,
          1422.369746689695,
          1568.5344575209322,
          1478.6284640676374,
          1483.0012954728477,
          1545.6601505662047,
          1681.119109947644,
          1844.895996152459,
          1958.6480534371985,
          1952.6151012891344,
          2148.9451476793247,
          2111.538681347989,
          1990.5649274225186,
          1805.854629667249,
          1712.8172181175714,
          1312.5171185976444,
          1395.6129561295613,
          1384.0757851905225,
          1382.9650289637416,
          1371.2297968014252,
          1336.4771798762695,
          1331.9324836376163,
          1341.5426438741188,
          1337.9714889843804,
          1273.533349428264,
          1244.3404802554267,
          1232.6728254563307,
          1231.433661847951,
          1323.3391420591533,
          1326.7840375586854,
          1385.0913105478633,
          1522.0280356817768,
          1579.767210419281,
          2154.0350128095643,
          1957.6627202793386,
          1612.6833062615817,
          1627.6654159421616,
          1559.088262952846,
          1548.5535755612127,
          1455.821461155169,
          1376.0620308504494,
          1335.0141566671161,
          1334.259626836046,
          1333.8955723676052,
          1366.231008418232,
          1334.2161155832919,
          1312.6470199550681,
          1296.923076923077,
          1353.9855516101384,
          1311.8296365719048,
          1432.7796928862426,
          1403.3269702754294,
          1405.9652029826016,
          1498.927367453264,
          1332.9215565163681,
          1724.0338164251207,
          1201.0665729020159,
          1159.86526365994,
          1155.4719166184134,
          1176.8388106416276,
          1204.0116467162732,
          1213.8933764135702,
          1178.6,
          1120,
          1317,
          1280
         ],
         "xaxis": "x5",
         "yaxis": "y5"
        }
       ],
       "layout": {
        "annotations": [
         {
          "font": {
           "size": 16
          },
          "showarrow": false,
          "text": "WHT (0C)",
          "x": 0.08399999999999999,
          "xanchor": "center",
          "xref": "paper",
          "y": 1,
          "yanchor": "bottom",
          "yref": "paper"
         },
         {
          "font": {
           "size": 16
          },
          "showarrow": false,
          "text": "∆Q (STBD)",
          "x": 0.292,
          "xanchor": "center",
          "xref": "paper",
          "y": 1,
          "yanchor": "bottom",
          "yref": "paper"
         },
         {
          "font": {
           "size": 16
          },
          "showarrow": false,
          "text": "Water Rate(sbwpd)",
          "x": 0.5,
          "xanchor": "center",
          "xref": "paper",
          "y": 1,
          "yanchor": "bottom",
          "yref": "paper"
         },
         {
          "font": {
           "size": 16
          },
          "showarrow": false,
          "text": "Gas Rate (mscfd)",
          "x": 0.708,
          "xanchor": "center",
          "xref": "paper",
          "y": 1,
          "yanchor": "bottom",
          "yref": "paper"
         },
         {
          "font": {
           "size": 16
          },
          "showarrow": false,
          "text": "GOR",
          "x": 0.9159999999999999,
          "xanchor": "center",
          "xref": "paper",
          "y": 1,
          "yanchor": "bottom",
          "yref": "paper"
         }
        ],
        "height": 500,
        "template": {
         "data": {
          "bar": [
           {
            "error_x": {
             "color": "#2a3f5f"
            },
            "error_y": {
             "color": "#2a3f5f"
            },
            "marker": {
             "line": {
              "color": "#E5ECF6",
              "width": 0.5
             },
             "pattern": {
              "fillmode": "overlay",
              "size": 10,
              "solidity": 0.2
             }
            },
            "type": "bar"
           }
          ],
          "barpolar": [
           {
            "marker": {
             "line": {
              "color": "#E5ECF6",
              "width": 0.5
             },
             "pattern": {
              "fillmode": "overlay",
              "size": 10,
              "solidity": 0.2
             }
            },
            "type": "barpolar"
           }
          ],
          "carpet": [
           {
            "aaxis": {
             "endlinecolor": "#2a3f5f",
             "gridcolor": "white",
             "linecolor": "white",
             "minorgridcolor": "white",
             "startlinecolor": "#2a3f5f"
            },
            "baxis": {
             "endlinecolor": "#2a3f5f",
             "gridcolor": "white",
             "linecolor": "white",
             "minorgridcolor": "white",
             "startlinecolor": "#2a3f5f"
            },
            "type": "carpet"
           }
          ],
          "choropleth": [
           {
            "colorbar": {
             "outlinewidth": 0,
             "ticks": ""
            },
            "type": "choropleth"
           }
          ],
          "contour": [
           {
            "colorbar": {
             "outlinewidth": 0,
             "ticks": ""
            },
            "colorscale": [
             [
              0,
              "#0d0887"
             ],
             [
              0.1111111111111111,
              "#46039f"
             ],
             [
              0.2222222222222222,
              "#7201a8"
             ],
             [
              0.3333333333333333,
              "#9c179e"
             ],
             [
              0.4444444444444444,
              "#bd3786"
             ],
             [
              0.5555555555555556,
              "#d8576b"
             ],
             [
              0.6666666666666666,
              "#ed7953"
             ],
             [
              0.7777777777777778,
              "#fb9f3a"
             ],
             [
              0.8888888888888888,
              "#fdca26"
             ],
             [
              1,
              "#f0f921"
             ]
            ],
            "type": "contour"
           }
          ],
          "contourcarpet": [
           {
            "colorbar": {
             "outlinewidth": 0,
             "ticks": ""
            },
            "type": "contourcarpet"
           }
          ],
          "heatmap": [
           {
            "colorbar": {
             "outlinewidth": 0,
             "ticks": ""
            },
            "colorscale": [
             [
              0,
              "#0d0887"
             ],
             [
              0.1111111111111111,
              "#46039f"
             ],
             [
              0.2222222222222222,
              "#7201a8"
             ],
             [
              0.3333333333333333,
              "#9c179e"
             ],
             [
              0.4444444444444444,
              "#bd3786"
             ],
             [
              0.5555555555555556,
              "#d8576b"
             ],
             [
              0.6666666666666666,
              "#ed7953"
             ],
             [
              0.7777777777777778,
              "#fb9f3a"
             ],
             [
              0.8888888888888888,
              "#fdca26"
             ],
             [
              1,
              "#f0f921"
             ]
            ],
            "type": "heatmap"
           }
          ],
          "heatmapgl": [
           {
            "colorbar": {
             "outlinewidth": 0,
             "ticks": ""
            },
            "colorscale": [
             [
              0,
              "#0d0887"
             ],
             [
              0.1111111111111111,
              "#46039f"
             ],
             [
              0.2222222222222222,
              "#7201a8"
             ],
             [
              0.3333333333333333,
              "#9c179e"
             ],
             [
              0.4444444444444444,
              "#bd3786"
             ],
             [
              0.5555555555555556,
              "#d8576b"
             ],
             [
              0.6666666666666666,
              "#ed7953"
             ],
             [
              0.7777777777777778,
              "#fb9f3a"
             ],
             [
              0.8888888888888888,
              "#fdca26"
             ],
             [
              1,
              "#f0f921"
             ]
            ],
            "type": "heatmapgl"
           }
          ],
          "histogram": [
           {
            "marker": {
             "pattern": {
              "fillmode": "overlay",
              "size": 10,
              "solidity": 0.2
             }
            },
            "type": "histogram"
           }
          ],
          "histogram2d": [
           {
            "colorbar": {
             "outlinewidth": 0,
             "ticks": ""
            },
            "colorscale": [
             [
              0,
              "#0d0887"
             ],
             [
              0.1111111111111111,
              "#46039f"
             ],
             [
              0.2222222222222222,
              "#7201a8"
             ],
             [
              0.3333333333333333,
              "#9c179e"
             ],
             [
              0.4444444444444444,
              "#bd3786"
             ],
             [
              0.5555555555555556,
              "#d8576b"
             ],
             [
              0.6666666666666666,
              "#ed7953"
             ],
             [
              0.7777777777777778,
              "#fb9f3a"
             ],
             [
              0.8888888888888888,
              "#fdca26"
             ],
             [
              1,
              "#f0f921"
             ]
            ],
            "type": "histogram2d"
           }
          ],
          "histogram2dcontour": [
           {
            "colorbar": {
             "outlinewidth": 0,
             "ticks": ""
            },
            "colorscale": [
             [
              0,
              "#0d0887"
             ],
             [
              0.1111111111111111,
              "#46039f"
             ],
             [
              0.2222222222222222,
              "#7201a8"
             ],
             [
              0.3333333333333333,
              "#9c179e"
             ],
             [
              0.4444444444444444,
              "#bd3786"
             ],
             [
              0.5555555555555556,
              "#d8576b"
             ],
             [
              0.6666666666666666,
              "#ed7953"
             ],
             [
              0.7777777777777778,
              "#fb9f3a"
             ],
             [
              0.8888888888888888,
              "#fdca26"
             ],
             [
              1,
              "#f0f921"
             ]
            ],
            "type": "histogram2dcontour"
           }
          ],
          "mesh3d": [
           {
            "colorbar": {
             "outlinewidth": 0,
             "ticks": ""
            },
            "type": "mesh3d"
           }
          ],
          "parcoords": [
           {
            "line": {
             "colorbar": {
              "outlinewidth": 0,
              "ticks": ""
             }
            },
            "type": "parcoords"
           }
          ],
          "pie": [
           {
            "automargin": true,
            "type": "pie"
           }
          ],
          "scatter": [
           {
            "fillpattern": {
             "fillmode": "overlay",
             "size": 10,
             "solidity": 0.2
            },
            "type": "scatter"
           }
          ],
          "scatter3d": [
           {
            "line": {
             "colorbar": {
              "outlinewidth": 0,
              "ticks": ""
             }
            },
            "marker": {
             "colorbar": {
              "outlinewidth": 0,
              "ticks": ""
             }
            },
            "type": "scatter3d"
           }
          ],
          "scattercarpet": [
           {
            "marker": {
             "colorbar": {
              "outlinewidth": 0,
              "ticks": ""
             }
            },
            "type": "scattercarpet"
           }
          ],
          "scattergeo": [
           {
            "marker": {
             "colorbar": {
              "outlinewidth": 0,
              "ticks": ""
             }
            },
            "type": "scattergeo"
           }
          ],
          "scattergl": [
           {
            "marker": {
             "colorbar": {
              "outlinewidth": 0,
              "ticks": ""
             }
            },
            "type": "scattergl"
           }
          ],
          "scattermapbox": [
           {
            "marker": {
             "colorbar": {
              "outlinewidth": 0,
              "ticks": ""
             }
            },
            "type": "scattermapbox"
           }
          ],
          "scatterpolar": [
           {
            "marker": {
             "colorbar": {
              "outlinewidth": 0,
              "ticks": ""
             }
            },
            "type": "scatterpolar"
           }
          ],
          "scatterpolargl": [
           {
            "marker": {
             "colorbar": {
              "outlinewidth": 0,
              "ticks": ""
             }
            },
            "type": "scatterpolargl"
           }
          ],
          "scatterternary": [
           {
            "marker": {
             "colorbar": {
              "outlinewidth": 0,
              "ticks": ""
             }
            },
            "type": "scatterternary"
           }
          ],
          "surface": [
           {
            "colorbar": {
             "outlinewidth": 0,
             "ticks": ""
            },
            "colorscale": [
             [
              0,
              "#0d0887"
             ],
             [
              0.1111111111111111,
              "#46039f"
             ],
             [
              0.2222222222222222,
              "#7201a8"
             ],
             [
              0.3333333333333333,
              "#9c179e"
             ],
             [
              0.4444444444444444,
              "#bd3786"
             ],
             [
              0.5555555555555556,
              "#d8576b"
             ],
             [
              0.6666666666666666,
              "#ed7953"
             ],
             [
              0.7777777777777778,
              "#fb9f3a"
             ],
             [
              0.8888888888888888,
              "#fdca26"
             ],
             [
              1,
              "#f0f921"
             ]
            ],
            "type": "surface"
           }
          ],
          "table": [
           {
            "cells": {
             "fill": {
              "color": "#EBF0F8"
             },
             "line": {
              "color": "white"
             }
            },
            "header": {
             "fill": {
              "color": "#C8D4E3"
             },
             "line": {
              "color": "white"
             }
            },
            "type": "table"
           }
          ]
         },
         "layout": {
          "annotationdefaults": {
           "arrowcolor": "#2a3f5f",
           "arrowhead": 0,
           "arrowwidth": 1
          },
          "autotypenumbers": "strict",
          "coloraxis": {
           "colorbar": {
            "outlinewidth": 0,
            "ticks": ""
           }
          },
          "colorscale": {
           "diverging": [
            [
             0,
             "#8e0152"
            ],
            [
             0.1,
             "#c51b7d"
            ],
            [
             0.2,
             "#de77ae"
            ],
            [
             0.3,
             "#f1b6da"
            ],
            [
             0.4,
             "#fde0ef"
            ],
            [
             0.5,
             "#f7f7f7"
            ],
            [
             0.6,
             "#e6f5d0"
            ],
            [
             0.7,
             "#b8e186"
            ],
            [
             0.8,
             "#7fbc41"
            ],
            [
             0.9,
             "#4d9221"
            ],
            [
             1,
             "#276419"
            ]
           ],
           "sequential": [
            [
             0,
             "#0d0887"
            ],
            [
             0.1111111111111111,
             "#46039f"
            ],
            [
             0.2222222222222222,
             "#7201a8"
            ],
            [
             0.3333333333333333,
             "#9c179e"
            ],
            [
             0.4444444444444444,
             "#bd3786"
            ],
            [
             0.5555555555555556,
             "#d8576b"
            ],
            [
             0.6666666666666666,
             "#ed7953"
            ],
            [
             0.7777777777777778,
             "#fb9f3a"
            ],
            [
             0.8888888888888888,
             "#fdca26"
            ],
            [
             1,
             "#f0f921"
            ]
           ],
           "sequentialminus": [
            [
             0,
             "#0d0887"
            ],
            [
             0.1111111111111111,
             "#46039f"
            ],
            [
             0.2222222222222222,
             "#7201a8"
            ],
            [
             0.3333333333333333,
             "#9c179e"
            ],
            [
             0.4444444444444444,
             "#bd3786"
            ],
            [
             0.5555555555555556,
             "#d8576b"
            ],
            [
             0.6666666666666666,
             "#ed7953"
            ],
            [
             0.7777777777777778,
             "#fb9f3a"
            ],
            [
             0.8888888888888888,
             "#fdca26"
            ],
            [
             1,
             "#f0f921"
            ]
           ]
          },
          "colorway": [
           "#636efa",
           "#EF553B",
           "#00cc96",
           "#ab63fa",
           "#FFA15A",
           "#19d3f3",
           "#FF6692",
           "#B6E880",
           "#FF97FF",
           "#FECB52"
          ],
          "font": {
           "color": "#2a3f5f"
          },
          "geo": {
           "bgcolor": "white",
           "lakecolor": "white",
           "landcolor": "#E5ECF6",
           "showlakes": true,
           "showland": true,
           "subunitcolor": "white"
          },
          "hoverlabel": {
           "align": "left"
          },
          "hovermode": "closest",
          "mapbox": {
           "style": "light"
          },
          "paper_bgcolor": "white",
          "plot_bgcolor": "#E5ECF6",
          "polar": {
           "angularaxis": {
            "gridcolor": "white",
            "linecolor": "white",
            "ticks": ""
           },
           "bgcolor": "#E5ECF6",
           "radialaxis": {
            "gridcolor": "white",
            "linecolor": "white",
            "ticks": ""
           }
          },
          "scene": {
           "xaxis": {
            "backgroundcolor": "#E5ECF6",
            "gridcolor": "white",
            "gridwidth": 2,
            "linecolor": "white",
            "showbackground": true,
            "ticks": "",
            "zerolinecolor": "white"
           },
           "yaxis": {
            "backgroundcolor": "#E5ECF6",
            "gridcolor": "white",
            "gridwidth": 2,
            "linecolor": "white",
            "showbackground": true,
            "ticks": "",
            "zerolinecolor": "white"
           },
           "zaxis": {
            "backgroundcolor": "#E5ECF6",
            "gridcolor": "white",
            "gridwidth": 2,
            "linecolor": "white",
            "showbackground": true,
            "ticks": "",
            "zerolinecolor": "white"
           }
          },
          "shapedefaults": {
           "line": {
            "color": "#2a3f5f"
           }
          },
          "ternary": {
           "aaxis": {
            "gridcolor": "white",
            "linecolor": "white",
            "ticks": ""
           },
           "baxis": {
            "gridcolor": "white",
            "linecolor": "white",
            "ticks": ""
           },
           "bgcolor": "#E5ECF6",
           "caxis": {
            "gridcolor": "white",
            "linecolor": "white",
            "ticks": ""
           }
          },
          "title": {
           "x": 0.05
          },
          "xaxis": {
           "automargin": true,
           "gridcolor": "white",
           "linecolor": "white",
           "ticks": "",
           "title": {
            "standoff": 15
           },
           "zerolinecolor": "white",
           "zerolinewidth": 2
          },
          "yaxis": {
           "automargin": true,
           "gridcolor": "white",
           "linecolor": "white",
           "ticks": "",
           "title": {
            "standoff": 15
           },
           "zerolinecolor": "white",
           "zerolinewidth": 2
          }
         }
        },
        "title": {
         "text": "Distribution of Variables"
        },
        "width": 1000,
        "xaxis": {
         "anchor": "y",
         "domain": [
          0,
          0.16799999999999998
         ]
        },
        "xaxis2": {
         "anchor": "y2",
         "domain": [
          0.208,
          0.376
         ]
        },
        "xaxis3": {
         "anchor": "y3",
         "domain": [
          0.416,
          0.584
         ]
        },
        "xaxis4": {
         "anchor": "y4",
         "domain": [
          0.624,
          0.792
         ]
        },
        "xaxis5": {
         "anchor": "y5",
         "domain": [
          0.832,
          1
         ]
        },
        "yaxis": {
         "anchor": "x",
         "domain": [
          0,
          1
         ]
        },
        "yaxis2": {
         "anchor": "x2",
         "domain": [
          0,
          1
         ]
        },
        "yaxis3": {
         "anchor": "x3",
         "domain": [
          0,
          1
         ]
        },
        "yaxis4": {
         "anchor": "x4",
         "domain": [
          0,
          1
         ]
        },
        "yaxis5": {
         "anchor": "x5",
         "domain": [
          0,
          1
         ]
        }
       }
      }
     },
     "metadata": {},
     "output_type": "display_data"
    }
   ],
   "source": [
    "fig = sp.make_subplots(rows=1, cols=5, subplot_titles=('WHT (0C)', '∆Q (STBD)', 'Water Rate(sbwpd)', 'Gas Rate (mscfd)', 'GOR'))\n",
    "\n",
    "trace1 = go.Histogram(x=df_well3['WHT (0C)'], nbinsx=40, name='WHT (0C)')\n",
    "trace2 = go.Histogram(x=df_well3['∆Q (STBD)'], nbinsx=40, name='∆Q (STBD)')\n",
    "trace3 = go.Histogram(x=df_well3['Water Rate(sbwpd)'], nbinsx=40, name='Water Rate(sbwpd)')\n",
    "trace4 = go.Histogram(x=df_well3['Gas Rate (mscfd)'], nbinsx=40, name='Gas Rate (mscfd)')\n",
    "trace5 = go.Histogram(x=df_well3['GOR'], nbinsx=40, name='GOR')\n",
    "\n",
    "fig.add_trace(trace1, row=1, col=1)\n",
    "fig.add_trace(trace2, row=1, col=2)\n",
    "fig.add_trace(trace3, row=1, col=3)\n",
    "fig.add_trace(trace4, row=1, col=4)\n",
    "fig.add_trace(trace5, row=1, col=5)\n",
    "\n",
    "fig.update_layout(height=500, width=1000, title_text=\"Distribution of Variables\")\n",
    "fig.show()\n"
   ]
  },
  {
   "cell_type": "code",
   "execution_count": 458,
   "metadata": {},
   "outputs": [],
   "source": [
    "# fill up the null values with mean for WHT, delta Q  and median for Water Rate, BS&W\n",
    "df_well3['∆Q (STBD)'] = df_well3['∆Q (STBD)'].fillna(df_well3['∆Q (STBD)'].mean())\n",
    "df_well3['WHT (0C)'] = df_well3['WHT (0C)'].fillna(df_well3['WHT (0C)'].mean())\n",
    "df_well3['Water Rate(sbwpd)'] = df_well3['Water Rate(sbwpd)'].fillna(df_well3['Water Rate(sbwpd)'].median())\n",
    "df_well3['BS&W'] = df_well3['BS&W'].fillna(df_well3['BS&W'].median())"
   ]
  },
  {
   "cell_type": "code",
   "execution_count": 459,
   "metadata": {},
   "outputs": [
    {
     "data": {
      "text/plain": [
       "Eng. Calender         0\n",
       "Choke(/64\")          70\n",
       "WHT (0C)              0\n",
       "WHP (psig)            0\n",
       "Oil Rate (STBD)       0\n",
       "∆Q (STBD)             0\n",
       "Water Rate(sbwpd)     0\n",
       "BS&W                  0\n",
       "Gas Rate (mscfd)      0\n",
       "GOR                   0\n",
       "dtype: int64"
      ]
     },
     "execution_count": 459,
     "metadata": {},
     "output_type": "execute_result"
    }
   ],
   "source": [
    "df_well3.isnull().sum()"
   ]
  },
  {
   "cell_type": "code",
   "execution_count": 460,
   "metadata": {},
   "outputs": [
    {
     "data": {
      "text/html": [
       "<div>\n",
       "<style scoped>\n",
       "    .dataframe tbody tr th:only-of-type {\n",
       "        vertical-align: middle;\n",
       "    }\n",
       "\n",
       "    .dataframe tbody tr th {\n",
       "        vertical-align: top;\n",
       "    }\n",
       "\n",
       "    .dataframe thead th {\n",
       "        text-align: right;\n",
       "    }\n",
       "</style>\n",
       "<table border=\"1\" class=\"dataframe\">\n",
       "  <thead>\n",
       "    <tr style=\"text-align: right;\">\n",
       "      <th></th>\n",
       "      <th>Eng_Calender</th>\n",
       "      <th>Choke_well_3</th>\n",
       "      <th>WHT_well_3</th>\n",
       "      <th>WHP_well_3</th>\n",
       "      <th>Oil_Rate_well_3</th>\n",
       "      <th>delta_Q_well_3</th>\n",
       "      <th>Water_Rate_well_3</th>\n",
       "      <th>BS&amp;W_well_3</th>\n",
       "      <th>Gas_Rate_well_3</th>\n",
       "      <th>GOR_well_3</th>\n",
       "    </tr>\n",
       "  </thead>\n",
       "  <tbody>\n",
       "    <tr>\n",
       "      <th>0</th>\n",
       "      <td>1999-01-19</td>\n",
       "      <td>44.0</td>\n",
       "      <td>74.6</td>\n",
       "      <td>1541.35</td>\n",
       "      <td>7888.0</td>\n",
       "      <td>-27.112994</td>\n",
       "      <td>8.96</td>\n",
       "      <td>0.113967</td>\n",
       "      <td>5892.0</td>\n",
       "      <td>746.957404</td>\n",
       "    </tr>\n",
       "    <tr>\n",
       "      <th>1</th>\n",
       "      <td>1999-01-20</td>\n",
       "      <td>52.0</td>\n",
       "      <td>80.0</td>\n",
       "      <td>1442.75</td>\n",
       "      <td>8933.0</td>\n",
       "      <td>1045.000000</td>\n",
       "      <td>0.00</td>\n",
       "      <td>0.000000</td>\n",
       "      <td>7174.2</td>\n",
       "      <td>803.112056</td>\n",
       "    </tr>\n",
       "    <tr>\n",
       "      <th>2</th>\n",
       "      <td>1999-01-21</td>\n",
       "      <td>52.0</td>\n",
       "      <td>80.0</td>\n",
       "      <td>1339.80</td>\n",
       "      <td>9558.0</td>\n",
       "      <td>625.000000</td>\n",
       "      <td>0.00</td>\n",
       "      <td>0.000000</td>\n",
       "      <td>7778.4</td>\n",
       "      <td>813.810421</td>\n",
       "    </tr>\n",
       "    <tr>\n",
       "      <th>3</th>\n",
       "      <td>1999-01-22</td>\n",
       "      <td>52.0</td>\n",
       "      <td>80.0</td>\n",
       "      <td>1370.25</td>\n",
       "      <td>8896.0</td>\n",
       "      <td>-662.000000</td>\n",
       "      <td>0.00</td>\n",
       "      <td>0.000000</td>\n",
       "      <td>7457.6</td>\n",
       "      <td>838.309353</td>\n",
       "    </tr>\n",
       "    <tr>\n",
       "      <th>4</th>\n",
       "      <td>1999-01-25</td>\n",
       "      <td>52.0</td>\n",
       "      <td>80.0</td>\n",
       "      <td>1377.50</td>\n",
       "      <td>8725.0</td>\n",
       "      <td>-171.000000</td>\n",
       "      <td>0.00</td>\n",
       "      <td>0.000000</td>\n",
       "      <td>7348.8</td>\n",
       "      <td>842.269341</td>\n",
       "    </tr>\n",
       "  </tbody>\n",
       "</table>\n",
       "</div>"
      ],
      "text/plain": [
       "  Eng_Calender  Choke_well_3  WHT_well_3  WHP_well_3  Oil_Rate_well_3  \\\n",
       "0   1999-01-19          44.0        74.6     1541.35           7888.0   \n",
       "1   1999-01-20          52.0        80.0     1442.75           8933.0   \n",
       "2   1999-01-21          52.0        80.0     1339.80           9558.0   \n",
       "3   1999-01-22          52.0        80.0     1370.25           8896.0   \n",
       "4   1999-01-25          52.0        80.0     1377.50           8725.0   \n",
       "\n",
       "   delta_Q_well_3  Water_Rate_well_3  BS&W_well_3  Gas_Rate_well_3  GOR_well_3  \n",
       "0      -27.112994               8.96     0.113967           5892.0  746.957404  \n",
       "1     1045.000000               0.00     0.000000           7174.2  803.112056  \n",
       "2      625.000000               0.00     0.000000           7778.4  813.810421  \n",
       "3     -662.000000               0.00     0.000000           7457.6  838.309353  \n",
       "4     -171.000000               0.00     0.000000           7348.8  842.269341  "
      ]
     },
     "execution_count": 460,
     "metadata": {},
     "output_type": "execute_result"
    }
   ],
   "source": [
    "#rename all the columns to add _ in between the names and exclude the units\n",
    "df_well3 = df_well3.rename(columns={'Choke(/64\")':'Choke','Eng. Calender':'Eng_Calender', 'WHT (0C)':'WHT', 'WHP (psig)':'WHP', 'Oil Rate (STBD)':'Oil_Rate', '∆Q (STBD)':'delta_Q', 'Water Rate(sbwpd)':'Water_Rate', 'Gas Rate (mscfd)':'Gas_Rate'})\n",
    "# add 'well_1' at the end of each column name except Eng_Calender\n",
    "df_well3 = df_well3.add_suffix('_well_3')\n",
    "df_well3 = df_well3.rename(columns={'Eng_Calender_well_3':'Eng_Calender'})\n",
    "df_well3.head()"
   ]
  },
  {
   "cell_type": "code",
   "execution_count": 461,
   "metadata": {},
   "outputs": [
    {
     "data": {
      "application/vnd.plotly.v1+json": {
       "config": {
        "plotlyServerURL": "https://plot.ly"
       },
       "data": [
        {
         "mode": "markers",
         "type": "scatter",
         "x": [
          44,
          52,
          52,
          52,
          52,
          64,
          64,
          68,
          64,
          40,
          55,
          55,
          76,
          76,
          76,
          76,
          76,
          70,
          70,
          70,
          42,
          40,
          38,
          40,
          40,
          34,
          52,
          74,
          120,
          40,
          40,
          28,
          40,
          40,
          36,
          40,
          40,
          40,
          40,
          40,
          40,
          40,
          32,
          32,
          32,
          32,
          32,
          32,
          32,
          32,
          32,
          32,
          32,
          32,
          32,
          32,
          32,
          32,
          32,
          50,
          50,
          50,
          50,
          30,
          30,
          30,
          30,
          30,
          30,
          30,
          32,
          32,
          28,
          28,
          28,
          28,
          28,
          30,
          30,
          30,
          30,
          30,
          30,
          30,
          25,
          34,
          34,
          34,
          34,
          32,
          32,
          32,
          32,
          18,
          32,
          32,
          32,
          32,
          36,
          36,
          36,
          36,
          36,
          34,
          34,
          34,
          34,
          34,
          null,
          null,
          null,
          null,
          null,
          null,
          null,
          null,
          null,
          null,
          null,
          null,
          null,
          null,
          null,
          null,
          null,
          null,
          null,
          null,
          null,
          null,
          null,
          null,
          null,
          null,
          null,
          null,
          null,
          null,
          null,
          null,
          null,
          null,
          null,
          null,
          null,
          null,
          null,
          null,
          null,
          null,
          null,
          null,
          null,
          null,
          null,
          null,
          null,
          null,
          null,
          null,
          null,
          null,
          null,
          null,
          null,
          null,
          null,
          null,
          null,
          null,
          null,
          null,
          null,
          null,
          null,
          null,
          null,
          null
         ],
         "y": [
          7888,
          8933,
          9558,
          8896,
          8725,
          11229,
          11417,
          11195,
          10779,
          7135,
          9052,
          8898,
          11151,
          10857,
          10659,
          10125,
          9922,
          9622,
          9620,
          9406,
          5759,
          4826,
          4707,
          5217,
          4942.76,
          4400.15,
          7137.47,
          10287.53,
          10195,
          6186.75,
          6060.39,
          2242.3,
          6229.97,
          5847.31,
          3807.59,
          5928.56,
          5901.01,
          5802,
          5854.96,
          5859.94,
          5841.36,
          5830.86,
          4218.32,
          4235.72,
          4386.82,
          4388.29,
          4387.66,
          4472.6,
          4310.65,
          4284.08,
          4263,
          4217.1,
          4212,
          4331.4,
          4315.5,
          4208.6,
          4310,
          4356.3,
          4344.7,
          6628.8,
          6582.4,
          6522.9,
          6486,
          3910.6,
          3946,
          4132.2,
          4121.6,
          4213.4,
          4367.7,
          4316.6,
          4234.5,
          4120.7,
          3031.4,
          3218.2,
          3299.5,
          3174.8,
          3306,
          2926.4,
          1962.2,
          1652.2,
          1174.8,
          1212.1,
          1692.7,
          2796.9,
          1071.8,
          2529.5,
          2478.1,
          2631,
          2527,
          2191,
          2193,
          2213,
          2287,
          882,
          2962,
          1463,
          1929,
          3023,
          2292,
          1911,
          3011,
          3336,
          3467.2,
          3842.9,
          3816.8,
          3717.6,
          3448.5,
          3450,
          6467.7,
          6531.1,
          6239.9,
          5929.6,
          5682.3,
          5558.4,
          5123.7,
          5322.5,
          5712.2,
          6322.8,
          6112,
          5821.9,
          5494.3,
          5430,
          5214,
          5249.3,
          5098,
          4922.6,
          4980.8,
          4746.3,
          4878,
          4718.6,
          4661,
          4714.6,
          4283.5,
          4354.5,
          4340.6,
          4398.3,
          4556.3,
          4510.1,
          4481.4,
          4434.1,
          4189.1,
          4260,
          4347.8,
          4394.4,
          4622.2,
          4684,
          3665.8,
          4371.1,
          4370.8,
          4466.2,
          4321,
          4274.7,
          3636.9,
          3708.5,
          4030.4,
          4031.5,
          3955.7,
          3813.7,
          3783.5,
          3900,
          3266.8,
          3841.2,
          3191,
          3667,
          3621,
          3263,
          3238,
          3312,
          3412.8,
          3354.7,
          3454,
          3195,
          3091,
          3095,
          3142,
          3156,
          3108,
          3089
         ]
        }
       ],
       "layout": {
        "template": {
         "data": {
          "bar": [
           {
            "error_x": {
             "color": "#2a3f5f"
            },
            "error_y": {
             "color": "#2a3f5f"
            },
            "marker": {
             "line": {
              "color": "#E5ECF6",
              "width": 0.5
             },
             "pattern": {
              "fillmode": "overlay",
              "size": 10,
              "solidity": 0.2
             }
            },
            "type": "bar"
           }
          ],
          "barpolar": [
           {
            "marker": {
             "line": {
              "color": "#E5ECF6",
              "width": 0.5
             },
             "pattern": {
              "fillmode": "overlay",
              "size": 10,
              "solidity": 0.2
             }
            },
            "type": "barpolar"
           }
          ],
          "carpet": [
           {
            "aaxis": {
             "endlinecolor": "#2a3f5f",
             "gridcolor": "white",
             "linecolor": "white",
             "minorgridcolor": "white",
             "startlinecolor": "#2a3f5f"
            },
            "baxis": {
             "endlinecolor": "#2a3f5f",
             "gridcolor": "white",
             "linecolor": "white",
             "minorgridcolor": "white",
             "startlinecolor": "#2a3f5f"
            },
            "type": "carpet"
           }
          ],
          "choropleth": [
           {
            "colorbar": {
             "outlinewidth": 0,
             "ticks": ""
            },
            "type": "choropleth"
           }
          ],
          "contour": [
           {
            "colorbar": {
             "outlinewidth": 0,
             "ticks": ""
            },
            "colorscale": [
             [
              0,
              "#0d0887"
             ],
             [
              0.1111111111111111,
              "#46039f"
             ],
             [
              0.2222222222222222,
              "#7201a8"
             ],
             [
              0.3333333333333333,
              "#9c179e"
             ],
             [
              0.4444444444444444,
              "#bd3786"
             ],
             [
              0.5555555555555556,
              "#d8576b"
             ],
             [
              0.6666666666666666,
              "#ed7953"
             ],
             [
              0.7777777777777778,
              "#fb9f3a"
             ],
             [
              0.8888888888888888,
              "#fdca26"
             ],
             [
              1,
              "#f0f921"
             ]
            ],
            "type": "contour"
           }
          ],
          "contourcarpet": [
           {
            "colorbar": {
             "outlinewidth": 0,
             "ticks": ""
            },
            "type": "contourcarpet"
           }
          ],
          "heatmap": [
           {
            "colorbar": {
             "outlinewidth": 0,
             "ticks": ""
            },
            "colorscale": [
             [
              0,
              "#0d0887"
             ],
             [
              0.1111111111111111,
              "#46039f"
             ],
             [
              0.2222222222222222,
              "#7201a8"
             ],
             [
              0.3333333333333333,
              "#9c179e"
             ],
             [
              0.4444444444444444,
              "#bd3786"
             ],
             [
              0.5555555555555556,
              "#d8576b"
             ],
             [
              0.6666666666666666,
              "#ed7953"
             ],
             [
              0.7777777777777778,
              "#fb9f3a"
             ],
             [
              0.8888888888888888,
              "#fdca26"
             ],
             [
              1,
              "#f0f921"
             ]
            ],
            "type": "heatmap"
           }
          ],
          "heatmapgl": [
           {
            "colorbar": {
             "outlinewidth": 0,
             "ticks": ""
            },
            "colorscale": [
             [
              0,
              "#0d0887"
             ],
             [
              0.1111111111111111,
              "#46039f"
             ],
             [
              0.2222222222222222,
              "#7201a8"
             ],
             [
              0.3333333333333333,
              "#9c179e"
             ],
             [
              0.4444444444444444,
              "#bd3786"
             ],
             [
              0.5555555555555556,
              "#d8576b"
             ],
             [
              0.6666666666666666,
              "#ed7953"
             ],
             [
              0.7777777777777778,
              "#fb9f3a"
             ],
             [
              0.8888888888888888,
              "#fdca26"
             ],
             [
              1,
              "#f0f921"
             ]
            ],
            "type": "heatmapgl"
           }
          ],
          "histogram": [
           {
            "marker": {
             "pattern": {
              "fillmode": "overlay",
              "size": 10,
              "solidity": 0.2
             }
            },
            "type": "histogram"
           }
          ],
          "histogram2d": [
           {
            "colorbar": {
             "outlinewidth": 0,
             "ticks": ""
            },
            "colorscale": [
             [
              0,
              "#0d0887"
             ],
             [
              0.1111111111111111,
              "#46039f"
             ],
             [
              0.2222222222222222,
              "#7201a8"
             ],
             [
              0.3333333333333333,
              "#9c179e"
             ],
             [
              0.4444444444444444,
              "#bd3786"
             ],
             [
              0.5555555555555556,
              "#d8576b"
             ],
             [
              0.6666666666666666,
              "#ed7953"
             ],
             [
              0.7777777777777778,
              "#fb9f3a"
             ],
             [
              0.8888888888888888,
              "#fdca26"
             ],
             [
              1,
              "#f0f921"
             ]
            ],
            "type": "histogram2d"
           }
          ],
          "histogram2dcontour": [
           {
            "colorbar": {
             "outlinewidth": 0,
             "ticks": ""
            },
            "colorscale": [
             [
              0,
              "#0d0887"
             ],
             [
              0.1111111111111111,
              "#46039f"
             ],
             [
              0.2222222222222222,
              "#7201a8"
             ],
             [
              0.3333333333333333,
              "#9c179e"
             ],
             [
              0.4444444444444444,
              "#bd3786"
             ],
             [
              0.5555555555555556,
              "#d8576b"
             ],
             [
              0.6666666666666666,
              "#ed7953"
             ],
             [
              0.7777777777777778,
              "#fb9f3a"
             ],
             [
              0.8888888888888888,
              "#fdca26"
             ],
             [
              1,
              "#f0f921"
             ]
            ],
            "type": "histogram2dcontour"
           }
          ],
          "mesh3d": [
           {
            "colorbar": {
             "outlinewidth": 0,
             "ticks": ""
            },
            "type": "mesh3d"
           }
          ],
          "parcoords": [
           {
            "line": {
             "colorbar": {
              "outlinewidth": 0,
              "ticks": ""
             }
            },
            "type": "parcoords"
           }
          ],
          "pie": [
           {
            "automargin": true,
            "type": "pie"
           }
          ],
          "scatter": [
           {
            "fillpattern": {
             "fillmode": "overlay",
             "size": 10,
             "solidity": 0.2
            },
            "type": "scatter"
           }
          ],
          "scatter3d": [
           {
            "line": {
             "colorbar": {
              "outlinewidth": 0,
              "ticks": ""
             }
            },
            "marker": {
             "colorbar": {
              "outlinewidth": 0,
              "ticks": ""
             }
            },
            "type": "scatter3d"
           }
          ],
          "scattercarpet": [
           {
            "marker": {
             "colorbar": {
              "outlinewidth": 0,
              "ticks": ""
             }
            },
            "type": "scattercarpet"
           }
          ],
          "scattergeo": [
           {
            "marker": {
             "colorbar": {
              "outlinewidth": 0,
              "ticks": ""
             }
            },
            "type": "scattergeo"
           }
          ],
          "scattergl": [
           {
            "marker": {
             "colorbar": {
              "outlinewidth": 0,
              "ticks": ""
             }
            },
            "type": "scattergl"
           }
          ],
          "scattermapbox": [
           {
            "marker": {
             "colorbar": {
              "outlinewidth": 0,
              "ticks": ""
             }
            },
            "type": "scattermapbox"
           }
          ],
          "scatterpolar": [
           {
            "marker": {
             "colorbar": {
              "outlinewidth": 0,
              "ticks": ""
             }
            },
            "type": "scatterpolar"
           }
          ],
          "scatterpolargl": [
           {
            "marker": {
             "colorbar": {
              "outlinewidth": 0,
              "ticks": ""
             }
            },
            "type": "scatterpolargl"
           }
          ],
          "scatterternary": [
           {
            "marker": {
             "colorbar": {
              "outlinewidth": 0,
              "ticks": ""
             }
            },
            "type": "scatterternary"
           }
          ],
          "surface": [
           {
            "colorbar": {
             "outlinewidth": 0,
             "ticks": ""
            },
            "colorscale": [
             [
              0,
              "#0d0887"
             ],
             [
              0.1111111111111111,
              "#46039f"
             ],
             [
              0.2222222222222222,
              "#7201a8"
             ],
             [
              0.3333333333333333,
              "#9c179e"
             ],
             [
              0.4444444444444444,
              "#bd3786"
             ],
             [
              0.5555555555555556,
              "#d8576b"
             ],
             [
              0.6666666666666666,
              "#ed7953"
             ],
             [
              0.7777777777777778,
              "#fb9f3a"
             ],
             [
              0.8888888888888888,
              "#fdca26"
             ],
             [
              1,
              "#f0f921"
             ]
            ],
            "type": "surface"
           }
          ],
          "table": [
           {
            "cells": {
             "fill": {
              "color": "#EBF0F8"
             },
             "line": {
              "color": "white"
             }
            },
            "header": {
             "fill": {
              "color": "#C8D4E3"
             },
             "line": {
              "color": "white"
             }
            },
            "type": "table"
           }
          ]
         },
         "layout": {
          "annotationdefaults": {
           "arrowcolor": "#2a3f5f",
           "arrowhead": 0,
           "arrowwidth": 1
          },
          "autotypenumbers": "strict",
          "coloraxis": {
           "colorbar": {
            "outlinewidth": 0,
            "ticks": ""
           }
          },
          "colorscale": {
           "diverging": [
            [
             0,
             "#8e0152"
            ],
            [
             0.1,
             "#c51b7d"
            ],
            [
             0.2,
             "#de77ae"
            ],
            [
             0.3,
             "#f1b6da"
            ],
            [
             0.4,
             "#fde0ef"
            ],
            [
             0.5,
             "#f7f7f7"
            ],
            [
             0.6,
             "#e6f5d0"
            ],
            [
             0.7,
             "#b8e186"
            ],
            [
             0.8,
             "#7fbc41"
            ],
            [
             0.9,
             "#4d9221"
            ],
            [
             1,
             "#276419"
            ]
           ],
           "sequential": [
            [
             0,
             "#0d0887"
            ],
            [
             0.1111111111111111,
             "#46039f"
            ],
            [
             0.2222222222222222,
             "#7201a8"
            ],
            [
             0.3333333333333333,
             "#9c179e"
            ],
            [
             0.4444444444444444,
             "#bd3786"
            ],
            [
             0.5555555555555556,
             "#d8576b"
            ],
            [
             0.6666666666666666,
             "#ed7953"
            ],
            [
             0.7777777777777778,
             "#fb9f3a"
            ],
            [
             0.8888888888888888,
             "#fdca26"
            ],
            [
             1,
             "#f0f921"
            ]
           ],
           "sequentialminus": [
            [
             0,
             "#0d0887"
            ],
            [
             0.1111111111111111,
             "#46039f"
            ],
            [
             0.2222222222222222,
             "#7201a8"
            ],
            [
             0.3333333333333333,
             "#9c179e"
            ],
            [
             0.4444444444444444,
             "#bd3786"
            ],
            [
             0.5555555555555556,
             "#d8576b"
            ],
            [
             0.6666666666666666,
             "#ed7953"
            ],
            [
             0.7777777777777778,
             "#fb9f3a"
            ],
            [
             0.8888888888888888,
             "#fdca26"
            ],
            [
             1,
             "#f0f921"
            ]
           ]
          },
          "colorway": [
           "#636efa",
           "#EF553B",
           "#00cc96",
           "#ab63fa",
           "#FFA15A",
           "#19d3f3",
           "#FF6692",
           "#B6E880",
           "#FF97FF",
           "#FECB52"
          ],
          "font": {
           "color": "#2a3f5f"
          },
          "geo": {
           "bgcolor": "white",
           "lakecolor": "white",
           "landcolor": "#E5ECF6",
           "showlakes": true,
           "showland": true,
           "subunitcolor": "white"
          },
          "hoverlabel": {
           "align": "left"
          },
          "hovermode": "closest",
          "mapbox": {
           "style": "light"
          },
          "paper_bgcolor": "white",
          "plot_bgcolor": "#E5ECF6",
          "polar": {
           "angularaxis": {
            "gridcolor": "white",
            "linecolor": "white",
            "ticks": ""
           },
           "bgcolor": "#E5ECF6",
           "radialaxis": {
            "gridcolor": "white",
            "linecolor": "white",
            "ticks": ""
           }
          },
          "scene": {
           "xaxis": {
            "backgroundcolor": "#E5ECF6",
            "gridcolor": "white",
            "gridwidth": 2,
            "linecolor": "white",
            "showbackground": true,
            "ticks": "",
            "zerolinecolor": "white"
           },
           "yaxis": {
            "backgroundcolor": "#E5ECF6",
            "gridcolor": "white",
            "gridwidth": 2,
            "linecolor": "white",
            "showbackground": true,
            "ticks": "",
            "zerolinecolor": "white"
           },
           "zaxis": {
            "backgroundcolor": "#E5ECF6",
            "gridcolor": "white",
            "gridwidth": 2,
            "linecolor": "white",
            "showbackground": true,
            "ticks": "",
            "zerolinecolor": "white"
           }
          },
          "shapedefaults": {
           "line": {
            "color": "#2a3f5f"
           }
          },
          "ternary": {
           "aaxis": {
            "gridcolor": "white",
            "linecolor": "white",
            "ticks": ""
           },
           "baxis": {
            "gridcolor": "white",
            "linecolor": "white",
            "ticks": ""
           },
           "bgcolor": "#E5ECF6",
           "caxis": {
            "gridcolor": "white",
            "linecolor": "white",
            "ticks": ""
           }
          },
          "title": {
           "x": 0.05
          },
          "xaxis": {
           "automargin": true,
           "gridcolor": "white",
           "linecolor": "white",
           "ticks": "",
           "title": {
            "standoff": 15
           },
           "zerolinecolor": "white",
           "zerolinewidth": 2
          },
          "yaxis": {
           "automargin": true,
           "gridcolor": "white",
           "linecolor": "white",
           "ticks": "",
           "title": {
            "standoff": 15
           },
           "zerolinecolor": "white",
           "zerolinewidth": 2
          }
         }
        },
        "title": {
         "text": "Scatter plot of Choke Size vs Oil Rate"
        },
        "xaxis": {
         "title": {
          "text": "Choke Size"
         }
        },
        "yaxis": {
         "title": {
          "text": "Oil Rate"
         }
        }
       }
      }
     },
     "metadata": {},
     "output_type": "display_data"
    }
   ],
   "source": [
    "# Create a scatter plot\n",
    "trace = go.Scatter(x=df_well3['Choke_well_3'], y=df_well3['Oil_Rate_well_3'], mode='markers')\n",
    "\n",
    "# Create layout\n",
    "layout = go.Layout(\n",
    "    title='Scatter plot of Choke Size vs Oil Rate',\n",
    "    xaxis=dict(title='Choke Size'),\n",
    "    yaxis=dict(title='Oil Rate'),\n",
    ")\n",
    "\n",
    "fig = go.Figure(data=[trace], layout=layout)\n",
    "\n",
    "fig.show()\n"
   ]
  },
  {
   "cell_type": "code",
   "execution_count": 462,
   "metadata": {},
   "outputs": [
    {
     "name": "stdout",
     "output_type": "stream",
     "text": [
      "Oil_Rate_well_3      1.000000\n",
      "Choke_well_3         0.872398\n",
      "Gas_Rate_well_3      0.825669\n",
      "WHT_well_3           0.474539\n",
      "delta_Q_well_3       0.208847\n",
      "Water_Rate_well_3   -0.261633\n",
      "BS&W_well_3         -0.266641\n",
      "GOR_well_3          -0.472392\n",
      "WHP_well_3          -0.516923\n",
      "Name: Oil_Rate_well_3, dtype: float64\n"
     ]
    }
   ],
   "source": [
    "# Compute correlation matrix\n",
    "correlation_matrix = df_well3.corr()\n",
    "\n",
    "# Get correlations of 'target' with other variables\n",
    "correlations = correlation_matrix['Oil_Rate_well_3'].sort_values(ascending=False)\n",
    "\n",
    "# Print the correlations\n",
    "print(correlations)"
   ]
  },
  {
   "attachments": {},
   "cell_type": "markdown",
   "metadata": {},
   "source": [
    "### Well 4"
   ]
  },
  {
   "cell_type": "code",
   "execution_count": 463,
   "metadata": {},
   "outputs": [
    {
     "data": {
      "text/plain": [
       "(187, 13)"
      ]
     },
     "execution_count": 463,
     "metadata": {},
     "output_type": "execute_result"
    }
   ],
   "source": [
    "df_well4.shape"
   ]
  },
  {
   "cell_type": "code",
   "execution_count": 464,
   "metadata": {},
   "outputs": [
    {
     "data": {
      "text/plain": [
       "Ir. Calender          42\n",
       "Eng. Calender          9\n",
       "Choke(/64\")           99\n",
       "WHT (0C)              37\n",
       "WHP (psig)             0\n",
       "WHP (barg)            10\n",
       "Oil Rate (STBD)        9\n",
       "∆Q (STBD)              1\n",
       "Water Rate(sbwpd)     13\n",
       "BS&W                   9\n",
       "Gas Rate (mscfd)      13\n",
       "GOR                    9\n",
       "API                  187\n",
       "dtype: int64"
      ]
     },
     "execution_count": 464,
     "metadata": {},
     "output_type": "execute_result"
    }
   ],
   "source": [
    "df_well4.isnull().sum()"
   ]
  },
  {
   "cell_type": "code",
   "execution_count": 465,
   "metadata": {},
   "outputs": [],
   "source": [
    "## since API has null values more than 50% of data we can drop these columns\n",
    "df_well4 = df_well4.drop(['API' ], axis=1)"
   ]
  },
  {
   "cell_type": "code",
   "execution_count": 466,
   "metadata": {},
   "outputs": [],
   "source": [
    "#drop unnecessary colunms\n",
    "df_well4 = df_well4.drop(['Ir. Calender','WHP (barg)'], axis=1)"
   ]
  },
  {
   "cell_type": "code",
   "execution_count": 467,
   "metadata": {},
   "outputs": [
    {
     "data": {
      "text/html": [
       "<div>\n",
       "<style scoped>\n",
       "    .dataframe tbody tr th:only-of-type {\n",
       "        vertical-align: middle;\n",
       "    }\n",
       "\n",
       "    .dataframe tbody tr th {\n",
       "        vertical-align: top;\n",
       "    }\n",
       "\n",
       "    .dataframe thead th {\n",
       "        text-align: right;\n",
       "    }\n",
       "</style>\n",
       "<table border=\"1\" class=\"dataframe\">\n",
       "  <thead>\n",
       "    <tr style=\"text-align: right;\">\n",
       "      <th></th>\n",
       "      <th>Eng. Calender</th>\n",
       "      <th>Choke(/64\")</th>\n",
       "      <th>WHT (0C)</th>\n",
       "      <th>WHP (psig)</th>\n",
       "      <th>Oil Rate (STBD)</th>\n",
       "      <th>∆Q (STBD)</th>\n",
       "      <th>Water Rate(sbwpd)</th>\n",
       "      <th>BS&amp;W</th>\n",
       "      <th>Gas Rate (mscfd)</th>\n",
       "      <th>GOR</th>\n",
       "    </tr>\n",
       "  </thead>\n",
       "  <tbody>\n",
       "    <tr>\n",
       "      <th>0</th>\n",
       "      <td>1999-01-19</td>\n",
       "      <td>62.0</td>\n",
       "      <td>NaN</td>\n",
       "      <td>1286.15</td>\n",
       "      <td>10874.0</td>\n",
       "      <td>NaN</td>\n",
       "      <td>0.0</td>\n",
       "      <td>0.0</td>\n",
       "      <td>9600.0</td>\n",
       "      <td>882.839801</td>\n",
       "    </tr>\n",
       "    <tr>\n",
       "      <th>1</th>\n",
       "      <td>1999-01-20</td>\n",
       "      <td>62.0</td>\n",
       "      <td>80.0</td>\n",
       "      <td>1316.60</td>\n",
       "      <td>10280.0</td>\n",
       "      <td>-594.0</td>\n",
       "      <td>0.0</td>\n",
       "      <td>0.0</td>\n",
       "      <td>9200.0</td>\n",
       "      <td>894.941634</td>\n",
       "    </tr>\n",
       "    <tr>\n",
       "      <th>2</th>\n",
       "      <td>1999-01-21</td>\n",
       "      <td>62.0</td>\n",
       "      <td>80.0</td>\n",
       "      <td>1307.90</td>\n",
       "      <td>10243.0</td>\n",
       "      <td>-37.0</td>\n",
       "      <td>0.0</td>\n",
       "      <td>0.0</td>\n",
       "      <td>9200.0</td>\n",
       "      <td>898.174363</td>\n",
       "    </tr>\n",
       "    <tr>\n",
       "      <th>3</th>\n",
       "      <td>1999-01-22</td>\n",
       "      <td>62.0</td>\n",
       "      <td>80.0</td>\n",
       "      <td>1296.30</td>\n",
       "      <td>10209.0</td>\n",
       "      <td>-34.0</td>\n",
       "      <td>0.0</td>\n",
       "      <td>0.0</td>\n",
       "      <td>9120.0</td>\n",
       "      <td>893.329415</td>\n",
       "    </tr>\n",
       "    <tr>\n",
       "      <th>4</th>\n",
       "      <td>1999-01-25</td>\n",
       "      <td>50.0</td>\n",
       "      <td>NaN</td>\n",
       "      <td>1595.00</td>\n",
       "      <td>9524.0</td>\n",
       "      <td>-685.0</td>\n",
       "      <td>0.0</td>\n",
       "      <td>0.0</td>\n",
       "      <td>8119.2</td>\n",
       "      <td>852.498950</td>\n",
       "    </tr>\n",
       "    <tr>\n",
       "      <th>...</th>\n",
       "      <td>...</td>\n",
       "      <td>...</td>\n",
       "      <td>...</td>\n",
       "      <td>...</td>\n",
       "      <td>...</td>\n",
       "      <td>...</td>\n",
       "      <td>...</td>\n",
       "      <td>...</td>\n",
       "      <td>...</td>\n",
       "      <td>...</td>\n",
       "    </tr>\n",
       "    <tr>\n",
       "      <th>173</th>\n",
       "      <td>2005-12-09</td>\n",
       "      <td>NaN</td>\n",
       "      <td>84.0</td>\n",
       "      <td>1521.05</td>\n",
       "      <td>2974.0</td>\n",
       "      <td>24.0</td>\n",
       "      <td>609.0</td>\n",
       "      <td>17.0</td>\n",
       "      <td>6672.0</td>\n",
       "      <td>2243.443174</td>\n",
       "    </tr>\n",
       "    <tr>\n",
       "      <th>174</th>\n",
       "      <td>2006-01-09</td>\n",
       "      <td>NaN</td>\n",
       "      <td>84.0</td>\n",
       "      <td>1506.55</td>\n",
       "      <td>3131.0</td>\n",
       "      <td>157.0</td>\n",
       "      <td>641.0</td>\n",
       "      <td>17.0</td>\n",
       "      <td>7362.0</td>\n",
       "      <td>2351.325455</td>\n",
       "    </tr>\n",
       "    <tr>\n",
       "      <th>175</th>\n",
       "      <td>2006-02-06</td>\n",
       "      <td>NaN</td>\n",
       "      <td>85.0</td>\n",
       "      <td>1476.10</td>\n",
       "      <td>2934.0</td>\n",
       "      <td>-197.0</td>\n",
       "      <td>733.0</td>\n",
       "      <td>20.0</td>\n",
       "      <td>7293.0</td>\n",
       "      <td>2485.685072</td>\n",
       "    </tr>\n",
       "    <tr>\n",
       "      <th>176</th>\n",
       "      <td>2006-03-07</td>\n",
       "      <td>NaN</td>\n",
       "      <td>84.0</td>\n",
       "      <td>1458.70</td>\n",
       "      <td>3083.0</td>\n",
       "      <td>149.0</td>\n",
       "      <td>819.0</td>\n",
       "      <td>21.0</td>\n",
       "      <td>7081.0</td>\n",
       "      <td>2296.788842</td>\n",
       "    </tr>\n",
       "    <tr>\n",
       "      <th>177</th>\n",
       "      <td>2006-04-05</td>\n",
       "      <td>NaN</td>\n",
       "      <td>85.0</td>\n",
       "      <td>1438.40</td>\n",
       "      <td>3202.0</td>\n",
       "      <td>119.0</td>\n",
       "      <td>751.0</td>\n",
       "      <td>19.0</td>\n",
       "      <td>7988.0</td>\n",
       "      <td>2494.690818</td>\n",
       "    </tr>\n",
       "  </tbody>\n",
       "</table>\n",
       "<p>178 rows × 10 columns</p>\n",
       "</div>"
      ],
      "text/plain": [
       "    Eng. Calender  Choke(/64\")  WHT (0C)  WHP (psig)  Oil Rate (STBD)  \\\n",
       "0      1999-01-19         62.0       NaN     1286.15          10874.0   \n",
       "1      1999-01-20         62.0      80.0     1316.60          10280.0   \n",
       "2      1999-01-21         62.0      80.0     1307.90          10243.0   \n",
       "3      1999-01-22         62.0      80.0     1296.30          10209.0   \n",
       "4      1999-01-25         50.0       NaN     1595.00           9524.0   \n",
       "..            ...          ...       ...         ...              ...   \n",
       "173    2005-12-09          NaN      84.0     1521.05           2974.0   \n",
       "174    2006-01-09          NaN      84.0     1506.55           3131.0   \n",
       "175    2006-02-06          NaN      85.0     1476.10           2934.0   \n",
       "176    2006-03-07          NaN      84.0     1458.70           3083.0   \n",
       "177    2006-04-05          NaN      85.0     1438.40           3202.0   \n",
       "\n",
       "     ∆Q (STBD)  Water Rate(sbwpd)  BS&W  Gas Rate (mscfd)          GOR  \n",
       "0          NaN                0.0   0.0            9600.0   882.839801  \n",
       "1       -594.0                0.0   0.0            9200.0   894.941634  \n",
       "2        -37.0                0.0   0.0            9200.0   898.174363  \n",
       "3        -34.0                0.0   0.0            9120.0   893.329415  \n",
       "4       -685.0                0.0   0.0            8119.2   852.498950  \n",
       "..         ...                ...   ...               ...          ...  \n",
       "173       24.0              609.0  17.0            6672.0  2243.443174  \n",
       "174      157.0              641.0  17.0            7362.0  2351.325455  \n",
       "175     -197.0              733.0  20.0            7293.0  2485.685072  \n",
       "176      149.0              819.0  21.0            7081.0  2296.788842  \n",
       "177      119.0              751.0  19.0            7988.0  2494.690818  \n",
       "\n",
       "[178 rows x 10 columns]"
      ]
     },
     "execution_count": 467,
     "metadata": {},
     "output_type": "execute_result"
    }
   ],
   "source": [
    "#select the data until Eng. Calendar is not null\n",
    "df_well4 = df_well4[df_well4['Eng. Calender'].notnull()]\n",
    "df_well4"
   ]
  },
  {
   "cell_type": "code",
   "execution_count": 468,
   "metadata": {},
   "outputs": [
    {
     "data": {
      "text/plain": [
       "Eng. Calender         0\n",
       "Choke(/64\")          90\n",
       "WHT (0C)             28\n",
       "WHP (psig)            0\n",
       "Oil Rate (STBD)       0\n",
       "∆Q (STBD)             1\n",
       "Water Rate(sbwpd)     4\n",
       "BS&W                  0\n",
       "Gas Rate (mscfd)      4\n",
       "GOR                   0\n",
       "dtype: int64"
      ]
     },
     "execution_count": 468,
     "metadata": {},
     "output_type": "execute_result"
    }
   ],
   "source": [
    "df_well4.isnull().sum()"
   ]
  },
  {
   "cell_type": "code",
   "execution_count": 469,
   "metadata": {},
   "outputs": [
    {
     "data": {
      "application/vnd.plotly.v1+json": {
       "config": {
        "plotlyServerURL": "https://plot.ly"
       },
       "data": [
        {
         "name": "WHT (0C)",
         "nbinsx": 40,
         "type": "histogram",
         "x": [
          null,
          80,
          80,
          80,
          null,
          null,
          null,
          null,
          null,
          null,
          null,
          null,
          null,
          null,
          null,
          null,
          null,
          null,
          null,
          null,
          null,
          null,
          null,
          null,
          null,
          null,
          85.2,
          85.2,
          85.4,
          85.4,
          85.1,
          85.2,
          85,
          85.2,
          85.3,
          83.2,
          82.1,
          82.1,
          82.5,
          81.5,
          82.8,
          83.2,
          83.3,
          83.3,
          83.2,
          82.8,
          82.8,
          82.8,
          82.5,
          79.6,
          79.2,
          79,
          78.9,
          null,
          null,
          79.5,
          null,
          80,
          85.4,
          76.5,
          79.4,
          82,
          81.8,
          70.4,
          78.2,
          78.8,
          80.3,
          77.4,
          69.8,
          77.2,
          78.7,
          78.8,
          79.7,
          81,
          81,
          79.7,
          79.1,
          79.1,
          null,
          79.7,
          null,
          80,
          79.8,
          68.3,
          82.3,
          82.5,
          83,
          83.3,
          83.1,
          83,
          81.3,
          81.3,
          78.1,
          77.9,
          78.6,
          79.6,
          79.5,
          78.3,
          78.5,
          78.4,
          78.5,
          79.8,
          79.7,
          79.7,
          79.9,
          79.5,
          79.7,
          77.3,
          77,
          77,
          77.1,
          77.3,
          77.9,
          77.4,
          77.3,
          77,
          74,
          73.5,
          73.5,
          73.7,
          73.8,
          74,
          73.5,
          73.6,
          77.5,
          76,
          78.7,
          78.6,
          78.7,
          79.4,
          79,
          80,
          79.3,
          79.7,
          80,
          79.4,
          80.9,
          79.3,
          80.6,
          81.3,
          81.1,
          82.3,
          80.7,
          80.9,
          80.7,
          80.8,
          81.1,
          81,
          82.1,
          81.6,
          82,
          82.3,
          83.1,
          84,
          84.8,
          85,
          85,
          84.6,
          85.4,
          81.8,
          82.1,
          82.5,
          82.1,
          82.4,
          82,
          82,
          82,
          82,
          81,
          83,
          84,
          84,
          84,
          84,
          84,
          85,
          84,
          85
         ],
         "xaxis": "x",
         "yaxis": "y"
        },
        {
         "name": "∆Q (STBD)",
         "nbinsx": 40,
         "type": "histogram",
         "x": [
          null,
          -594,
          -37,
          -34,
          -685,
          932,
          -612,
          -1325,
          -118,
          865,
          1331,
          -1553,
          -24,
          -4147,
          103.52999999999975,
          -73.80000000000018,
          2869.9900000000007,
          1896.8900000000003,
          397.0799999999999,
          -5421.950000000001,
          1615.42,
          -491.1700000000001,
          -346.4899999999998,
          434.5799999999999,
          -219.32999999999993,
          -71.89000000000033,
          1069.0300000000007,
          -83.34000000000015,
          -69.32000000000062,
          -87.59999999999945,
          -148.47000000000025,
          64.35000000000036,
          -191.11000000000058,
          3.2000000000007276,
          -34.19000000000051,
          -1722.1999999999998,
          138.97999999999956,
          159.66000000000076,
          20.17999999999938,
          -11.329999999999927,
          103.93000000000029,
          23.970000000000255,
          -17.600000000000364,
          -57.19999999999982,
          -8.400000000000546,
          -179,
          15.400000000000546,
          -22.800000000000182,
          162.39999999999964,
          -1103.3999999999996,
          -292.5,
          175.19999999999982,
          41.30000000000018,
          0,
          38,
          81.30000000000018,
          113.69999999999982,
          67.40000000000009,
          3068.6,
          -624,
          20,
          89.89999999999964,
          -312.6999999999998,
          -2422.2999999999997,
          990.9999999999995,
          202.5,
          120.20000000000073,
          -1210.0000000000005,
          -1208.1,
          908.9000000000001,
          -10.700000000000273,
          -59.69999999999982,
          512.3000000000002,
          249.69999999999982,
          9,
          -368,
          -100,
          63,
          98,
          -52,
          -14,
          -45,
          21,
          -2062,
          2247.7,
          -32.09999999999991,
          -86.90000000000009,
          -46.5,
          55.5,
          -204.19999999999982,
          -602.1999999999998,
          8.199999999999818,
          -650.8000000000002,
          24.700000000000273,
          254.79999999999973,
          224.30000000000018,
          -188,
          -337.3000000000002,
          -23.899999999999636,
          50.69999999999982,
          272.4000000000001,
          -59.70000000000027,
          -24.09999999999991,
          41.5,
          -57.79999999999973,
          -26.800000000000182,
          -93.80000000000018,
          -301,
          -0.7999999999997272,
          0.40000000000009095,
          -66.70000000000027,
          24.800000000000182,
          96.29999999999973,
          -50,
          9.600000000000364,
          -64.10000000000036,
          -244.0999999999999,
          -42,
          -10.399999999999864,
          79.70000000000005,
          -126.40000000000009,
          -34.59999999999991,
          -353.4000000000001,
          33.700000000000045,
          775.3,
          -269,
          450.1999999999998,
          -54.29999999999973,
          12.299999999999727,
          -1.099999999999909,
          -69.5,
          111.5,
          6.599999999999909,
          -55.69999999999982,
          -98.59999999999991,
          84.19999999999982,
          427.8000000000002,
          -358.7000000000003,
          -28.399999999999636,
          220.69999999999982,
          34.40000000000009,
          180.5999999999999,
          -241,
          -29,
          83,
          -27,
          116.5,
          17.5,
          130.5,
          -220.5,
          -9,
          28,
          259,
          302,
          134.9000000000001,
          86.09999999999991,
          78.90000000000009,
          33.09999999999991,
          343,
          -1239,
          -14,
          32,
          62,
          11,
          26,
          2,
          -131,
          42,
          -175,
          262,
          212,
          17,
          11,
          24,
          157,
          -197,
          149,
          119
         ],
         "xaxis": "x2",
         "yaxis": "y2"
        },
        {
         "name": "Water Rate(sbwpd)",
         "nbinsx": 40,
         "type": "histogram",
         "x": [
          0,
          0,
          0,
          0,
          0,
          0,
          0,
          0,
          0,
          0,
          0,
          0,
          0,
          0,
          0,
          0,
          0,
          0,
          0,
          0,
          0,
          0,
          0,
          0,
          0,
          0,
          0,
          0,
          0,
          0,
          0,
          0,
          0,
          0,
          6.09,
          0,
          0,
          0,
          0,
          0,
          0,
          0,
          0,
          0,
          0,
          0,
          2.6,
          0,
          0,
          0,
          0,
          0,
          0,
          0,
          17.9,
          0,
          0,
          0,
          0,
          32,
          0,
          0,
          0,
          0,
          0,
          0,
          0,
          0,
          0,
          70.2,
          17.2,
          0,
          0,
          63,
          21,
          0,
          0,
          0,
          19,
          0,
          0,
          0,
          0,
          103.2,
          100.7,
          79.5,
          97.7,
          151.6,
          153.4,
          272.6,
          248.8,
          248.4,
          195,
          237.8,
          124.8,
          135.4,
          181.2,
          193.1,
          230.7,
          210.9,
          119,
          165.2,
          163.6,
          58.6,
          155.8,
          148.4,
          206.1,
          178.2,
          159.9,
          160,
          154.9,
          156.8,
          151.5,
          155.4,
          156.1,
          175.6,
          137.8,
          155.6,
          144.2,
          183.8,
          171.3,
          167.9,
          166.1,
          170.3,
          213,
          209.3,
          259.4,
          239.3,
          240.6,
          342.3,
          332,
          318.1,
          319.1,
          341.3,
          326.6,
          369.5,
          403.1,
          349.5,
          376.1,
          412,
          383.3,
          410.1,
          341.6,
          370,
          382,
          378,
          396,
          434,
          455,
          419,
          453,
          494,
          504,
          557,
          581,
          643,
          708,
          664.56,
          676,
          531,
          528,
          535,
          472,
          474,
          null,
          null,
          null,
          null,
          612,
          677,
          730,
          735,
          604,
          609,
          641,
          733,
          819,
          751
         ],
         "xaxis": "x3",
         "yaxis": "y3"
        },
        {
         "name": "Gas Rate (mscfd)",
         "nbinsx": 40,
         "type": "histogram",
         "x": [
          9600,
          9200,
          9200,
          9120,
          8119.2,
          8932.8,
          8956,
          8752,
          8820,
          9774,
          10884,
          9450,
          9528,
          3272,
          5016,
          5322,
          8482.8,
          10552.8,
          15180,
          5055,
          6774,
          6308,
          6023.6,
          6576,
          6520,
          5976,
          9042.45,
          9092.37,
          9223.83,
          9399.86,
          9381.81,
          9579.79,
          9552.46,
          9692.21,
          9802.46,
          7453.31,
          7540.32,
          7902.88,
          7875.1,
          7881.68,
          8177.42,
          8432,
          8399.6,
          8549,
          8590.9,
          8443.6,
          8494,
          8512.2,
          9048,
          7208.8,
          6767,
          6683.4,
          6811.6,
          6833,
          7177,
          7196.8,
          7513,
          7610.5,
          14904,
          6619,
          7067,
          8330.9,
          9067.1,
          5006.4,
          7979.7,
          8201.1,
          10313.2,
          8202.1,
          5893.8,
          7996.7,
          6877.3,
          8620,
          10026.1,
          9770,
          9946,
          8899,
          8448,
          8981,
          9023,
          9359,
          9748,
          9870,
          9739,
          4405,
          9958.8,
          11017.6,
          11193.7,
          11272.9,
          11347.1,
          10949.2,
          9136.9,
          9101.1,
          7044.3,
          7010.9,
          7189.1,
          7909.9,
          7911,
          6835.9,
          6850.8,
          6828.9,
          7282.1,
          7150.9,
          6927.6,
          6854.9,
          6982.9,
          6980.1,
          7072,
          6048.5,
          5664.7,
          5590.8,
          5393,
          5549.7,
          5722.9,
          5732.6,
          4894.5,
          5599.6,
          4687.3,
          4569.8,
          4506.7,
          4459.7,
          4404.6,
          4384.4,
          4052.1,
          4050.2,
          5479.7,
          5071.5,
          6627.9,
          6553.7,
          8709.7,
          6093.4,
          5838.5,
          6169.8,
          6298.6,
          5888.3,
          5960,
          5789.4,
          6786.5,
          5977.2,
          6713.5,
          6670,
          6626.2,
          7445,
          6528.9,
          6550,
          6970,
          6763,
          7059,
          7200,
          8102,
          6968,
          6955,
          7165,
          7720,
          8490,
          9383,
          9935,
          10410.8,
          10203.5,
          11321,
          7160,
          7044,
          6499,
          6404,
          6724,
          null,
          null,
          null,
          null,
          6432,
          6548,
          6874,
          7411,
          6603,
          6672,
          7362,
          7293,
          7081,
          7988
         ],
         "xaxis": "x4",
         "yaxis": "y4"
        },
        {
         "name": "GOR",
         "nbinsx": 40,
         "type": "histogram",
         "x": [
          882.8398013610447,
          894.9416342412451,
          898.1743629795958,
          893.3294152218631,
          852.4989500209996,
          854.3228768171385,
          909.7927671678179,
          1027.350628007982,
          1049.875014879181,
          1054.8240880638896,
          1027.0831367368123,
          1044.891640866873,
          1056.3192904656319,
          671.4549558793351,
          1007.931229189817,
          1085.5176605687036,
          1091.3554071161705,
          1091.3366723166705,
          1507.9435246342143,
          1088.3278719583873,
          1082.0809691765066,
          1093.4322992412883,
          1110.8529276164131,
          1122.7437562744576,
          1156.48973437985,
          1073.6885225284143,
          1362.8635892983907,
          1387.8196762598163,
          1422.940870657166,
          1469.96151458333,
          1502.0124364409494,
          1518.0690625638815,
          1561.0125175670819,
          1583.0219187926698,
          1610.0196931546989,
          1707.0434083564464,
          1673.6963368914521,
          1694.1337877959634,
          1680.9070592931103,
          1686.3897982326637,
          1711.6059636263167,
          1756.0813062312561,
          1755.7692307692307,
          1808.6231700093085,
          1820.7231264835539,
          1860.0696127241488,
          1864.8458768771404,
          1878.243601059135,
          1927.4028629856853,
          2007.4631021999444,
          2051.5385781415794,
          1924.0003454529754,
          1937.8662873399714,
          1943.954480796586,
          2019.9831128623698,
          1980.2437883498885,
          2004.5357524012807,
          1994.6794569376736,
          2165.0203370133645,
          1057.3482428115017,
          1125.3184713375797,
          1307.8541264384057,
          1496.9127649739153,
          1377.314369033536,
          1725.0048639183728,
          1698.512964957336,
          2084.064179768015,
          2193.8961108436315,
          2329.1049199762892,
          2325.0276210967027,
          2005.8039490185786,
          2558.622736717127,
          2583.180892999768,
          2365.044783345437,
          2402.415458937198,
          2359.2258748674444,
          2300.653594771242,
          2404.5515394912986,
          2354.030785285677,
          2475.2710923036234,
          2587.735598619591,
          2651.800107469103,
          2601.923590702645,
          2620.464009518144,
          2534.884312877033,
          2827.490632859416,
          2938.210357770953,
          2995.5622874149662,
          2971.4562547463797,
          3029.243325494536,
          3033.197224712014,
          3013.1104121834132,
          2972.65476642613,
          2928.0404276645504,
          2713.687150837989,
          2752.7057595267097,
          2945.820145224353,
          2911.1234136785624,
          2947.4680548982487,
          2875.3263157894735,
          2750.661025912216,
          2763.4192526181555,
          2702.293649555313,
          2631.3385282714676,
          2741.2947041966,
          2769.3314818488393,
          2914.2456834384147,
          2845.415627793198,
          2665.866629017836,
          2630.5933280007525,
          2619.7415719420965,
          2663.7707593357013,
          2625.5447997430842,
          2691.740620744706,
          2287.897910531482,
          2698.34232845027,
          2559.8274261372944,
          2554.2451511933377,
          2533.704390847248,
          2399.7524752475247,
          2543.0715935334874,
          2583.0093083539527,
          3014.9553571428573,
          2939.8272483124047,
          2545.1463074779376,
          2691.87898089172,
          2839.4739096906865,
          2874.5559015746303,
          3799.7120670098598,
          2659.5958273318493,
          2628.0608570399713,
          2644.4644464446446,
          2692.054536906441,
          2578.0647985989494,
          2727.1895305207286,
          2550.845964046528,
          2515.941276785052,
          2555.778851498696,
          2905.899666709951,
          2635.3220071118135,
          2582.9110470102128,
          2711.2163146394755,
          2606.3473053892217,
          2645.395799676898,
          2723.7202032043765,
          2671.0110584518166,
          2665.282235227487,
          2700.675168792198,
          2897.1929197210798,
          2704.968944099379,
          2709.3883911180365,
          2761.078998073218,
          2704.975473020322,
          2690.114068441065,
          2851.195721535142,
          2941.960319810483,
          3012.471425677826,
          2924.4769274863856,
          2954.331941544885,
          2761.2803702275355,
          2731.2911981388133,
          2489.0846418996553,
          2395.809951365507,
          2505.21609538003,
          2296,
          2416,
          2499.9,
          2412,
          2627.450980392157,
          2416.2361623616234,
          2352.4982888432583,
          2521.605988431439,
          2238.3050847457625,
          2243.4431741761937,
          2351.325455126158,
          2485.6850715746423,
          2296.788842036977,
          2494.690818238601
         ],
         "xaxis": "x5",
         "yaxis": "y5"
        }
       ],
       "layout": {
        "annotations": [
         {
          "font": {
           "size": 16
          },
          "showarrow": false,
          "text": "WHT (0C)",
          "x": 0.08399999999999999,
          "xanchor": "center",
          "xref": "paper",
          "y": 1,
          "yanchor": "bottom",
          "yref": "paper"
         },
         {
          "font": {
           "size": 16
          },
          "showarrow": false,
          "text": "∆Q (STBD)",
          "x": 0.292,
          "xanchor": "center",
          "xref": "paper",
          "y": 1,
          "yanchor": "bottom",
          "yref": "paper"
         },
         {
          "font": {
           "size": 16
          },
          "showarrow": false,
          "text": "Water Rate(sbwpd)",
          "x": 0.5,
          "xanchor": "center",
          "xref": "paper",
          "y": 1,
          "yanchor": "bottom",
          "yref": "paper"
         },
         {
          "font": {
           "size": 16
          },
          "showarrow": false,
          "text": "Gas Rate (mscfd)",
          "x": 0.708,
          "xanchor": "center",
          "xref": "paper",
          "y": 1,
          "yanchor": "bottom",
          "yref": "paper"
         },
         {
          "font": {
           "size": 16
          },
          "showarrow": false,
          "text": "GOR",
          "x": 0.9159999999999999,
          "xanchor": "center",
          "xref": "paper",
          "y": 1,
          "yanchor": "bottom",
          "yref": "paper"
         }
        ],
        "height": 500,
        "template": {
         "data": {
          "bar": [
           {
            "error_x": {
             "color": "#2a3f5f"
            },
            "error_y": {
             "color": "#2a3f5f"
            },
            "marker": {
             "line": {
              "color": "#E5ECF6",
              "width": 0.5
             },
             "pattern": {
              "fillmode": "overlay",
              "size": 10,
              "solidity": 0.2
             }
            },
            "type": "bar"
           }
          ],
          "barpolar": [
           {
            "marker": {
             "line": {
              "color": "#E5ECF6",
              "width": 0.5
             },
             "pattern": {
              "fillmode": "overlay",
              "size": 10,
              "solidity": 0.2
             }
            },
            "type": "barpolar"
           }
          ],
          "carpet": [
           {
            "aaxis": {
             "endlinecolor": "#2a3f5f",
             "gridcolor": "white",
             "linecolor": "white",
             "minorgridcolor": "white",
             "startlinecolor": "#2a3f5f"
            },
            "baxis": {
             "endlinecolor": "#2a3f5f",
             "gridcolor": "white",
             "linecolor": "white",
             "minorgridcolor": "white",
             "startlinecolor": "#2a3f5f"
            },
            "type": "carpet"
           }
          ],
          "choropleth": [
           {
            "colorbar": {
             "outlinewidth": 0,
             "ticks": ""
            },
            "type": "choropleth"
           }
          ],
          "contour": [
           {
            "colorbar": {
             "outlinewidth": 0,
             "ticks": ""
            },
            "colorscale": [
             [
              0,
              "#0d0887"
             ],
             [
              0.1111111111111111,
              "#46039f"
             ],
             [
              0.2222222222222222,
              "#7201a8"
             ],
             [
              0.3333333333333333,
              "#9c179e"
             ],
             [
              0.4444444444444444,
              "#bd3786"
             ],
             [
              0.5555555555555556,
              "#d8576b"
             ],
             [
              0.6666666666666666,
              "#ed7953"
             ],
             [
              0.7777777777777778,
              "#fb9f3a"
             ],
             [
              0.8888888888888888,
              "#fdca26"
             ],
             [
              1,
              "#f0f921"
             ]
            ],
            "type": "contour"
           }
          ],
          "contourcarpet": [
           {
            "colorbar": {
             "outlinewidth": 0,
             "ticks": ""
            },
            "type": "contourcarpet"
           }
          ],
          "heatmap": [
           {
            "colorbar": {
             "outlinewidth": 0,
             "ticks": ""
            },
            "colorscale": [
             [
              0,
              "#0d0887"
             ],
             [
              0.1111111111111111,
              "#46039f"
             ],
             [
              0.2222222222222222,
              "#7201a8"
             ],
             [
              0.3333333333333333,
              "#9c179e"
             ],
             [
              0.4444444444444444,
              "#bd3786"
             ],
             [
              0.5555555555555556,
              "#d8576b"
             ],
             [
              0.6666666666666666,
              "#ed7953"
             ],
             [
              0.7777777777777778,
              "#fb9f3a"
             ],
             [
              0.8888888888888888,
              "#fdca26"
             ],
             [
              1,
              "#f0f921"
             ]
            ],
            "type": "heatmap"
           }
          ],
          "heatmapgl": [
           {
            "colorbar": {
             "outlinewidth": 0,
             "ticks": ""
            },
            "colorscale": [
             [
              0,
              "#0d0887"
             ],
             [
              0.1111111111111111,
              "#46039f"
             ],
             [
              0.2222222222222222,
              "#7201a8"
             ],
             [
              0.3333333333333333,
              "#9c179e"
             ],
             [
              0.4444444444444444,
              "#bd3786"
             ],
             [
              0.5555555555555556,
              "#d8576b"
             ],
             [
              0.6666666666666666,
              "#ed7953"
             ],
             [
              0.7777777777777778,
              "#fb9f3a"
             ],
             [
              0.8888888888888888,
              "#fdca26"
             ],
             [
              1,
              "#f0f921"
             ]
            ],
            "type": "heatmapgl"
           }
          ],
          "histogram": [
           {
            "marker": {
             "pattern": {
              "fillmode": "overlay",
              "size": 10,
              "solidity": 0.2
             }
            },
            "type": "histogram"
           }
          ],
          "histogram2d": [
           {
            "colorbar": {
             "outlinewidth": 0,
             "ticks": ""
            },
            "colorscale": [
             [
              0,
              "#0d0887"
             ],
             [
              0.1111111111111111,
              "#46039f"
             ],
             [
              0.2222222222222222,
              "#7201a8"
             ],
             [
              0.3333333333333333,
              "#9c179e"
             ],
             [
              0.4444444444444444,
              "#bd3786"
             ],
             [
              0.5555555555555556,
              "#d8576b"
             ],
             [
              0.6666666666666666,
              "#ed7953"
             ],
             [
              0.7777777777777778,
              "#fb9f3a"
             ],
             [
              0.8888888888888888,
              "#fdca26"
             ],
             [
              1,
              "#f0f921"
             ]
            ],
            "type": "histogram2d"
           }
          ],
          "histogram2dcontour": [
           {
            "colorbar": {
             "outlinewidth": 0,
             "ticks": ""
            },
            "colorscale": [
             [
              0,
              "#0d0887"
             ],
             [
              0.1111111111111111,
              "#46039f"
             ],
             [
              0.2222222222222222,
              "#7201a8"
             ],
             [
              0.3333333333333333,
              "#9c179e"
             ],
             [
              0.4444444444444444,
              "#bd3786"
             ],
             [
              0.5555555555555556,
              "#d8576b"
             ],
             [
              0.6666666666666666,
              "#ed7953"
             ],
             [
              0.7777777777777778,
              "#fb9f3a"
             ],
             [
              0.8888888888888888,
              "#fdca26"
             ],
             [
              1,
              "#f0f921"
             ]
            ],
            "type": "histogram2dcontour"
           }
          ],
          "mesh3d": [
           {
            "colorbar": {
             "outlinewidth": 0,
             "ticks": ""
            },
            "type": "mesh3d"
           }
          ],
          "parcoords": [
           {
            "line": {
             "colorbar": {
              "outlinewidth": 0,
              "ticks": ""
             }
            },
            "type": "parcoords"
           }
          ],
          "pie": [
           {
            "automargin": true,
            "type": "pie"
           }
          ],
          "scatter": [
           {
            "fillpattern": {
             "fillmode": "overlay",
             "size": 10,
             "solidity": 0.2
            },
            "type": "scatter"
           }
          ],
          "scatter3d": [
           {
            "line": {
             "colorbar": {
              "outlinewidth": 0,
              "ticks": ""
             }
            },
            "marker": {
             "colorbar": {
              "outlinewidth": 0,
              "ticks": ""
             }
            },
            "type": "scatter3d"
           }
          ],
          "scattercarpet": [
           {
            "marker": {
             "colorbar": {
              "outlinewidth": 0,
              "ticks": ""
             }
            },
            "type": "scattercarpet"
           }
          ],
          "scattergeo": [
           {
            "marker": {
             "colorbar": {
              "outlinewidth": 0,
              "ticks": ""
             }
            },
            "type": "scattergeo"
           }
          ],
          "scattergl": [
           {
            "marker": {
             "colorbar": {
              "outlinewidth": 0,
              "ticks": ""
             }
            },
            "type": "scattergl"
           }
          ],
          "scattermapbox": [
           {
            "marker": {
             "colorbar": {
              "outlinewidth": 0,
              "ticks": ""
             }
            },
            "type": "scattermapbox"
           }
          ],
          "scatterpolar": [
           {
            "marker": {
             "colorbar": {
              "outlinewidth": 0,
              "ticks": ""
             }
            },
            "type": "scatterpolar"
           }
          ],
          "scatterpolargl": [
           {
            "marker": {
             "colorbar": {
              "outlinewidth": 0,
              "ticks": ""
             }
            },
            "type": "scatterpolargl"
           }
          ],
          "scatterternary": [
           {
            "marker": {
             "colorbar": {
              "outlinewidth": 0,
              "ticks": ""
             }
            },
            "type": "scatterternary"
           }
          ],
          "surface": [
           {
            "colorbar": {
             "outlinewidth": 0,
             "ticks": ""
            },
            "colorscale": [
             [
              0,
              "#0d0887"
             ],
             [
              0.1111111111111111,
              "#46039f"
             ],
             [
              0.2222222222222222,
              "#7201a8"
             ],
             [
              0.3333333333333333,
              "#9c179e"
             ],
             [
              0.4444444444444444,
              "#bd3786"
             ],
             [
              0.5555555555555556,
              "#d8576b"
             ],
             [
              0.6666666666666666,
              "#ed7953"
             ],
             [
              0.7777777777777778,
              "#fb9f3a"
             ],
             [
              0.8888888888888888,
              "#fdca26"
             ],
             [
              1,
              "#f0f921"
             ]
            ],
            "type": "surface"
           }
          ],
          "table": [
           {
            "cells": {
             "fill": {
              "color": "#EBF0F8"
             },
             "line": {
              "color": "white"
             }
            },
            "header": {
             "fill": {
              "color": "#C8D4E3"
             },
             "line": {
              "color": "white"
             }
            },
            "type": "table"
           }
          ]
         },
         "layout": {
          "annotationdefaults": {
           "arrowcolor": "#2a3f5f",
           "arrowhead": 0,
           "arrowwidth": 1
          },
          "autotypenumbers": "strict",
          "coloraxis": {
           "colorbar": {
            "outlinewidth": 0,
            "ticks": ""
           }
          },
          "colorscale": {
           "diverging": [
            [
             0,
             "#8e0152"
            ],
            [
             0.1,
             "#c51b7d"
            ],
            [
             0.2,
             "#de77ae"
            ],
            [
             0.3,
             "#f1b6da"
            ],
            [
             0.4,
             "#fde0ef"
            ],
            [
             0.5,
             "#f7f7f7"
            ],
            [
             0.6,
             "#e6f5d0"
            ],
            [
             0.7,
             "#b8e186"
            ],
            [
             0.8,
             "#7fbc41"
            ],
            [
             0.9,
             "#4d9221"
            ],
            [
             1,
             "#276419"
            ]
           ],
           "sequential": [
            [
             0,
             "#0d0887"
            ],
            [
             0.1111111111111111,
             "#46039f"
            ],
            [
             0.2222222222222222,
             "#7201a8"
            ],
            [
             0.3333333333333333,
             "#9c179e"
            ],
            [
             0.4444444444444444,
             "#bd3786"
            ],
            [
             0.5555555555555556,
             "#d8576b"
            ],
            [
             0.6666666666666666,
             "#ed7953"
            ],
            [
             0.7777777777777778,
             "#fb9f3a"
            ],
            [
             0.8888888888888888,
             "#fdca26"
            ],
            [
             1,
             "#f0f921"
            ]
           ],
           "sequentialminus": [
            [
             0,
             "#0d0887"
            ],
            [
             0.1111111111111111,
             "#46039f"
            ],
            [
             0.2222222222222222,
             "#7201a8"
            ],
            [
             0.3333333333333333,
             "#9c179e"
            ],
            [
             0.4444444444444444,
             "#bd3786"
            ],
            [
             0.5555555555555556,
             "#d8576b"
            ],
            [
             0.6666666666666666,
             "#ed7953"
            ],
            [
             0.7777777777777778,
             "#fb9f3a"
            ],
            [
             0.8888888888888888,
             "#fdca26"
            ],
            [
             1,
             "#f0f921"
            ]
           ]
          },
          "colorway": [
           "#636efa",
           "#EF553B",
           "#00cc96",
           "#ab63fa",
           "#FFA15A",
           "#19d3f3",
           "#FF6692",
           "#B6E880",
           "#FF97FF",
           "#FECB52"
          ],
          "font": {
           "color": "#2a3f5f"
          },
          "geo": {
           "bgcolor": "white",
           "lakecolor": "white",
           "landcolor": "#E5ECF6",
           "showlakes": true,
           "showland": true,
           "subunitcolor": "white"
          },
          "hoverlabel": {
           "align": "left"
          },
          "hovermode": "closest",
          "mapbox": {
           "style": "light"
          },
          "paper_bgcolor": "white",
          "plot_bgcolor": "#E5ECF6",
          "polar": {
           "angularaxis": {
            "gridcolor": "white",
            "linecolor": "white",
            "ticks": ""
           },
           "bgcolor": "#E5ECF6",
           "radialaxis": {
            "gridcolor": "white",
            "linecolor": "white",
            "ticks": ""
           }
          },
          "scene": {
           "xaxis": {
            "backgroundcolor": "#E5ECF6",
            "gridcolor": "white",
            "gridwidth": 2,
            "linecolor": "white",
            "showbackground": true,
            "ticks": "",
            "zerolinecolor": "white"
           },
           "yaxis": {
            "backgroundcolor": "#E5ECF6",
            "gridcolor": "white",
            "gridwidth": 2,
            "linecolor": "white",
            "showbackground": true,
            "ticks": "",
            "zerolinecolor": "white"
           },
           "zaxis": {
            "backgroundcolor": "#E5ECF6",
            "gridcolor": "white",
            "gridwidth": 2,
            "linecolor": "white",
            "showbackground": true,
            "ticks": "",
            "zerolinecolor": "white"
           }
          },
          "shapedefaults": {
           "line": {
            "color": "#2a3f5f"
           }
          },
          "ternary": {
           "aaxis": {
            "gridcolor": "white",
            "linecolor": "white",
            "ticks": ""
           },
           "baxis": {
            "gridcolor": "white",
            "linecolor": "white",
            "ticks": ""
           },
           "bgcolor": "#E5ECF6",
           "caxis": {
            "gridcolor": "white",
            "linecolor": "white",
            "ticks": ""
           }
          },
          "title": {
           "x": 0.05
          },
          "xaxis": {
           "automargin": true,
           "gridcolor": "white",
           "linecolor": "white",
           "ticks": "",
           "title": {
            "standoff": 15
           },
           "zerolinecolor": "white",
           "zerolinewidth": 2
          },
          "yaxis": {
           "automargin": true,
           "gridcolor": "white",
           "linecolor": "white",
           "ticks": "",
           "title": {
            "standoff": 15
           },
           "zerolinecolor": "white",
           "zerolinewidth": 2
          }
         }
        },
        "title": {
         "text": "Distribution of Variables"
        },
        "width": 1000,
        "xaxis": {
         "anchor": "y",
         "domain": [
          0,
          0.16799999999999998
         ]
        },
        "xaxis2": {
         "anchor": "y2",
         "domain": [
          0.208,
          0.376
         ]
        },
        "xaxis3": {
         "anchor": "y3",
         "domain": [
          0.416,
          0.584
         ]
        },
        "xaxis4": {
         "anchor": "y4",
         "domain": [
          0.624,
          0.792
         ]
        },
        "xaxis5": {
         "anchor": "y5",
         "domain": [
          0.832,
          1
         ]
        },
        "yaxis": {
         "anchor": "x",
         "domain": [
          0,
          1
         ]
        },
        "yaxis2": {
         "anchor": "x2",
         "domain": [
          0,
          1
         ]
        },
        "yaxis3": {
         "anchor": "x3",
         "domain": [
          0,
          1
         ]
        },
        "yaxis4": {
         "anchor": "x4",
         "domain": [
          0,
          1
         ]
        },
        "yaxis5": {
         "anchor": "x5",
         "domain": [
          0,
          1
         ]
        }
       }
      }
     },
     "metadata": {},
     "output_type": "display_data"
    }
   ],
   "source": [
    "fig = sp.make_subplots(rows=1, cols=5, subplot_titles=('WHT (0C)', '∆Q (STBD)', 'Water Rate(sbwpd)', 'Gas Rate (mscfd)', 'GOR'))\n",
    "\n",
    "trace1 = go.Histogram(x=df_well4['WHT (0C)'], nbinsx=40, name='WHT (0C)')\n",
    "trace2 = go.Histogram(x=df_well4['∆Q (STBD)'], nbinsx=40, name='∆Q (STBD)')\n",
    "trace3 = go.Histogram(x=df_well4['Water Rate(sbwpd)'], nbinsx=40, name='Water Rate(sbwpd)')\n",
    "trace4 = go.Histogram(x=df_well4['Gas Rate (mscfd)'], nbinsx=40, name='Gas Rate (mscfd)')\n",
    "trace5 = go.Histogram(x=df_well4['GOR'], nbinsx=40, name='GOR')\n",
    "\n",
    "fig.add_trace(trace1, row=1, col=1)\n",
    "fig.add_trace(trace2, row=1, col=2)\n",
    "fig.add_trace(trace3, row=1, col=3)\n",
    "fig.add_trace(trace4, row=1, col=4)\n",
    "fig.add_trace(trace5, row=1, col=5)\n",
    "\n",
    "fig.update_layout(height=500, width=1000, title_text=\"Distribution of Variables\")\n",
    "fig.show()\n"
   ]
  },
  {
   "cell_type": "code",
   "execution_count": 470,
   "metadata": {},
   "outputs": [],
   "source": [
    "# fill up the null values with mean for WHT, delta Q  and median for Water Rate, Gas Rate (mscfd)\n",
    "df_well4['∆Q (STBD)'] = df_well4['∆Q (STBD)'].fillna(df_well4['∆Q (STBD)'].mean())\n",
    "df_well4['WHT (0C)'] = df_well4['WHT (0C)'].fillna(df_well4['WHT (0C)'].mean())\n",
    "df_well4['Water Rate(sbwpd)'] = df_well4['Water Rate(sbwpd)'].fillna(df_well4['Water Rate(sbwpd)'].median())\n",
    "df_well4['Gas Rate (mscfd)'] = df_well4['Gas Rate (mscfd)'].fillna(df_well4['Gas Rate (mscfd)'].median())"
   ]
  },
  {
   "cell_type": "code",
   "execution_count": 471,
   "metadata": {},
   "outputs": [
    {
     "data": {
      "text/plain": [
       "Eng. Calender         0\n",
       "Choke(/64\")          90\n",
       "WHT (0C)              0\n",
       "WHP (psig)            0\n",
       "Oil Rate (STBD)       0\n",
       "∆Q (STBD)             0\n",
       "Water Rate(sbwpd)     0\n",
       "BS&W                  0\n",
       "Gas Rate (mscfd)      0\n",
       "GOR                   0\n",
       "dtype: int64"
      ]
     },
     "execution_count": 471,
     "metadata": {},
     "output_type": "execute_result"
    }
   ],
   "source": [
    "df_well4.isnull().sum()"
   ]
  },
  {
   "cell_type": "code",
   "execution_count": 472,
   "metadata": {},
   "outputs": [
    {
     "data": {
      "text/html": [
       "<div>\n",
       "<style scoped>\n",
       "    .dataframe tbody tr th:only-of-type {\n",
       "        vertical-align: middle;\n",
       "    }\n",
       "\n",
       "    .dataframe tbody tr th {\n",
       "        vertical-align: top;\n",
       "    }\n",
       "\n",
       "    .dataframe thead th {\n",
       "        text-align: right;\n",
       "    }\n",
       "</style>\n",
       "<table border=\"1\" class=\"dataframe\">\n",
       "  <thead>\n",
       "    <tr style=\"text-align: right;\">\n",
       "      <th></th>\n",
       "      <th>Eng_Calender</th>\n",
       "      <th>Choke_well_4</th>\n",
       "      <th>WHT_well_4</th>\n",
       "      <th>WHP_well_4</th>\n",
       "      <th>Oil_Rate_well_4</th>\n",
       "      <th>delta_Q_well_4</th>\n",
       "      <th>Water_Rate_well_4</th>\n",
       "      <th>BS&amp;W_well_4</th>\n",
       "      <th>Gas_Rate_well_4</th>\n",
       "      <th>GOR_well_4</th>\n",
       "    </tr>\n",
       "  </thead>\n",
       "  <tbody>\n",
       "    <tr>\n",
       "      <th>0</th>\n",
       "      <td>1999-01-19</td>\n",
       "      <td>62.0</td>\n",
       "      <td>80.450667</td>\n",
       "      <td>1286.15</td>\n",
       "      <td>10874.0</td>\n",
       "      <td>-43.344633</td>\n",
       "      <td>0.0</td>\n",
       "      <td>0.0</td>\n",
       "      <td>9600.0</td>\n",
       "      <td>882.839801</td>\n",
       "    </tr>\n",
       "    <tr>\n",
       "      <th>1</th>\n",
       "      <td>1999-01-20</td>\n",
       "      <td>62.0</td>\n",
       "      <td>80.000000</td>\n",
       "      <td>1316.60</td>\n",
       "      <td>10280.0</td>\n",
       "      <td>-594.000000</td>\n",
       "      <td>0.0</td>\n",
       "      <td>0.0</td>\n",
       "      <td>9200.0</td>\n",
       "      <td>894.941634</td>\n",
       "    </tr>\n",
       "    <tr>\n",
       "      <th>2</th>\n",
       "      <td>1999-01-21</td>\n",
       "      <td>62.0</td>\n",
       "      <td>80.000000</td>\n",
       "      <td>1307.90</td>\n",
       "      <td>10243.0</td>\n",
       "      <td>-37.000000</td>\n",
       "      <td>0.0</td>\n",
       "      <td>0.0</td>\n",
       "      <td>9200.0</td>\n",
       "      <td>898.174363</td>\n",
       "    </tr>\n",
       "    <tr>\n",
       "      <th>3</th>\n",
       "      <td>1999-01-22</td>\n",
       "      <td>62.0</td>\n",
       "      <td>80.000000</td>\n",
       "      <td>1296.30</td>\n",
       "      <td>10209.0</td>\n",
       "      <td>-34.000000</td>\n",
       "      <td>0.0</td>\n",
       "      <td>0.0</td>\n",
       "      <td>9120.0</td>\n",
       "      <td>893.329415</td>\n",
       "    </tr>\n",
       "    <tr>\n",
       "      <th>4</th>\n",
       "      <td>1999-01-25</td>\n",
       "      <td>50.0</td>\n",
       "      <td>80.450667</td>\n",
       "      <td>1595.00</td>\n",
       "      <td>9524.0</td>\n",
       "      <td>-685.000000</td>\n",
       "      <td>0.0</td>\n",
       "      <td>0.0</td>\n",
       "      <td>8119.2</td>\n",
       "      <td>852.498950</td>\n",
       "    </tr>\n",
       "  </tbody>\n",
       "</table>\n",
       "</div>"
      ],
      "text/plain": [
       "  Eng_Calender  Choke_well_4  WHT_well_4  WHP_well_4  Oil_Rate_well_4  \\\n",
       "0   1999-01-19          62.0   80.450667     1286.15          10874.0   \n",
       "1   1999-01-20          62.0   80.000000     1316.60          10280.0   \n",
       "2   1999-01-21          62.0   80.000000     1307.90          10243.0   \n",
       "3   1999-01-22          62.0   80.000000     1296.30          10209.0   \n",
       "4   1999-01-25          50.0   80.450667     1595.00           9524.0   \n",
       "\n",
       "   delta_Q_well_4  Water_Rate_well_4  BS&W_well_4  Gas_Rate_well_4  GOR_well_4  \n",
       "0      -43.344633                0.0          0.0           9600.0  882.839801  \n",
       "1     -594.000000                0.0          0.0           9200.0  894.941634  \n",
       "2      -37.000000                0.0          0.0           9200.0  898.174363  \n",
       "3      -34.000000                0.0          0.0           9120.0  893.329415  \n",
       "4     -685.000000                0.0          0.0           8119.2  852.498950  "
      ]
     },
     "execution_count": 472,
     "metadata": {},
     "output_type": "execute_result"
    }
   ],
   "source": [
    "#rename all the columns to add _ in between the names and exclude the units\n",
    "df_well4 = df_well4.rename(columns={'Choke(/64\")':'Choke','Eng. Calender':'Eng_Calender', 'WHT (0C)':'WHT', 'WHP (psig)':'WHP', 'Oil Rate (STBD)':'Oil_Rate', '∆Q (STBD)':'delta_Q', 'Water Rate(sbwpd)':'Water_Rate', 'Gas Rate (mscfd)':'Gas_Rate'})\n",
    "# add 'well_1' at the end of each column name except Eng_Calender\n",
    "df_well4 = df_well4.add_suffix('_well_4')\n",
    "df_well4 = df_well4.rename(columns={'Eng_Calender_well_4':'Eng_Calender'})\n",
    "df_well4.head()"
   ]
  },
  {
   "cell_type": "code",
   "execution_count": 473,
   "metadata": {},
   "outputs": [
    {
     "data": {
      "text/html": [
       "<div>\n",
       "<style scoped>\n",
       "    .dataframe tbody tr th:only-of-type {\n",
       "        vertical-align: middle;\n",
       "    }\n",
       "\n",
       "    .dataframe tbody tr th {\n",
       "        vertical-align: top;\n",
       "    }\n",
       "\n",
       "    .dataframe thead th {\n",
       "        text-align: right;\n",
       "    }\n",
       "</style>\n",
       "<table border=\"1\" class=\"dataframe\">\n",
       "  <thead>\n",
       "    <tr style=\"text-align: right;\">\n",
       "      <th></th>\n",
       "      <th>Eng_Calender</th>\n",
       "      <th>Choke_well_1</th>\n",
       "      <th>WHT_well_1</th>\n",
       "      <th>WHP_well_1</th>\n",
       "      <th>Oil_Rate_well_1</th>\n",
       "      <th>delta_Q_well_1</th>\n",
       "      <th>Water_Rate_well_1</th>\n",
       "      <th>BS&amp;W_well_1</th>\n",
       "      <th>Gas_Rate_well_1</th>\n",
       "      <th>GOR_well_1</th>\n",
       "      <th>...</th>\n",
       "      <th>GOR_well_3</th>\n",
       "      <th>Choke_well_4</th>\n",
       "      <th>WHT_well_4</th>\n",
       "      <th>WHP_well_4</th>\n",
       "      <th>Oil_Rate_well_4</th>\n",
       "      <th>delta_Q_well_4</th>\n",
       "      <th>Water_Rate_well_4</th>\n",
       "      <th>BS&amp;W_well_4</th>\n",
       "      <th>Gas_Rate_well_4</th>\n",
       "      <th>GOR_well_4</th>\n",
       "    </tr>\n",
       "  </thead>\n",
       "  <tbody>\n",
       "    <tr>\n",
       "      <th>0</th>\n",
       "      <td>1999-01-19</td>\n",
       "      <td>44.0</td>\n",
       "      <td>76.400000</td>\n",
       "      <td>1785.58</td>\n",
       "      <td>7409.0</td>\n",
       "      <td>-15.875706</td>\n",
       "      <td>3.29</td>\n",
       "      <td>0.044386</td>\n",
       "      <td>6936.0</td>\n",
       "      <td>936.158726</td>\n",
       "      <td>...</td>\n",
       "      <td>746.957404</td>\n",
       "      <td>62.0</td>\n",
       "      <td>80.450667</td>\n",
       "      <td>1286.15</td>\n",
       "      <td>10874.0</td>\n",
       "      <td>-43.344633</td>\n",
       "      <td>0.0</td>\n",
       "      <td>0.0</td>\n",
       "      <td>9600.0</td>\n",
       "      <td>882.839801</td>\n",
       "    </tr>\n",
       "    <tr>\n",
       "      <th>1</th>\n",
       "      <td>1999-01-20</td>\n",
       "      <td>50.0</td>\n",
       "      <td>83.657051</td>\n",
       "      <td>1683.38</td>\n",
       "      <td>9205.0</td>\n",
       "      <td>1796.000000</td>\n",
       "      <td>0.00</td>\n",
       "      <td>0.000000</td>\n",
       "      <td>9420.0</td>\n",
       "      <td>1023.356871</td>\n",
       "      <td>...</td>\n",
       "      <td>803.112056</td>\n",
       "      <td>62.0</td>\n",
       "      <td>80.000000</td>\n",
       "      <td>1316.60</td>\n",
       "      <td>10280.0</td>\n",
       "      <td>-594.000000</td>\n",
       "      <td>0.0</td>\n",
       "      <td>0.0</td>\n",
       "      <td>9200.0</td>\n",
       "      <td>894.941634</td>\n",
       "    </tr>\n",
       "    <tr>\n",
       "      <th>2</th>\n",
       "      <td>1999-01-21</td>\n",
       "      <td>55.0</td>\n",
       "      <td>83.657051</td>\n",
       "      <td>1566.58</td>\n",
       "      <td>10454.0</td>\n",
       "      <td>1249.000000</td>\n",
       "      <td>0.00</td>\n",
       "      <td>0.000000</td>\n",
       "      <td>10812.0</td>\n",
       "      <td>1034.245265</td>\n",
       "      <td>...</td>\n",
       "      <td>813.810421</td>\n",
       "      <td>62.0</td>\n",
       "      <td>80.000000</td>\n",
       "      <td>1307.90</td>\n",
       "      <td>10243.0</td>\n",
       "      <td>-37.000000</td>\n",
       "      <td>0.0</td>\n",
       "      <td>0.0</td>\n",
       "      <td>9200.0</td>\n",
       "      <td>898.174363</td>\n",
       "    </tr>\n",
       "    <tr>\n",
       "      <th>3</th>\n",
       "      <td>1999-01-22</td>\n",
       "      <td>55.0</td>\n",
       "      <td>83.657051</td>\n",
       "      <td>1576.80</td>\n",
       "      <td>10006.0</td>\n",
       "      <td>-448.000000</td>\n",
       "      <td>0.00</td>\n",
       "      <td>0.000000</td>\n",
       "      <td>10832.0</td>\n",
       "      <td>1082.550470</td>\n",
       "      <td>...</td>\n",
       "      <td>838.309353</td>\n",
       "      <td>62.0</td>\n",
       "      <td>80.000000</td>\n",
       "      <td>1296.30</td>\n",
       "      <td>10209.0</td>\n",
       "      <td>-34.000000</td>\n",
       "      <td>0.0</td>\n",
       "      <td>0.0</td>\n",
       "      <td>9120.0</td>\n",
       "      <td>893.329415</td>\n",
       "    </tr>\n",
       "    <tr>\n",
       "      <th>4</th>\n",
       "      <td>1999-01-25</td>\n",
       "      <td>55.0</td>\n",
       "      <td>83.657051</td>\n",
       "      <td>1575.34</td>\n",
       "      <td>9877.0</td>\n",
       "      <td>-129.000000</td>\n",
       "      <td>0.00</td>\n",
       "      <td>0.000000</td>\n",
       "      <td>10976.0</td>\n",
       "      <td>1111.268604</td>\n",
       "      <td>...</td>\n",
       "      <td>842.269341</td>\n",
       "      <td>50.0</td>\n",
       "      <td>80.450667</td>\n",
       "      <td>1595.00</td>\n",
       "      <td>9524.0</td>\n",
       "      <td>-685.000000</td>\n",
       "      <td>0.0</td>\n",
       "      <td>0.0</td>\n",
       "      <td>8119.2</td>\n",
       "      <td>852.498950</td>\n",
       "    </tr>\n",
       "  </tbody>\n",
       "</table>\n",
       "<p>5 rows × 37 columns</p>\n",
       "</div>"
      ],
      "text/plain": [
       "  Eng_Calender  Choke_well_1  WHT_well_1  WHP_well_1  Oil_Rate_well_1  \\\n",
       "0   1999-01-19          44.0   76.400000     1785.58           7409.0   \n",
       "1   1999-01-20          50.0   83.657051     1683.38           9205.0   \n",
       "2   1999-01-21          55.0   83.657051     1566.58          10454.0   \n",
       "3   1999-01-22          55.0   83.657051     1576.80          10006.0   \n",
       "4   1999-01-25          55.0   83.657051     1575.34           9877.0   \n",
       "\n",
       "   delta_Q_well_1  Water_Rate_well_1  BS&W_well_1  Gas_Rate_well_1  \\\n",
       "0      -15.875706               3.29     0.044386           6936.0   \n",
       "1     1796.000000               0.00     0.000000           9420.0   \n",
       "2     1249.000000               0.00     0.000000          10812.0   \n",
       "3     -448.000000               0.00     0.000000          10832.0   \n",
       "4     -129.000000               0.00     0.000000          10976.0   \n",
       "\n",
       "    GOR_well_1  ...  GOR_well_3  Choke_well_4  WHT_well_4  WHP_well_4  \\\n",
       "0   936.158726  ...  746.957404          62.0   80.450667     1286.15   \n",
       "1  1023.356871  ...  803.112056          62.0   80.000000     1316.60   \n",
       "2  1034.245265  ...  813.810421          62.0   80.000000     1307.90   \n",
       "3  1082.550470  ...  838.309353          62.0   80.000000     1296.30   \n",
       "4  1111.268604  ...  842.269341          50.0   80.450667     1595.00   \n",
       "\n",
       "   Oil_Rate_well_4  delta_Q_well_4  Water_Rate_well_4  BS&W_well_4  \\\n",
       "0          10874.0      -43.344633                0.0          0.0   \n",
       "1          10280.0     -594.000000                0.0          0.0   \n",
       "2          10243.0      -37.000000                0.0          0.0   \n",
       "3          10209.0      -34.000000                0.0          0.0   \n",
       "4           9524.0     -685.000000                0.0          0.0   \n",
       "\n",
       "   Gas_Rate_well_4  GOR_well_4  \n",
       "0           9600.0  882.839801  \n",
       "1           9200.0  894.941634  \n",
       "2           9200.0  898.174363  \n",
       "3           9120.0  893.329415  \n",
       "4           8119.2  852.498950  \n",
       "\n",
       "[5 rows x 37 columns]"
      ]
     },
     "execution_count": 473,
     "metadata": {},
     "output_type": "execute_result"
    }
   ],
   "source": [
    "#merge df_well1, df_well2, df_well3, df_well4 based on Eng_Calender column to create a single dataframe\n",
    "df = pd.merge(df_well1, df_well2, on='Eng_Calender')\n",
    "df = pd.merge(df, df_well3, on='Eng_Calender')\n",
    "df = pd.merge(df, df_well4, on='Eng_Calender')\n",
    "df.head()"
   ]
  },
  {
   "cell_type": "code",
   "execution_count": 474,
   "metadata": {},
   "outputs": [
    {
     "name": "stdout",
     "output_type": "stream",
     "text": [
      "Oil_Rate_well_4      1.000000\n",
      "Choke_well_4         0.814185\n",
      "Gas_Rate_well_4      0.555761\n",
      "WHT_well_4           0.284133\n",
      "delta_Q_well_4       0.105556\n",
      "Water_Rate_well_4   -0.482670\n",
      "WHP_well_4          -0.580371\n",
      "BS&W_well_4         -0.585955\n",
      "GOR_well_4          -0.840900\n",
      "Name: Oil_Rate_well_4, dtype: float64\n"
     ]
    }
   ],
   "source": [
    "# Compute correlation matrix\n",
    "correlation_matrix = df_well4.corr()\n",
    "\n",
    "# Get correlations of 'target' with other variables\n",
    "correlations = correlation_matrix['Oil_Rate_well_4'].sort_values(ascending=False)\n",
    "\n",
    "# Print the correlations\n",
    "print(correlations)"
   ]
  },
  {
   "cell_type": "code",
   "execution_count": 475,
   "metadata": {},
   "outputs": [],
   "source": [
    "#create a new column named 'total_oil_rate' which is the sum of oil rate of all the wells\n",
    "df['total_oil_rate'] = df['Oil_Rate_well_1'] + df['Oil_Rate_well_2'] + df['Oil_Rate_well_3'] + df['Oil_Rate_well_4']"
   ]
  },
  {
   "cell_type": "code",
   "execution_count": 476,
   "metadata": {},
   "outputs": [
    {
     "data": {
      "text/html": [
       "<div>\n",
       "<style scoped>\n",
       "    .dataframe tbody tr th:only-of-type {\n",
       "        vertical-align: middle;\n",
       "    }\n",
       "\n",
       "    .dataframe tbody tr th {\n",
       "        vertical-align: top;\n",
       "    }\n",
       "\n",
       "    .dataframe thead th {\n",
       "        text-align: right;\n",
       "    }\n",
       "</style>\n",
       "<table border=\"1\" class=\"dataframe\">\n",
       "  <thead>\n",
       "    <tr style=\"text-align: right;\">\n",
       "      <th></th>\n",
       "      <th>Eng_Calender</th>\n",
       "      <th>Choke_well_1</th>\n",
       "      <th>WHT_well_1</th>\n",
       "      <th>WHP_well_1</th>\n",
       "      <th>Oil_Rate_well_1</th>\n",
       "      <th>delta_Q_well_1</th>\n",
       "      <th>Water_Rate_well_1</th>\n",
       "      <th>BS&amp;W_well_1</th>\n",
       "      <th>Gas_Rate_well_1</th>\n",
       "      <th>GOR_well_1</th>\n",
       "      <th>...</th>\n",
       "      <th>Choke_well_4</th>\n",
       "      <th>WHT_well_4</th>\n",
       "      <th>WHP_well_4</th>\n",
       "      <th>Oil_Rate_well_4</th>\n",
       "      <th>delta_Q_well_4</th>\n",
       "      <th>Water_Rate_well_4</th>\n",
       "      <th>BS&amp;W_well_4</th>\n",
       "      <th>Gas_Rate_well_4</th>\n",
       "      <th>GOR_well_4</th>\n",
       "      <th>total_oil_rate</th>\n",
       "    </tr>\n",
       "  </thead>\n",
       "  <tbody>\n",
       "    <tr>\n",
       "      <th>0</th>\n",
       "      <td>1999-01-19</td>\n",
       "      <td>44.0</td>\n",
       "      <td>76.400000</td>\n",
       "      <td>1785.58</td>\n",
       "      <td>7409.0</td>\n",
       "      <td>-15.875706</td>\n",
       "      <td>3.29</td>\n",
       "      <td>0.044386</td>\n",
       "      <td>6936.0</td>\n",
       "      <td>936.158726</td>\n",
       "      <td>...</td>\n",
       "      <td>62.0</td>\n",
       "      <td>80.450667</td>\n",
       "      <td>1286.15</td>\n",
       "      <td>10874.0</td>\n",
       "      <td>-43.344633</td>\n",
       "      <td>0.0</td>\n",
       "      <td>0.0</td>\n",
       "      <td>9600.0</td>\n",
       "      <td>882.839801</td>\n",
       "      <td>37263.0</td>\n",
       "    </tr>\n",
       "    <tr>\n",
       "      <th>1</th>\n",
       "      <td>1999-01-20</td>\n",
       "      <td>50.0</td>\n",
       "      <td>83.657051</td>\n",
       "      <td>1683.38</td>\n",
       "      <td>9205.0</td>\n",
       "      <td>1796.000000</td>\n",
       "      <td>0.00</td>\n",
       "      <td>0.000000</td>\n",
       "      <td>9420.0</td>\n",
       "      <td>1023.356871</td>\n",
       "      <td>...</td>\n",
       "      <td>62.0</td>\n",
       "      <td>80.000000</td>\n",
       "      <td>1316.60</td>\n",
       "      <td>10280.0</td>\n",
       "      <td>-594.000000</td>\n",
       "      <td>0.0</td>\n",
       "      <td>0.0</td>\n",
       "      <td>9200.0</td>\n",
       "      <td>894.941634</td>\n",
       "      <td>40202.0</td>\n",
       "    </tr>\n",
       "    <tr>\n",
       "      <th>2</th>\n",
       "      <td>1999-01-21</td>\n",
       "      <td>55.0</td>\n",
       "      <td>83.657051</td>\n",
       "      <td>1566.58</td>\n",
       "      <td>10454.0</td>\n",
       "      <td>1249.000000</td>\n",
       "      <td>0.00</td>\n",
       "      <td>0.000000</td>\n",
       "      <td>10812.0</td>\n",
       "      <td>1034.245265</td>\n",
       "      <td>...</td>\n",
       "      <td>62.0</td>\n",
       "      <td>80.000000</td>\n",
       "      <td>1307.90</td>\n",
       "      <td>10243.0</td>\n",
       "      <td>-37.000000</td>\n",
       "      <td>0.0</td>\n",
       "      <td>0.0</td>\n",
       "      <td>9200.0</td>\n",
       "      <td>898.174363</td>\n",
       "      <td>41892.0</td>\n",
       "    </tr>\n",
       "    <tr>\n",
       "      <th>3</th>\n",
       "      <td>1999-01-22</td>\n",
       "      <td>55.0</td>\n",
       "      <td>83.657051</td>\n",
       "      <td>1576.80</td>\n",
       "      <td>10006.0</td>\n",
       "      <td>-448.000000</td>\n",
       "      <td>0.00</td>\n",
       "      <td>0.000000</td>\n",
       "      <td>10832.0</td>\n",
       "      <td>1082.550470</td>\n",
       "      <td>...</td>\n",
       "      <td>62.0</td>\n",
       "      <td>80.000000</td>\n",
       "      <td>1296.30</td>\n",
       "      <td>10209.0</td>\n",
       "      <td>-34.000000</td>\n",
       "      <td>0.0</td>\n",
       "      <td>0.0</td>\n",
       "      <td>9120.0</td>\n",
       "      <td>893.329415</td>\n",
       "      <td>40416.0</td>\n",
       "    </tr>\n",
       "    <tr>\n",
       "      <th>4</th>\n",
       "      <td>1999-01-25</td>\n",
       "      <td>55.0</td>\n",
       "      <td>83.657051</td>\n",
       "      <td>1575.34</td>\n",
       "      <td>9877.0</td>\n",
       "      <td>-129.000000</td>\n",
       "      <td>0.00</td>\n",
       "      <td>0.000000</td>\n",
       "      <td>10976.0</td>\n",
       "      <td>1111.268604</td>\n",
       "      <td>...</td>\n",
       "      <td>50.0</td>\n",
       "      <td>80.450667</td>\n",
       "      <td>1595.00</td>\n",
       "      <td>9524.0</td>\n",
       "      <td>-685.000000</td>\n",
       "      <td>0.0</td>\n",
       "      <td>0.0</td>\n",
       "      <td>8119.2</td>\n",
       "      <td>852.498950</td>\n",
       "      <td>41433.0</td>\n",
       "    </tr>\n",
       "  </tbody>\n",
       "</table>\n",
       "<p>5 rows × 38 columns</p>\n",
       "</div>"
      ],
      "text/plain": [
       "  Eng_Calender  Choke_well_1  WHT_well_1  WHP_well_1  Oil_Rate_well_1  \\\n",
       "0   1999-01-19          44.0   76.400000     1785.58           7409.0   \n",
       "1   1999-01-20          50.0   83.657051     1683.38           9205.0   \n",
       "2   1999-01-21          55.0   83.657051     1566.58          10454.0   \n",
       "3   1999-01-22          55.0   83.657051     1576.80          10006.0   \n",
       "4   1999-01-25          55.0   83.657051     1575.34           9877.0   \n",
       "\n",
       "   delta_Q_well_1  Water_Rate_well_1  BS&W_well_1  Gas_Rate_well_1  \\\n",
       "0      -15.875706               3.29     0.044386           6936.0   \n",
       "1     1796.000000               0.00     0.000000           9420.0   \n",
       "2     1249.000000               0.00     0.000000          10812.0   \n",
       "3     -448.000000               0.00     0.000000          10832.0   \n",
       "4     -129.000000               0.00     0.000000          10976.0   \n",
       "\n",
       "    GOR_well_1  ...  Choke_well_4  WHT_well_4  WHP_well_4  Oil_Rate_well_4  \\\n",
       "0   936.158726  ...          62.0   80.450667     1286.15          10874.0   \n",
       "1  1023.356871  ...          62.0   80.000000     1316.60          10280.0   \n",
       "2  1034.245265  ...          62.0   80.000000     1307.90          10243.0   \n",
       "3  1082.550470  ...          62.0   80.000000     1296.30          10209.0   \n",
       "4  1111.268604  ...          50.0   80.450667     1595.00           9524.0   \n",
       "\n",
       "   delta_Q_well_4  Water_Rate_well_4  BS&W_well_4  Gas_Rate_well_4  \\\n",
       "0      -43.344633                0.0          0.0           9600.0   \n",
       "1     -594.000000                0.0          0.0           9200.0   \n",
       "2      -37.000000                0.0          0.0           9200.0   \n",
       "3      -34.000000                0.0          0.0           9120.0   \n",
       "4     -685.000000                0.0          0.0           8119.2   \n",
       "\n",
       "   GOR_well_4  total_oil_rate  \n",
       "0  882.839801         37263.0  \n",
       "1  894.941634         40202.0  \n",
       "2  898.174363         41892.0  \n",
       "3  893.329415         40416.0  \n",
       "4  852.498950         41433.0  \n",
       "\n",
       "[5 rows x 38 columns]"
      ]
     },
     "execution_count": 476,
     "metadata": {},
     "output_type": "execute_result"
    }
   ],
   "source": [
    "df.head()"
   ]
  },
  {
   "cell_type": "code",
   "execution_count": 477,
   "metadata": {},
   "outputs": [],
   "source": [
    "#export the dataframe to csv file\n",
    "df.to_csv('cleaned_well_data.csv', index=False)"
   ]
  },
  {
   "cell_type": "code",
   "execution_count": 478,
   "metadata": {},
   "outputs": [
    {
     "data": {
      "application/vnd.plotly.v1+json": {
       "config": {
        "plotlyServerURL": "https://plot.ly"
       },
       "data": [
        {
         "mode": "markers",
         "type": "scatter",
         "x": [
          62,
          62,
          62,
          62,
          50,
          58,
          58,
          58,
          58,
          64,
          68,
          64,
          64,
          40,
          40,
          32,
          50,
          64,
          158,
          36,
          46,
          46,
          40,
          40,
          40,
          40,
          44,
          44,
          null,
          44,
          44,
          44,
          44,
          44,
          44,
          36,
          36,
          36,
          36,
          36,
          36,
          36,
          36,
          36,
          36,
          36,
          36,
          36,
          36,
          28,
          28,
          28,
          28,
          null,
          28,
          28,
          28,
          28,
          46,
          40,
          40,
          40,
          36,
          20,
          20,
          20,
          32,
          27,
          32,
          15,
          15,
          15,
          25,
          25,
          25,
          25,
          25,
          25,
          25,
          25,
          25,
          25,
          25,
          5,
          25,
          22,
          25,
          23,
          23,
          23,
          null,
          null,
          null,
          null,
          null,
          null,
          null,
          null,
          null,
          null,
          null,
          null,
          null,
          null,
          null,
          null,
          null,
          null,
          null,
          null,
          null,
          null,
          null,
          null,
          null,
          null,
          null,
          null,
          null,
          null,
          null,
          null,
          null,
          null,
          null,
          null,
          null,
          null,
          null,
          null,
          null,
          null,
          null,
          null,
          null,
          null,
          null,
          null,
          null,
          null,
          null,
          null,
          null,
          null,
          null,
          null,
          null,
          null,
          null,
          null,
          null,
          null,
          null,
          null,
          null,
          null,
          null,
          null,
          null,
          null,
          null,
          null,
          null,
          null,
          null,
          null,
          null,
          null,
          null,
          null,
          null,
          null,
          null,
          null,
          null,
          null,
          null,
          null
         ],
         "y": [
          10874,
          10280,
          10243,
          10209,
          9524,
          10456,
          9844,
          8519,
          8401,
          9266,
          10597,
          9044,
          9020,
          4873,
          4976.53,
          4902.73,
          7772.72,
          9669.61,
          10066.69,
          4644.74,
          6260.16,
          5768.99,
          5422.5,
          5857.08,
          5637.75,
          5565.86,
          6634.89,
          6551.55,
          6482.23,
          6394.63,
          6246.16,
          6310.51,
          6119.4,
          6122.6,
          6088.41,
          4366.21,
          4505.19,
          4664.85,
          4685.03,
          4673.7,
          4777.63,
          4801.6,
          4784,
          4726.8,
          4718.4,
          4539.4,
          4554.8,
          4532,
          4694.4,
          3591,
          3298.5,
          3473.7,
          3515,
          3515,
          3553,
          3634.3,
          3748,
          3815.4,
          6884,
          6260,
          6280,
          6369.9,
          6057.2,
          3634.9,
          4625.9,
          4828.4,
          4948.6,
          3738.6,
          2530.5,
          3439.4,
          3428.7,
          3369,
          3881.3,
          4131,
          4140,
          3772,
          3672,
          3735,
          3833,
          3781,
          3767,
          3722,
          3743,
          1681,
          3928.7,
          3896.6,
          3809.7,
          3763.2,
          3818.7,
          3614.5,
          3012.3,
          3020.5,
          2369.7,
          2394.4,
          2649.2,
          2873.5,
          2685.5,
          2348.2,
          2324.3,
          2375,
          2647.4,
          2587.7,
          2563.6,
          2605.1,
          2547.3,
          2520.5,
          2426.7,
          2125.7,
          2124.9,
          2125.3,
          2058.6,
          2083.4,
          2179.7,
          2129.7,
          2139.3,
          2075.2,
          1831.1,
          1789.1,
          1778.7,
          1858.4,
          1732,
          1697.4,
          1344,
          1377.7,
          2153,
          1884,
          2334.2,
          2279.9,
          2292.2,
          2291.1,
          2221.6,
          2333.1,
          2339.7,
          2284,
          2185.4,
          2269.6,
          2697.4,
          2338.7,
          2310.3,
          2531,
          2565.4,
          2746,
          2505,
          2476,
          2559,
          2532,
          2648.5,
          2666,
          2796.5,
          2576,
          2567,
          2595,
          2854,
          3156,
          3290.9,
          3377,
          3455.9,
          3489,
          3832,
          2593,
          2579,
          2611,
          2673,
          2684,
          2710,
          2712,
          2581,
          2623,
          2448,
          2710,
          2922,
          2939,
          2950,
          2974,
          3131,
          2934,
          3083,
          3202
         ]
        }
       ],
       "layout": {
        "template": {
         "data": {
          "bar": [
           {
            "error_x": {
             "color": "#2a3f5f"
            },
            "error_y": {
             "color": "#2a3f5f"
            },
            "marker": {
             "line": {
              "color": "#E5ECF6",
              "width": 0.5
             },
             "pattern": {
              "fillmode": "overlay",
              "size": 10,
              "solidity": 0.2
             }
            },
            "type": "bar"
           }
          ],
          "barpolar": [
           {
            "marker": {
             "line": {
              "color": "#E5ECF6",
              "width": 0.5
             },
             "pattern": {
              "fillmode": "overlay",
              "size": 10,
              "solidity": 0.2
             }
            },
            "type": "barpolar"
           }
          ],
          "carpet": [
           {
            "aaxis": {
             "endlinecolor": "#2a3f5f",
             "gridcolor": "white",
             "linecolor": "white",
             "minorgridcolor": "white",
             "startlinecolor": "#2a3f5f"
            },
            "baxis": {
             "endlinecolor": "#2a3f5f",
             "gridcolor": "white",
             "linecolor": "white",
             "minorgridcolor": "white",
             "startlinecolor": "#2a3f5f"
            },
            "type": "carpet"
           }
          ],
          "choropleth": [
           {
            "colorbar": {
             "outlinewidth": 0,
             "ticks": ""
            },
            "type": "choropleth"
           }
          ],
          "contour": [
           {
            "colorbar": {
             "outlinewidth": 0,
             "ticks": ""
            },
            "colorscale": [
             [
              0,
              "#0d0887"
             ],
             [
              0.1111111111111111,
              "#46039f"
             ],
             [
              0.2222222222222222,
              "#7201a8"
             ],
             [
              0.3333333333333333,
              "#9c179e"
             ],
             [
              0.4444444444444444,
              "#bd3786"
             ],
             [
              0.5555555555555556,
              "#d8576b"
             ],
             [
              0.6666666666666666,
              "#ed7953"
             ],
             [
              0.7777777777777778,
              "#fb9f3a"
             ],
             [
              0.8888888888888888,
              "#fdca26"
             ],
             [
              1,
              "#f0f921"
             ]
            ],
            "type": "contour"
           }
          ],
          "contourcarpet": [
           {
            "colorbar": {
             "outlinewidth": 0,
             "ticks": ""
            },
            "type": "contourcarpet"
           }
          ],
          "heatmap": [
           {
            "colorbar": {
             "outlinewidth": 0,
             "ticks": ""
            },
            "colorscale": [
             [
              0,
              "#0d0887"
             ],
             [
              0.1111111111111111,
              "#46039f"
             ],
             [
              0.2222222222222222,
              "#7201a8"
             ],
             [
              0.3333333333333333,
              "#9c179e"
             ],
             [
              0.4444444444444444,
              "#bd3786"
             ],
             [
              0.5555555555555556,
              "#d8576b"
             ],
             [
              0.6666666666666666,
              "#ed7953"
             ],
             [
              0.7777777777777778,
              "#fb9f3a"
             ],
             [
              0.8888888888888888,
              "#fdca26"
             ],
             [
              1,
              "#f0f921"
             ]
            ],
            "type": "heatmap"
           }
          ],
          "heatmapgl": [
           {
            "colorbar": {
             "outlinewidth": 0,
             "ticks": ""
            },
            "colorscale": [
             [
              0,
              "#0d0887"
             ],
             [
              0.1111111111111111,
              "#46039f"
             ],
             [
              0.2222222222222222,
              "#7201a8"
             ],
             [
              0.3333333333333333,
              "#9c179e"
             ],
             [
              0.4444444444444444,
              "#bd3786"
             ],
             [
              0.5555555555555556,
              "#d8576b"
             ],
             [
              0.6666666666666666,
              "#ed7953"
             ],
             [
              0.7777777777777778,
              "#fb9f3a"
             ],
             [
              0.8888888888888888,
              "#fdca26"
             ],
             [
              1,
              "#f0f921"
             ]
            ],
            "type": "heatmapgl"
           }
          ],
          "histogram": [
           {
            "marker": {
             "pattern": {
              "fillmode": "overlay",
              "size": 10,
              "solidity": 0.2
             }
            },
            "type": "histogram"
           }
          ],
          "histogram2d": [
           {
            "colorbar": {
             "outlinewidth": 0,
             "ticks": ""
            },
            "colorscale": [
             [
              0,
              "#0d0887"
             ],
             [
              0.1111111111111111,
              "#46039f"
             ],
             [
              0.2222222222222222,
              "#7201a8"
             ],
             [
              0.3333333333333333,
              "#9c179e"
             ],
             [
              0.4444444444444444,
              "#bd3786"
             ],
             [
              0.5555555555555556,
              "#d8576b"
             ],
             [
              0.6666666666666666,
              "#ed7953"
             ],
             [
              0.7777777777777778,
              "#fb9f3a"
             ],
             [
              0.8888888888888888,
              "#fdca26"
             ],
             [
              1,
              "#f0f921"
             ]
            ],
            "type": "histogram2d"
           }
          ],
          "histogram2dcontour": [
           {
            "colorbar": {
             "outlinewidth": 0,
             "ticks": ""
            },
            "colorscale": [
             [
              0,
              "#0d0887"
             ],
             [
              0.1111111111111111,
              "#46039f"
             ],
             [
              0.2222222222222222,
              "#7201a8"
             ],
             [
              0.3333333333333333,
              "#9c179e"
             ],
             [
              0.4444444444444444,
              "#bd3786"
             ],
             [
              0.5555555555555556,
              "#d8576b"
             ],
             [
              0.6666666666666666,
              "#ed7953"
             ],
             [
              0.7777777777777778,
              "#fb9f3a"
             ],
             [
              0.8888888888888888,
              "#fdca26"
             ],
             [
              1,
              "#f0f921"
             ]
            ],
            "type": "histogram2dcontour"
           }
          ],
          "mesh3d": [
           {
            "colorbar": {
             "outlinewidth": 0,
             "ticks": ""
            },
            "type": "mesh3d"
           }
          ],
          "parcoords": [
           {
            "line": {
             "colorbar": {
              "outlinewidth": 0,
              "ticks": ""
             }
            },
            "type": "parcoords"
           }
          ],
          "pie": [
           {
            "automargin": true,
            "type": "pie"
           }
          ],
          "scatter": [
           {
            "fillpattern": {
             "fillmode": "overlay",
             "size": 10,
             "solidity": 0.2
            },
            "type": "scatter"
           }
          ],
          "scatter3d": [
           {
            "line": {
             "colorbar": {
              "outlinewidth": 0,
              "ticks": ""
             }
            },
            "marker": {
             "colorbar": {
              "outlinewidth": 0,
              "ticks": ""
             }
            },
            "type": "scatter3d"
           }
          ],
          "scattercarpet": [
           {
            "marker": {
             "colorbar": {
              "outlinewidth": 0,
              "ticks": ""
             }
            },
            "type": "scattercarpet"
           }
          ],
          "scattergeo": [
           {
            "marker": {
             "colorbar": {
              "outlinewidth": 0,
              "ticks": ""
             }
            },
            "type": "scattergeo"
           }
          ],
          "scattergl": [
           {
            "marker": {
             "colorbar": {
              "outlinewidth": 0,
              "ticks": ""
             }
            },
            "type": "scattergl"
           }
          ],
          "scattermapbox": [
           {
            "marker": {
             "colorbar": {
              "outlinewidth": 0,
              "ticks": ""
             }
            },
            "type": "scattermapbox"
           }
          ],
          "scatterpolar": [
           {
            "marker": {
             "colorbar": {
              "outlinewidth": 0,
              "ticks": ""
             }
            },
            "type": "scatterpolar"
           }
          ],
          "scatterpolargl": [
           {
            "marker": {
             "colorbar": {
              "outlinewidth": 0,
              "ticks": ""
             }
            },
            "type": "scatterpolargl"
           }
          ],
          "scatterternary": [
           {
            "marker": {
             "colorbar": {
              "outlinewidth": 0,
              "ticks": ""
             }
            },
            "type": "scatterternary"
           }
          ],
          "surface": [
           {
            "colorbar": {
             "outlinewidth": 0,
             "ticks": ""
            },
            "colorscale": [
             [
              0,
              "#0d0887"
             ],
             [
              0.1111111111111111,
              "#46039f"
             ],
             [
              0.2222222222222222,
              "#7201a8"
             ],
             [
              0.3333333333333333,
              "#9c179e"
             ],
             [
              0.4444444444444444,
              "#bd3786"
             ],
             [
              0.5555555555555556,
              "#d8576b"
             ],
             [
              0.6666666666666666,
              "#ed7953"
             ],
             [
              0.7777777777777778,
              "#fb9f3a"
             ],
             [
              0.8888888888888888,
              "#fdca26"
             ],
             [
              1,
              "#f0f921"
             ]
            ],
            "type": "surface"
           }
          ],
          "table": [
           {
            "cells": {
             "fill": {
              "color": "#EBF0F8"
             },
             "line": {
              "color": "white"
             }
            },
            "header": {
             "fill": {
              "color": "#C8D4E3"
             },
             "line": {
              "color": "white"
             }
            },
            "type": "table"
           }
          ]
         },
         "layout": {
          "annotationdefaults": {
           "arrowcolor": "#2a3f5f",
           "arrowhead": 0,
           "arrowwidth": 1
          },
          "autotypenumbers": "strict",
          "coloraxis": {
           "colorbar": {
            "outlinewidth": 0,
            "ticks": ""
           }
          },
          "colorscale": {
           "diverging": [
            [
             0,
             "#8e0152"
            ],
            [
             0.1,
             "#c51b7d"
            ],
            [
             0.2,
             "#de77ae"
            ],
            [
             0.3,
             "#f1b6da"
            ],
            [
             0.4,
             "#fde0ef"
            ],
            [
             0.5,
             "#f7f7f7"
            ],
            [
             0.6,
             "#e6f5d0"
            ],
            [
             0.7,
             "#b8e186"
            ],
            [
             0.8,
             "#7fbc41"
            ],
            [
             0.9,
             "#4d9221"
            ],
            [
             1,
             "#276419"
            ]
           ],
           "sequential": [
            [
             0,
             "#0d0887"
            ],
            [
             0.1111111111111111,
             "#46039f"
            ],
            [
             0.2222222222222222,
             "#7201a8"
            ],
            [
             0.3333333333333333,
             "#9c179e"
            ],
            [
             0.4444444444444444,
             "#bd3786"
            ],
            [
             0.5555555555555556,
             "#d8576b"
            ],
            [
             0.6666666666666666,
             "#ed7953"
            ],
            [
             0.7777777777777778,
             "#fb9f3a"
            ],
            [
             0.8888888888888888,
             "#fdca26"
            ],
            [
             1,
             "#f0f921"
            ]
           ],
           "sequentialminus": [
            [
             0,
             "#0d0887"
            ],
            [
             0.1111111111111111,
             "#46039f"
            ],
            [
             0.2222222222222222,
             "#7201a8"
            ],
            [
             0.3333333333333333,
             "#9c179e"
            ],
            [
             0.4444444444444444,
             "#bd3786"
            ],
            [
             0.5555555555555556,
             "#d8576b"
            ],
            [
             0.6666666666666666,
             "#ed7953"
            ],
            [
             0.7777777777777778,
             "#fb9f3a"
            ],
            [
             0.8888888888888888,
             "#fdca26"
            ],
            [
             1,
             "#f0f921"
            ]
           ]
          },
          "colorway": [
           "#636efa",
           "#EF553B",
           "#00cc96",
           "#ab63fa",
           "#FFA15A",
           "#19d3f3",
           "#FF6692",
           "#B6E880",
           "#FF97FF",
           "#FECB52"
          ],
          "font": {
           "color": "#2a3f5f"
          },
          "geo": {
           "bgcolor": "white",
           "lakecolor": "white",
           "landcolor": "#E5ECF6",
           "showlakes": true,
           "showland": true,
           "subunitcolor": "white"
          },
          "hoverlabel": {
           "align": "left"
          },
          "hovermode": "closest",
          "mapbox": {
           "style": "light"
          },
          "paper_bgcolor": "white",
          "plot_bgcolor": "#E5ECF6",
          "polar": {
           "angularaxis": {
            "gridcolor": "white",
            "linecolor": "white",
            "ticks": ""
           },
           "bgcolor": "#E5ECF6",
           "radialaxis": {
            "gridcolor": "white",
            "linecolor": "white",
            "ticks": ""
           }
          },
          "scene": {
           "xaxis": {
            "backgroundcolor": "#E5ECF6",
            "gridcolor": "white",
            "gridwidth": 2,
            "linecolor": "white",
            "showbackground": true,
            "ticks": "",
            "zerolinecolor": "white"
           },
           "yaxis": {
            "backgroundcolor": "#E5ECF6",
            "gridcolor": "white",
            "gridwidth": 2,
            "linecolor": "white",
            "showbackground": true,
            "ticks": "",
            "zerolinecolor": "white"
           },
           "zaxis": {
            "backgroundcolor": "#E5ECF6",
            "gridcolor": "white",
            "gridwidth": 2,
            "linecolor": "white",
            "showbackground": true,
            "ticks": "",
            "zerolinecolor": "white"
           }
          },
          "shapedefaults": {
           "line": {
            "color": "#2a3f5f"
           }
          },
          "ternary": {
           "aaxis": {
            "gridcolor": "white",
            "linecolor": "white",
            "ticks": ""
           },
           "baxis": {
            "gridcolor": "white",
            "linecolor": "white",
            "ticks": ""
           },
           "bgcolor": "#E5ECF6",
           "caxis": {
            "gridcolor": "white",
            "linecolor": "white",
            "ticks": ""
           }
          },
          "title": {
           "x": 0.05
          },
          "xaxis": {
           "automargin": true,
           "gridcolor": "white",
           "linecolor": "white",
           "ticks": "",
           "title": {
            "standoff": 15
           },
           "zerolinecolor": "white",
           "zerolinewidth": 2
          },
          "yaxis": {
           "automargin": true,
           "gridcolor": "white",
           "linecolor": "white",
           "ticks": "",
           "title": {
            "standoff": 15
           },
           "zerolinecolor": "white",
           "zerolinewidth": 2
          }
         }
        },
        "title": {
         "text": "Scatter plot of Choke Size vs Oil Rate"
        },
        "xaxis": {
         "title": {
          "text": "Choke Size"
         }
        },
        "yaxis": {
         "title": {
          "text": "Oil Rate"
         }
        }
       }
      }
     },
     "metadata": {},
     "output_type": "display_data"
    }
   ],
   "source": [
    "# Create a scatter plot\n",
    "trace = go.Scatter(x=df_well4['Choke_well_4'], y=df_well4['Oil_Rate_well_4'], mode='markers')\n",
    "\n",
    "# Create layout\n",
    "layout = go.Layout(\n",
    "    title='Scatter plot of Choke Size vs Oil Rate',\n",
    "    xaxis=dict(title='Choke Size'),\n",
    "    yaxis=dict(title='Oil Rate'),\n",
    ")\n",
    "\n",
    "fig = go.Figure(data=[trace], layout=layout)\n",
    "\n",
    "fig.show()\n"
   ]
  },
  {
   "attachments": {},
   "cell_type": "markdown",
   "metadata": {},
   "source": [
    "Although there are 50% missing values in the choke size column, we will keep this column because there is a strong relationship between the choke size and oil rates."
   ]
  },
  {
   "cell_type": "code",
   "execution_count": 479,
   "metadata": {},
   "outputs": [
    {
     "data": {
      "text/html": [
       "<div>\n",
       "<style scoped>\n",
       "    .dataframe tbody tr th:only-of-type {\n",
       "        vertical-align: middle;\n",
       "    }\n",
       "\n",
       "    .dataframe tbody tr th {\n",
       "        vertical-align: top;\n",
       "    }\n",
       "\n",
       "    .dataframe thead th {\n",
       "        text-align: right;\n",
       "    }\n",
       "</style>\n",
       "<table border=\"1\" class=\"dataframe\">\n",
       "  <thead>\n",
       "    <tr style=\"text-align: right;\">\n",
       "      <th></th>\n",
       "      <th>Eng_Calender</th>\n",
       "      <th>Choke_well_1</th>\n",
       "      <th>WHT_well_1</th>\n",
       "      <th>WHP_well_1</th>\n",
       "      <th>Oil_Rate_well_1</th>\n",
       "      <th>delta_Q_well_1</th>\n",
       "      <th>Water_Rate_well_1</th>\n",
       "      <th>BS&amp;W_well_1</th>\n",
       "      <th>Gas_Rate_well_1</th>\n",
       "      <th>GOR_well_1</th>\n",
       "      <th>...</th>\n",
       "      <th>Choke_well_4</th>\n",
       "      <th>WHT_well_4</th>\n",
       "      <th>WHP_well_4</th>\n",
       "      <th>Oil_Rate_well_4</th>\n",
       "      <th>delta_Q_well_4</th>\n",
       "      <th>Water_Rate_well_4</th>\n",
       "      <th>BS&amp;W_well_4</th>\n",
       "      <th>Gas_Rate_well_4</th>\n",
       "      <th>GOR_well_4</th>\n",
       "      <th>total_oil_rate</th>\n",
       "    </tr>\n",
       "  </thead>\n",
       "  <tbody>\n",
       "    <tr>\n",
       "      <th>0</th>\n",
       "      <td>1999-01-19</td>\n",
       "      <td>44.0</td>\n",
       "      <td>76.400000</td>\n",
       "      <td>1785.58</td>\n",
       "      <td>7409.0</td>\n",
       "      <td>-15.875706</td>\n",
       "      <td>3.29</td>\n",
       "      <td>0.044386</td>\n",
       "      <td>6936.0</td>\n",
       "      <td>936.158726</td>\n",
       "      <td>...</td>\n",
       "      <td>62.0</td>\n",
       "      <td>80.450667</td>\n",
       "      <td>1286.15</td>\n",
       "      <td>10874.0</td>\n",
       "      <td>-43.344633</td>\n",
       "      <td>0.0</td>\n",
       "      <td>0.0</td>\n",
       "      <td>9600.0</td>\n",
       "      <td>882.839801</td>\n",
       "      <td>37263.0</td>\n",
       "    </tr>\n",
       "    <tr>\n",
       "      <th>1</th>\n",
       "      <td>1999-01-20</td>\n",
       "      <td>50.0</td>\n",
       "      <td>83.657051</td>\n",
       "      <td>1683.38</td>\n",
       "      <td>9205.0</td>\n",
       "      <td>1796.000000</td>\n",
       "      <td>0.00</td>\n",
       "      <td>0.000000</td>\n",
       "      <td>9420.0</td>\n",
       "      <td>1023.356871</td>\n",
       "      <td>...</td>\n",
       "      <td>62.0</td>\n",
       "      <td>80.000000</td>\n",
       "      <td>1316.60</td>\n",
       "      <td>10280.0</td>\n",
       "      <td>-594.000000</td>\n",
       "      <td>0.0</td>\n",
       "      <td>0.0</td>\n",
       "      <td>9200.0</td>\n",
       "      <td>894.941634</td>\n",
       "      <td>40202.0</td>\n",
       "    </tr>\n",
       "    <tr>\n",
       "      <th>2</th>\n",
       "      <td>1999-01-21</td>\n",
       "      <td>55.0</td>\n",
       "      <td>83.657051</td>\n",
       "      <td>1566.58</td>\n",
       "      <td>10454.0</td>\n",
       "      <td>1249.000000</td>\n",
       "      <td>0.00</td>\n",
       "      <td>0.000000</td>\n",
       "      <td>10812.0</td>\n",
       "      <td>1034.245265</td>\n",
       "      <td>...</td>\n",
       "      <td>62.0</td>\n",
       "      <td>80.000000</td>\n",
       "      <td>1307.90</td>\n",
       "      <td>10243.0</td>\n",
       "      <td>-37.000000</td>\n",
       "      <td>0.0</td>\n",
       "      <td>0.0</td>\n",
       "      <td>9200.0</td>\n",
       "      <td>898.174363</td>\n",
       "      <td>41892.0</td>\n",
       "    </tr>\n",
       "    <tr>\n",
       "      <th>3</th>\n",
       "      <td>1999-01-22</td>\n",
       "      <td>55.0</td>\n",
       "      <td>83.657051</td>\n",
       "      <td>1576.80</td>\n",
       "      <td>10006.0</td>\n",
       "      <td>-448.000000</td>\n",
       "      <td>0.00</td>\n",
       "      <td>0.000000</td>\n",
       "      <td>10832.0</td>\n",
       "      <td>1082.550470</td>\n",
       "      <td>...</td>\n",
       "      <td>62.0</td>\n",
       "      <td>80.000000</td>\n",
       "      <td>1296.30</td>\n",
       "      <td>10209.0</td>\n",
       "      <td>-34.000000</td>\n",
       "      <td>0.0</td>\n",
       "      <td>0.0</td>\n",
       "      <td>9120.0</td>\n",
       "      <td>893.329415</td>\n",
       "      <td>40416.0</td>\n",
       "    </tr>\n",
       "    <tr>\n",
       "      <th>4</th>\n",
       "      <td>1999-01-25</td>\n",
       "      <td>55.0</td>\n",
       "      <td>83.657051</td>\n",
       "      <td>1575.34</td>\n",
       "      <td>9877.0</td>\n",
       "      <td>-129.000000</td>\n",
       "      <td>0.00</td>\n",
       "      <td>0.000000</td>\n",
       "      <td>10976.0</td>\n",
       "      <td>1111.268604</td>\n",
       "      <td>...</td>\n",
       "      <td>50.0</td>\n",
       "      <td>80.450667</td>\n",
       "      <td>1595.00</td>\n",
       "      <td>9524.0</td>\n",
       "      <td>-685.000000</td>\n",
       "      <td>0.0</td>\n",
       "      <td>0.0</td>\n",
       "      <td>8119.2</td>\n",
       "      <td>852.498950</td>\n",
       "      <td>41433.0</td>\n",
       "    </tr>\n",
       "  </tbody>\n",
       "</table>\n",
       "<p>5 rows × 38 columns</p>\n",
       "</div>"
      ],
      "text/plain": [
       "  Eng_Calender  Choke_well_1  WHT_well_1  WHP_well_1  Oil_Rate_well_1  \\\n",
       "0   1999-01-19          44.0   76.400000     1785.58           7409.0   \n",
       "1   1999-01-20          50.0   83.657051     1683.38           9205.0   \n",
       "2   1999-01-21          55.0   83.657051     1566.58          10454.0   \n",
       "3   1999-01-22          55.0   83.657051     1576.80          10006.0   \n",
       "4   1999-01-25          55.0   83.657051     1575.34           9877.0   \n",
       "\n",
       "   delta_Q_well_1  Water_Rate_well_1  BS&W_well_1  Gas_Rate_well_1  \\\n",
       "0      -15.875706               3.29     0.044386           6936.0   \n",
       "1     1796.000000               0.00     0.000000           9420.0   \n",
       "2     1249.000000               0.00     0.000000          10812.0   \n",
       "3     -448.000000               0.00     0.000000          10832.0   \n",
       "4     -129.000000               0.00     0.000000          10976.0   \n",
       "\n",
       "    GOR_well_1  ...  Choke_well_4  WHT_well_4  WHP_well_4  Oil_Rate_well_4  \\\n",
       "0   936.158726  ...          62.0   80.450667     1286.15          10874.0   \n",
       "1  1023.356871  ...          62.0   80.000000     1316.60          10280.0   \n",
       "2  1034.245265  ...          62.0   80.000000     1307.90          10243.0   \n",
       "3  1082.550470  ...          62.0   80.000000     1296.30          10209.0   \n",
       "4  1111.268604  ...          50.0   80.450667     1595.00           9524.0   \n",
       "\n",
       "   delta_Q_well_4  Water_Rate_well_4  BS&W_well_4  Gas_Rate_well_4  \\\n",
       "0      -43.344633                0.0          0.0           9600.0   \n",
       "1     -594.000000                0.0          0.0           9200.0   \n",
       "2      -37.000000                0.0          0.0           9200.0   \n",
       "3      -34.000000                0.0          0.0           9120.0   \n",
       "4     -685.000000                0.0          0.0           8119.2   \n",
       "\n",
       "   GOR_well_4  total_oil_rate  \n",
       "0  882.839801         37263.0  \n",
       "1  894.941634         40202.0  \n",
       "2  898.174363         41892.0  \n",
       "3  893.329415         40416.0  \n",
       "4  852.498950         41433.0  \n",
       "\n",
       "[5 rows x 38 columns]"
      ]
     },
     "execution_count": 479,
     "metadata": {},
     "output_type": "execute_result"
    }
   ],
   "source": [
    "df.head()"
   ]
  },
  {
   "cell_type": "code",
   "execution_count": 480,
   "metadata": {},
   "outputs": [],
   "source": [
    "df.drop([ 'Choke_well_1', 'WHT_well_1',  'delta_Q_well_1', 'Water_Rate_well_1', 'BS&W_well_1',\n",
    "       'Gas_Rate_well_1',  'Choke_well_2', 'WHT_well_2',\n",
    "       'delta_Q_well_2', 'Water_Rate_well_2',\n",
    "       'BS&W_well_2', 'Gas_Rate_well_2', 'Choke_well_3',\n",
    "       'WHT_well_3',  'delta_Q_well_3',\n",
    "       'Water_Rate_well_3', 'BS&W_well_3', 'Gas_Rate_well_3', \n",
    "       'Choke_well_4', 'WHT_well_4', \n",
    "       'delta_Q_well_4', 'Water_Rate_well_4', 'BS&W_well_4', 'Gas_Rate_well_4'], axis=1, inplace=True)\n",
    "\n",
    "df.rename(columns = {'Eng_Calender': 'Date'}, inplace=True)"
   ]
  },
  {
   "cell_type": "code",
   "execution_count": 481,
   "metadata": {},
   "outputs": [
    {
     "data": {
      "text/html": [
       "<div>\n",
       "<style scoped>\n",
       "    .dataframe tbody tr th:only-of-type {\n",
       "        vertical-align: middle;\n",
       "    }\n",
       "\n",
       "    .dataframe tbody tr th {\n",
       "        vertical-align: top;\n",
       "    }\n",
       "\n",
       "    .dataframe thead th {\n",
       "        text-align: right;\n",
       "    }\n",
       "</style>\n",
       "<table border=\"1\" class=\"dataframe\">\n",
       "  <thead>\n",
       "    <tr style=\"text-align: right;\">\n",
       "      <th></th>\n",
       "      <th>Date</th>\n",
       "      <th>WHP_well_1</th>\n",
       "      <th>Oil_Rate_well_1</th>\n",
       "      <th>GOR_well_1</th>\n",
       "      <th>WHP_well_2</th>\n",
       "      <th>Oil_Rate_well_2</th>\n",
       "      <th>GOR_well_2</th>\n",
       "      <th>WHP_well_3</th>\n",
       "      <th>Oil_Rate_well_3</th>\n",
       "      <th>GOR_well_3</th>\n",
       "      <th>WHP_well_4</th>\n",
       "      <th>Oil_Rate_well_4</th>\n",
       "      <th>GOR_well_4</th>\n",
       "      <th>total_oil_rate</th>\n",
       "    </tr>\n",
       "  </thead>\n",
       "  <tbody>\n",
       "    <tr>\n",
       "      <th>0</th>\n",
       "      <td>1999-01-19</td>\n",
       "      <td>1785.58</td>\n",
       "      <td>7409.0</td>\n",
       "      <td>936.158726</td>\n",
       "      <td>1378.95</td>\n",
       "      <td>11092.0</td>\n",
       "      <td>787.107825</td>\n",
       "      <td>1541.35</td>\n",
       "      <td>7888.0</td>\n",
       "      <td>746.957404</td>\n",
       "      <td>1286.15</td>\n",
       "      <td>10874.0</td>\n",
       "      <td>882.839801</td>\n",
       "      <td>37263.0</td>\n",
       "    </tr>\n",
       "    <tr>\n",
       "      <th>1</th>\n",
       "      <td>1999-01-20</td>\n",
       "      <td>1683.38</td>\n",
       "      <td>9205.0</td>\n",
       "      <td>1023.356871</td>\n",
       "      <td>1326.75</td>\n",
       "      <td>11784.0</td>\n",
       "      <td>853.971487</td>\n",
       "      <td>1442.75</td>\n",
       "      <td>8933.0</td>\n",
       "      <td>803.112056</td>\n",
       "      <td>1316.60</td>\n",
       "      <td>10280.0</td>\n",
       "      <td>894.941634</td>\n",
       "      <td>40202.0</td>\n",
       "    </tr>\n",
       "    <tr>\n",
       "      <th>2</th>\n",
       "      <td>1999-01-21</td>\n",
       "      <td>1566.58</td>\n",
       "      <td>10454.0</td>\n",
       "      <td>1034.245265</td>\n",
       "      <td>1338.35</td>\n",
       "      <td>11637.0</td>\n",
       "      <td>856.578156</td>\n",
       "      <td>1339.80</td>\n",
       "      <td>9558.0</td>\n",
       "      <td>813.810421</td>\n",
       "      <td>1307.90</td>\n",
       "      <td>10243.0</td>\n",
       "      <td>898.174363</td>\n",
       "      <td>41892.0</td>\n",
       "    </tr>\n",
       "    <tr>\n",
       "      <th>3</th>\n",
       "      <td>1999-01-22</td>\n",
       "      <td>1576.80</td>\n",
       "      <td>10006.0</td>\n",
       "      <td>1082.550470</td>\n",
       "      <td>1363.00</td>\n",
       "      <td>11305.0</td>\n",
       "      <td>863.617868</td>\n",
       "      <td>1370.25</td>\n",
       "      <td>8896.0</td>\n",
       "      <td>838.309353</td>\n",
       "      <td>1296.30</td>\n",
       "      <td>10209.0</td>\n",
       "      <td>893.329415</td>\n",
       "      <td>40416.0</td>\n",
       "    </tr>\n",
       "    <tr>\n",
       "      <th>4</th>\n",
       "      <td>1999-01-25</td>\n",
       "      <td>1575.34</td>\n",
       "      <td>9877.0</td>\n",
       "      <td>1111.268604</td>\n",
       "      <td>1138.25</td>\n",
       "      <td>13307.0</td>\n",
       "      <td>897.692944</td>\n",
       "      <td>1377.50</td>\n",
       "      <td>8725.0</td>\n",
       "      <td>842.269341</td>\n",
       "      <td>1595.00</td>\n",
       "      <td>9524.0</td>\n",
       "      <td>852.498950</td>\n",
       "      <td>41433.0</td>\n",
       "    </tr>\n",
       "  </tbody>\n",
       "</table>\n",
       "</div>"
      ],
      "text/plain": [
       "        Date  WHP_well_1  Oil_Rate_well_1   GOR_well_1  WHP_well_2  \\\n",
       "0 1999-01-19     1785.58           7409.0   936.158726     1378.95   \n",
       "1 1999-01-20     1683.38           9205.0  1023.356871     1326.75   \n",
       "2 1999-01-21     1566.58          10454.0  1034.245265     1338.35   \n",
       "3 1999-01-22     1576.80          10006.0  1082.550470     1363.00   \n",
       "4 1999-01-25     1575.34           9877.0  1111.268604     1138.25   \n",
       "\n",
       "   Oil_Rate_well_2  GOR_well_2  WHP_well_3  Oil_Rate_well_3  GOR_well_3  \\\n",
       "0          11092.0  787.107825     1541.35           7888.0  746.957404   \n",
       "1          11784.0  853.971487     1442.75           8933.0  803.112056   \n",
       "2          11637.0  856.578156     1339.80           9558.0  813.810421   \n",
       "3          11305.0  863.617868     1370.25           8896.0  838.309353   \n",
       "4          13307.0  897.692944     1377.50           8725.0  842.269341   \n",
       "\n",
       "   WHP_well_4  Oil_Rate_well_4  GOR_well_4  total_oil_rate  \n",
       "0     1286.15          10874.0  882.839801         37263.0  \n",
       "1     1316.60          10280.0  894.941634         40202.0  \n",
       "2     1307.90          10243.0  898.174363         41892.0  \n",
       "3     1296.30          10209.0  893.329415         40416.0  \n",
       "4     1595.00           9524.0  852.498950         41433.0  "
      ]
     },
     "execution_count": 481,
     "metadata": {},
     "output_type": "execute_result"
    }
   ],
   "source": [
    "df.head()"
   ]
  },
  {
   "cell_type": "code",
   "execution_count": 482,
   "metadata": {},
   "outputs": [
    {
     "data": {
      "text/plain": [
       "Date               0\n",
       "WHP_well_1         0\n",
       "Oil_Rate_well_1    0\n",
       "GOR_well_1         0\n",
       "WHP_well_2         0\n",
       "Oil_Rate_well_2    0\n",
       "GOR_well_2         0\n",
       "WHP_well_3         0\n",
       "Oil_Rate_well_3    0\n",
       "GOR_well_3         0\n",
       "WHP_well_4         0\n",
       "Oil_Rate_well_4    0\n",
       "GOR_well_4         0\n",
       "total_oil_rate     0\n",
       "dtype: int64"
      ]
     },
     "execution_count": 482,
     "metadata": {},
     "output_type": "execute_result"
    }
   ],
   "source": [
    "df.isna().sum()"
   ]
  },
  {
   "attachments": {},
   "cell_type": "markdown",
   "metadata": {},
   "source": [
    "# Model building "
   ]
  },
  {
   "cell_type": "code",
   "execution_count": 483,
   "metadata": {},
   "outputs": [
    {
     "name": "stdout",
     "output_type": "stream",
     "text": [
      "<class 'pandas.core.frame.DataFrame'>\n",
      "Int64Index: 178 entries, 0 to 177\n",
      "Data columns (total 14 columns):\n",
      " #   Column           Non-Null Count  Dtype         \n",
      "---  ------           --------------  -----         \n",
      " 0   Date             178 non-null    datetime64[ns]\n",
      " 1   WHP_well_1       178 non-null    float64       \n",
      " 2   Oil_Rate_well_1  178 non-null    float64       \n",
      " 3   GOR_well_1       178 non-null    float64       \n",
      " 4   WHP_well_2       178 non-null    float64       \n",
      " 5   Oil_Rate_well_2  178 non-null    float64       \n",
      " 6   GOR_well_2       178 non-null    float64       \n",
      " 7   WHP_well_3       178 non-null    float64       \n",
      " 8   Oil_Rate_well_3  178 non-null    float64       \n",
      " 9   GOR_well_3       178 non-null    float64       \n",
      " 10  WHP_well_4       178 non-null    float64       \n",
      " 11  Oil_Rate_well_4  178 non-null    float64       \n",
      " 12  GOR_well_4       178 non-null    float64       \n",
      " 13  total_oil_rate   178 non-null    float64       \n",
      "dtypes: datetime64[ns](1), float64(13)\n",
      "memory usage: 20.9 KB\n"
     ]
    }
   ],
   "source": [
    "df.info()"
   ]
  },
  {
   "cell_type": "code",
   "execution_count": 484,
   "metadata": {},
   "outputs": [
    {
     "data": {
      "text/html": [
       "<div>\n",
       "<style scoped>\n",
       "    .dataframe tbody tr th:only-of-type {\n",
       "        vertical-align: middle;\n",
       "    }\n",
       "\n",
       "    .dataframe tbody tr th {\n",
       "        vertical-align: top;\n",
       "    }\n",
       "\n",
       "    .dataframe thead th {\n",
       "        text-align: right;\n",
       "    }\n",
       "</style>\n",
       "<table border=\"1\" class=\"dataframe\">\n",
       "  <thead>\n",
       "    <tr style=\"text-align: right;\">\n",
       "      <th></th>\n",
       "      <th>WHP_well_1</th>\n",
       "      <th>Oil_Rate_well_1</th>\n",
       "      <th>GOR_well_1</th>\n",
       "      <th>WHP_well_2</th>\n",
       "      <th>Oil_Rate_well_2</th>\n",
       "      <th>GOR_well_2</th>\n",
       "      <th>WHP_well_3</th>\n",
       "      <th>Oil_Rate_well_3</th>\n",
       "      <th>GOR_well_3</th>\n",
       "      <th>WHP_well_4</th>\n",
       "      <th>Oil_Rate_well_4</th>\n",
       "      <th>GOR_well_4</th>\n",
       "      <th>total_oil_rate</th>\n",
       "    </tr>\n",
       "  </thead>\n",
       "  <tbody>\n",
       "    <tr>\n",
       "      <th>count</th>\n",
       "      <td>178.000000</td>\n",
       "      <td>178.000000</td>\n",
       "      <td>178.000000</td>\n",
       "      <td>178.000000</td>\n",
       "      <td>178.000000</td>\n",
       "      <td>178.000000</td>\n",
       "      <td>178.000000</td>\n",
       "      <td>178.000000</td>\n",
       "      <td>178.000000</td>\n",
       "      <td>178.000000</td>\n",
       "      <td>178.000000</td>\n",
       "      <td>178.000000</td>\n",
       "      <td>178.000000</td>\n",
       "    </tr>\n",
       "    <tr>\n",
       "      <th>mean</th>\n",
       "      <td>2002.073539</td>\n",
       "      <td>4960.454888</td>\n",
       "      <td>1612.332778</td>\n",
       "      <td>1673.471067</td>\n",
       "      <td>6894.411132</td>\n",
       "      <td>1328.874353</td>\n",
       "      <td>1557.495506</td>\n",
       "      <td>4839.853090</td>\n",
       "      <td>1463.612923</td>\n",
       "      <td>1926.325000</td>\n",
       "      <td>4021.297472</td>\n",
       "      <td>2198.034868</td>\n",
       "      <td>20716.016581</td>\n",
       "    </tr>\n",
       "    <tr>\n",
       "      <th>std</th>\n",
       "      <td>164.027487</td>\n",
       "      <td>1963.470966</td>\n",
       "      <td>293.917358</td>\n",
       "      <td>314.614842</td>\n",
       "      <td>3614.268585</td>\n",
       "      <td>431.046313</td>\n",
       "      <td>350.797969</td>\n",
       "      <td>2256.216037</td>\n",
       "      <td>360.613526</td>\n",
       "      <td>322.154823</td>\n",
       "      <td>2187.308858</td>\n",
       "      <td>665.281509</td>\n",
       "      <td>8517.906197</td>\n",
       "    </tr>\n",
       "    <tr>\n",
       "      <th>min</th>\n",
       "      <td>1554.900000</td>\n",
       "      <td>2337.700000</td>\n",
       "      <td>936.158726</td>\n",
       "      <td>951.200000</td>\n",
       "      <td>2188.700000</td>\n",
       "      <td>729.965159</td>\n",
       "      <td>725.000000</td>\n",
       "      <td>882.000000</td>\n",
       "      <td>746.957404</td>\n",
       "      <td>0.000000</td>\n",
       "      <td>1344.000000</td>\n",
       "      <td>671.454956</td>\n",
       "      <td>10091.300000</td>\n",
       "    </tr>\n",
       "    <tr>\n",
       "      <th>25%</th>\n",
       "      <td>1906.387500</td>\n",
       "      <td>3560.825000</td>\n",
       "      <td>1440.200339</td>\n",
       "      <td>1353.212500</td>\n",
       "      <td>3750.825000</td>\n",
       "      <td>897.590921</td>\n",
       "      <td>1237.575000</td>\n",
       "      <td>3421.725000</td>\n",
       "      <td>1218.308195</td>\n",
       "      <td>1759.575000</td>\n",
       "      <td>2535.825000</td>\n",
       "      <td>1700.645576</td>\n",
       "      <td>14163.100000</td>\n",
       "    </tr>\n",
       "    <tr>\n",
       "      <th>50%</th>\n",
       "      <td>2026.065000</td>\n",
       "      <td>4170.350000</td>\n",
       "      <td>1587.843301</td>\n",
       "      <td>1782.775000</td>\n",
       "      <td>4754.800000</td>\n",
       "      <td>1328.241400</td>\n",
       "      <td>1456.525000</td>\n",
       "      <td>4336.000000</td>\n",
       "      <td>1420.335543</td>\n",
       "      <td>2012.600000</td>\n",
       "      <td>3402.850000</td>\n",
       "      <td>2445.753627</td>\n",
       "      <td>15741.500000</td>\n",
       "    </tr>\n",
       "    <tr>\n",
       "      <th>75%</th>\n",
       "      <td>2123.935000</td>\n",
       "      <td>5901.427500</td>\n",
       "      <td>1846.517758</td>\n",
       "      <td>1963.300000</td>\n",
       "      <td>11039.750000</td>\n",
       "      <td>1671.301476</td>\n",
       "      <td>1891.887500</td>\n",
       "      <td>5791.250000</td>\n",
       "      <td>1611.074430</td>\n",
       "      <td>2180.800000</td>\n",
       "      <td>4724.700000</td>\n",
       "      <td>2696.770381</td>\n",
       "      <td>26968.495000</td>\n",
       "    </tr>\n",
       "    <tr>\n",
       "      <th>max</th>\n",
       "      <td>2359.360000</td>\n",
       "      <td>10454.000000</td>\n",
       "      <td>2651.560624</td>\n",
       "      <td>2043.050000</td>\n",
       "      <td>13477.000000</td>\n",
       "      <td>2411.514902</td>\n",
       "      <td>2209.800000</td>\n",
       "      <td>11417.000000</td>\n",
       "      <td>2713.312904</td>\n",
       "      <td>2328.700000</td>\n",
       "      <td>10874.000000</td>\n",
       "      <td>3799.712067</td>\n",
       "      <td>44305.000000</td>\n",
       "    </tr>\n",
       "  </tbody>\n",
       "</table>\n",
       "</div>"
      ],
      "text/plain": [
       "        WHP_well_1  Oil_Rate_well_1   GOR_well_1   WHP_well_2  \\\n",
       "count   178.000000       178.000000   178.000000   178.000000   \n",
       "mean   2002.073539      4960.454888  1612.332778  1673.471067   \n",
       "std     164.027487      1963.470966   293.917358   314.614842   \n",
       "min    1554.900000      2337.700000   936.158726   951.200000   \n",
       "25%    1906.387500      3560.825000  1440.200339  1353.212500   \n",
       "50%    2026.065000      4170.350000  1587.843301  1782.775000   \n",
       "75%    2123.935000      5901.427500  1846.517758  1963.300000   \n",
       "max    2359.360000     10454.000000  2651.560624  2043.050000   \n",
       "\n",
       "       Oil_Rate_well_2   GOR_well_2   WHP_well_3  Oil_Rate_well_3  \\\n",
       "count       178.000000   178.000000   178.000000       178.000000   \n",
       "mean       6894.411132  1328.874353  1557.495506      4839.853090   \n",
       "std        3614.268585   431.046313   350.797969      2256.216037   \n",
       "min        2188.700000   729.965159   725.000000       882.000000   \n",
       "25%        3750.825000   897.590921  1237.575000      3421.725000   \n",
       "50%        4754.800000  1328.241400  1456.525000      4336.000000   \n",
       "75%       11039.750000  1671.301476  1891.887500      5791.250000   \n",
       "max       13477.000000  2411.514902  2209.800000     11417.000000   \n",
       "\n",
       "        GOR_well_3   WHP_well_4  Oil_Rate_well_4   GOR_well_4  total_oil_rate  \n",
       "count   178.000000   178.000000       178.000000   178.000000      178.000000  \n",
       "mean   1463.612923  1926.325000      4021.297472  2198.034868    20716.016581  \n",
       "std     360.613526   322.154823      2187.308858   665.281509     8517.906197  \n",
       "min     746.957404     0.000000      1344.000000   671.454956    10091.300000  \n",
       "25%    1218.308195  1759.575000      2535.825000  1700.645576    14163.100000  \n",
       "50%    1420.335543  2012.600000      3402.850000  2445.753627    15741.500000  \n",
       "75%    1611.074430  2180.800000      4724.700000  2696.770381    26968.495000  \n",
       "max    2713.312904  2328.700000     10874.000000  3799.712067    44305.000000  "
      ]
     },
     "execution_count": 484,
     "metadata": {},
     "output_type": "execute_result"
    }
   ],
   "source": [
    "df.describe()"
   ]
  },
  {
   "cell_type": "code",
   "execution_count": 485,
   "metadata": {},
   "outputs": [
    {
     "data": {
      "application/vnd.plotly.v1+json": {
       "config": {
        "plotlyServerURL": "https://plot.ly"
       },
       "data": [
        {
         "colorscale": [
          [
           0,
           "#440154"
          ],
          [
           0.1111111111111111,
           "#482878"
          ],
          [
           0.2222222222222222,
           "#3e4989"
          ],
          [
           0.3333333333333333,
           "#31688e"
          ],
          [
           0.4444444444444444,
           "#26828e"
          ],
          [
           0.5555555555555556,
           "#1f9e89"
          ],
          [
           0.6666666666666666,
           "#35b779"
          ],
          [
           0.7777777777777778,
           "#6ece58"
          ],
          [
           0.8888888888888888,
           "#b5de2b"
          ],
          [
           1,
           "#fde725"
          ]
         ],
         "reversescale": false,
         "showscale": true,
         "type": "heatmap",
         "x": [
          "WHP_well_1",
          "Oil_Rate_well_1",
          "GOR_well_1",
          "WHP_well_2",
          "Oil_Rate_well_2",
          "GOR_well_2",
          "WHP_well_3",
          "Oil_Rate_well_3",
          "GOR_well_3",
          "WHP_well_4",
          "Oil_Rate_well_4",
          "GOR_well_4",
          "total_oil_rate"
         ],
         "y": [
          "WHP_well_1",
          "Oil_Rate_well_1",
          "GOR_well_1",
          "WHP_well_2",
          "Oil_Rate_well_2",
          "GOR_well_2",
          "WHP_well_3",
          "Oil_Rate_well_3",
          "GOR_well_3",
          "WHP_well_4",
          "Oil_Rate_well_4",
          "GOR_well_4",
          "total_oil_rate"
         ],
         "z": [
          [
           1,
           -0.9113523559705381,
           0.6081913546407897,
           0.2735951401276218,
           -0.36313035927512255,
           0.40755863746680454,
           0.28342855068715955,
           -0.5333653951004353,
           0.4699430447252461,
           0.5432317806559198,
           -0.5785111104599681,
           0.5874356785389067,
           -0.6539910684967472
          ],
          [
           -0.9113523559705381,
           1,
           -0.44671232658285737,
           -0.531108689038641,
           0.5889739329219736,
           -0.6230053472201055,
           0.00010461170162402615,
           0.5570400547353632,
           -0.37037824778949274,
           -0.4430911192668916,
           0.7084877306358031,
           -0.7277251052875027,
           0.8099015161269035
          ],
          [
           0.6081913546407897,
           -0.44671232658285737,
           1,
           0.001978663951365931,
           -0.04926217723580091,
           0.10487929228088073,
           0.523721232104478,
           -0.4638675434367149,
           0.3050922610534098,
           0.645266172980375,
           -0.4682414961202161,
           0.4146553836807042,
           -0.3669830957759725
          ],
          [
           0.2735951401276218,
           -0.531108689038641,
           0.001978663951365931,
           1,
           -0.9701097733963112,
           0.7666496594011064,
           -0.30156391678968614,
           -0.4598489615902188,
           0.09714247059362352,
           0.19044342293485234,
           -0.6839969189688179,
           0.73529070600285,
           -0.8315053871905347
          ],
          [
           -0.36313035927512255,
           0.5889739329219736,
           -0.04926217723580091,
           -0.9701097733963112,
           1,
           -0.7778306013445172,
           0.22271956351945973,
           0.5299546013935151,
           -0.15959846104448752,
           -0.2260383844508323,
           0.701068290093858,
           -0.7681254528730851,
           0.8804800828241487
          ],
          [
           0.40755863746680454,
           -0.6230053472201055,
           0.10487929228088073,
           0.7666496594011064,
           -0.7778306013445172,
           1,
           -0.34533598190609316,
           -0.37920410762704787,
           0.16832552451653127,
           0.20406228768611193,
           -0.6630267658685185,
           0.7361127485631311,
           -0.7443557346604422
          ],
          [
           0.28342855068715955,
           0.00010461170162402615,
           0.523721232104478,
           -0.30156391678968614,
           0.22271956351945973,
           -0.34533598190609316,
           1,
           -0.5169232657158163,
           0.4561818339481754,
           0.4991263061888159,
           -0.04154934988856647,
           0.06804041265552423,
           -0.05306446077374239
          ],
          [
           -0.5333653951004353,
           0.5570400547353632,
           -0.4638675434367149,
           -0.4598489615902188,
           0.5299546013935151,
           -0.37920410762704787,
           -0.5169232657158163,
           1,
           -0.47239168481578037,
           -0.45134063482647296,
           0.6741374971280267,
           -0.7188828647195276,
           0.7912617305124293
          ],
          [
           0.4699430447252461,
           -0.37037824778949274,
           0.3050922610534098,
           0.09714247059362352,
           -0.15959846104448752,
           0.16832552451653127,
           0.4561818339481754,
           -0.47239168481578037,
           1,
           0.46831403045653625,
           -0.4101495773027063,
           0.43308216625605184,
           -0.38354497724934095
          ],
          [
           0.5432317806559198,
           -0.4430911192668916,
           0.645266172980375,
           0.19044342293485234,
           -0.2260383844508323,
           0.20406228768611193,
           0.4991263061888159,
           -0.45134063482647296,
           0.46831403045653625,
           1,
           -0.5803711417975645,
           0.4831806981711525,
           -0.46663262142180106
          ],
          [
           -0.5785111104599681,
           0.7084877306358031,
           -0.4682414961202161,
           -0.6839969189688179,
           0.701068290093858,
           -0.6630267658685185,
           -0.04154934988856647,
           0.6741374971280267,
           -0.4101495773027063,
           -0.5803711417975645,
           1,
           -0.8409001880545063,
           0.8961419273009907
          ],
          [
           0.5874356785389067,
           -0.7277251052875027,
           0.4146553836807042,
           0.73529070600285,
           -0.7681254528730851,
           0.7361127485631311,
           0.06804041265552423,
           -0.7188828647195276,
           0.43308216625605184,
           0.4831806981711525,
           -0.8409001880545063,
           1,
           -0.9000266157123341
          ],
          [
           -0.6539910684967472,
           0.8099015161269035,
           -0.3669830957759725,
           -0.8315053871905347,
           0.8804800828241487,
           -0.7443557346604422,
           -0.05306446077374239,
           0.7912617305124293,
           -0.38354497724934095,
           -0.46663262142180106,
           0.8961419273009907,
           -0.9000266157123341,
           1
          ]
         ]
        }
       ],
       "layout": {
        "annotations": [
         {
          "font": {
           "color": "#000000"
          },
          "showarrow": false,
          "text": "1.0",
          "x": "WHP_well_1",
          "xref": "x",
          "y": "WHP_well_1",
          "yref": "y"
         },
         {
          "font": {
           "color": "#FFFFFF"
          },
          "showarrow": false,
          "text": "-0.91",
          "x": "Oil_Rate_well_1",
          "xref": "x",
          "y": "WHP_well_1",
          "yref": "y"
         },
         {
          "font": {
           "color": "#000000"
          },
          "showarrow": false,
          "text": "0.61",
          "x": "GOR_well_1",
          "xref": "x",
          "y": "WHP_well_1",
          "yref": "y"
         },
         {
          "font": {
           "color": "#000000"
          },
          "showarrow": false,
          "text": "0.27",
          "x": "WHP_well_2",
          "xref": "x",
          "y": "WHP_well_1",
          "yref": "y"
         },
         {
          "font": {
           "color": "#FFFFFF"
          },
          "showarrow": false,
          "text": "-0.36",
          "x": "Oil_Rate_well_2",
          "xref": "x",
          "y": "WHP_well_1",
          "yref": "y"
         },
         {
          "font": {
           "color": "#000000"
          },
          "showarrow": false,
          "text": "0.41",
          "x": "GOR_well_2",
          "xref": "x",
          "y": "WHP_well_1",
          "yref": "y"
         },
         {
          "font": {
           "color": "#000000"
          },
          "showarrow": false,
          "text": "0.28",
          "x": "WHP_well_3",
          "xref": "x",
          "y": "WHP_well_1",
          "yref": "y"
         },
         {
          "font": {
           "color": "#FFFFFF"
          },
          "showarrow": false,
          "text": "-0.53",
          "x": "Oil_Rate_well_3",
          "xref": "x",
          "y": "WHP_well_1",
          "yref": "y"
         },
         {
          "font": {
           "color": "#000000"
          },
          "showarrow": false,
          "text": "0.47",
          "x": "GOR_well_3",
          "xref": "x",
          "y": "WHP_well_1",
          "yref": "y"
         },
         {
          "font": {
           "color": "#000000"
          },
          "showarrow": false,
          "text": "0.54",
          "x": "WHP_well_4",
          "xref": "x",
          "y": "WHP_well_1",
          "yref": "y"
         },
         {
          "font": {
           "color": "#FFFFFF"
          },
          "showarrow": false,
          "text": "-0.58",
          "x": "Oil_Rate_well_4",
          "xref": "x",
          "y": "WHP_well_1",
          "yref": "y"
         },
         {
          "font": {
           "color": "#000000"
          },
          "showarrow": false,
          "text": "0.59",
          "x": "GOR_well_4",
          "xref": "x",
          "y": "WHP_well_1",
          "yref": "y"
         },
         {
          "font": {
           "color": "#FFFFFF"
          },
          "showarrow": false,
          "text": "-0.65",
          "x": "total_oil_rate",
          "xref": "x",
          "y": "WHP_well_1",
          "yref": "y"
         },
         {
          "font": {
           "color": "#FFFFFF"
          },
          "showarrow": false,
          "text": "-0.91",
          "x": "WHP_well_1",
          "xref": "x",
          "y": "Oil_Rate_well_1",
          "yref": "y"
         },
         {
          "font": {
           "color": "#000000"
          },
          "showarrow": false,
          "text": "1.0",
          "x": "Oil_Rate_well_1",
          "xref": "x",
          "y": "Oil_Rate_well_1",
          "yref": "y"
         },
         {
          "font": {
           "color": "#FFFFFF"
          },
          "showarrow": false,
          "text": "-0.45",
          "x": "GOR_well_1",
          "xref": "x",
          "y": "Oil_Rate_well_1",
          "yref": "y"
         },
         {
          "font": {
           "color": "#FFFFFF"
          },
          "showarrow": false,
          "text": "-0.53",
          "x": "WHP_well_2",
          "xref": "x",
          "y": "Oil_Rate_well_1",
          "yref": "y"
         },
         {
          "font": {
           "color": "#000000"
          },
          "showarrow": false,
          "text": "0.59",
          "x": "Oil_Rate_well_2",
          "xref": "x",
          "y": "Oil_Rate_well_1",
          "yref": "y"
         },
         {
          "font": {
           "color": "#FFFFFF"
          },
          "showarrow": false,
          "text": "-0.62",
          "x": "GOR_well_2",
          "xref": "x",
          "y": "Oil_Rate_well_1",
          "yref": "y"
         },
         {
          "font": {
           "color": "#FFFFFF"
          },
          "showarrow": false,
          "text": "0.0",
          "x": "WHP_well_3",
          "xref": "x",
          "y": "Oil_Rate_well_1",
          "yref": "y"
         },
         {
          "font": {
           "color": "#000000"
          },
          "showarrow": false,
          "text": "0.56",
          "x": "Oil_Rate_well_3",
          "xref": "x",
          "y": "Oil_Rate_well_1",
          "yref": "y"
         },
         {
          "font": {
           "color": "#FFFFFF"
          },
          "showarrow": false,
          "text": "-0.37",
          "x": "GOR_well_3",
          "xref": "x",
          "y": "Oil_Rate_well_1",
          "yref": "y"
         },
         {
          "font": {
           "color": "#FFFFFF"
          },
          "showarrow": false,
          "text": "-0.44",
          "x": "WHP_well_4",
          "xref": "x",
          "y": "Oil_Rate_well_1",
          "yref": "y"
         },
         {
          "font": {
           "color": "#000000"
          },
          "showarrow": false,
          "text": "0.71",
          "x": "Oil_Rate_well_4",
          "xref": "x",
          "y": "Oil_Rate_well_1",
          "yref": "y"
         },
         {
          "font": {
           "color": "#FFFFFF"
          },
          "showarrow": false,
          "text": "-0.73",
          "x": "GOR_well_4",
          "xref": "x",
          "y": "Oil_Rate_well_1",
          "yref": "y"
         },
         {
          "font": {
           "color": "#000000"
          },
          "showarrow": false,
          "text": "0.81",
          "x": "total_oil_rate",
          "xref": "x",
          "y": "Oil_Rate_well_1",
          "yref": "y"
         },
         {
          "font": {
           "color": "#000000"
          },
          "showarrow": false,
          "text": "0.61",
          "x": "WHP_well_1",
          "xref": "x",
          "y": "GOR_well_1",
          "yref": "y"
         },
         {
          "font": {
           "color": "#FFFFFF"
          },
          "showarrow": false,
          "text": "-0.45",
          "x": "Oil_Rate_well_1",
          "xref": "x",
          "y": "GOR_well_1",
          "yref": "y"
         },
         {
          "font": {
           "color": "#000000"
          },
          "showarrow": false,
          "text": "1.0",
          "x": "GOR_well_1",
          "xref": "x",
          "y": "GOR_well_1",
          "yref": "y"
         },
         {
          "font": {
           "color": "#FFFFFF"
          },
          "showarrow": false,
          "text": "0.0",
          "x": "WHP_well_2",
          "xref": "x",
          "y": "GOR_well_1",
          "yref": "y"
         },
         {
          "font": {
           "color": "#FFFFFF"
          },
          "showarrow": false,
          "text": "-0.05",
          "x": "Oil_Rate_well_2",
          "xref": "x",
          "y": "GOR_well_1",
          "yref": "y"
         },
         {
          "font": {
           "color": "#000000"
          },
          "showarrow": false,
          "text": "0.1",
          "x": "GOR_well_2",
          "xref": "x",
          "y": "GOR_well_1",
          "yref": "y"
         },
         {
          "font": {
           "color": "#000000"
          },
          "showarrow": false,
          "text": "0.52",
          "x": "WHP_well_3",
          "xref": "x",
          "y": "GOR_well_1",
          "yref": "y"
         },
         {
          "font": {
           "color": "#FFFFFF"
          },
          "showarrow": false,
          "text": "-0.46",
          "x": "Oil_Rate_well_3",
          "xref": "x",
          "y": "GOR_well_1",
          "yref": "y"
         },
         {
          "font": {
           "color": "#000000"
          },
          "showarrow": false,
          "text": "0.31",
          "x": "GOR_well_3",
          "xref": "x",
          "y": "GOR_well_1",
          "yref": "y"
         },
         {
          "font": {
           "color": "#000000"
          },
          "showarrow": false,
          "text": "0.65",
          "x": "WHP_well_4",
          "xref": "x",
          "y": "GOR_well_1",
          "yref": "y"
         },
         {
          "font": {
           "color": "#FFFFFF"
          },
          "showarrow": false,
          "text": "-0.47",
          "x": "Oil_Rate_well_4",
          "xref": "x",
          "y": "GOR_well_1",
          "yref": "y"
         },
         {
          "font": {
           "color": "#000000"
          },
          "showarrow": false,
          "text": "0.41",
          "x": "GOR_well_4",
          "xref": "x",
          "y": "GOR_well_1",
          "yref": "y"
         },
         {
          "font": {
           "color": "#FFFFFF"
          },
          "showarrow": false,
          "text": "-0.37",
          "x": "total_oil_rate",
          "xref": "x",
          "y": "GOR_well_1",
          "yref": "y"
         },
         {
          "font": {
           "color": "#000000"
          },
          "showarrow": false,
          "text": "0.27",
          "x": "WHP_well_1",
          "xref": "x",
          "y": "WHP_well_2",
          "yref": "y"
         },
         {
          "font": {
           "color": "#FFFFFF"
          },
          "showarrow": false,
          "text": "-0.53",
          "x": "Oil_Rate_well_1",
          "xref": "x",
          "y": "WHP_well_2",
          "yref": "y"
         },
         {
          "font": {
           "color": "#FFFFFF"
          },
          "showarrow": false,
          "text": "0.0",
          "x": "GOR_well_1",
          "xref": "x",
          "y": "WHP_well_2",
          "yref": "y"
         },
         {
          "font": {
           "color": "#000000"
          },
          "showarrow": false,
          "text": "1.0",
          "x": "WHP_well_2",
          "xref": "x",
          "y": "WHP_well_2",
          "yref": "y"
         },
         {
          "font": {
           "color": "#FFFFFF"
          },
          "showarrow": false,
          "text": "-0.97",
          "x": "Oil_Rate_well_2",
          "xref": "x",
          "y": "WHP_well_2",
          "yref": "y"
         },
         {
          "font": {
           "color": "#000000"
          },
          "showarrow": false,
          "text": "0.77",
          "x": "GOR_well_2",
          "xref": "x",
          "y": "WHP_well_2",
          "yref": "y"
         },
         {
          "font": {
           "color": "#FFFFFF"
          },
          "showarrow": false,
          "text": "-0.3",
          "x": "WHP_well_3",
          "xref": "x",
          "y": "WHP_well_2",
          "yref": "y"
         },
         {
          "font": {
           "color": "#FFFFFF"
          },
          "showarrow": false,
          "text": "-0.46",
          "x": "Oil_Rate_well_3",
          "xref": "x",
          "y": "WHP_well_2",
          "yref": "y"
         },
         {
          "font": {
           "color": "#000000"
          },
          "showarrow": false,
          "text": "0.1",
          "x": "GOR_well_3",
          "xref": "x",
          "y": "WHP_well_2",
          "yref": "y"
         },
         {
          "font": {
           "color": "#000000"
          },
          "showarrow": false,
          "text": "0.19",
          "x": "WHP_well_4",
          "xref": "x",
          "y": "WHP_well_2",
          "yref": "y"
         },
         {
          "font": {
           "color": "#FFFFFF"
          },
          "showarrow": false,
          "text": "-0.68",
          "x": "Oil_Rate_well_4",
          "xref": "x",
          "y": "WHP_well_2",
          "yref": "y"
         },
         {
          "font": {
           "color": "#000000"
          },
          "showarrow": false,
          "text": "0.74",
          "x": "GOR_well_4",
          "xref": "x",
          "y": "WHP_well_2",
          "yref": "y"
         },
         {
          "font": {
           "color": "#FFFFFF"
          },
          "showarrow": false,
          "text": "-0.83",
          "x": "total_oil_rate",
          "xref": "x",
          "y": "WHP_well_2",
          "yref": "y"
         },
         {
          "font": {
           "color": "#FFFFFF"
          },
          "showarrow": false,
          "text": "-0.36",
          "x": "WHP_well_1",
          "xref": "x",
          "y": "Oil_Rate_well_2",
          "yref": "y"
         },
         {
          "font": {
           "color": "#000000"
          },
          "showarrow": false,
          "text": "0.59",
          "x": "Oil_Rate_well_1",
          "xref": "x",
          "y": "Oil_Rate_well_2",
          "yref": "y"
         },
         {
          "font": {
           "color": "#FFFFFF"
          },
          "showarrow": false,
          "text": "-0.05",
          "x": "GOR_well_1",
          "xref": "x",
          "y": "Oil_Rate_well_2",
          "yref": "y"
         },
         {
          "font": {
           "color": "#FFFFFF"
          },
          "showarrow": false,
          "text": "-0.97",
          "x": "WHP_well_2",
          "xref": "x",
          "y": "Oil_Rate_well_2",
          "yref": "y"
         },
         {
          "font": {
           "color": "#000000"
          },
          "showarrow": false,
          "text": "1.0",
          "x": "Oil_Rate_well_2",
          "xref": "x",
          "y": "Oil_Rate_well_2",
          "yref": "y"
         },
         {
          "font": {
           "color": "#FFFFFF"
          },
          "showarrow": false,
          "text": "-0.78",
          "x": "GOR_well_2",
          "xref": "x",
          "y": "Oil_Rate_well_2",
          "yref": "y"
         },
         {
          "font": {
           "color": "#000000"
          },
          "showarrow": false,
          "text": "0.22",
          "x": "WHP_well_3",
          "xref": "x",
          "y": "Oil_Rate_well_2",
          "yref": "y"
         },
         {
          "font": {
           "color": "#000000"
          },
          "showarrow": false,
          "text": "0.53",
          "x": "Oil_Rate_well_3",
          "xref": "x",
          "y": "Oil_Rate_well_2",
          "yref": "y"
         },
         {
          "font": {
           "color": "#FFFFFF"
          },
          "showarrow": false,
          "text": "-0.16",
          "x": "GOR_well_3",
          "xref": "x",
          "y": "Oil_Rate_well_2",
          "yref": "y"
         },
         {
          "font": {
           "color": "#FFFFFF"
          },
          "showarrow": false,
          "text": "-0.23",
          "x": "WHP_well_4",
          "xref": "x",
          "y": "Oil_Rate_well_2",
          "yref": "y"
         },
         {
          "font": {
           "color": "#000000"
          },
          "showarrow": false,
          "text": "0.7",
          "x": "Oil_Rate_well_4",
          "xref": "x",
          "y": "Oil_Rate_well_2",
          "yref": "y"
         },
         {
          "font": {
           "color": "#FFFFFF"
          },
          "showarrow": false,
          "text": "-0.77",
          "x": "GOR_well_4",
          "xref": "x",
          "y": "Oil_Rate_well_2",
          "yref": "y"
         },
         {
          "font": {
           "color": "#000000"
          },
          "showarrow": false,
          "text": "0.88",
          "x": "total_oil_rate",
          "xref": "x",
          "y": "Oil_Rate_well_2",
          "yref": "y"
         },
         {
          "font": {
           "color": "#000000"
          },
          "showarrow": false,
          "text": "0.41",
          "x": "WHP_well_1",
          "xref": "x",
          "y": "GOR_well_2",
          "yref": "y"
         },
         {
          "font": {
           "color": "#FFFFFF"
          },
          "showarrow": false,
          "text": "-0.62",
          "x": "Oil_Rate_well_1",
          "xref": "x",
          "y": "GOR_well_2",
          "yref": "y"
         },
         {
          "font": {
           "color": "#000000"
          },
          "showarrow": false,
          "text": "0.1",
          "x": "GOR_well_1",
          "xref": "x",
          "y": "GOR_well_2",
          "yref": "y"
         },
         {
          "font": {
           "color": "#000000"
          },
          "showarrow": false,
          "text": "0.77",
          "x": "WHP_well_2",
          "xref": "x",
          "y": "GOR_well_2",
          "yref": "y"
         },
         {
          "font": {
           "color": "#FFFFFF"
          },
          "showarrow": false,
          "text": "-0.78",
          "x": "Oil_Rate_well_2",
          "xref": "x",
          "y": "GOR_well_2",
          "yref": "y"
         },
         {
          "font": {
           "color": "#000000"
          },
          "showarrow": false,
          "text": "1.0",
          "x": "GOR_well_2",
          "xref": "x",
          "y": "GOR_well_2",
          "yref": "y"
         },
         {
          "font": {
           "color": "#FFFFFF"
          },
          "showarrow": false,
          "text": "-0.35",
          "x": "WHP_well_3",
          "xref": "x",
          "y": "GOR_well_2",
          "yref": "y"
         },
         {
          "font": {
           "color": "#FFFFFF"
          },
          "showarrow": false,
          "text": "-0.38",
          "x": "Oil_Rate_well_3",
          "xref": "x",
          "y": "GOR_well_2",
          "yref": "y"
         },
         {
          "font": {
           "color": "#000000"
          },
          "showarrow": false,
          "text": "0.17",
          "x": "GOR_well_3",
          "xref": "x",
          "y": "GOR_well_2",
          "yref": "y"
         },
         {
          "font": {
           "color": "#000000"
          },
          "showarrow": false,
          "text": "0.2",
          "x": "WHP_well_4",
          "xref": "x",
          "y": "GOR_well_2",
          "yref": "y"
         },
         {
          "font": {
           "color": "#FFFFFF"
          },
          "showarrow": false,
          "text": "-0.66",
          "x": "Oil_Rate_well_4",
          "xref": "x",
          "y": "GOR_well_2",
          "yref": "y"
         },
         {
          "font": {
           "color": "#000000"
          },
          "showarrow": false,
          "text": "0.74",
          "x": "GOR_well_4",
          "xref": "x",
          "y": "GOR_well_2",
          "yref": "y"
         },
         {
          "font": {
           "color": "#FFFFFF"
          },
          "showarrow": false,
          "text": "-0.74",
          "x": "total_oil_rate",
          "xref": "x",
          "y": "GOR_well_2",
          "yref": "y"
         },
         {
          "font": {
           "color": "#000000"
          },
          "showarrow": false,
          "text": "0.28",
          "x": "WHP_well_1",
          "xref": "x",
          "y": "WHP_well_3",
          "yref": "y"
         },
         {
          "font": {
           "color": "#FFFFFF"
          },
          "showarrow": false,
          "text": "0.0",
          "x": "Oil_Rate_well_1",
          "xref": "x",
          "y": "WHP_well_3",
          "yref": "y"
         },
         {
          "font": {
           "color": "#000000"
          },
          "showarrow": false,
          "text": "0.52",
          "x": "GOR_well_1",
          "xref": "x",
          "y": "WHP_well_3",
          "yref": "y"
         },
         {
          "font": {
           "color": "#FFFFFF"
          },
          "showarrow": false,
          "text": "-0.3",
          "x": "WHP_well_2",
          "xref": "x",
          "y": "WHP_well_3",
          "yref": "y"
         },
         {
          "font": {
           "color": "#000000"
          },
          "showarrow": false,
          "text": "0.22",
          "x": "Oil_Rate_well_2",
          "xref": "x",
          "y": "WHP_well_3",
          "yref": "y"
         },
         {
          "font": {
           "color": "#FFFFFF"
          },
          "showarrow": false,
          "text": "-0.35",
          "x": "GOR_well_2",
          "xref": "x",
          "y": "WHP_well_3",
          "yref": "y"
         },
         {
          "font": {
           "color": "#000000"
          },
          "showarrow": false,
          "text": "1.0",
          "x": "WHP_well_3",
          "xref": "x",
          "y": "WHP_well_3",
          "yref": "y"
         },
         {
          "font": {
           "color": "#FFFFFF"
          },
          "showarrow": false,
          "text": "-0.52",
          "x": "Oil_Rate_well_3",
          "xref": "x",
          "y": "WHP_well_3",
          "yref": "y"
         },
         {
          "font": {
           "color": "#000000"
          },
          "showarrow": false,
          "text": "0.46",
          "x": "GOR_well_3",
          "xref": "x",
          "y": "WHP_well_3",
          "yref": "y"
         },
         {
          "font": {
           "color": "#000000"
          },
          "showarrow": false,
          "text": "0.5",
          "x": "WHP_well_4",
          "xref": "x",
          "y": "WHP_well_3",
          "yref": "y"
         },
         {
          "font": {
           "color": "#FFFFFF"
          },
          "showarrow": false,
          "text": "-0.04",
          "x": "Oil_Rate_well_4",
          "xref": "x",
          "y": "WHP_well_3",
          "yref": "y"
         },
         {
          "font": {
           "color": "#000000"
          },
          "showarrow": false,
          "text": "0.07",
          "x": "GOR_well_4",
          "xref": "x",
          "y": "WHP_well_3",
          "yref": "y"
         },
         {
          "font": {
           "color": "#FFFFFF"
          },
          "showarrow": false,
          "text": "-0.05",
          "x": "total_oil_rate",
          "xref": "x",
          "y": "WHP_well_3",
          "yref": "y"
         },
         {
          "font": {
           "color": "#FFFFFF"
          },
          "showarrow": false,
          "text": "-0.53",
          "x": "WHP_well_1",
          "xref": "x",
          "y": "Oil_Rate_well_3",
          "yref": "y"
         },
         {
          "font": {
           "color": "#000000"
          },
          "showarrow": false,
          "text": "0.56",
          "x": "Oil_Rate_well_1",
          "xref": "x",
          "y": "Oil_Rate_well_3",
          "yref": "y"
         },
         {
          "font": {
           "color": "#FFFFFF"
          },
          "showarrow": false,
          "text": "-0.46",
          "x": "GOR_well_1",
          "xref": "x",
          "y": "Oil_Rate_well_3",
          "yref": "y"
         },
         {
          "font": {
           "color": "#FFFFFF"
          },
          "showarrow": false,
          "text": "-0.46",
          "x": "WHP_well_2",
          "xref": "x",
          "y": "Oil_Rate_well_3",
          "yref": "y"
         },
         {
          "font": {
           "color": "#000000"
          },
          "showarrow": false,
          "text": "0.53",
          "x": "Oil_Rate_well_2",
          "xref": "x",
          "y": "Oil_Rate_well_3",
          "yref": "y"
         },
         {
          "font": {
           "color": "#FFFFFF"
          },
          "showarrow": false,
          "text": "-0.38",
          "x": "GOR_well_2",
          "xref": "x",
          "y": "Oil_Rate_well_3",
          "yref": "y"
         },
         {
          "font": {
           "color": "#FFFFFF"
          },
          "showarrow": false,
          "text": "-0.52",
          "x": "WHP_well_3",
          "xref": "x",
          "y": "Oil_Rate_well_3",
          "yref": "y"
         },
         {
          "font": {
           "color": "#000000"
          },
          "showarrow": false,
          "text": "1.0",
          "x": "Oil_Rate_well_3",
          "xref": "x",
          "y": "Oil_Rate_well_3",
          "yref": "y"
         },
         {
          "font": {
           "color": "#FFFFFF"
          },
          "showarrow": false,
          "text": "-0.47",
          "x": "GOR_well_3",
          "xref": "x",
          "y": "Oil_Rate_well_3",
          "yref": "y"
         },
         {
          "font": {
           "color": "#FFFFFF"
          },
          "showarrow": false,
          "text": "-0.45",
          "x": "WHP_well_4",
          "xref": "x",
          "y": "Oil_Rate_well_3",
          "yref": "y"
         },
         {
          "font": {
           "color": "#000000"
          },
          "showarrow": false,
          "text": "0.67",
          "x": "Oil_Rate_well_4",
          "xref": "x",
          "y": "Oil_Rate_well_3",
          "yref": "y"
         },
         {
          "font": {
           "color": "#FFFFFF"
          },
          "showarrow": false,
          "text": "-0.72",
          "x": "GOR_well_4",
          "xref": "x",
          "y": "Oil_Rate_well_3",
          "yref": "y"
         },
         {
          "font": {
           "color": "#000000"
          },
          "showarrow": false,
          "text": "0.79",
          "x": "total_oil_rate",
          "xref": "x",
          "y": "Oil_Rate_well_3",
          "yref": "y"
         },
         {
          "font": {
           "color": "#000000"
          },
          "showarrow": false,
          "text": "0.47",
          "x": "WHP_well_1",
          "xref": "x",
          "y": "GOR_well_3",
          "yref": "y"
         },
         {
          "font": {
           "color": "#FFFFFF"
          },
          "showarrow": false,
          "text": "-0.37",
          "x": "Oil_Rate_well_1",
          "xref": "x",
          "y": "GOR_well_3",
          "yref": "y"
         },
         {
          "font": {
           "color": "#000000"
          },
          "showarrow": false,
          "text": "0.31",
          "x": "GOR_well_1",
          "xref": "x",
          "y": "GOR_well_3",
          "yref": "y"
         },
         {
          "font": {
           "color": "#000000"
          },
          "showarrow": false,
          "text": "0.1",
          "x": "WHP_well_2",
          "xref": "x",
          "y": "GOR_well_3",
          "yref": "y"
         },
         {
          "font": {
           "color": "#FFFFFF"
          },
          "showarrow": false,
          "text": "-0.16",
          "x": "Oil_Rate_well_2",
          "xref": "x",
          "y": "GOR_well_3",
          "yref": "y"
         },
         {
          "font": {
           "color": "#000000"
          },
          "showarrow": false,
          "text": "0.17",
          "x": "GOR_well_2",
          "xref": "x",
          "y": "GOR_well_3",
          "yref": "y"
         },
         {
          "font": {
           "color": "#000000"
          },
          "showarrow": false,
          "text": "0.46",
          "x": "WHP_well_3",
          "xref": "x",
          "y": "GOR_well_3",
          "yref": "y"
         },
         {
          "font": {
           "color": "#FFFFFF"
          },
          "showarrow": false,
          "text": "-0.47",
          "x": "Oil_Rate_well_3",
          "xref": "x",
          "y": "GOR_well_3",
          "yref": "y"
         },
         {
          "font": {
           "color": "#000000"
          },
          "showarrow": false,
          "text": "1.0",
          "x": "GOR_well_3",
          "xref": "x",
          "y": "GOR_well_3",
          "yref": "y"
         },
         {
          "font": {
           "color": "#000000"
          },
          "showarrow": false,
          "text": "0.47",
          "x": "WHP_well_4",
          "xref": "x",
          "y": "GOR_well_3",
          "yref": "y"
         },
         {
          "font": {
           "color": "#FFFFFF"
          },
          "showarrow": false,
          "text": "-0.41",
          "x": "Oil_Rate_well_4",
          "xref": "x",
          "y": "GOR_well_3",
          "yref": "y"
         },
         {
          "font": {
           "color": "#000000"
          },
          "showarrow": false,
          "text": "0.43",
          "x": "GOR_well_4",
          "xref": "x",
          "y": "GOR_well_3",
          "yref": "y"
         },
         {
          "font": {
           "color": "#FFFFFF"
          },
          "showarrow": false,
          "text": "-0.38",
          "x": "total_oil_rate",
          "xref": "x",
          "y": "GOR_well_3",
          "yref": "y"
         },
         {
          "font": {
           "color": "#000000"
          },
          "showarrow": false,
          "text": "0.54",
          "x": "WHP_well_1",
          "xref": "x",
          "y": "WHP_well_4",
          "yref": "y"
         },
         {
          "font": {
           "color": "#FFFFFF"
          },
          "showarrow": false,
          "text": "-0.44",
          "x": "Oil_Rate_well_1",
          "xref": "x",
          "y": "WHP_well_4",
          "yref": "y"
         },
         {
          "font": {
           "color": "#000000"
          },
          "showarrow": false,
          "text": "0.65",
          "x": "GOR_well_1",
          "xref": "x",
          "y": "WHP_well_4",
          "yref": "y"
         },
         {
          "font": {
           "color": "#000000"
          },
          "showarrow": false,
          "text": "0.19",
          "x": "WHP_well_2",
          "xref": "x",
          "y": "WHP_well_4",
          "yref": "y"
         },
         {
          "font": {
           "color": "#FFFFFF"
          },
          "showarrow": false,
          "text": "-0.23",
          "x": "Oil_Rate_well_2",
          "xref": "x",
          "y": "WHP_well_4",
          "yref": "y"
         },
         {
          "font": {
           "color": "#000000"
          },
          "showarrow": false,
          "text": "0.2",
          "x": "GOR_well_2",
          "xref": "x",
          "y": "WHP_well_4",
          "yref": "y"
         },
         {
          "font": {
           "color": "#000000"
          },
          "showarrow": false,
          "text": "0.5",
          "x": "WHP_well_3",
          "xref": "x",
          "y": "WHP_well_4",
          "yref": "y"
         },
         {
          "font": {
           "color": "#FFFFFF"
          },
          "showarrow": false,
          "text": "-0.45",
          "x": "Oil_Rate_well_3",
          "xref": "x",
          "y": "WHP_well_4",
          "yref": "y"
         },
         {
          "font": {
           "color": "#000000"
          },
          "showarrow": false,
          "text": "0.47",
          "x": "GOR_well_3",
          "xref": "x",
          "y": "WHP_well_4",
          "yref": "y"
         },
         {
          "font": {
           "color": "#000000"
          },
          "showarrow": false,
          "text": "1.0",
          "x": "WHP_well_4",
          "xref": "x",
          "y": "WHP_well_4",
          "yref": "y"
         },
         {
          "font": {
           "color": "#FFFFFF"
          },
          "showarrow": false,
          "text": "-0.58",
          "x": "Oil_Rate_well_4",
          "xref": "x",
          "y": "WHP_well_4",
          "yref": "y"
         },
         {
          "font": {
           "color": "#000000"
          },
          "showarrow": false,
          "text": "0.48",
          "x": "GOR_well_4",
          "xref": "x",
          "y": "WHP_well_4",
          "yref": "y"
         },
         {
          "font": {
           "color": "#FFFFFF"
          },
          "showarrow": false,
          "text": "-0.47",
          "x": "total_oil_rate",
          "xref": "x",
          "y": "WHP_well_4",
          "yref": "y"
         },
         {
          "font": {
           "color": "#FFFFFF"
          },
          "showarrow": false,
          "text": "-0.58",
          "x": "WHP_well_1",
          "xref": "x",
          "y": "Oil_Rate_well_4",
          "yref": "y"
         },
         {
          "font": {
           "color": "#000000"
          },
          "showarrow": false,
          "text": "0.71",
          "x": "Oil_Rate_well_1",
          "xref": "x",
          "y": "Oil_Rate_well_4",
          "yref": "y"
         },
         {
          "font": {
           "color": "#FFFFFF"
          },
          "showarrow": false,
          "text": "-0.47",
          "x": "GOR_well_1",
          "xref": "x",
          "y": "Oil_Rate_well_4",
          "yref": "y"
         },
         {
          "font": {
           "color": "#FFFFFF"
          },
          "showarrow": false,
          "text": "-0.68",
          "x": "WHP_well_2",
          "xref": "x",
          "y": "Oil_Rate_well_4",
          "yref": "y"
         },
         {
          "font": {
           "color": "#000000"
          },
          "showarrow": false,
          "text": "0.7",
          "x": "Oil_Rate_well_2",
          "xref": "x",
          "y": "Oil_Rate_well_4",
          "yref": "y"
         },
         {
          "font": {
           "color": "#FFFFFF"
          },
          "showarrow": false,
          "text": "-0.66",
          "x": "GOR_well_2",
          "xref": "x",
          "y": "Oil_Rate_well_4",
          "yref": "y"
         },
         {
          "font": {
           "color": "#FFFFFF"
          },
          "showarrow": false,
          "text": "-0.04",
          "x": "WHP_well_3",
          "xref": "x",
          "y": "Oil_Rate_well_4",
          "yref": "y"
         },
         {
          "font": {
           "color": "#000000"
          },
          "showarrow": false,
          "text": "0.67",
          "x": "Oil_Rate_well_3",
          "xref": "x",
          "y": "Oil_Rate_well_4",
          "yref": "y"
         },
         {
          "font": {
           "color": "#FFFFFF"
          },
          "showarrow": false,
          "text": "-0.41",
          "x": "GOR_well_3",
          "xref": "x",
          "y": "Oil_Rate_well_4",
          "yref": "y"
         },
         {
          "font": {
           "color": "#FFFFFF"
          },
          "showarrow": false,
          "text": "-0.58",
          "x": "WHP_well_4",
          "xref": "x",
          "y": "Oil_Rate_well_4",
          "yref": "y"
         },
         {
          "font": {
           "color": "#000000"
          },
          "showarrow": false,
          "text": "1.0",
          "x": "Oil_Rate_well_4",
          "xref": "x",
          "y": "Oil_Rate_well_4",
          "yref": "y"
         },
         {
          "font": {
           "color": "#FFFFFF"
          },
          "showarrow": false,
          "text": "-0.84",
          "x": "GOR_well_4",
          "xref": "x",
          "y": "Oil_Rate_well_4",
          "yref": "y"
         },
         {
          "font": {
           "color": "#000000"
          },
          "showarrow": false,
          "text": "0.9",
          "x": "total_oil_rate",
          "xref": "x",
          "y": "Oil_Rate_well_4",
          "yref": "y"
         },
         {
          "font": {
           "color": "#000000"
          },
          "showarrow": false,
          "text": "0.59",
          "x": "WHP_well_1",
          "xref": "x",
          "y": "GOR_well_4",
          "yref": "y"
         },
         {
          "font": {
           "color": "#FFFFFF"
          },
          "showarrow": false,
          "text": "-0.73",
          "x": "Oil_Rate_well_1",
          "xref": "x",
          "y": "GOR_well_4",
          "yref": "y"
         },
         {
          "font": {
           "color": "#000000"
          },
          "showarrow": false,
          "text": "0.41",
          "x": "GOR_well_1",
          "xref": "x",
          "y": "GOR_well_4",
          "yref": "y"
         },
         {
          "font": {
           "color": "#000000"
          },
          "showarrow": false,
          "text": "0.74",
          "x": "WHP_well_2",
          "xref": "x",
          "y": "GOR_well_4",
          "yref": "y"
         },
         {
          "font": {
           "color": "#FFFFFF"
          },
          "showarrow": false,
          "text": "-0.77",
          "x": "Oil_Rate_well_2",
          "xref": "x",
          "y": "GOR_well_4",
          "yref": "y"
         },
         {
          "font": {
           "color": "#000000"
          },
          "showarrow": false,
          "text": "0.74",
          "x": "GOR_well_2",
          "xref": "x",
          "y": "GOR_well_4",
          "yref": "y"
         },
         {
          "font": {
           "color": "#000000"
          },
          "showarrow": false,
          "text": "0.07",
          "x": "WHP_well_3",
          "xref": "x",
          "y": "GOR_well_4",
          "yref": "y"
         },
         {
          "font": {
           "color": "#FFFFFF"
          },
          "showarrow": false,
          "text": "-0.72",
          "x": "Oil_Rate_well_3",
          "xref": "x",
          "y": "GOR_well_4",
          "yref": "y"
         },
         {
          "font": {
           "color": "#000000"
          },
          "showarrow": false,
          "text": "0.43",
          "x": "GOR_well_3",
          "xref": "x",
          "y": "GOR_well_4",
          "yref": "y"
         },
         {
          "font": {
           "color": "#000000"
          },
          "showarrow": false,
          "text": "0.48",
          "x": "WHP_well_4",
          "xref": "x",
          "y": "GOR_well_4",
          "yref": "y"
         },
         {
          "font": {
           "color": "#FFFFFF"
          },
          "showarrow": false,
          "text": "-0.84",
          "x": "Oil_Rate_well_4",
          "xref": "x",
          "y": "GOR_well_4",
          "yref": "y"
         },
         {
          "font": {
           "color": "#000000"
          },
          "showarrow": false,
          "text": "1.0",
          "x": "GOR_well_4",
          "xref": "x",
          "y": "GOR_well_4",
          "yref": "y"
         },
         {
          "font": {
           "color": "#FFFFFF"
          },
          "showarrow": false,
          "text": "-0.9",
          "x": "total_oil_rate",
          "xref": "x",
          "y": "GOR_well_4",
          "yref": "y"
         },
         {
          "font": {
           "color": "#FFFFFF"
          },
          "showarrow": false,
          "text": "-0.65",
          "x": "WHP_well_1",
          "xref": "x",
          "y": "total_oil_rate",
          "yref": "y"
         },
         {
          "font": {
           "color": "#000000"
          },
          "showarrow": false,
          "text": "0.81",
          "x": "Oil_Rate_well_1",
          "xref": "x",
          "y": "total_oil_rate",
          "yref": "y"
         },
         {
          "font": {
           "color": "#FFFFFF"
          },
          "showarrow": false,
          "text": "-0.37",
          "x": "GOR_well_1",
          "xref": "x",
          "y": "total_oil_rate",
          "yref": "y"
         },
         {
          "font": {
           "color": "#FFFFFF"
          },
          "showarrow": false,
          "text": "-0.83",
          "x": "WHP_well_2",
          "xref": "x",
          "y": "total_oil_rate",
          "yref": "y"
         },
         {
          "font": {
           "color": "#000000"
          },
          "showarrow": false,
          "text": "0.88",
          "x": "Oil_Rate_well_2",
          "xref": "x",
          "y": "total_oil_rate",
          "yref": "y"
         },
         {
          "font": {
           "color": "#FFFFFF"
          },
          "showarrow": false,
          "text": "-0.74",
          "x": "GOR_well_2",
          "xref": "x",
          "y": "total_oil_rate",
          "yref": "y"
         },
         {
          "font": {
           "color": "#FFFFFF"
          },
          "showarrow": false,
          "text": "-0.05",
          "x": "WHP_well_3",
          "xref": "x",
          "y": "total_oil_rate",
          "yref": "y"
         },
         {
          "font": {
           "color": "#000000"
          },
          "showarrow": false,
          "text": "0.79",
          "x": "Oil_Rate_well_3",
          "xref": "x",
          "y": "total_oil_rate",
          "yref": "y"
         },
         {
          "font": {
           "color": "#FFFFFF"
          },
          "showarrow": false,
          "text": "-0.38",
          "x": "GOR_well_3",
          "xref": "x",
          "y": "total_oil_rate",
          "yref": "y"
         },
         {
          "font": {
           "color": "#FFFFFF"
          },
          "showarrow": false,
          "text": "-0.47",
          "x": "WHP_well_4",
          "xref": "x",
          "y": "total_oil_rate",
          "yref": "y"
         },
         {
          "font": {
           "color": "#000000"
          },
          "showarrow": false,
          "text": "0.9",
          "x": "Oil_Rate_well_4",
          "xref": "x",
          "y": "total_oil_rate",
          "yref": "y"
         },
         {
          "font": {
           "color": "#FFFFFF"
          },
          "showarrow": false,
          "text": "-0.9",
          "x": "GOR_well_4",
          "xref": "x",
          "y": "total_oil_rate",
          "yref": "y"
         },
         {
          "font": {
           "color": "#000000"
          },
          "showarrow": false,
          "text": "1.0",
          "x": "total_oil_rate",
          "xref": "x",
          "y": "total_oil_rate",
          "yref": "y"
         }
        ],
        "height": 1500,
        "template": {
         "data": {
          "bar": [
           {
            "error_x": {
             "color": "#2a3f5f"
            },
            "error_y": {
             "color": "#2a3f5f"
            },
            "marker": {
             "line": {
              "color": "#E5ECF6",
              "width": 0.5
             },
             "pattern": {
              "fillmode": "overlay",
              "size": 10,
              "solidity": 0.2
             }
            },
            "type": "bar"
           }
          ],
          "barpolar": [
           {
            "marker": {
             "line": {
              "color": "#E5ECF6",
              "width": 0.5
             },
             "pattern": {
              "fillmode": "overlay",
              "size": 10,
              "solidity": 0.2
             }
            },
            "type": "barpolar"
           }
          ],
          "carpet": [
           {
            "aaxis": {
             "endlinecolor": "#2a3f5f",
             "gridcolor": "white",
             "linecolor": "white",
             "minorgridcolor": "white",
             "startlinecolor": "#2a3f5f"
            },
            "baxis": {
             "endlinecolor": "#2a3f5f",
             "gridcolor": "white",
             "linecolor": "white",
             "minorgridcolor": "white",
             "startlinecolor": "#2a3f5f"
            },
            "type": "carpet"
           }
          ],
          "choropleth": [
           {
            "colorbar": {
             "outlinewidth": 0,
             "ticks": ""
            },
            "type": "choropleth"
           }
          ],
          "contour": [
           {
            "colorbar": {
             "outlinewidth": 0,
             "ticks": ""
            },
            "colorscale": [
             [
              0,
              "#0d0887"
             ],
             [
              0.1111111111111111,
              "#46039f"
             ],
             [
              0.2222222222222222,
              "#7201a8"
             ],
             [
              0.3333333333333333,
              "#9c179e"
             ],
             [
              0.4444444444444444,
              "#bd3786"
             ],
             [
              0.5555555555555556,
              "#d8576b"
             ],
             [
              0.6666666666666666,
              "#ed7953"
             ],
             [
              0.7777777777777778,
              "#fb9f3a"
             ],
             [
              0.8888888888888888,
              "#fdca26"
             ],
             [
              1,
              "#f0f921"
             ]
            ],
            "type": "contour"
           }
          ],
          "contourcarpet": [
           {
            "colorbar": {
             "outlinewidth": 0,
             "ticks": ""
            },
            "type": "contourcarpet"
           }
          ],
          "heatmap": [
           {
            "colorbar": {
             "outlinewidth": 0,
             "ticks": ""
            },
            "colorscale": [
             [
              0,
              "#0d0887"
             ],
             [
              0.1111111111111111,
              "#46039f"
             ],
             [
              0.2222222222222222,
              "#7201a8"
             ],
             [
              0.3333333333333333,
              "#9c179e"
             ],
             [
              0.4444444444444444,
              "#bd3786"
             ],
             [
              0.5555555555555556,
              "#d8576b"
             ],
             [
              0.6666666666666666,
              "#ed7953"
             ],
             [
              0.7777777777777778,
              "#fb9f3a"
             ],
             [
              0.8888888888888888,
              "#fdca26"
             ],
             [
              1,
              "#f0f921"
             ]
            ],
            "type": "heatmap"
           }
          ],
          "heatmapgl": [
           {
            "colorbar": {
             "outlinewidth": 0,
             "ticks": ""
            },
            "colorscale": [
             [
              0,
              "#0d0887"
             ],
             [
              0.1111111111111111,
              "#46039f"
             ],
             [
              0.2222222222222222,
              "#7201a8"
             ],
             [
              0.3333333333333333,
              "#9c179e"
             ],
             [
              0.4444444444444444,
              "#bd3786"
             ],
             [
              0.5555555555555556,
              "#d8576b"
             ],
             [
              0.6666666666666666,
              "#ed7953"
             ],
             [
              0.7777777777777778,
              "#fb9f3a"
             ],
             [
              0.8888888888888888,
              "#fdca26"
             ],
             [
              1,
              "#f0f921"
             ]
            ],
            "type": "heatmapgl"
           }
          ],
          "histogram": [
           {
            "marker": {
             "pattern": {
              "fillmode": "overlay",
              "size": 10,
              "solidity": 0.2
             }
            },
            "type": "histogram"
           }
          ],
          "histogram2d": [
           {
            "colorbar": {
             "outlinewidth": 0,
             "ticks": ""
            },
            "colorscale": [
             [
              0,
              "#0d0887"
             ],
             [
              0.1111111111111111,
              "#46039f"
             ],
             [
              0.2222222222222222,
              "#7201a8"
             ],
             [
              0.3333333333333333,
              "#9c179e"
             ],
             [
              0.4444444444444444,
              "#bd3786"
             ],
             [
              0.5555555555555556,
              "#d8576b"
             ],
             [
              0.6666666666666666,
              "#ed7953"
             ],
             [
              0.7777777777777778,
              "#fb9f3a"
             ],
             [
              0.8888888888888888,
              "#fdca26"
             ],
             [
              1,
              "#f0f921"
             ]
            ],
            "type": "histogram2d"
           }
          ],
          "histogram2dcontour": [
           {
            "colorbar": {
             "outlinewidth": 0,
             "ticks": ""
            },
            "colorscale": [
             [
              0,
              "#0d0887"
             ],
             [
              0.1111111111111111,
              "#46039f"
             ],
             [
              0.2222222222222222,
              "#7201a8"
             ],
             [
              0.3333333333333333,
              "#9c179e"
             ],
             [
              0.4444444444444444,
              "#bd3786"
             ],
             [
              0.5555555555555556,
              "#d8576b"
             ],
             [
              0.6666666666666666,
              "#ed7953"
             ],
             [
              0.7777777777777778,
              "#fb9f3a"
             ],
             [
              0.8888888888888888,
              "#fdca26"
             ],
             [
              1,
              "#f0f921"
             ]
            ],
            "type": "histogram2dcontour"
           }
          ],
          "mesh3d": [
           {
            "colorbar": {
             "outlinewidth": 0,
             "ticks": ""
            },
            "type": "mesh3d"
           }
          ],
          "parcoords": [
           {
            "line": {
             "colorbar": {
              "outlinewidth": 0,
              "ticks": ""
             }
            },
            "type": "parcoords"
           }
          ],
          "pie": [
           {
            "automargin": true,
            "type": "pie"
           }
          ],
          "scatter": [
           {
            "fillpattern": {
             "fillmode": "overlay",
             "size": 10,
             "solidity": 0.2
            },
            "type": "scatter"
           }
          ],
          "scatter3d": [
           {
            "line": {
             "colorbar": {
              "outlinewidth": 0,
              "ticks": ""
             }
            },
            "marker": {
             "colorbar": {
              "outlinewidth": 0,
              "ticks": ""
             }
            },
            "type": "scatter3d"
           }
          ],
          "scattercarpet": [
           {
            "marker": {
             "colorbar": {
              "outlinewidth": 0,
              "ticks": ""
             }
            },
            "type": "scattercarpet"
           }
          ],
          "scattergeo": [
           {
            "marker": {
             "colorbar": {
              "outlinewidth": 0,
              "ticks": ""
             }
            },
            "type": "scattergeo"
           }
          ],
          "scattergl": [
           {
            "marker": {
             "colorbar": {
              "outlinewidth": 0,
              "ticks": ""
             }
            },
            "type": "scattergl"
           }
          ],
          "scattermapbox": [
           {
            "marker": {
             "colorbar": {
              "outlinewidth": 0,
              "ticks": ""
             }
            },
            "type": "scattermapbox"
           }
          ],
          "scatterpolar": [
           {
            "marker": {
             "colorbar": {
              "outlinewidth": 0,
              "ticks": ""
             }
            },
            "type": "scatterpolar"
           }
          ],
          "scatterpolargl": [
           {
            "marker": {
             "colorbar": {
              "outlinewidth": 0,
              "ticks": ""
             }
            },
            "type": "scatterpolargl"
           }
          ],
          "scatterternary": [
           {
            "marker": {
             "colorbar": {
              "outlinewidth": 0,
              "ticks": ""
             }
            },
            "type": "scatterternary"
           }
          ],
          "surface": [
           {
            "colorbar": {
             "outlinewidth": 0,
             "ticks": ""
            },
            "colorscale": [
             [
              0,
              "#0d0887"
             ],
             [
              0.1111111111111111,
              "#46039f"
             ],
             [
              0.2222222222222222,
              "#7201a8"
             ],
             [
              0.3333333333333333,
              "#9c179e"
             ],
             [
              0.4444444444444444,
              "#bd3786"
             ],
             [
              0.5555555555555556,
              "#d8576b"
             ],
             [
              0.6666666666666666,
              "#ed7953"
             ],
             [
              0.7777777777777778,
              "#fb9f3a"
             ],
             [
              0.8888888888888888,
              "#fdca26"
             ],
             [
              1,
              "#f0f921"
             ]
            ],
            "type": "surface"
           }
          ],
          "table": [
           {
            "cells": {
             "fill": {
              "color": "#EBF0F8"
             },
             "line": {
              "color": "white"
             }
            },
            "header": {
             "fill": {
              "color": "#C8D4E3"
             },
             "line": {
              "color": "white"
             }
            },
            "type": "table"
           }
          ]
         },
         "layout": {
          "annotationdefaults": {
           "arrowcolor": "#2a3f5f",
           "arrowhead": 0,
           "arrowwidth": 1
          },
          "autotypenumbers": "strict",
          "coloraxis": {
           "colorbar": {
            "outlinewidth": 0,
            "ticks": ""
           }
          },
          "colorscale": {
           "diverging": [
            [
             0,
             "#8e0152"
            ],
            [
             0.1,
             "#c51b7d"
            ],
            [
             0.2,
             "#de77ae"
            ],
            [
             0.3,
             "#f1b6da"
            ],
            [
             0.4,
             "#fde0ef"
            ],
            [
             0.5,
             "#f7f7f7"
            ],
            [
             0.6,
             "#e6f5d0"
            ],
            [
             0.7,
             "#b8e186"
            ],
            [
             0.8,
             "#7fbc41"
            ],
            [
             0.9,
             "#4d9221"
            ],
            [
             1,
             "#276419"
            ]
           ],
           "sequential": [
            [
             0,
             "#0d0887"
            ],
            [
             0.1111111111111111,
             "#46039f"
            ],
            [
             0.2222222222222222,
             "#7201a8"
            ],
            [
             0.3333333333333333,
             "#9c179e"
            ],
            [
             0.4444444444444444,
             "#bd3786"
            ],
            [
             0.5555555555555556,
             "#d8576b"
            ],
            [
             0.6666666666666666,
             "#ed7953"
            ],
            [
             0.7777777777777778,
             "#fb9f3a"
            ],
            [
             0.8888888888888888,
             "#fdca26"
            ],
            [
             1,
             "#f0f921"
            ]
           ],
           "sequentialminus": [
            [
             0,
             "#0d0887"
            ],
            [
             0.1111111111111111,
             "#46039f"
            ],
            [
             0.2222222222222222,
             "#7201a8"
            ],
            [
             0.3333333333333333,
             "#9c179e"
            ],
            [
             0.4444444444444444,
             "#bd3786"
            ],
            [
             0.5555555555555556,
             "#d8576b"
            ],
            [
             0.6666666666666666,
             "#ed7953"
            ],
            [
             0.7777777777777778,
             "#fb9f3a"
            ],
            [
             0.8888888888888888,
             "#fdca26"
            ],
            [
             1,
             "#f0f921"
            ]
           ]
          },
          "colorway": [
           "#636efa",
           "#EF553B",
           "#00cc96",
           "#ab63fa",
           "#FFA15A",
           "#19d3f3",
           "#FF6692",
           "#B6E880",
           "#FF97FF",
           "#FECB52"
          ],
          "font": {
           "color": "#2a3f5f"
          },
          "geo": {
           "bgcolor": "white",
           "lakecolor": "white",
           "landcolor": "#E5ECF6",
           "showlakes": true,
           "showland": true,
           "subunitcolor": "white"
          },
          "hoverlabel": {
           "align": "left"
          },
          "hovermode": "closest",
          "mapbox": {
           "style": "light"
          },
          "paper_bgcolor": "white",
          "plot_bgcolor": "#E5ECF6",
          "polar": {
           "angularaxis": {
            "gridcolor": "white",
            "linecolor": "white",
            "ticks": ""
           },
           "bgcolor": "#E5ECF6",
           "radialaxis": {
            "gridcolor": "white",
            "linecolor": "white",
            "ticks": ""
           }
          },
          "scene": {
           "xaxis": {
            "backgroundcolor": "#E5ECF6",
            "gridcolor": "white",
            "gridwidth": 2,
            "linecolor": "white",
            "showbackground": true,
            "ticks": "",
            "zerolinecolor": "white"
           },
           "yaxis": {
            "backgroundcolor": "#E5ECF6",
            "gridcolor": "white",
            "gridwidth": 2,
            "linecolor": "white",
            "showbackground": true,
            "ticks": "",
            "zerolinecolor": "white"
           },
           "zaxis": {
            "backgroundcolor": "#E5ECF6",
            "gridcolor": "white",
            "gridwidth": 2,
            "linecolor": "white",
            "showbackground": true,
            "ticks": "",
            "zerolinecolor": "white"
           }
          },
          "shapedefaults": {
           "line": {
            "color": "#2a3f5f"
           }
          },
          "ternary": {
           "aaxis": {
            "gridcolor": "white",
            "linecolor": "white",
            "ticks": ""
           },
           "baxis": {
            "gridcolor": "white",
            "linecolor": "white",
            "ticks": ""
           },
           "bgcolor": "#E5ECF6",
           "caxis": {
            "gridcolor": "white",
            "linecolor": "white",
            "ticks": ""
           }
          },
          "title": {
           "x": 0.05
          },
          "xaxis": {
           "automargin": true,
           "gridcolor": "white",
           "linecolor": "white",
           "ticks": "",
           "title": {
            "standoff": 15
           },
           "zerolinecolor": "white",
           "zerolinewidth": 2
          },
          "yaxis": {
           "automargin": true,
           "gridcolor": "white",
           "linecolor": "white",
           "ticks": "",
           "title": {
            "standoff": 15
           },
           "zerolinecolor": "white",
           "zerolinewidth": 2
          }
         }
        },
        "title": {
         "text": "Correlation Matrix"
        },
        "width": 1500,
        "xaxis": {
         "dtick": 1,
         "gridcolor": "rgb(0, 0, 0)",
         "showgrid": false,
         "side": "top",
         "ticks": ""
        },
        "yaxis": {
         "autorange": "reversed",
         "dtick": 1,
         "showgrid": false,
         "ticks": "",
         "ticksuffix": "  "
        }
       }
      }
     },
     "metadata": {},
     "output_type": "display_data"
    }
   ],
   "source": [
    "# Calculate the correlation matrix\n",
    "corr_matrix = df.corr()\n",
    "\n",
    "# Generate a heatmap\n",
    "fig = ff.create_annotated_heatmap(\n",
    "    z=corr_matrix.values,\n",
    "    x=list(corr_matrix.columns),\n",
    "    y=list(corr_matrix.index),\n",
    "    annotation_text=corr_matrix.round(2).values,\n",
    "    showscale=True,\n",
    "    colorscale='Viridis'\n",
    ")\n",
    "\n",
    "fig.update_layout(\n",
    "    title='Correlation Matrix',\n",
    "    width=1500, \n",
    "    height=1500,\n",
    "    xaxis_showgrid=False,\n",
    "    yaxis_showgrid=False,\n",
    "    yaxis_autorange='reversed'\n",
    ")\n",
    "\n",
    "fig.show()\n"
   ]
  },
  {
   "cell_type": "code",
   "execution_count": 486,
   "metadata": {},
   "outputs": [
    {
     "data": {
      "application/vnd.plotly.v1+json": {
       "config": {
        "plotlyServerURL": "https://plot.ly"
       },
       "data": [
        {
         "mode": "markers",
         "name": "Well 1",
         "type": "scatter",
         "x": [
          1785.58,
          1683.38,
          1566.58,
          1576.8,
          1575.34,
          1576.8,
          1554.9,
          1610.38,
          1679,
          1807.48,
          1829.38,
          1832.3,
          2054.22,
          1620.6,
          1620.6,
          1839.6,
          1896.54,
          2077.58,
          1969.54,
          2000.2,
          2003.12,
          2006.04,
          2008.96,
          2011.88,
          2016.26,
          2010.42,
          2010.42,
          2013.34,
          1737.4,
          1734.48,
          1722.8,
          1721.34,
          1718.42,
          1718.42,
          1718.42,
          1725.72,
          1727.18,
          1825,
          1842.52,
          1851.28,
          1852.74,
          1855.66,
          1858.58,
          1857.12,
          1855.66,
          1852.74,
          1846.9,
          1846.9,
          1846.9,
          1839.6,
          1852.74,
          1851.28,
          1843.98,
          1843.98,
          1843.98,
          1984.14,
          1984.14,
          2127.22,
          2130.14,
          2119.92,
          2122.84,
          2118.46,
          2118.46,
          2114.08,
          2359.36,
          2295.12,
          2295.12,
          2300.96,
          2241.1,
          2198.76,
          2185.62,
          2190,
          2192.92,
          2194.38,
          2172.48,
          2194.38,
          2190,
          2190,
          2188.54,
          2181.24,
          2194.38,
          2192.92,
          2090.72,
          2197.3,
          2191.46,
          2134.52,
          2042.54,
          2042.54,
          2033.78,
          2029.4,
          2026.48,
          2030.86,
          2029.4,
          2022.1,
          2011.88,
          2128.6800000000003,
          2128.6800000000003,
          2124.2999999999997,
          2184.16,
          2181.2400000000002,
          2184.16,
          2187.08,
          2167.75,
          2172.1000000000004,
          2166.3,
          2076.3999999999996,
          2175,
          2185.1499999999996,
          2185.1499999999996,
          2183.7,
          2167.75,
          2163.3999999999996,
          2156.1499999999996,
          2183.7,
          2169.2,
          2159.05,
          2156.1499999999996,
          2146,
          2116,
          2091,
          2074,
          2096,
          2067.7,
          2060.45,
          2064.8,
          2061.8999999999996,
          2059,
          2051.75,
          2054.6499999999996,
          2056.1000000000004,
          2059,
          2063.3500000000004,
          2060.45,
          2061.8999999999996,
          1996.6499999999999,
          2022.75,
          2028.5500000000002,
          2041.6000000000001,
          2044.5,
          2044.5,
          2034.3500000000001,
          2032.8999999999999,
          2076.3999999999996,
          2025.6499999999999,
          1999.5500000000002,
          2038.6999999999998,
          2009.6999999999998,
          2022.75,
          2025.6499999999999,
          2025.6499999999999,
          2038.6999999999998,
          2037.25,
          2032.8999999999999,
          2022.75,
          2018.3999999999999,
          1999.5500000000002,
          2014.0500000000002,
          1995.1999999999998,
          1992.3000000000002,
          1986.5,
          1987.9499999999998,
          1980.6999999999998,
          1976.3500000000001,
          1992.3000000000002,
          1973.4499999999998,
          2035.8000000000002,
          1963.3000000000002,
          1967.6499999999999,
          1954.6000000000001,
          1958.9499999999998,
          1953.1499999999999,
          1943,
          1941.5500000000002,
          1941.5500000000002,
          1953.1499999999999,
          1902.3999999999999,
          1918.3500000000001,
          1899.5
         ],
         "xaxis": "x",
         "y": [
          7409,
          9205,
          10454,
          10006,
          9877,
          9704,
          9542,
          8895,
          8243,
          7528,
          7357,
          7333,
          4876.88,
          9874.62,
          10013.44,
          7678.15,
          6680.59,
          4188.93,
          5947.47,
          5555.12,
          5493.54,
          5543.78,
          5523.38,
          5522.62,
          5521.85,
          5638,
          5541,
          5584,
          8957,
          8936,
          8833,
          8737,
          8684,
          8562,
          8526,
          8277.2,
          8267,
          6998,
          7004,
          7000,
          6983,
          6969.8,
          6937.4,
          6867.3,
          6998.8,
          7023.8,
          7024,
          7053,
          7005,
          7108.7,
          6949.3,
          7082.6,
          7049.7,
          8268,
          6996.1,
          6566.2,
          5763.3,
          4164.7,
          4326.6,
          4494,
          4811,
          4549,
          4593,
          4598,
          3045.6,
          3070,
          2500.2,
          2337.7,
          3162,
          3553.1,
          3596.7,
          3916,
          3588,
          3680,
          4030,
          3525,
          3508,
          3493,
          3531,
          3777,
          3385,
          3215,
          4931,
          2614,
          2946,
          3873,
          5543,
          5543,
          5426,
          5380,
          5136.1,
          5020.2,
          4982.7,
          5080.7,
          5171,
          3878.9,
          3890.3,
          4021.3,
          3286.3,
          3388.5,
          3479.8,
          3332,
          3369.1,
          3223.2,
          3292.1,
          4542.7,
          3217.5,
          2996.9,
          3134.2,
          3146.9,
          3418.1,
          3368.9,
          3326.1,
          2463.8,
          2784.5,
          2526,
          2561,
          2754.8,
          3681,
          3675.2,
          3872.3,
          3737.7,
          3809.7,
          3826.6,
          3475.3,
          3469.1,
          3428.8,
          3375.9,
          2769.7,
          2657.6,
          2690,
          3096.1,
          3052.1,
          2784.4,
          4023.9,
          2895.4,
          3814.8,
          3695,
          3709.4,
          3728.9,
          3747.1,
          3661.9,
          3863.2,
          3864.1,
          4278,
          3240.9,
          4041.1,
          4057,
          4112,
          4244.9,
          4114,
          4059,
          4152,
          3584,
          4329.8,
          3890,
          4199,
          4275,
          4208.8,
          4228,
          4288,
          4531,
          4551,
          4505.7,
          4176,
          4184.8,
          4069,
          4063,
          4049,
          4078,
          4091,
          4055,
          4088,
          4086,
          4107,
          4203,
          4155,
          4599
         ],
         "yaxis": "y"
        },
        {
         "mode": "markers",
         "name": "Well 2",
         "type": "scatter",
         "x": [
          1378.9499999999998,
          1326.75,
          1338.35,
          1363,
          1138.25,
          1158.5500000000002,
          1187.5500000000002,
          1102,
          1305,
          1386.1999999999998,
          1383.3000000000002,
          1374.6,
          1368.8000000000002,
          1364.4499999999998,
          1370.25,
          1190.4499999999998,
          1183.1999999999998,
          1177.4,
          1173.0500000000002,
          1061.4,
          1297.75,
          1406.5,
          1374.6,
          1645.75,
          1787.85,
          1812.5,
          1586.3000000000002,
          1436.9499999999998,
          1233.9499999999998,
          1856,
          1841.5,
          1761.75,
          1740,
          1703.75,
          1341.25,
          1751.6,
          1470.3000000000002,
          1448.5500000000002,
          1435.5,
          1425.35,
          1416.65,
          1380.4,
          1374.6,
          1370.25,
          1368.8000000000002,
          1349.9499999999998,
          1344.15,
          1341.25,
          1331.1,
          1326.75,
          1325.3000000000002,
          1322.4,
          1318.0500000000002,
          1312.25,
          1322.4,
          1319.5,
          1318.0500000000002,
          1161.4499999999998,
          1165.8000000000002,
          1160,
          1165.8000000000002,
          1164.35,
          951.1999999999999,
          1177.4,
          1177.4,
          1184.65,
          1177.4,
          1177.4,
          1181.75,
          1181.75,
          1349.9499999999998,
          1341.25,
          1273.1,
          1277.4499999999998,
          1297.75,
          1605.15,
          1609.5,
          1624,
          1612.4,
          1619.65,
          1619.65,
          1760.3000000000002,
          1761.75,
          1767.5500000000002,
          1773.35,
          1770.4499999999998,
          1774.8000000000002,
          1782.0500000000002,
          1786.4,
          1783.5,
          1779.15,
          1784.9499999999998,
          1766.1,
          1774.8000000000002,
          1779.15,
          1847.3000000000002,
          1870.5,
          1867.6000000000001,
          1860.3500000000001,
          1858.8999999999999,
          1858.8999999999999,
          1866.1499999999999,
          1870.5,
          1876.3000000000002,
          1776.25,
          1890.8000000000002,
          1934.3000000000002,
          1956.0500000000002,
          1958.9499999999998,
          1958.9499999999998,
          1956.0500000000002,
          1970.5500000000002,
          1967.6499999999999,
          1973.4499999999998,
          1972,
          1974.8999999999999,
          1985.0500000000002,
          1986.5,
          1986.5,
          1990.8500000000001,
          1992.3000000000002,
          2043.0500000000002,
          2031.4499999999998,
          2028.5500000000002,
          2024.1999999999998,
          2003.8999999999999,
          1970.5500000000002,
          1914,
          1879.1999999999998,
          1885,
          1987.9499999999998,
          1963.3000000000002,
          1958.9499999999998,
          1958.9499999999998,
          1970.5500000000002,
          1973.4499999999998,
          1967.6499999999999,
          1943,
          1957.5,
          1928.5,
          1960.3999999999999,
          1980.6999999999998,
          1995.1999999999998,
          1992.3000000000002,
          1986.5,
          1987.9499999999998,
          1992.3000000000002,
          1976.3500000000001,
          1986.5,
          1964.75,
          1977.8000000000002,
          1979.25,
          1987.9499999999998,
          1983.6000000000001,
          1980.6999999999998,
          1990.8500000000001,
          1977.8000000000002,
          1970.5500000000002,
          1963.3000000000002,
          1934.3000000000002,
          1963.3000000000002,
          1992.3000000000002,
          1987.9499999999998,
          1977.8000000000002,
          1972,
          1987.9499999999998,
          1963.3000000000002,
          1963.3000000000002,
          1963.3000000000002,
          1970.5500000000002,
          1960.3999999999999,
          1947.3500000000001,
          1938.6499999999999,
          1934.3000000000002,
          1932.8500000000001,
          1928.5,
          1943,
          1953.1499999999999
         ],
         "xaxis": "x2",
         "y": [
          11092,
          11784,
          11637,
          11305,
          13307,
          12916,
          12386,
          13477,
          12291,
          11243,
          11154,
          11097,
          10171,
          11030,
          10690,
          11533,
          11478,
          11403,
          11482,
          10246,
          11169,
          9881,
          11033,
          7199.3,
          4779.77,
          5353.24,
          9029.81,
          10854.03,
          12397.98,
          4576.51,
          4964.56,
          6758.16,
          7165.3,
          7612.91,
          11872.38,
          6696.21,
          11161,
          10948,
          10899,
          10806,
          10792,
          11165,
          11061,
          11042,
          11028,
          11257,
          11127,
          11115,
          11242,
          10945.85,
          10911.3,
          10996.3,
          10885.371428571429,
          11067.2,
          10875.6,
          10825,
          10768.4,
          12434.6,
          12168.4,
          12215.9,
          12109,
          12168.6,
          12980.2,
          11647.2,
          11718.2,
          11773.4,
          11763,
          11838.2,
          11680.5,
          11519.4,
          11408,
          11547.1,
          12584.9,
          12397.7,
          10402.3,
          6425.5,
          6489,
          6545,
          6856,
          6802,
          6929,
          4183.2,
          4129.6,
          4132.4,
          4114.7,
          4483.6,
          4455.2,
          4425.9,
          4335.3,
          4508,
          4472.7,
          4504.7,
          4483.5,
          4773.4,
          5239.1,
          3825.4,
          2828.7,
          2610,
          2188.7,
          4726,
          4456,
          4178,
          4181,
          5097,
          5351,
          3922,
          3590,
          2962,
          3291,
          3286,
          3396,
          4327,
          4229,
          4277,
          4615,
          4590,
          4611,
          4613,
          4788.5,
          4741.7,
          4767.9,
          3272.1,
          3303.4,
          3180.8,
          3246.1,
          3557.6,
          2595,
          5285,
          5834.2,
          5539.2,
          3385,
          2996.2,
          2923.4,
          3908,
          3702,
          3687.4,
          4078.6,
          4271.6,
          3545.6,
          3856,
          3894.7,
          3773.7,
          3693.7,
          3933,
          3859.8,
          3898.7,
          3885.4,
          4005.2,
          3686.5,
          3807.3,
          3546.6,
          3635.5,
          3372.2,
          3609.5,
          3720.8,
          3743.2,
          3819.2,
          3861.4,
          4101.1,
          4231.8,
          3292.5,
          3406.7,
          3679.3,
          3533.4,
          3491.5,
          3126.7,
          3789.7,
          3062.2,
          3651.8,
          3540.3,
          3660.3,
          3658.9,
          3696.8,
          3579,
          3626.2,
          3628,
          3383.9,
          3075
         ],
         "yaxis": "y2"
        },
        {
         "mode": "markers",
         "name": "Well 3",
         "type": "scatter",
         "x": [
          1541.35,
          1442.75,
          1339.8000000000002,
          1370.25,
          1377.5,
          1080.25,
          1115.0500000000002,
          1084.6,
          1128.1,
          1609.5,
          1410.85,
          1400.6999999999998,
          1025.15,
          1009.1999999999999,
          1010.6500000000001,
          1022.25,
          1025.15,
          1075.9,
          1075.9,
          1223.8000000000002,
          1645.75,
          1731.3000000000002,
          1755.9499999999998,
          1744.35,
          1784.9499999999998,
          1798,
          1566,
          1038.1999999999998,
          725,
          1754.5,
          1744.35,
          2051.75,
          1754.5,
          1761.75,
          1916.8999999999999,
          1741.4499999999998,
          1738.5500000000002,
          1745.8000000000002,
          1735.65,
          1734.1999999999998,
          1731.3000000000002,
          1731.3000000000002,
          1867.6000000000001,
          1877.75,
          1879.1999999999998,
          1882.1000000000001,
          1887.8999999999999,
          1887.8999999999999,
          1896.6000000000001,
          1900.9499999999998,
          1906.75,
          1906.75,
          1912.5500000000002,
          1902.3999999999999,
          1899.5,
          1898.0500000000002,
          1896.6000000000001,
          1896.6000000000001,
          1896.6000000000001,
          1663.15,
          1645.75,
          1637.0500000000002,
          1634.15,
          1877.75,
          1898.0500000000002,
          1896.6000000000001,
          1899.5,
          1895.1499999999999,
          1893.6999999999998,
          1895.1499999999999,
          1890.8000000000002,
          1903.8500000000001,
          2012.6000000000001,
          2012.6000000000001,
          2012.6000000000001,
          2018.3999999999999,
          2019.8500000000001,
          2167.75,
          2167.75,
          2169.2,
          2180.8,
          2180.8,
          2163.3999999999996,
          2098.1499999999996,
          2153.25,
          2089.45,
          2076.3999999999996,
          2072.05,
          2076.3999999999996,
          2074.95,
          2073.5,
          2067.7,
          2209.8,
          2060.45,
          1943,
          1935.75,
          1892.25,
          1818.3000000000002,
          1824.1,
          1805.25,
          1750.15,
          1758.85,
          1766.1,
          1751.6,
          1742.9,
          1735.65,
          1742.9,
          1731.3000000000002,
          1460.15,
          1451.4499999999998,
          1432.6,
          1447.1,
          1452.9,
          1444.1999999999998,
          1445.65,
          1451.4499999999998,
          1415.1999999999998,
          1310.8000000000002,
          1325.3000000000002,
          1342.6999999999998,
          1338.35,
          1334,
          1336.9,
          1329.65,
          1319.5,
          1336.9,
          1306.4499999999998,
          1309.35,
          1280.35,
          1303.5500000000002,
          1290.5,
          1268.75,
          1296.3000000000002,
          1299.1999999999998,
          1305,
          1286.15,
          1277.4499999999998,
          1265.85,
          1264.4,
          1255.6999999999998,
          1254.25,
          1296.3000000000002,
          1309.35,
          1309.35,
          1231.0500000000002,
          1280.35,
          1236.85,
          1239.75,
          1225.25,
          1204.9499999999998,
          1183.1999999999998,
          1162.9,
          1212.1999999999998,
          1220.9,
          1175.9499999999998,
          1175.9499999999998,
          1177.4,
          1186.1,
          1180.3000000000002,
          1168.6999999999998,
          1232.5,
          1196.25,
          1245.5500000000002,
          1197.6999999999998,
          1197.6999999999998,
          1184.65,
          1197.6999999999998,
          1178.85,
          1171.6,
          1178.85,
          1154.1999999999998,
          1162.9,
          1175.9499999999998,
          1173.0500000000002,
          1168.6999999999998,
          1171.6,
          1170.15,
          1178.85
         ],
         "xaxis": "x3",
         "y": [
          7888,
          8933,
          9558,
          8896,
          8725,
          11229,
          11417,
          11195,
          10779,
          7135,
          9052,
          8898,
          11151,
          10857,
          10659,
          10125,
          9922,
          9622,
          9620,
          9406,
          5759,
          4826,
          4707,
          5217,
          4942.76,
          4400.15,
          7137.47,
          10287.53,
          10195,
          6186.75,
          6060.39,
          2242.3,
          6229.97,
          5847.31,
          3807.59,
          5928.56,
          5901.01,
          5802,
          5854.96,
          5859.94,
          5841.36,
          5830.86,
          4218.32,
          4235.72,
          4386.82,
          4388.29,
          4387.66,
          4472.6,
          4310.65,
          4284.08,
          4263,
          4217.1,
          4212,
          4331.4,
          4315.5,
          4208.6,
          4310,
          4356.3,
          4344.7,
          6628.8,
          6582.4,
          6522.9,
          6486,
          3910.6,
          3946,
          4132.2,
          4121.6,
          4213.4,
          4367.7,
          4316.6,
          4234.5,
          4120.7,
          3031.4,
          3218.2,
          3299.5,
          3174.8,
          3306,
          2926.4,
          1962.2,
          1652.2,
          1174.8,
          1212.1,
          1692.7,
          2796.9,
          1071.8,
          2529.5,
          2478.1,
          2631,
          2527,
          2191,
          2193,
          2213,
          2287,
          882,
          2962,
          1463,
          1929,
          3023,
          2292,
          1911,
          3011,
          3336,
          3467.2,
          3842.9,
          3816.8,
          3717.6,
          3448.5,
          3450,
          6467.7,
          6531.1,
          6239.9,
          5929.6,
          5682.3,
          5558.4,
          5123.7,
          5322.5,
          5712.2,
          6322.8,
          6112,
          5821.9,
          5494.3,
          5430,
          5214,
          5249.3,
          5098,
          4922.6,
          4980.8,
          4746.3,
          4878,
          4718.6,
          4661,
          4714.6,
          4283.5,
          4354.5,
          4340.6,
          4398.3,
          4556.3,
          4510.1,
          4481.4,
          4434.1,
          4189.1,
          4260,
          4347.8,
          4394.4,
          4622.2,
          4684,
          3665.8,
          4371.1,
          4370.8,
          4466.2,
          4321,
          4274.7,
          3636.9,
          3708.5,
          4030.4,
          4031.5,
          3955.7,
          3813.7,
          3783.5,
          3900,
          3266.8,
          3841.2,
          3191,
          3667,
          3621,
          3263,
          3238,
          3312,
          3412.8,
          3354.7,
          3454,
          3195,
          3091,
          3095,
          3142,
          3156,
          3108,
          3089
         ],
         "yaxis": "y3"
        },
        {
         "mode": "markers",
         "name": "Well 4",
         "type": "scatter",
         "x": [
          1286.15,
          1316.6,
          1307.9,
          1296.3000000000002,
          1595,
          1432.6,
          1389.1,
          1407.9499999999998,
          1413.75,
          1326.75,
          1212.1999999999998,
          1363,
          1367.35,
          1753.0500000000002,
          1796.5500000000002,
          1850.1999999999998,
          1612.4,
          1450,
          762.7,
          1914,
          1827,
          1798,
          1834.25,
          1827,
          1842.9499999999998,
          1854.5500000000002,
          1779.15,
          1779.15,
          1783.5,
          1796.5500000000002,
          1815.4,
          1813.9499999999998,
          1837.15,
          1840.0500000000002,
          1847.3000000000002,
          1999.5500000000002,
          2006.8000000000002,
          2009.6999999999998,
          2009.6999999999998,
          2015.5,
          2022.75,
          2022.75,
          2028.5500000000002,
          2043.0500000000002,
          2048.8500000000004,
          2072.05,
          2076.3999999999996,
          2082.2,
          2079.3,
          2183.7,
          2190.95,
          2192.3999999999996,
          2195.3,
          0,
          2199.6499999999996,
          2204,
          2205.45,
          2206.8999999999996,
          1887.8999999999999,
          1750.15,
          1750.15,
          1737.1,
          1824.1,
          2070.6000000000004,
          2056.1000000000004,
          2043.0500000000002,
          2054.6499999999996,
          2186.6000000000004,
          2244.6000000000004,
          2180.8,
          2186.6000000000004,
          2179.3500000000004,
          2141.6499999999996,
          2140.2,
          2137.3,
          2176.45,
          2179.3500000000004,
          2175,
          2176.45,
          2173.55,
          2175,
          2176.45,
          2180.8,
          2328.7,
          2186.6000000000004,
          2160.5,
          2150.3500000000004,
          2138.75,
          2137.3,
          2130.05,
          2204,
          2204,
          2269.25,
          2269.25,
          2247.5,
          2248.95,
          2247.5,
          2260.55,
          2260.55,
          2259.1000000000004,
          2251.8500000000004,
          2247.5,
          2248.95,
          2244.6000000000004,
          2244.6000000000004,
          2237.3500000000004,
          2234.45,
          2244.6000000000004,
          2241.7,
          2237.3500000000004,
          2234.45,
          2231.55,
          2221.3999999999996,
          2222.8500000000004,
          2214.1499999999996,
          2206.8999999999996,
          2199.6499999999996,
          2199.6499999999996,
          2193.8500000000004,
          2193.8500000000004,
          2185.1499999999996,
          2179.3500000000004,
          2172.1000000000004,
          2169.2,
          2169.2,
          2159.05,
          2138.75,
          2119.8999999999996,
          2103.95,
          2047.3999999999999,
          2044.5,
          2030,
          2030,
          2015.5,
          2008.25,
          2002.4499999999998,
          1967.6499999999999,
          1982.1499999999999,
          1970.5500000000002,
          1954.6000000000001,
          1950.25,
          1931.3999999999999,
          1947.3500000000001,
          1941.5500000000002,
          1927.0500000000002,
          1922.6999999999998,
          1899.5,
          1890.8000000000002,
          1863.25,
          1858.8999999999999,
          1845.85,
          1828.4499999999998,
          1819.75,
          1782.0500000000002,
          1737.1,
          1706.65,
          1666.0500000000002,
          1655.9,
          1579.0500000000002,
          1724.0500000000002,
          1715.35,
          1682,
          1670.4,
          1658.8000000000002,
          1650.1,
          1629.8000000000002,
          1616.75,
          1606.6,
          1626.9,
          1590.65,
          1561.65,
          1547.15,
          1538.4499999999998,
          1521.0500000000002,
          1506.5500000000002,
          1476.1,
          1458.6999999999998,
          1438.4
         ],
         "xaxis": "x4",
         "y": [
          10874,
          10280,
          10243,
          10209,
          9524,
          10456,
          9844,
          8519,
          8401,
          9266,
          10597,
          9044,
          9020,
          4873,
          4976.53,
          4902.73,
          7772.72,
          9669.61,
          10066.69,
          4644.74,
          6260.16,
          5768.99,
          5422.5,
          5857.08,
          5637.75,
          5565.86,
          6634.89,
          6551.55,
          6482.23,
          6394.63,
          6246.16,
          6310.51,
          6119.4,
          6122.6,
          6088.41,
          4366.21,
          4505.19,
          4664.85,
          4685.03,
          4673.7,
          4777.63,
          4801.6,
          4784,
          4726.8,
          4718.4,
          4539.4,
          4554.8,
          4532,
          4694.4,
          3591,
          3298.5,
          3473.7,
          3515,
          3515,
          3553,
          3634.3,
          3748,
          3815.4,
          6884,
          6260,
          6280,
          6369.9,
          6057.2,
          3634.9,
          4625.9,
          4828.4,
          4948.6,
          3738.6,
          2530.5,
          3439.4,
          3428.7,
          3369,
          3881.3,
          4131,
          4140,
          3772,
          3672,
          3735,
          3833,
          3781,
          3767,
          3722,
          3743,
          1681,
          3928.7,
          3896.6,
          3809.7,
          3763.2,
          3818.7,
          3614.5,
          3012.3,
          3020.5,
          2369.7,
          2394.4,
          2649.2,
          2873.5,
          2685.5,
          2348.2,
          2324.3,
          2375,
          2647.4,
          2587.7,
          2563.6,
          2605.1,
          2547.3,
          2520.5,
          2426.7,
          2125.7,
          2124.9,
          2125.3,
          2058.6,
          2083.4,
          2179.7,
          2129.7,
          2139.3,
          2075.2,
          1831.1,
          1789.1,
          1778.7,
          1858.4,
          1732,
          1697.4,
          1344,
          1377.7,
          2153,
          1884,
          2334.2,
          2279.9,
          2292.2,
          2291.1,
          2221.6,
          2333.1,
          2339.7,
          2284,
          2185.4,
          2269.6,
          2697.4,
          2338.7,
          2310.3,
          2531,
          2565.4,
          2746,
          2505,
          2476,
          2559,
          2532,
          2648.5,
          2666,
          2796.5,
          2576,
          2567,
          2595,
          2854,
          3156,
          3290.9,
          3377,
          3455.9,
          3489,
          3832,
          2593,
          2579,
          2611,
          2673,
          2684,
          2710,
          2712,
          2581,
          2623,
          2448,
          2710,
          2922,
          2939,
          2950,
          2974,
          3131,
          2934,
          3083,
          3202
         ],
         "yaxis": "y4"
        }
       ],
       "layout": {
        "annotations": [
         {
          "font": {
           "size": 16
          },
          "showarrow": false,
          "text": "Well 1",
          "x": 0.225,
          "xanchor": "center",
          "xref": "paper",
          "y": 1,
          "yanchor": "bottom",
          "yref": "paper"
         },
         {
          "font": {
           "size": 16
          },
          "showarrow": false,
          "text": "Well 2",
          "x": 0.775,
          "xanchor": "center",
          "xref": "paper",
          "y": 1,
          "yanchor": "bottom",
          "yref": "paper"
         },
         {
          "font": {
           "size": 16
          },
          "showarrow": false,
          "text": "Well 3",
          "x": 0.225,
          "xanchor": "center",
          "xref": "paper",
          "y": 0.375,
          "yanchor": "bottom",
          "yref": "paper"
         },
         {
          "font": {
           "size": 16
          },
          "showarrow": false,
          "text": "Well 4",
          "x": 0.775,
          "xanchor": "center",
          "xref": "paper",
          "y": 0.375,
          "yanchor": "bottom",
          "yref": "paper"
         }
        ],
        "height": 600,
        "template": {
         "data": {
          "bar": [
           {
            "error_x": {
             "color": "#2a3f5f"
            },
            "error_y": {
             "color": "#2a3f5f"
            },
            "marker": {
             "line": {
              "color": "#E5ECF6",
              "width": 0.5
             },
             "pattern": {
              "fillmode": "overlay",
              "size": 10,
              "solidity": 0.2
             }
            },
            "type": "bar"
           }
          ],
          "barpolar": [
           {
            "marker": {
             "line": {
              "color": "#E5ECF6",
              "width": 0.5
             },
             "pattern": {
              "fillmode": "overlay",
              "size": 10,
              "solidity": 0.2
             }
            },
            "type": "barpolar"
           }
          ],
          "carpet": [
           {
            "aaxis": {
             "endlinecolor": "#2a3f5f",
             "gridcolor": "white",
             "linecolor": "white",
             "minorgridcolor": "white",
             "startlinecolor": "#2a3f5f"
            },
            "baxis": {
             "endlinecolor": "#2a3f5f",
             "gridcolor": "white",
             "linecolor": "white",
             "minorgridcolor": "white",
             "startlinecolor": "#2a3f5f"
            },
            "type": "carpet"
           }
          ],
          "choropleth": [
           {
            "colorbar": {
             "outlinewidth": 0,
             "ticks": ""
            },
            "type": "choropleth"
           }
          ],
          "contour": [
           {
            "colorbar": {
             "outlinewidth": 0,
             "ticks": ""
            },
            "colorscale": [
             [
              0,
              "#0d0887"
             ],
             [
              0.1111111111111111,
              "#46039f"
             ],
             [
              0.2222222222222222,
              "#7201a8"
             ],
             [
              0.3333333333333333,
              "#9c179e"
             ],
             [
              0.4444444444444444,
              "#bd3786"
             ],
             [
              0.5555555555555556,
              "#d8576b"
             ],
             [
              0.6666666666666666,
              "#ed7953"
             ],
             [
              0.7777777777777778,
              "#fb9f3a"
             ],
             [
              0.8888888888888888,
              "#fdca26"
             ],
             [
              1,
              "#f0f921"
             ]
            ],
            "type": "contour"
           }
          ],
          "contourcarpet": [
           {
            "colorbar": {
             "outlinewidth": 0,
             "ticks": ""
            },
            "type": "contourcarpet"
           }
          ],
          "heatmap": [
           {
            "colorbar": {
             "outlinewidth": 0,
             "ticks": ""
            },
            "colorscale": [
             [
              0,
              "#0d0887"
             ],
             [
              0.1111111111111111,
              "#46039f"
             ],
             [
              0.2222222222222222,
              "#7201a8"
             ],
             [
              0.3333333333333333,
              "#9c179e"
             ],
             [
              0.4444444444444444,
              "#bd3786"
             ],
             [
              0.5555555555555556,
              "#d8576b"
             ],
             [
              0.6666666666666666,
              "#ed7953"
             ],
             [
              0.7777777777777778,
              "#fb9f3a"
             ],
             [
              0.8888888888888888,
              "#fdca26"
             ],
             [
              1,
              "#f0f921"
             ]
            ],
            "type": "heatmap"
           }
          ],
          "heatmapgl": [
           {
            "colorbar": {
             "outlinewidth": 0,
             "ticks": ""
            },
            "colorscale": [
             [
              0,
              "#0d0887"
             ],
             [
              0.1111111111111111,
              "#46039f"
             ],
             [
              0.2222222222222222,
              "#7201a8"
             ],
             [
              0.3333333333333333,
              "#9c179e"
             ],
             [
              0.4444444444444444,
              "#bd3786"
             ],
             [
              0.5555555555555556,
              "#d8576b"
             ],
             [
              0.6666666666666666,
              "#ed7953"
             ],
             [
              0.7777777777777778,
              "#fb9f3a"
             ],
             [
              0.8888888888888888,
              "#fdca26"
             ],
             [
              1,
              "#f0f921"
             ]
            ],
            "type": "heatmapgl"
           }
          ],
          "histogram": [
           {
            "marker": {
             "pattern": {
              "fillmode": "overlay",
              "size": 10,
              "solidity": 0.2
             }
            },
            "type": "histogram"
           }
          ],
          "histogram2d": [
           {
            "colorbar": {
             "outlinewidth": 0,
             "ticks": ""
            },
            "colorscale": [
             [
              0,
              "#0d0887"
             ],
             [
              0.1111111111111111,
              "#46039f"
             ],
             [
              0.2222222222222222,
              "#7201a8"
             ],
             [
              0.3333333333333333,
              "#9c179e"
             ],
             [
              0.4444444444444444,
              "#bd3786"
             ],
             [
              0.5555555555555556,
              "#d8576b"
             ],
             [
              0.6666666666666666,
              "#ed7953"
             ],
             [
              0.7777777777777778,
              "#fb9f3a"
             ],
             [
              0.8888888888888888,
              "#fdca26"
             ],
             [
              1,
              "#f0f921"
             ]
            ],
            "type": "histogram2d"
           }
          ],
          "histogram2dcontour": [
           {
            "colorbar": {
             "outlinewidth": 0,
             "ticks": ""
            },
            "colorscale": [
             [
              0,
              "#0d0887"
             ],
             [
              0.1111111111111111,
              "#46039f"
             ],
             [
              0.2222222222222222,
              "#7201a8"
             ],
             [
              0.3333333333333333,
              "#9c179e"
             ],
             [
              0.4444444444444444,
              "#bd3786"
             ],
             [
              0.5555555555555556,
              "#d8576b"
             ],
             [
              0.6666666666666666,
              "#ed7953"
             ],
             [
              0.7777777777777778,
              "#fb9f3a"
             ],
             [
              0.8888888888888888,
              "#fdca26"
             ],
             [
              1,
              "#f0f921"
             ]
            ],
            "type": "histogram2dcontour"
           }
          ],
          "mesh3d": [
           {
            "colorbar": {
             "outlinewidth": 0,
             "ticks": ""
            },
            "type": "mesh3d"
           }
          ],
          "parcoords": [
           {
            "line": {
             "colorbar": {
              "outlinewidth": 0,
              "ticks": ""
             }
            },
            "type": "parcoords"
           }
          ],
          "pie": [
           {
            "automargin": true,
            "type": "pie"
           }
          ],
          "scatter": [
           {
            "fillpattern": {
             "fillmode": "overlay",
             "size": 10,
             "solidity": 0.2
            },
            "type": "scatter"
           }
          ],
          "scatter3d": [
           {
            "line": {
             "colorbar": {
              "outlinewidth": 0,
              "ticks": ""
             }
            },
            "marker": {
             "colorbar": {
              "outlinewidth": 0,
              "ticks": ""
             }
            },
            "type": "scatter3d"
           }
          ],
          "scattercarpet": [
           {
            "marker": {
             "colorbar": {
              "outlinewidth": 0,
              "ticks": ""
             }
            },
            "type": "scattercarpet"
           }
          ],
          "scattergeo": [
           {
            "marker": {
             "colorbar": {
              "outlinewidth": 0,
              "ticks": ""
             }
            },
            "type": "scattergeo"
           }
          ],
          "scattergl": [
           {
            "marker": {
             "colorbar": {
              "outlinewidth": 0,
              "ticks": ""
             }
            },
            "type": "scattergl"
           }
          ],
          "scattermapbox": [
           {
            "marker": {
             "colorbar": {
              "outlinewidth": 0,
              "ticks": ""
             }
            },
            "type": "scattermapbox"
           }
          ],
          "scatterpolar": [
           {
            "marker": {
             "colorbar": {
              "outlinewidth": 0,
              "ticks": ""
             }
            },
            "type": "scatterpolar"
           }
          ],
          "scatterpolargl": [
           {
            "marker": {
             "colorbar": {
              "outlinewidth": 0,
              "ticks": ""
             }
            },
            "type": "scatterpolargl"
           }
          ],
          "scatterternary": [
           {
            "marker": {
             "colorbar": {
              "outlinewidth": 0,
              "ticks": ""
             }
            },
            "type": "scatterternary"
           }
          ],
          "surface": [
           {
            "colorbar": {
             "outlinewidth": 0,
             "ticks": ""
            },
            "colorscale": [
             [
              0,
              "#0d0887"
             ],
             [
              0.1111111111111111,
              "#46039f"
             ],
             [
              0.2222222222222222,
              "#7201a8"
             ],
             [
              0.3333333333333333,
              "#9c179e"
             ],
             [
              0.4444444444444444,
              "#bd3786"
             ],
             [
              0.5555555555555556,
              "#d8576b"
             ],
             [
              0.6666666666666666,
              "#ed7953"
             ],
             [
              0.7777777777777778,
              "#fb9f3a"
             ],
             [
              0.8888888888888888,
              "#fdca26"
             ],
             [
              1,
              "#f0f921"
             ]
            ],
            "type": "surface"
           }
          ],
          "table": [
           {
            "cells": {
             "fill": {
              "color": "#EBF0F8"
             },
             "line": {
              "color": "white"
             }
            },
            "header": {
             "fill": {
              "color": "#C8D4E3"
             },
             "line": {
              "color": "white"
             }
            },
            "type": "table"
           }
          ]
         },
         "layout": {
          "annotationdefaults": {
           "arrowcolor": "#2a3f5f",
           "arrowhead": 0,
           "arrowwidth": 1
          },
          "autotypenumbers": "strict",
          "coloraxis": {
           "colorbar": {
            "outlinewidth": 0,
            "ticks": ""
           }
          },
          "colorscale": {
           "diverging": [
            [
             0,
             "#8e0152"
            ],
            [
             0.1,
             "#c51b7d"
            ],
            [
             0.2,
             "#de77ae"
            ],
            [
             0.3,
             "#f1b6da"
            ],
            [
             0.4,
             "#fde0ef"
            ],
            [
             0.5,
             "#f7f7f7"
            ],
            [
             0.6,
             "#e6f5d0"
            ],
            [
             0.7,
             "#b8e186"
            ],
            [
             0.8,
             "#7fbc41"
            ],
            [
             0.9,
             "#4d9221"
            ],
            [
             1,
             "#276419"
            ]
           ],
           "sequential": [
            [
             0,
             "#0d0887"
            ],
            [
             0.1111111111111111,
             "#46039f"
            ],
            [
             0.2222222222222222,
             "#7201a8"
            ],
            [
             0.3333333333333333,
             "#9c179e"
            ],
            [
             0.4444444444444444,
             "#bd3786"
            ],
            [
             0.5555555555555556,
             "#d8576b"
            ],
            [
             0.6666666666666666,
             "#ed7953"
            ],
            [
             0.7777777777777778,
             "#fb9f3a"
            ],
            [
             0.8888888888888888,
             "#fdca26"
            ],
            [
             1,
             "#f0f921"
            ]
           ],
           "sequentialminus": [
            [
             0,
             "#0d0887"
            ],
            [
             0.1111111111111111,
             "#46039f"
            ],
            [
             0.2222222222222222,
             "#7201a8"
            ],
            [
             0.3333333333333333,
             "#9c179e"
            ],
            [
             0.4444444444444444,
             "#bd3786"
            ],
            [
             0.5555555555555556,
             "#d8576b"
            ],
            [
             0.6666666666666666,
             "#ed7953"
            ],
            [
             0.7777777777777778,
             "#fb9f3a"
            ],
            [
             0.8888888888888888,
             "#fdca26"
            ],
            [
             1,
             "#f0f921"
            ]
           ]
          },
          "colorway": [
           "#636efa",
           "#EF553B",
           "#00cc96",
           "#ab63fa",
           "#FFA15A",
           "#19d3f3",
           "#FF6692",
           "#B6E880",
           "#FF97FF",
           "#FECB52"
          ],
          "font": {
           "color": "#2a3f5f"
          },
          "geo": {
           "bgcolor": "white",
           "lakecolor": "white",
           "landcolor": "#E5ECF6",
           "showlakes": true,
           "showland": true,
           "subunitcolor": "white"
          },
          "hoverlabel": {
           "align": "left"
          },
          "hovermode": "closest",
          "mapbox": {
           "style": "light"
          },
          "paper_bgcolor": "white",
          "plot_bgcolor": "#E5ECF6",
          "polar": {
           "angularaxis": {
            "gridcolor": "white",
            "linecolor": "white",
            "ticks": ""
           },
           "bgcolor": "#E5ECF6",
           "radialaxis": {
            "gridcolor": "white",
            "linecolor": "white",
            "ticks": ""
           }
          },
          "scene": {
           "xaxis": {
            "backgroundcolor": "#E5ECF6",
            "gridcolor": "white",
            "gridwidth": 2,
            "linecolor": "white",
            "showbackground": true,
            "ticks": "",
            "zerolinecolor": "white"
           },
           "yaxis": {
            "backgroundcolor": "#E5ECF6",
            "gridcolor": "white",
            "gridwidth": 2,
            "linecolor": "white",
            "showbackground": true,
            "ticks": "",
            "zerolinecolor": "white"
           },
           "zaxis": {
            "backgroundcolor": "#E5ECF6",
            "gridcolor": "white",
            "gridwidth": 2,
            "linecolor": "white",
            "showbackground": true,
            "ticks": "",
            "zerolinecolor": "white"
           }
          },
          "shapedefaults": {
           "line": {
            "color": "#2a3f5f"
           }
          },
          "ternary": {
           "aaxis": {
            "gridcolor": "white",
            "linecolor": "white",
            "ticks": ""
           },
           "baxis": {
            "gridcolor": "white",
            "linecolor": "white",
            "ticks": ""
           },
           "bgcolor": "#E5ECF6",
           "caxis": {
            "gridcolor": "white",
            "linecolor": "white",
            "ticks": ""
           }
          },
          "title": {
           "x": 0.05
          },
          "xaxis": {
           "automargin": true,
           "gridcolor": "white",
           "linecolor": "white",
           "ticks": "",
           "title": {
            "standoff": 15
           },
           "zerolinecolor": "white",
           "zerolinewidth": 2
          },
          "yaxis": {
           "automargin": true,
           "gridcolor": "white",
           "linecolor": "white",
           "ticks": "",
           "title": {
            "standoff": 15
           },
           "zerolinecolor": "white",
           "zerolinewidth": 2
          }
         }
        },
        "title": {
         "text": "Scatter plot of WHP vs Oil Rate for all wells"
        },
        "width": 800,
        "xaxis": {
         "anchor": "y",
         "domain": [
          0,
          0.45
         ],
         "title": {
          "text": "WHP"
         }
        },
        "xaxis2": {
         "anchor": "y2",
         "domain": [
          0.55,
          1
         ],
         "title": {
          "text": "WHP"
         }
        },
        "xaxis3": {
         "anchor": "y3",
         "domain": [
          0,
          0.45
         ],
         "title": {
          "text": "WHP"
         }
        },
        "xaxis4": {
         "anchor": "y4",
         "domain": [
          0.55,
          1
         ],
         "title": {
          "text": "WHP"
         }
        },
        "yaxis": {
         "anchor": "x",
         "domain": [
          0.625,
          1
         ],
         "title": {
          "text": "Oil Rate"
         }
        },
        "yaxis2": {
         "anchor": "x2",
         "domain": [
          0.625,
          1
         ],
         "title": {
          "text": "Oil Rate"
         }
        },
        "yaxis3": {
         "anchor": "x3",
         "domain": [
          0,
          0.375
         ],
         "title": {
          "text": "Oil Rate"
         }
        },
        "yaxis4": {
         "anchor": "x4",
         "domain": [
          0,
          0.375
         ],
         "title": {
          "text": "Oil Rate"
         }
        }
       }
      }
     },
     "metadata": {},
     "output_type": "display_data"
    }
   ],
   "source": [
    "fig = sp.make_subplots(rows=2, cols=2, subplot_titles=(\"Well 1\", \"Well 2\", \"Well 3\", \"Well 4\"))\n",
    "\n",
    "trace1 = go.Scatter(x=df['WHP_well_1'], y=df['Oil_Rate_well_1'], mode='markers', name='Well 1')\n",
    "trace2 = go.Scatter(x=df['WHP_well_2'], y=df['Oil_Rate_well_2'], mode='markers', name='Well 2')\n",
    "trace3 = go.Scatter(x=df['WHP_well_3'], y=df['Oil_Rate_well_3'], mode='markers', name='Well 3')\n",
    "trace4 = go.Scatter(x=df['WHP_well_4'], y=df['Oil_Rate_well_4'], mode='markers', name='Well 4')\n",
    "\n",
    "fig.add_trace(trace1, row=1, col=1)\n",
    "fig.add_trace(trace2, row=1, col=2)\n",
    "fig.add_trace(trace3, row=2, col=1)\n",
    "fig.add_trace(trace4, row=2, col=2)\n",
    "\n",
    "fig.update_xaxes(title_text=\"WHP\", row=1, col=1)\n",
    "fig.update_xaxes(title_text=\"WHP\", row=1, col=2)\n",
    "fig.update_xaxes(title_text=\"WHP\", row=2, col=1)\n",
    "fig.update_xaxes(title_text=\"WHP\", row=2, col=2)\n",
    "\n",
    "fig.update_yaxes(title_text=\"Oil Rate\", row=1, col=1)\n",
    "fig.update_yaxes(title_text=\"Oil Rate\", row=1, col=2)\n",
    "fig.update_yaxes(title_text=\"Oil Rate\", row=2, col=1)\n",
    "fig.update_yaxes(title_text=\"Oil Rate\", row=2, col=2)\n",
    "\n",
    "fig.update_layout(\n",
    "    height=600,\n",
    "    width=800,\n",
    "    title_text=\"Scatter plot of WHP vs Oil Rate for all wells\"\n",
    ")\n",
    "\n",
    "fig.show()\n"
   ]
  },
  {
   "cell_type": "code",
   "execution_count": 487,
   "metadata": {},
   "outputs": [
    {
     "data": {
      "application/vnd.plotly.v1+json": {
       "config": {
        "plotlyServerURL": "https://plot.ly"
       },
       "data": [
        {
         "name": "Oil_Rate_well_1",
         "nbinsx": 50,
         "type": "histogram",
         "x": [
          7409,
          9205,
          10454,
          10006,
          9877,
          9704,
          9542,
          8895,
          8243,
          7528,
          7357,
          7333,
          4876.88,
          9874.62,
          10013.44,
          7678.15,
          6680.59,
          4188.93,
          5947.47,
          5555.12,
          5493.54,
          5543.78,
          5523.38,
          5522.62,
          5521.85,
          5638,
          5541,
          5584,
          8957,
          8936,
          8833,
          8737,
          8684,
          8562,
          8526,
          8277.2,
          8267,
          6998,
          7004,
          7000,
          6983,
          6969.8,
          6937.4,
          6867.3,
          6998.8,
          7023.8,
          7024,
          7053,
          7005,
          7108.7,
          6949.3,
          7082.6,
          7049.7,
          8268,
          6996.1,
          6566.2,
          5763.3,
          4164.7,
          4326.6,
          4494,
          4811,
          4549,
          4593,
          4598,
          3045.6,
          3070,
          2500.2,
          2337.7,
          3162,
          3553.1,
          3596.7,
          3916,
          3588,
          3680,
          4030,
          3525,
          3508,
          3493,
          3531,
          3777,
          3385,
          3215,
          4931,
          2614,
          2946,
          3873,
          5543,
          5543,
          5426,
          5380,
          5136.1,
          5020.2,
          4982.7,
          5080.7,
          5171,
          3878.9,
          3890.3,
          4021.3,
          3286.3,
          3388.5,
          3479.8,
          3332,
          3369.1,
          3223.2,
          3292.1,
          4542.7,
          3217.5,
          2996.9,
          3134.2,
          3146.9,
          3418.1,
          3368.9,
          3326.1,
          2463.8,
          2784.5,
          2526,
          2561,
          2754.8,
          3681,
          3675.2,
          3872.3,
          3737.7,
          3809.7,
          3826.6,
          3475.3,
          3469.1,
          3428.8,
          3375.9,
          2769.7,
          2657.6,
          2690,
          3096.1,
          3052.1,
          2784.4,
          4023.9,
          2895.4,
          3814.8,
          3695,
          3709.4,
          3728.9,
          3747.1,
          3661.9,
          3863.2,
          3864.1,
          4278,
          3240.9,
          4041.1,
          4057,
          4112,
          4244.9,
          4114,
          4059,
          4152,
          3584,
          4329.8,
          3890,
          4199,
          4275,
          4208.8,
          4228,
          4288,
          4531,
          4551,
          4505.7,
          4176,
          4184.8,
          4069,
          4063,
          4049,
          4078,
          4091,
          4055,
          4088,
          4086,
          4107,
          4203,
          4155,
          4599
         ],
         "xaxis": "x",
         "yaxis": "y"
        },
        {
         "name": "Oil_Rate_well_2",
         "nbinsx": 50,
         "type": "histogram",
         "x": [
          11092,
          11784,
          11637,
          11305,
          13307,
          12916,
          12386,
          13477,
          12291,
          11243,
          11154,
          11097,
          10171,
          11030,
          10690,
          11533,
          11478,
          11403,
          11482,
          10246,
          11169,
          9881,
          11033,
          7199.3,
          4779.77,
          5353.24,
          9029.81,
          10854.03,
          12397.98,
          4576.51,
          4964.56,
          6758.16,
          7165.3,
          7612.91,
          11872.38,
          6696.21,
          11161,
          10948,
          10899,
          10806,
          10792,
          11165,
          11061,
          11042,
          11028,
          11257,
          11127,
          11115,
          11242,
          10945.85,
          10911.3,
          10996.3,
          10885.371428571429,
          11067.2,
          10875.6,
          10825,
          10768.4,
          12434.6,
          12168.4,
          12215.9,
          12109,
          12168.6,
          12980.2,
          11647.2,
          11718.2,
          11773.4,
          11763,
          11838.2,
          11680.5,
          11519.4,
          11408,
          11547.1,
          12584.9,
          12397.7,
          10402.3,
          6425.5,
          6489,
          6545,
          6856,
          6802,
          6929,
          4183.2,
          4129.6,
          4132.4,
          4114.7,
          4483.6,
          4455.2,
          4425.9,
          4335.3,
          4508,
          4472.7,
          4504.7,
          4483.5,
          4773.4,
          5239.1,
          3825.4,
          2828.7,
          2610,
          2188.7,
          4726,
          4456,
          4178,
          4181,
          5097,
          5351,
          3922,
          3590,
          2962,
          3291,
          3286,
          3396,
          4327,
          4229,
          4277,
          4615,
          4590,
          4611,
          4613,
          4788.5,
          4741.7,
          4767.9,
          3272.1,
          3303.4,
          3180.8,
          3246.1,
          3557.6,
          2595,
          5285,
          5834.2,
          5539.2,
          3385,
          2996.2,
          2923.4,
          3908,
          3702,
          3687.4,
          4078.6,
          4271.6,
          3545.6,
          3856,
          3894.7,
          3773.7,
          3693.7,
          3933,
          3859.8,
          3898.7,
          3885.4,
          4005.2,
          3686.5,
          3807.3,
          3546.6,
          3635.5,
          3372.2,
          3609.5,
          3720.8,
          3743.2,
          3819.2,
          3861.4,
          4101.1,
          4231.8,
          3292.5,
          3406.7,
          3679.3,
          3533.4,
          3491.5,
          3126.7,
          3789.7,
          3062.2,
          3651.8,
          3540.3,
          3660.3,
          3658.9,
          3696.8,
          3579,
          3626.2,
          3628,
          3383.9,
          3075
         ],
         "xaxis": "x2",
         "yaxis": "y2"
        },
        {
         "name": "Oil_Rate_well_3",
         "nbinsx": 50,
         "type": "histogram",
         "x": [
          7888,
          8933,
          9558,
          8896,
          8725,
          11229,
          11417,
          11195,
          10779,
          7135,
          9052,
          8898,
          11151,
          10857,
          10659,
          10125,
          9922,
          9622,
          9620,
          9406,
          5759,
          4826,
          4707,
          5217,
          4942.76,
          4400.15,
          7137.47,
          10287.53,
          10195,
          6186.75,
          6060.39,
          2242.3,
          6229.97,
          5847.31,
          3807.59,
          5928.56,
          5901.01,
          5802,
          5854.96,
          5859.94,
          5841.36,
          5830.86,
          4218.32,
          4235.72,
          4386.82,
          4388.29,
          4387.66,
          4472.6,
          4310.65,
          4284.08,
          4263,
          4217.1,
          4212,
          4331.4,
          4315.5,
          4208.6,
          4310,
          4356.3,
          4344.7,
          6628.8,
          6582.4,
          6522.9,
          6486,
          3910.6,
          3946,
          4132.2,
          4121.6,
          4213.4,
          4367.7,
          4316.6,
          4234.5,
          4120.7,
          3031.4,
          3218.2,
          3299.5,
          3174.8,
          3306,
          2926.4,
          1962.2,
          1652.2,
          1174.8,
          1212.1,
          1692.7,
          2796.9,
          1071.8,
          2529.5,
          2478.1,
          2631,
          2527,
          2191,
          2193,
          2213,
          2287,
          882,
          2962,
          1463,
          1929,
          3023,
          2292,
          1911,
          3011,
          3336,
          3467.2,
          3842.9,
          3816.8,
          3717.6,
          3448.5,
          3450,
          6467.7,
          6531.1,
          6239.9,
          5929.6,
          5682.3,
          5558.4,
          5123.7,
          5322.5,
          5712.2,
          6322.8,
          6112,
          5821.9,
          5494.3,
          5430,
          5214,
          5249.3,
          5098,
          4922.6,
          4980.8,
          4746.3,
          4878,
          4718.6,
          4661,
          4714.6,
          4283.5,
          4354.5,
          4340.6,
          4398.3,
          4556.3,
          4510.1,
          4481.4,
          4434.1,
          4189.1,
          4260,
          4347.8,
          4394.4,
          4622.2,
          4684,
          3665.8,
          4371.1,
          4370.8,
          4466.2,
          4321,
          4274.7,
          3636.9,
          3708.5,
          4030.4,
          4031.5,
          3955.7,
          3813.7,
          3783.5,
          3900,
          3266.8,
          3841.2,
          3191,
          3667,
          3621,
          3263,
          3238,
          3312,
          3412.8,
          3354.7,
          3454,
          3195,
          3091,
          3095,
          3142,
          3156,
          3108,
          3089
         ],
         "xaxis": "x3",
         "yaxis": "y3"
        },
        {
         "name": "Oil_Rate_well_4",
         "nbinsx": 50,
         "type": "histogram",
         "x": [
          10874,
          10280,
          10243,
          10209,
          9524,
          10456,
          9844,
          8519,
          8401,
          9266,
          10597,
          9044,
          9020,
          4873,
          4976.53,
          4902.73,
          7772.72,
          9669.61,
          10066.69,
          4644.74,
          6260.16,
          5768.99,
          5422.5,
          5857.08,
          5637.75,
          5565.86,
          6634.89,
          6551.55,
          6482.23,
          6394.63,
          6246.16,
          6310.51,
          6119.4,
          6122.6,
          6088.41,
          4366.21,
          4505.19,
          4664.85,
          4685.03,
          4673.7,
          4777.63,
          4801.6,
          4784,
          4726.8,
          4718.4,
          4539.4,
          4554.8,
          4532,
          4694.4,
          3591,
          3298.5,
          3473.7,
          3515,
          3515,
          3553,
          3634.3,
          3748,
          3815.4,
          6884,
          6260,
          6280,
          6369.9,
          6057.2,
          3634.9,
          4625.9,
          4828.4,
          4948.6,
          3738.6,
          2530.5,
          3439.4,
          3428.7,
          3369,
          3881.3,
          4131,
          4140,
          3772,
          3672,
          3735,
          3833,
          3781,
          3767,
          3722,
          3743,
          1681,
          3928.7,
          3896.6,
          3809.7,
          3763.2,
          3818.7,
          3614.5,
          3012.3,
          3020.5,
          2369.7,
          2394.4,
          2649.2,
          2873.5,
          2685.5,
          2348.2,
          2324.3,
          2375,
          2647.4,
          2587.7,
          2563.6,
          2605.1,
          2547.3,
          2520.5,
          2426.7,
          2125.7,
          2124.9,
          2125.3,
          2058.6,
          2083.4,
          2179.7,
          2129.7,
          2139.3,
          2075.2,
          1831.1,
          1789.1,
          1778.7,
          1858.4,
          1732,
          1697.4,
          1344,
          1377.7,
          2153,
          1884,
          2334.2,
          2279.9,
          2292.2,
          2291.1,
          2221.6,
          2333.1,
          2339.7,
          2284,
          2185.4,
          2269.6,
          2697.4,
          2338.7,
          2310.3,
          2531,
          2565.4,
          2746,
          2505,
          2476,
          2559,
          2532,
          2648.5,
          2666,
          2796.5,
          2576,
          2567,
          2595,
          2854,
          3156,
          3290.9,
          3377,
          3455.9,
          3489,
          3832,
          2593,
          2579,
          2611,
          2673,
          2684,
          2710,
          2712,
          2581,
          2623,
          2448,
          2710,
          2922,
          2939,
          2950,
          2974,
          3131,
          2934,
          3083,
          3202
         ],
         "xaxis": "x4",
         "yaxis": "y4"
        }
       ],
       "layout": {
        "annotations": [
         {
          "font": {
           "size": 16
          },
          "showarrow": false,
          "text": "Well1",
          "x": 0.225,
          "xanchor": "center",
          "xref": "paper",
          "y": 1,
          "yanchor": "bottom",
          "yref": "paper"
         },
         {
          "font": {
           "size": 16
          },
          "showarrow": false,
          "text": "Well2",
          "x": 0.775,
          "xanchor": "center",
          "xref": "paper",
          "y": 1,
          "yanchor": "bottom",
          "yref": "paper"
         },
         {
          "font": {
           "size": 16
          },
          "showarrow": false,
          "text": "Well3",
          "x": 0.225,
          "xanchor": "center",
          "xref": "paper",
          "y": 0.375,
          "yanchor": "bottom",
          "yref": "paper"
         },
         {
          "font": {
           "size": 16
          },
          "showarrow": false,
          "text": "Well4",
          "x": 0.775,
          "xanchor": "center",
          "xref": "paper",
          "y": 0.375,
          "yanchor": "bottom",
          "yref": "paper"
         }
        ],
        "bargap": 0.2,
        "bargroupgap": 0.1,
        "template": {
         "data": {
          "bar": [
           {
            "error_x": {
             "color": "#2a3f5f"
            },
            "error_y": {
             "color": "#2a3f5f"
            },
            "marker": {
             "line": {
              "color": "#E5ECF6",
              "width": 0.5
             },
             "pattern": {
              "fillmode": "overlay",
              "size": 10,
              "solidity": 0.2
             }
            },
            "type": "bar"
           }
          ],
          "barpolar": [
           {
            "marker": {
             "line": {
              "color": "#E5ECF6",
              "width": 0.5
             },
             "pattern": {
              "fillmode": "overlay",
              "size": 10,
              "solidity": 0.2
             }
            },
            "type": "barpolar"
           }
          ],
          "carpet": [
           {
            "aaxis": {
             "endlinecolor": "#2a3f5f",
             "gridcolor": "white",
             "linecolor": "white",
             "minorgridcolor": "white",
             "startlinecolor": "#2a3f5f"
            },
            "baxis": {
             "endlinecolor": "#2a3f5f",
             "gridcolor": "white",
             "linecolor": "white",
             "minorgridcolor": "white",
             "startlinecolor": "#2a3f5f"
            },
            "type": "carpet"
           }
          ],
          "choropleth": [
           {
            "colorbar": {
             "outlinewidth": 0,
             "ticks": ""
            },
            "type": "choropleth"
           }
          ],
          "contour": [
           {
            "colorbar": {
             "outlinewidth": 0,
             "ticks": ""
            },
            "colorscale": [
             [
              0,
              "#0d0887"
             ],
             [
              0.1111111111111111,
              "#46039f"
             ],
             [
              0.2222222222222222,
              "#7201a8"
             ],
             [
              0.3333333333333333,
              "#9c179e"
             ],
             [
              0.4444444444444444,
              "#bd3786"
             ],
             [
              0.5555555555555556,
              "#d8576b"
             ],
             [
              0.6666666666666666,
              "#ed7953"
             ],
             [
              0.7777777777777778,
              "#fb9f3a"
             ],
             [
              0.8888888888888888,
              "#fdca26"
             ],
             [
              1,
              "#f0f921"
             ]
            ],
            "type": "contour"
           }
          ],
          "contourcarpet": [
           {
            "colorbar": {
             "outlinewidth": 0,
             "ticks": ""
            },
            "type": "contourcarpet"
           }
          ],
          "heatmap": [
           {
            "colorbar": {
             "outlinewidth": 0,
             "ticks": ""
            },
            "colorscale": [
             [
              0,
              "#0d0887"
             ],
             [
              0.1111111111111111,
              "#46039f"
             ],
             [
              0.2222222222222222,
              "#7201a8"
             ],
             [
              0.3333333333333333,
              "#9c179e"
             ],
             [
              0.4444444444444444,
              "#bd3786"
             ],
             [
              0.5555555555555556,
              "#d8576b"
             ],
             [
              0.6666666666666666,
              "#ed7953"
             ],
             [
              0.7777777777777778,
              "#fb9f3a"
             ],
             [
              0.8888888888888888,
              "#fdca26"
             ],
             [
              1,
              "#f0f921"
             ]
            ],
            "type": "heatmap"
           }
          ],
          "heatmapgl": [
           {
            "colorbar": {
             "outlinewidth": 0,
             "ticks": ""
            },
            "colorscale": [
             [
              0,
              "#0d0887"
             ],
             [
              0.1111111111111111,
              "#46039f"
             ],
             [
              0.2222222222222222,
              "#7201a8"
             ],
             [
              0.3333333333333333,
              "#9c179e"
             ],
             [
              0.4444444444444444,
              "#bd3786"
             ],
             [
              0.5555555555555556,
              "#d8576b"
             ],
             [
              0.6666666666666666,
              "#ed7953"
             ],
             [
              0.7777777777777778,
              "#fb9f3a"
             ],
             [
              0.8888888888888888,
              "#fdca26"
             ],
             [
              1,
              "#f0f921"
             ]
            ],
            "type": "heatmapgl"
           }
          ],
          "histogram": [
           {
            "marker": {
             "pattern": {
              "fillmode": "overlay",
              "size": 10,
              "solidity": 0.2
             }
            },
            "type": "histogram"
           }
          ],
          "histogram2d": [
           {
            "colorbar": {
             "outlinewidth": 0,
             "ticks": ""
            },
            "colorscale": [
             [
              0,
              "#0d0887"
             ],
             [
              0.1111111111111111,
              "#46039f"
             ],
             [
              0.2222222222222222,
              "#7201a8"
             ],
             [
              0.3333333333333333,
              "#9c179e"
             ],
             [
              0.4444444444444444,
              "#bd3786"
             ],
             [
              0.5555555555555556,
              "#d8576b"
             ],
             [
              0.6666666666666666,
              "#ed7953"
             ],
             [
              0.7777777777777778,
              "#fb9f3a"
             ],
             [
              0.8888888888888888,
              "#fdca26"
             ],
             [
              1,
              "#f0f921"
             ]
            ],
            "type": "histogram2d"
           }
          ],
          "histogram2dcontour": [
           {
            "colorbar": {
             "outlinewidth": 0,
             "ticks": ""
            },
            "colorscale": [
             [
              0,
              "#0d0887"
             ],
             [
              0.1111111111111111,
              "#46039f"
             ],
             [
              0.2222222222222222,
              "#7201a8"
             ],
             [
              0.3333333333333333,
              "#9c179e"
             ],
             [
              0.4444444444444444,
              "#bd3786"
             ],
             [
              0.5555555555555556,
              "#d8576b"
             ],
             [
              0.6666666666666666,
              "#ed7953"
             ],
             [
              0.7777777777777778,
              "#fb9f3a"
             ],
             [
              0.8888888888888888,
              "#fdca26"
             ],
             [
              1,
              "#f0f921"
             ]
            ],
            "type": "histogram2dcontour"
           }
          ],
          "mesh3d": [
           {
            "colorbar": {
             "outlinewidth": 0,
             "ticks": ""
            },
            "type": "mesh3d"
           }
          ],
          "parcoords": [
           {
            "line": {
             "colorbar": {
              "outlinewidth": 0,
              "ticks": ""
             }
            },
            "type": "parcoords"
           }
          ],
          "pie": [
           {
            "automargin": true,
            "type": "pie"
           }
          ],
          "scatter": [
           {
            "fillpattern": {
             "fillmode": "overlay",
             "size": 10,
             "solidity": 0.2
            },
            "type": "scatter"
           }
          ],
          "scatter3d": [
           {
            "line": {
             "colorbar": {
              "outlinewidth": 0,
              "ticks": ""
             }
            },
            "marker": {
             "colorbar": {
              "outlinewidth": 0,
              "ticks": ""
             }
            },
            "type": "scatter3d"
           }
          ],
          "scattercarpet": [
           {
            "marker": {
             "colorbar": {
              "outlinewidth": 0,
              "ticks": ""
             }
            },
            "type": "scattercarpet"
           }
          ],
          "scattergeo": [
           {
            "marker": {
             "colorbar": {
              "outlinewidth": 0,
              "ticks": ""
             }
            },
            "type": "scattergeo"
           }
          ],
          "scattergl": [
           {
            "marker": {
             "colorbar": {
              "outlinewidth": 0,
              "ticks": ""
             }
            },
            "type": "scattergl"
           }
          ],
          "scattermapbox": [
           {
            "marker": {
             "colorbar": {
              "outlinewidth": 0,
              "ticks": ""
             }
            },
            "type": "scattermapbox"
           }
          ],
          "scatterpolar": [
           {
            "marker": {
             "colorbar": {
              "outlinewidth": 0,
              "ticks": ""
             }
            },
            "type": "scatterpolar"
           }
          ],
          "scatterpolargl": [
           {
            "marker": {
             "colorbar": {
              "outlinewidth": 0,
              "ticks": ""
             }
            },
            "type": "scatterpolargl"
           }
          ],
          "scatterternary": [
           {
            "marker": {
             "colorbar": {
              "outlinewidth": 0,
              "ticks": ""
             }
            },
            "type": "scatterternary"
           }
          ],
          "surface": [
           {
            "colorbar": {
             "outlinewidth": 0,
             "ticks": ""
            },
            "colorscale": [
             [
              0,
              "#0d0887"
             ],
             [
              0.1111111111111111,
              "#46039f"
             ],
             [
              0.2222222222222222,
              "#7201a8"
             ],
             [
              0.3333333333333333,
              "#9c179e"
             ],
             [
              0.4444444444444444,
              "#bd3786"
             ],
             [
              0.5555555555555556,
              "#d8576b"
             ],
             [
              0.6666666666666666,
              "#ed7953"
             ],
             [
              0.7777777777777778,
              "#fb9f3a"
             ],
             [
              0.8888888888888888,
              "#fdca26"
             ],
             [
              1,
              "#f0f921"
             ]
            ],
            "type": "surface"
           }
          ],
          "table": [
           {
            "cells": {
             "fill": {
              "color": "#EBF0F8"
             },
             "line": {
              "color": "white"
             }
            },
            "header": {
             "fill": {
              "color": "#C8D4E3"
             },
             "line": {
              "color": "white"
             }
            },
            "type": "table"
           }
          ]
         },
         "layout": {
          "annotationdefaults": {
           "arrowcolor": "#2a3f5f",
           "arrowhead": 0,
           "arrowwidth": 1
          },
          "autotypenumbers": "strict",
          "coloraxis": {
           "colorbar": {
            "outlinewidth": 0,
            "ticks": ""
           }
          },
          "colorscale": {
           "diverging": [
            [
             0,
             "#8e0152"
            ],
            [
             0.1,
             "#c51b7d"
            ],
            [
             0.2,
             "#de77ae"
            ],
            [
             0.3,
             "#f1b6da"
            ],
            [
             0.4,
             "#fde0ef"
            ],
            [
             0.5,
             "#f7f7f7"
            ],
            [
             0.6,
             "#e6f5d0"
            ],
            [
             0.7,
             "#b8e186"
            ],
            [
             0.8,
             "#7fbc41"
            ],
            [
             0.9,
             "#4d9221"
            ],
            [
             1,
             "#276419"
            ]
           ],
           "sequential": [
            [
             0,
             "#0d0887"
            ],
            [
             0.1111111111111111,
             "#46039f"
            ],
            [
             0.2222222222222222,
             "#7201a8"
            ],
            [
             0.3333333333333333,
             "#9c179e"
            ],
            [
             0.4444444444444444,
             "#bd3786"
            ],
            [
             0.5555555555555556,
             "#d8576b"
            ],
            [
             0.6666666666666666,
             "#ed7953"
            ],
            [
             0.7777777777777778,
             "#fb9f3a"
            ],
            [
             0.8888888888888888,
             "#fdca26"
            ],
            [
             1,
             "#f0f921"
            ]
           ],
           "sequentialminus": [
            [
             0,
             "#0d0887"
            ],
            [
             0.1111111111111111,
             "#46039f"
            ],
            [
             0.2222222222222222,
             "#7201a8"
            ],
            [
             0.3333333333333333,
             "#9c179e"
            ],
            [
             0.4444444444444444,
             "#bd3786"
            ],
            [
             0.5555555555555556,
             "#d8576b"
            ],
            [
             0.6666666666666666,
             "#ed7953"
            ],
            [
             0.7777777777777778,
             "#fb9f3a"
            ],
            [
             0.8888888888888888,
             "#fdca26"
            ],
            [
             1,
             "#f0f921"
            ]
           ]
          },
          "colorway": [
           "#636efa",
           "#EF553B",
           "#00cc96",
           "#ab63fa",
           "#FFA15A",
           "#19d3f3",
           "#FF6692",
           "#B6E880",
           "#FF97FF",
           "#FECB52"
          ],
          "font": {
           "color": "#2a3f5f"
          },
          "geo": {
           "bgcolor": "white",
           "lakecolor": "white",
           "landcolor": "#E5ECF6",
           "showlakes": true,
           "showland": true,
           "subunitcolor": "white"
          },
          "hoverlabel": {
           "align": "left"
          },
          "hovermode": "closest",
          "mapbox": {
           "style": "light"
          },
          "paper_bgcolor": "white",
          "plot_bgcolor": "#E5ECF6",
          "polar": {
           "angularaxis": {
            "gridcolor": "white",
            "linecolor": "white",
            "ticks": ""
           },
           "bgcolor": "#E5ECF6",
           "radialaxis": {
            "gridcolor": "white",
            "linecolor": "white",
            "ticks": ""
           }
          },
          "scene": {
           "xaxis": {
            "backgroundcolor": "#E5ECF6",
            "gridcolor": "white",
            "gridwidth": 2,
            "linecolor": "white",
            "showbackground": true,
            "ticks": "",
            "zerolinecolor": "white"
           },
           "yaxis": {
            "backgroundcolor": "#E5ECF6",
            "gridcolor": "white",
            "gridwidth": 2,
            "linecolor": "white",
            "showbackground": true,
            "ticks": "",
            "zerolinecolor": "white"
           },
           "zaxis": {
            "backgroundcolor": "#E5ECF6",
            "gridcolor": "white",
            "gridwidth": 2,
            "linecolor": "white",
            "showbackground": true,
            "ticks": "",
            "zerolinecolor": "white"
           }
          },
          "shapedefaults": {
           "line": {
            "color": "#2a3f5f"
           }
          },
          "ternary": {
           "aaxis": {
            "gridcolor": "white",
            "linecolor": "white",
            "ticks": ""
           },
           "baxis": {
            "gridcolor": "white",
            "linecolor": "white",
            "ticks": ""
           },
           "bgcolor": "#E5ECF6",
           "caxis": {
            "gridcolor": "white",
            "linecolor": "white",
            "ticks": ""
           }
          },
          "title": {
           "x": 0.05
          },
          "xaxis": {
           "automargin": true,
           "gridcolor": "white",
           "linecolor": "white",
           "ticks": "",
           "title": {
            "standoff": 15
           },
           "zerolinecolor": "white",
           "zerolinewidth": 2
          },
          "yaxis": {
           "automargin": true,
           "gridcolor": "white",
           "linecolor": "white",
           "ticks": "",
           "title": {
            "standoff": 15
           },
           "zerolinecolor": "white",
           "zerolinewidth": 2
          }
         }
        },
        "title": {
         "text": "Distribution of Oil Rates for 4 Wells"
        },
        "xaxis": {
         "anchor": "y",
         "domain": [
          0,
          0.45
         ]
        },
        "xaxis2": {
         "anchor": "y2",
         "domain": [
          0.55,
          1
         ]
        },
        "xaxis3": {
         "anchor": "y3",
         "domain": [
          0,
          0.45
         ]
        },
        "xaxis4": {
         "anchor": "y4",
         "domain": [
          0.55,
          1
         ]
        },
        "yaxis": {
         "anchor": "x",
         "domain": [
          0.625,
          1
         ]
        },
        "yaxis2": {
         "anchor": "x2",
         "domain": [
          0.625,
          1
         ]
        },
        "yaxis3": {
         "anchor": "x3",
         "domain": [
          0,
          0.375
         ]
        },
        "yaxis4": {
         "anchor": "x4",
         "domain": [
          0,
          0.375
         ]
        }
       }
      }
     },
     "metadata": {},
     "output_type": "display_data"
    }
   ],
   "source": [
    "fig = make_subplots(rows=2, cols=2, subplot_titles=('Well1', 'Well2', 'Well3', 'Well4'))\n",
    "\n",
    "# Create a histogram for each well and add it to the subplot\n",
    "for i, well in enumerate(df[['Oil_Rate_well_1', 'Oil_Rate_well_2', 'Oil_Rate_well_3', 'Oil_Rate_well_4']].columns, start=1):\n",
    "    fig.add_trace(go.Histogram(x=df[well], nbinsx=50, name=well),\n",
    "                  row=(i-1)//2+1,\n",
    "                  col=(i-1)%2+1)\n",
    "\n",
    "fig.update_layout(title_text=\"Distribution of Oil Rates for 4 Wells\", \n",
    "                  bargap=0.2,  # gap between bars of adjacent location coordinates\n",
    "                  bargroupgap=0.1  # gap between bars of the same location coordinate\n",
    "                 )\n",
    "fig.show()"
   ]
  },
  {
   "cell_type": "markdown",
   "metadata": {},
   "source": [
    "## Case study 1 (using only wellhead pressure)"
   ]
  },
  {
   "cell_type": "code",
   "execution_count": 488,
   "metadata": {},
   "outputs": [],
   "source": [
    "#create x and y arrays in which x has independent variables and y has Oil_Rate for all wells\n",
    "x = df[['WHP_well_1', 'WHP_well_2', 'WHP_well_3', 'WHP_well_4']]\n",
    "y = df[['Oil_Rate_well_1', 'Oil_Rate_well_2', 'Oil_Rate_well_3', 'Oil_Rate_well_4']]"
   ]
  },
  {
   "cell_type": "code",
   "execution_count": 489,
   "metadata": {},
   "outputs": [],
   "source": [
    "#train test split\n",
    "x_train, x_test, y_train, y_test = train_test_split(x, y, test_size=0.3, random_state=1234)"
   ]
  },
  {
   "cell_type": "markdown",
   "metadata": {},
   "source": [
    "#### Multiple linear regression"
   ]
  },
  {
   "cell_type": "code",
   "execution_count": 490,
   "metadata": {},
   "outputs": [
    {
     "name": "stdout",
     "output_type": "stream",
     "text": [
      "Cross-validation scores:  [ 0.83644881  0.79748011  0.86315747  0.86169494 -0.11192785]\n",
      "Average cross-validation score:  0.649370693063735\n",
      "R2 Score for Well 1 Oil rate: 0.921086860179134\n",
      "R2 Score for Well 2 Oil rate: 0.9649992854522577\n",
      "R2 Score for Well 3 Oil rate: 0.6110373554999353\n",
      "R2 Score for Well 4 Oil rate: 0.7527589708341427\n"
     ]
    }
   ],
   "source": [
    "# Model building using Linear regression\n",
    "lr = LinearRegression()\n",
    "\n",
    "# Create the multi-output regressor\n",
    "model = MultiOutputRegressor(lr)\n",
    "\n",
    "# Fit the model to the data\n",
    "model.fit(x_train, y_train)\n",
    "\n",
    "# Apply cross validation\n",
    "scores = cross_val_score(model, x_train, y_train, cv=5, scoring='r2')\n",
    "\n",
    "# Print the cross validation scores\n",
    "print(\"Cross-validation scores: \", scores)\n",
    "print(\"Average cross-validation score: \", scores.mean())\n",
    "\n",
    "# Evaluate the model\n",
    "y_pred = model.predict(x_test)\n",
    "\n",
    "r2_well1_lr = r2_score(y_test['Oil_Rate_well_1'], y_pred[:, 0])\n",
    "r2_well2_lr = r2_score(y_test['Oil_Rate_well_2'], y_pred[:, 1])\n",
    "r2_well3_lr = r2_score(y_test['Oil_Rate_well_3'], y_pred[:, 2])\n",
    "r2_well4_lr = r2_score(y_test['Oil_Rate_well_4'], y_pred[:, 3])\n",
    "\n",
    "print(f\"R2 Score for Well 1 Oil rate: {r2_well1_lr}\")\n",
    "print(f\"R2 Score for Well 2 Oil rate: {r2_well2_lr}\")\n",
    "print(f\"R2 Score for Well 3 Oil rate: {r2_well3_lr}\")\n",
    "print(f\"R2 Score for Well 4 Oil rate: {r2_well4_lr}\")\n"
   ]
  },
  {
   "cell_type": "markdown",
   "metadata": {},
   "source": [
    "#### Support Vector Regressor"
   ]
  },
  {
   "cell_type": "code",
   "execution_count": 491,
   "metadata": {},
   "outputs": [
    {
     "name": "stdout",
     "output_type": "stream",
     "text": [
      "Cross-validation scores:  [ 0.85164869  0.8079855   0.84420732  0.86988212 -0.08579723]\n",
      "Average cross-validation score:  0.6575852827243625\n",
      "R2 Score for Well 1 Oil rate: 0.917286525988887\n",
      "R2 Score for Well 2 Oil rate: 0.9643041968957614\n",
      "R2 Score for Well 3 Oil rate: 0.5896286756464837\n",
      "R2 Score for Well 4 Oil rate: 0.7399334973136331\n"
     ]
    }
   ],
   "source": [
    "# Model building using Support Vector regression\n",
    "svr = SVR(kernel='linear') # You can change the kernel as needed\n",
    "\n",
    "# Create the multi-output regressor\n",
    "model = MultiOutputRegressor(svr)\n",
    "\n",
    "# Fit the model to the data\n",
    "model.fit(x_train, y_train)\n",
    "\n",
    "# Apply cross validation\n",
    "scores = cross_val_score(model, x_train, y_train, cv=5, scoring='r2')\n",
    "\n",
    "# Print the cross validation scores\n",
    "print(\"Cross-validation scores: \", scores)\n",
    "print(\"Average cross-validation score: \", scores.mean())\n",
    "\n",
    "# Evaluate the model\n",
    "y_pred = model.predict(x_test)\n",
    "\n",
    "r2_well1_svr = r2_score(y_test['Oil_Rate_well_1'], y_pred[:, 0])\n",
    "r2_well2_svr = r2_score(y_test['Oil_Rate_well_2'], y_pred[:, 1])\n",
    "r2_well3_svr = r2_score(y_test['Oil_Rate_well_3'], y_pred[:, 2])\n",
    "r2_well4_svr = r2_score(y_test['Oil_Rate_well_4'], y_pred[:, 3])\n",
    "\n",
    "print(f\"R2 Score for Well 1 Oil rate: {r2_well1_svr}\")\n",
    "print(f\"R2 Score for Well 2 Oil rate: {r2_well2_svr}\")\n",
    "print(f\"R2 Score for Well 3 Oil rate: {r2_well3_svr}\")\n",
    "print(f\"R2 Score for Well 4 Oil rate: {r2_well4_svr}\")\n"
   ]
  },
  {
   "attachments": {},
   "cell_type": "markdown",
   "metadata": {},
   "source": [
    "#### Random Forest regressor"
   ]
  },
  {
   "cell_type": "code",
   "execution_count": 492,
   "metadata": {},
   "outputs": [
    {
     "name": "stdout",
     "output_type": "stream",
     "text": [
      "Cross-validation scores:  [0.8973222  0.94633109 0.91449126 0.92466973 0.60582824]\n",
      "Average cross-validation score:  0.8577285028973627\n",
      "R2 Score for Well 1 Oil rate: 0.9739689588139308\n",
      "R2 Score for Well 2 Oil rate: 0.9728771659658408\n",
      "R2 Score for Well 3 Oil rate: 0.9315142041677016\n",
      "R2 Score for Well 4 Oil rate: 0.9082518895226134\n"
     ]
    }
   ],
   "source": [
    "# model building using RandomForest regressor\n",
    "rf = RandomForestRegressor()\n",
    "# create the multi-output regressor\n",
    "model = MultiOutputRegressor(rf)\n",
    "\n",
    "# fit the model to the data\n",
    "model.fit(x_train, y_train)\n",
    "\n",
    "# Apply cross validation\n",
    "scores = cross_val_score(model, x_train, y_train, cv=5, scoring='r2')\n",
    "\n",
    "# Print the cross validation scores\n",
    "print(\"Cross-validation scores: \", scores)\n",
    "print(\"Average cross-validation score: \", scores.mean())\n",
    "\n",
    "# evaluate the model\n",
    "y_pred = model.predict(x_test)\n",
    "\n",
    "r2_well1_rf = r2_score(y_test['Oil_Rate_well_1'], y_pred[:, 0])\n",
    "r2_well2_rf = r2_score(y_test['Oil_Rate_well_2'], y_pred[:, 1])\n",
    "r2_well3_rf = r2_score(y_test['Oil_Rate_well_3'], y_pred[:, 2])\n",
    "r2_well4_rf = r2_score(y_test['Oil_Rate_well_4'], y_pred[:, 3])\n",
    "\n",
    "print(f\"R2 Score for Well 1 Oil rate: {r2_well1_rf}\")\n",
    "print(f\"R2 Score for Well 2 Oil rate: {r2_well2_rf}\")\n",
    "print(f\"R2 Score for Well 3 Oil rate: {r2_well3_rf}\")\n",
    "print(f\"R2 Score for Well 4 Oil rate: {r2_well4_rf}\")"
   ]
  },
  {
   "attachments": {},
   "cell_type": "markdown",
   "metadata": {},
   "source": [
    "#### XGBoost regressor"
   ]
  },
  {
   "cell_type": "code",
   "execution_count": 493,
   "metadata": {},
   "outputs": [
    {
     "name": "stdout",
     "output_type": "stream",
     "text": [
      "Cross-validation scores:  [0.90662463 0.93630481 0.84789663 0.93257567 0.56405188]\n",
      "Average cross-validation score:  0.837490722425237\n",
      "R2 Score for Well 1 Oil rate: 0.9670891194898724\n",
      "R2 Score for Well 2 Oil rate: 0.9740342778887588\n",
      "R2 Score for Well 3 Oil rate: 0.9259803490314873\n",
      "R2 Score for Well 4 Oil rate: 0.8706910416279905\n"
     ]
    }
   ],
   "source": [
    "#model building using xgboost regressor\n",
    "xgb = XGBRegressor()\n",
    "# create the multi-output regressor\n",
    "model = MultiOutputRegressor(xgb)\n",
    "# fit the model to the data\n",
    "model.fit(x_train, y_train)\n",
    "# Apply cross validation\n",
    "scores = cross_val_score(model, x_train, y_train, cv=5, scoring='r2')\n",
    "\n",
    "# Print the cross validation scores\n",
    "print(\"Cross-validation scores: \", scores)\n",
    "print(\"Average cross-validation score: \", scores.mean())\n",
    "\n",
    "#evaluate the model\n",
    "y_pred = model.predict(x_test)\n",
    "#evaluation for all wells \n",
    "r2_well1_xgb = r2_score(y_test['Oil_Rate_well_1'], y_pred[:, 0])\n",
    "r2_well2_xgb = r2_score(y_test['Oil_Rate_well_2'], y_pred[:, 1])\n",
    "r2_well3_xgb = r2_score(y_test['Oil_Rate_well_3'], y_pred[:, 2])\n",
    "r2_well4_xgb = r2_score(y_test['Oil_Rate_well_4'], y_pred[:, 3])\n",
    "\n",
    "print(f\"R2 Score for Well 1 Oil rate: {r2_well1_xgb}\")\n",
    "print(f\"R2 Score for Well 2 Oil rate: {r2_well2_xgb}\")\n",
    "print(f\"R2 Score for Well 3 Oil rate: {r2_well3_xgb}\")\n",
    "print(f\"R2 Score for Well 4 Oil rate: {r2_well4_xgb}\")"
   ]
  },
  {
   "cell_type": "code",
   "execution_count": 494,
   "metadata": {},
   "outputs": [
    {
     "data": {
      "application/vnd.plotly.v1+json": {
       "config": {
        "plotlyServerURL": "https://plot.ly"
       },
       "data": [
        {
         "name": "Random Forest",
         "type": "bar",
         "x": [
          "Well 1",
          "Well 2",
          "Well 3",
          "Well 4"
         ],
         "y": [
          0.9739689588139308,
          0.9728771659658408,
          0.9315142041677016,
          0.9082518895226134
         ]
        },
        {
         "name": "Support Vector Regression",
         "type": "bar",
         "x": [
          "Well 1",
          "Well 2",
          "Well 3",
          "Well 4"
         ],
         "y": [
          0.917286525988887,
          0.9643041968957614,
          0.5896286756464837,
          0.7399334973136331
         ]
        },
        {
         "name": "Linear Regression",
         "type": "bar",
         "x": [
          "Well 1",
          "Well 2",
          "Well 3",
          "Well 4"
         ],
         "y": [
          0.921086860179134,
          0.9649992854522577,
          0.6110373554999353,
          0.7527589708341427
         ]
        },
        {
         "name": "XGBoost",
         "type": "bar",
         "x": [
          "Well 1",
          "Well 2",
          "Well 3",
          "Well 4"
         ],
         "y": [
          0.9670891194898724,
          0.9740342778887588,
          0.9259803490314873,
          0.8706910416279905
         ]
        }
       ],
       "layout": {
        "barmode": "group",
        "template": {
         "data": {
          "bar": [
           {
            "error_x": {
             "color": "#2a3f5f"
            },
            "error_y": {
             "color": "#2a3f5f"
            },
            "marker": {
             "line": {
              "color": "#E5ECF6",
              "width": 0.5
             },
             "pattern": {
              "fillmode": "overlay",
              "size": 10,
              "solidity": 0.2
             }
            },
            "type": "bar"
           }
          ],
          "barpolar": [
           {
            "marker": {
             "line": {
              "color": "#E5ECF6",
              "width": 0.5
             },
             "pattern": {
              "fillmode": "overlay",
              "size": 10,
              "solidity": 0.2
             }
            },
            "type": "barpolar"
           }
          ],
          "carpet": [
           {
            "aaxis": {
             "endlinecolor": "#2a3f5f",
             "gridcolor": "white",
             "linecolor": "white",
             "minorgridcolor": "white",
             "startlinecolor": "#2a3f5f"
            },
            "baxis": {
             "endlinecolor": "#2a3f5f",
             "gridcolor": "white",
             "linecolor": "white",
             "minorgridcolor": "white",
             "startlinecolor": "#2a3f5f"
            },
            "type": "carpet"
           }
          ],
          "choropleth": [
           {
            "colorbar": {
             "outlinewidth": 0,
             "ticks": ""
            },
            "type": "choropleth"
           }
          ],
          "contour": [
           {
            "colorbar": {
             "outlinewidth": 0,
             "ticks": ""
            },
            "colorscale": [
             [
              0,
              "#0d0887"
             ],
             [
              0.1111111111111111,
              "#46039f"
             ],
             [
              0.2222222222222222,
              "#7201a8"
             ],
             [
              0.3333333333333333,
              "#9c179e"
             ],
             [
              0.4444444444444444,
              "#bd3786"
             ],
             [
              0.5555555555555556,
              "#d8576b"
             ],
             [
              0.6666666666666666,
              "#ed7953"
             ],
             [
              0.7777777777777778,
              "#fb9f3a"
             ],
             [
              0.8888888888888888,
              "#fdca26"
             ],
             [
              1,
              "#f0f921"
             ]
            ],
            "type": "contour"
           }
          ],
          "contourcarpet": [
           {
            "colorbar": {
             "outlinewidth": 0,
             "ticks": ""
            },
            "type": "contourcarpet"
           }
          ],
          "heatmap": [
           {
            "colorbar": {
             "outlinewidth": 0,
             "ticks": ""
            },
            "colorscale": [
             [
              0,
              "#0d0887"
             ],
             [
              0.1111111111111111,
              "#46039f"
             ],
             [
              0.2222222222222222,
              "#7201a8"
             ],
             [
              0.3333333333333333,
              "#9c179e"
             ],
             [
              0.4444444444444444,
              "#bd3786"
             ],
             [
              0.5555555555555556,
              "#d8576b"
             ],
             [
              0.6666666666666666,
              "#ed7953"
             ],
             [
              0.7777777777777778,
              "#fb9f3a"
             ],
             [
              0.8888888888888888,
              "#fdca26"
             ],
             [
              1,
              "#f0f921"
             ]
            ],
            "type": "heatmap"
           }
          ],
          "heatmapgl": [
           {
            "colorbar": {
             "outlinewidth": 0,
             "ticks": ""
            },
            "colorscale": [
             [
              0,
              "#0d0887"
             ],
             [
              0.1111111111111111,
              "#46039f"
             ],
             [
              0.2222222222222222,
              "#7201a8"
             ],
             [
              0.3333333333333333,
              "#9c179e"
             ],
             [
              0.4444444444444444,
              "#bd3786"
             ],
             [
              0.5555555555555556,
              "#d8576b"
             ],
             [
              0.6666666666666666,
              "#ed7953"
             ],
             [
              0.7777777777777778,
              "#fb9f3a"
             ],
             [
              0.8888888888888888,
              "#fdca26"
             ],
             [
              1,
              "#f0f921"
             ]
            ],
            "type": "heatmapgl"
           }
          ],
          "histogram": [
           {
            "marker": {
             "pattern": {
              "fillmode": "overlay",
              "size": 10,
              "solidity": 0.2
             }
            },
            "type": "histogram"
           }
          ],
          "histogram2d": [
           {
            "colorbar": {
             "outlinewidth": 0,
             "ticks": ""
            },
            "colorscale": [
             [
              0,
              "#0d0887"
             ],
             [
              0.1111111111111111,
              "#46039f"
             ],
             [
              0.2222222222222222,
              "#7201a8"
             ],
             [
              0.3333333333333333,
              "#9c179e"
             ],
             [
              0.4444444444444444,
              "#bd3786"
             ],
             [
              0.5555555555555556,
              "#d8576b"
             ],
             [
              0.6666666666666666,
              "#ed7953"
             ],
             [
              0.7777777777777778,
              "#fb9f3a"
             ],
             [
              0.8888888888888888,
              "#fdca26"
             ],
             [
              1,
              "#f0f921"
             ]
            ],
            "type": "histogram2d"
           }
          ],
          "histogram2dcontour": [
           {
            "colorbar": {
             "outlinewidth": 0,
             "ticks": ""
            },
            "colorscale": [
             [
              0,
              "#0d0887"
             ],
             [
              0.1111111111111111,
              "#46039f"
             ],
             [
              0.2222222222222222,
              "#7201a8"
             ],
             [
              0.3333333333333333,
              "#9c179e"
             ],
             [
              0.4444444444444444,
              "#bd3786"
             ],
             [
              0.5555555555555556,
              "#d8576b"
             ],
             [
              0.6666666666666666,
              "#ed7953"
             ],
             [
              0.7777777777777778,
              "#fb9f3a"
             ],
             [
              0.8888888888888888,
              "#fdca26"
             ],
             [
              1,
              "#f0f921"
             ]
            ],
            "type": "histogram2dcontour"
           }
          ],
          "mesh3d": [
           {
            "colorbar": {
             "outlinewidth": 0,
             "ticks": ""
            },
            "type": "mesh3d"
           }
          ],
          "parcoords": [
           {
            "line": {
             "colorbar": {
              "outlinewidth": 0,
              "ticks": ""
             }
            },
            "type": "parcoords"
           }
          ],
          "pie": [
           {
            "automargin": true,
            "type": "pie"
           }
          ],
          "scatter": [
           {
            "fillpattern": {
             "fillmode": "overlay",
             "size": 10,
             "solidity": 0.2
            },
            "type": "scatter"
           }
          ],
          "scatter3d": [
           {
            "line": {
             "colorbar": {
              "outlinewidth": 0,
              "ticks": ""
             }
            },
            "marker": {
             "colorbar": {
              "outlinewidth": 0,
              "ticks": ""
             }
            },
            "type": "scatter3d"
           }
          ],
          "scattercarpet": [
           {
            "marker": {
             "colorbar": {
              "outlinewidth": 0,
              "ticks": ""
             }
            },
            "type": "scattercarpet"
           }
          ],
          "scattergeo": [
           {
            "marker": {
             "colorbar": {
              "outlinewidth": 0,
              "ticks": ""
             }
            },
            "type": "scattergeo"
           }
          ],
          "scattergl": [
           {
            "marker": {
             "colorbar": {
              "outlinewidth": 0,
              "ticks": ""
             }
            },
            "type": "scattergl"
           }
          ],
          "scattermapbox": [
           {
            "marker": {
             "colorbar": {
              "outlinewidth": 0,
              "ticks": ""
             }
            },
            "type": "scattermapbox"
           }
          ],
          "scatterpolar": [
           {
            "marker": {
             "colorbar": {
              "outlinewidth": 0,
              "ticks": ""
             }
            },
            "type": "scatterpolar"
           }
          ],
          "scatterpolargl": [
           {
            "marker": {
             "colorbar": {
              "outlinewidth": 0,
              "ticks": ""
             }
            },
            "type": "scatterpolargl"
           }
          ],
          "scatterternary": [
           {
            "marker": {
             "colorbar": {
              "outlinewidth": 0,
              "ticks": ""
             }
            },
            "type": "scatterternary"
           }
          ],
          "surface": [
           {
            "colorbar": {
             "outlinewidth": 0,
             "ticks": ""
            },
            "colorscale": [
             [
              0,
              "#0d0887"
             ],
             [
              0.1111111111111111,
              "#46039f"
             ],
             [
              0.2222222222222222,
              "#7201a8"
             ],
             [
              0.3333333333333333,
              "#9c179e"
             ],
             [
              0.4444444444444444,
              "#bd3786"
             ],
             [
              0.5555555555555556,
              "#d8576b"
             ],
             [
              0.6666666666666666,
              "#ed7953"
             ],
             [
              0.7777777777777778,
              "#fb9f3a"
             ],
             [
              0.8888888888888888,
              "#fdca26"
             ],
             [
              1,
              "#f0f921"
             ]
            ],
            "type": "surface"
           }
          ],
          "table": [
           {
            "cells": {
             "fill": {
              "color": "#EBF0F8"
             },
             "line": {
              "color": "white"
             }
            },
            "header": {
             "fill": {
              "color": "#C8D4E3"
             },
             "line": {
              "color": "white"
             }
            },
            "type": "table"
           }
          ]
         },
         "layout": {
          "annotationdefaults": {
           "arrowcolor": "#2a3f5f",
           "arrowhead": 0,
           "arrowwidth": 1
          },
          "autotypenumbers": "strict",
          "coloraxis": {
           "colorbar": {
            "outlinewidth": 0,
            "ticks": ""
           }
          },
          "colorscale": {
           "diverging": [
            [
             0,
             "#8e0152"
            ],
            [
             0.1,
             "#c51b7d"
            ],
            [
             0.2,
             "#de77ae"
            ],
            [
             0.3,
             "#f1b6da"
            ],
            [
             0.4,
             "#fde0ef"
            ],
            [
             0.5,
             "#f7f7f7"
            ],
            [
             0.6,
             "#e6f5d0"
            ],
            [
             0.7,
             "#b8e186"
            ],
            [
             0.8,
             "#7fbc41"
            ],
            [
             0.9,
             "#4d9221"
            ],
            [
             1,
             "#276419"
            ]
           ],
           "sequential": [
            [
             0,
             "#0d0887"
            ],
            [
             0.1111111111111111,
             "#46039f"
            ],
            [
             0.2222222222222222,
             "#7201a8"
            ],
            [
             0.3333333333333333,
             "#9c179e"
            ],
            [
             0.4444444444444444,
             "#bd3786"
            ],
            [
             0.5555555555555556,
             "#d8576b"
            ],
            [
             0.6666666666666666,
             "#ed7953"
            ],
            [
             0.7777777777777778,
             "#fb9f3a"
            ],
            [
             0.8888888888888888,
             "#fdca26"
            ],
            [
             1,
             "#f0f921"
            ]
           ],
           "sequentialminus": [
            [
             0,
             "#0d0887"
            ],
            [
             0.1111111111111111,
             "#46039f"
            ],
            [
             0.2222222222222222,
             "#7201a8"
            ],
            [
             0.3333333333333333,
             "#9c179e"
            ],
            [
             0.4444444444444444,
             "#bd3786"
            ],
            [
             0.5555555555555556,
             "#d8576b"
            ],
            [
             0.6666666666666666,
             "#ed7953"
            ],
            [
             0.7777777777777778,
             "#fb9f3a"
            ],
            [
             0.8888888888888888,
             "#fdca26"
            ],
            [
             1,
             "#f0f921"
            ]
           ]
          },
          "colorway": [
           "#636efa",
           "#EF553B",
           "#00cc96",
           "#ab63fa",
           "#FFA15A",
           "#19d3f3",
           "#FF6692",
           "#B6E880",
           "#FF97FF",
           "#FECB52"
          ],
          "font": {
           "color": "#2a3f5f"
          },
          "geo": {
           "bgcolor": "white",
           "lakecolor": "white",
           "landcolor": "#E5ECF6",
           "showlakes": true,
           "showland": true,
           "subunitcolor": "white"
          },
          "hoverlabel": {
           "align": "left"
          },
          "hovermode": "closest",
          "mapbox": {
           "style": "light"
          },
          "paper_bgcolor": "white",
          "plot_bgcolor": "#E5ECF6",
          "polar": {
           "angularaxis": {
            "gridcolor": "white",
            "linecolor": "white",
            "ticks": ""
           },
           "bgcolor": "#E5ECF6",
           "radialaxis": {
            "gridcolor": "white",
            "linecolor": "white",
            "ticks": ""
           }
          },
          "scene": {
           "xaxis": {
            "backgroundcolor": "#E5ECF6",
            "gridcolor": "white",
            "gridwidth": 2,
            "linecolor": "white",
            "showbackground": true,
            "ticks": "",
            "zerolinecolor": "white"
           },
           "yaxis": {
            "backgroundcolor": "#E5ECF6",
            "gridcolor": "white",
            "gridwidth": 2,
            "linecolor": "white",
            "showbackground": true,
            "ticks": "",
            "zerolinecolor": "white"
           },
           "zaxis": {
            "backgroundcolor": "#E5ECF6",
            "gridcolor": "white",
            "gridwidth": 2,
            "linecolor": "white",
            "showbackground": true,
            "ticks": "",
            "zerolinecolor": "white"
           }
          },
          "shapedefaults": {
           "line": {
            "color": "#2a3f5f"
           }
          },
          "ternary": {
           "aaxis": {
            "gridcolor": "white",
            "linecolor": "white",
            "ticks": ""
           },
           "baxis": {
            "gridcolor": "white",
            "linecolor": "white",
            "ticks": ""
           },
           "bgcolor": "#E5ECF6",
           "caxis": {
            "gridcolor": "white",
            "linecolor": "white",
            "ticks": ""
           }
          },
          "title": {
           "x": 0.05
          },
          "xaxis": {
           "automargin": true,
           "gridcolor": "white",
           "linecolor": "white",
           "ticks": "",
           "title": {
            "standoff": 15
           },
           "zerolinecolor": "white",
           "zerolinewidth": 2
          },
          "yaxis": {
           "automargin": true,
           "gridcolor": "white",
           "linecolor": "white",
           "ticks": "",
           "title": {
            "standoff": 15
           },
           "zerolinecolor": "white",
           "zerolinewidth": 2
          }
         }
        },
        "title": {
         "text": "R2 Scores for Different Models and Wells"
        },
        "xaxis": {
         "title": {
          "text": "Wells"
         }
        },
        "yaxis": {
         "title": {
          "text": "R2 Score"
         }
        }
       }
      }
     },
     "metadata": {},
     "output_type": "display_data"
    }
   ],
   "source": [
    "r2_scores_rf = [r2_well1_rf, r2_well2_rf, r2_well3_rf, r2_well4_rf]\n",
    "r2_scores_svr = [r2_well1_svr, r2_well2_svr, r2_well3_svr, r2_well4_svr]\n",
    "r2_scores_lr = [r2_well1_lr, r2_well2_lr, r2_well3_lr, r2_well4_lr]\n",
    "r2_scores_xgb = [r2_well1_xgb, r2_well2_xgb, r2_well3_xgb, r2_well4_xgb]\n",
    "\n",
    "# Create traces\n",
    "trace1 = go.Bar(\n",
    "    x=['Well 1', 'Well 2', 'Well 3', 'Well 4'],\n",
    "    y=r2_scores_rf,\n",
    "    name='Random Forest'\n",
    ")\n",
    "\n",
    "trace2 = go.Bar(\n",
    "    x=['Well 1', 'Well 2', 'Well 3', 'Well 4'],\n",
    "    y=r2_scores_svr,\n",
    "    name='Support Vector Regression'\n",
    ")\n",
    "\n",
    "trace3 = go.Bar(\n",
    "    x=['Well 1', 'Well 2', 'Well 3', 'Well 4'],\n",
    "    y=r2_scores_lr,\n",
    "    name='Linear Regression'\n",
    ")\n",
    "\n",
    "trace4 = go.Bar(\n",
    "    x=['Well 1', 'Well 2', 'Well 3', 'Well 4'],\n",
    "    y=r2_scores_xgb,\n",
    "    name='XGBoost'\n",
    ")\n",
    "\n",
    "data = [trace1, trace2, trace3, trace4]\n",
    "layout = go.Layout(\n",
    "    barmode='group',\n",
    "    title='R2 Scores for Different Models and Wells',\n",
    "    xaxis=dict(title='Wells'),\n",
    "    yaxis=dict(title='R2 Score')\n",
    ")\n",
    "\n",
    "fig = go.Figure(data=data, layout=layout)\n",
    "\n",
    "fig.show()\n"
   ]
  },
  {
   "attachments": {},
   "cell_type": "markdown",
   "metadata": {},
   "source": [
    "After experimenting different algorithms Random Forest gave better result. We will implement Hyperparameter tuning to increase the accuracy of model."
   ]
  },
  {
   "cell_type": "code",
   "execution_count": 339,
   "metadata": {},
   "outputs": [],
   "source": [
    "# # Define the hyperparameters\n",
    "# hyperparameters = {\n",
    "#     'estimator__n_estimators': [100, 200, 500],\n",
    "#     'estimator__max_depth': [3, 5, 7],\n",
    "#     'estimator__min_samples_split': [2, 5, 10],\n",
    "#     'estimator__min_samples_leaf': [1, 2, 4]\n",
    "# }\n",
    "\n",
    "# # Initialize the RandomForest regressor\n",
    "# rf = RandomForestRegressor()\n",
    "\n",
    "# # Initialize the multi-output regressor\n",
    "# model = MultiOutputRegressor(rf)\n",
    "\n",
    "# # Set up the grid search\n",
    "# grid_search = GridSearchCV(model, hyperparameters, cv=5, scoring='r2')\n",
    "\n",
    "# # Conduct the grid search\n",
    "# grid_search.fit(x_train, y_train)\n",
    "\n",
    "# # Print the best parameters\n",
    "# print(\"Best Parameters: \", grid_search.best_params_)\n",
    "\n",
    "# # Predict using the model with the best parameters\n",
    "# y_pred = grid_search.predict(x_test)\n",
    "\n",
    "# #evaluation for all wells \n",
    "# r2_well1_rf_gscv = r2_score(y_test['Oil_Rate_well_1'], y_pred[:, 0])\n",
    "# r2_well2_rf_gscv = r2_score(y_test['Oil_Rate_well_2'], y_pred[:, 1])\n",
    "# r2_well3_rf_gscv = r2_score(y_test['Oil_Rate_well_3'], y_pred[:, 2])\n",
    "# r2_well4_rf_gscv = r2_score(y_test['Oil_Rate_well_4'], y_pred[:, 3])\n",
    "\n",
    "# print(f\"R2 Score for Well 1 Oil rate: {r2_well1_rf_gscv}\")\n",
    "# print(f\"R2 Score for Well 2 Oil rate: {r2_well2_rf_gscv}\")\n",
    "# print(f\"R2 Score for Well 3 Oil rate: {r2_well3_rf_gscv}\")\n",
    "# print(f\"R2 Score for Well 4 Oil rate: {r2_well4_rf_gscv}\")\n"
   ]
  },
  {
   "cell_type": "code",
   "execution_count": 340,
   "metadata": {},
   "outputs": [
    {
     "name": "stdout",
     "output_type": "stream",
     "text": [
      "R2 Score for Well 1 Oil rate: 0.9724152710599221\n",
      "R2 Score for Well 2 Oil rate: 0.9758805070109942\n",
      "R2 Score for Well 3 Oil rate: 0.9216841314303261\n",
      "R2 Score for Well 4 Oil rate: 0.9072085965514881\n"
     ]
    }
   ],
   "source": [
    "# model building using RandomForest regressor\n",
    "rf = RandomForestRegressor(max_depth = 7, min_samples_leaf = 1, min_samples_split = 2, n_estimators=500)\n",
    "# create the multi-output regressor\n",
    "model = MultiOutputRegressor(rf)\n",
    "\n",
    "# fit the model to the data\n",
    "model.fit(x_train, y_train)\n",
    "\n",
    "# evaluate the model\n",
    "y_pred = model.predict(x_test)\n",
    "\n",
    "#evaluation for all wells \n",
    "r2_well1_rf_gscv = r2_score(y_test['Oil_Rate_well_1'], y_pred[:, 0])\n",
    "r2_well2_rf_gscv = r2_score(y_test['Oil_Rate_well_2'], y_pred[:, 1])\n",
    "r2_well3_rf_gscv = r2_score(y_test['Oil_Rate_well_3'], y_pred[:, 2])\n",
    "r2_well4_rf_gscv = r2_score(y_test['Oil_Rate_well_4'], y_pred[:, 3])\n",
    "\n",
    "print(f\"R2 Score for Well 1 Oil rate: {r2_well1_rf_gscv}\")\n",
    "print(f\"R2 Score for Well 2 Oil rate: {r2_well2_rf_gscv}\")\n",
    "print(f\"R2 Score for Well 3 Oil rate: {r2_well3_rf_gscv}\")\n",
    "print(f\"R2 Score for Well 4 Oil rate: {r2_well4_rf_gscv}\")"
   ]
  },
  {
   "attachments": {},
   "cell_type": "markdown",
   "metadata": {},
   "source": [
    "#### Visually comparison"
   ]
  },
  {
   "cell_type": "code",
   "execution_count": 341,
   "metadata": {},
   "outputs": [
    {
     "data": {
      "application/vnd.plotly.v1+json": {
       "config": {
        "plotlyServerURL": "https://plot.ly"
       },
       "data": [
        {
         "marker": {
          "color": "rgb(55, 83, 109)"
         },
         "name": "Random Forest (before hyperparameter tuning)",
         "type": "bar",
         "x": [
          "Well 1",
          "Well 2",
          "Well 3",
          "Well 4"
         ],
         "y": [
          0.9737543140186933,
          0.9754052177522881,
          0.93307288659988,
          0.9099542936587304
         ]
        },
        {
         "marker": {
          "color": "rgb(26, 118, 255)"
         },
         "name": "Random Forest (after hyperparameter tuning)",
         "type": "bar",
         "x": [
          "Well 1",
          "Well 2",
          "Well 3",
          "Well 4"
         ],
         "y": [
          0.9724152710599221,
          0.9758805070109942,
          0.9216841314303261,
          0.9072085965514881
         ]
        }
       ],
       "layout": {
        "barmode": "group",
        "template": {
         "data": {
          "bar": [
           {
            "error_x": {
             "color": "#2a3f5f"
            },
            "error_y": {
             "color": "#2a3f5f"
            },
            "marker": {
             "line": {
              "color": "#E5ECF6",
              "width": 0.5
             },
             "pattern": {
              "fillmode": "overlay",
              "size": 10,
              "solidity": 0.2
             }
            },
            "type": "bar"
           }
          ],
          "barpolar": [
           {
            "marker": {
             "line": {
              "color": "#E5ECF6",
              "width": 0.5
             },
             "pattern": {
              "fillmode": "overlay",
              "size": 10,
              "solidity": 0.2
             }
            },
            "type": "barpolar"
           }
          ],
          "carpet": [
           {
            "aaxis": {
             "endlinecolor": "#2a3f5f",
             "gridcolor": "white",
             "linecolor": "white",
             "minorgridcolor": "white",
             "startlinecolor": "#2a3f5f"
            },
            "baxis": {
             "endlinecolor": "#2a3f5f",
             "gridcolor": "white",
             "linecolor": "white",
             "minorgridcolor": "white",
             "startlinecolor": "#2a3f5f"
            },
            "type": "carpet"
           }
          ],
          "choropleth": [
           {
            "colorbar": {
             "outlinewidth": 0,
             "ticks": ""
            },
            "type": "choropleth"
           }
          ],
          "contour": [
           {
            "colorbar": {
             "outlinewidth": 0,
             "ticks": ""
            },
            "colorscale": [
             [
              0,
              "#0d0887"
             ],
             [
              0.1111111111111111,
              "#46039f"
             ],
             [
              0.2222222222222222,
              "#7201a8"
             ],
             [
              0.3333333333333333,
              "#9c179e"
             ],
             [
              0.4444444444444444,
              "#bd3786"
             ],
             [
              0.5555555555555556,
              "#d8576b"
             ],
             [
              0.6666666666666666,
              "#ed7953"
             ],
             [
              0.7777777777777778,
              "#fb9f3a"
             ],
             [
              0.8888888888888888,
              "#fdca26"
             ],
             [
              1,
              "#f0f921"
             ]
            ],
            "type": "contour"
           }
          ],
          "contourcarpet": [
           {
            "colorbar": {
             "outlinewidth": 0,
             "ticks": ""
            },
            "type": "contourcarpet"
           }
          ],
          "heatmap": [
           {
            "colorbar": {
             "outlinewidth": 0,
             "ticks": ""
            },
            "colorscale": [
             [
              0,
              "#0d0887"
             ],
             [
              0.1111111111111111,
              "#46039f"
             ],
             [
              0.2222222222222222,
              "#7201a8"
             ],
             [
              0.3333333333333333,
              "#9c179e"
             ],
             [
              0.4444444444444444,
              "#bd3786"
             ],
             [
              0.5555555555555556,
              "#d8576b"
             ],
             [
              0.6666666666666666,
              "#ed7953"
             ],
             [
              0.7777777777777778,
              "#fb9f3a"
             ],
             [
              0.8888888888888888,
              "#fdca26"
             ],
             [
              1,
              "#f0f921"
             ]
            ],
            "type": "heatmap"
           }
          ],
          "heatmapgl": [
           {
            "colorbar": {
             "outlinewidth": 0,
             "ticks": ""
            },
            "colorscale": [
             [
              0,
              "#0d0887"
             ],
             [
              0.1111111111111111,
              "#46039f"
             ],
             [
              0.2222222222222222,
              "#7201a8"
             ],
             [
              0.3333333333333333,
              "#9c179e"
             ],
             [
              0.4444444444444444,
              "#bd3786"
             ],
             [
              0.5555555555555556,
              "#d8576b"
             ],
             [
              0.6666666666666666,
              "#ed7953"
             ],
             [
              0.7777777777777778,
              "#fb9f3a"
             ],
             [
              0.8888888888888888,
              "#fdca26"
             ],
             [
              1,
              "#f0f921"
             ]
            ],
            "type": "heatmapgl"
           }
          ],
          "histogram": [
           {
            "marker": {
             "pattern": {
              "fillmode": "overlay",
              "size": 10,
              "solidity": 0.2
             }
            },
            "type": "histogram"
           }
          ],
          "histogram2d": [
           {
            "colorbar": {
             "outlinewidth": 0,
             "ticks": ""
            },
            "colorscale": [
             [
              0,
              "#0d0887"
             ],
             [
              0.1111111111111111,
              "#46039f"
             ],
             [
              0.2222222222222222,
              "#7201a8"
             ],
             [
              0.3333333333333333,
              "#9c179e"
             ],
             [
              0.4444444444444444,
              "#bd3786"
             ],
             [
              0.5555555555555556,
              "#d8576b"
             ],
             [
              0.6666666666666666,
              "#ed7953"
             ],
             [
              0.7777777777777778,
              "#fb9f3a"
             ],
             [
              0.8888888888888888,
              "#fdca26"
             ],
             [
              1,
              "#f0f921"
             ]
            ],
            "type": "histogram2d"
           }
          ],
          "histogram2dcontour": [
           {
            "colorbar": {
             "outlinewidth": 0,
             "ticks": ""
            },
            "colorscale": [
             [
              0,
              "#0d0887"
             ],
             [
              0.1111111111111111,
              "#46039f"
             ],
             [
              0.2222222222222222,
              "#7201a8"
             ],
             [
              0.3333333333333333,
              "#9c179e"
             ],
             [
              0.4444444444444444,
              "#bd3786"
             ],
             [
              0.5555555555555556,
              "#d8576b"
             ],
             [
              0.6666666666666666,
              "#ed7953"
             ],
             [
              0.7777777777777778,
              "#fb9f3a"
             ],
             [
              0.8888888888888888,
              "#fdca26"
             ],
             [
              1,
              "#f0f921"
             ]
            ],
            "type": "histogram2dcontour"
           }
          ],
          "mesh3d": [
           {
            "colorbar": {
             "outlinewidth": 0,
             "ticks": ""
            },
            "type": "mesh3d"
           }
          ],
          "parcoords": [
           {
            "line": {
             "colorbar": {
              "outlinewidth": 0,
              "ticks": ""
             }
            },
            "type": "parcoords"
           }
          ],
          "pie": [
           {
            "automargin": true,
            "type": "pie"
           }
          ],
          "scatter": [
           {
            "fillpattern": {
             "fillmode": "overlay",
             "size": 10,
             "solidity": 0.2
            },
            "type": "scatter"
           }
          ],
          "scatter3d": [
           {
            "line": {
             "colorbar": {
              "outlinewidth": 0,
              "ticks": ""
             }
            },
            "marker": {
             "colorbar": {
              "outlinewidth": 0,
              "ticks": ""
             }
            },
            "type": "scatter3d"
           }
          ],
          "scattercarpet": [
           {
            "marker": {
             "colorbar": {
              "outlinewidth": 0,
              "ticks": ""
             }
            },
            "type": "scattercarpet"
           }
          ],
          "scattergeo": [
           {
            "marker": {
             "colorbar": {
              "outlinewidth": 0,
              "ticks": ""
             }
            },
            "type": "scattergeo"
           }
          ],
          "scattergl": [
           {
            "marker": {
             "colorbar": {
              "outlinewidth": 0,
              "ticks": ""
             }
            },
            "type": "scattergl"
           }
          ],
          "scattermapbox": [
           {
            "marker": {
             "colorbar": {
              "outlinewidth": 0,
              "ticks": ""
             }
            },
            "type": "scattermapbox"
           }
          ],
          "scatterpolar": [
           {
            "marker": {
             "colorbar": {
              "outlinewidth": 0,
              "ticks": ""
             }
            },
            "type": "scatterpolar"
           }
          ],
          "scatterpolargl": [
           {
            "marker": {
             "colorbar": {
              "outlinewidth": 0,
              "ticks": ""
             }
            },
            "type": "scatterpolargl"
           }
          ],
          "scatterternary": [
           {
            "marker": {
             "colorbar": {
              "outlinewidth": 0,
              "ticks": ""
             }
            },
            "type": "scatterternary"
           }
          ],
          "surface": [
           {
            "colorbar": {
             "outlinewidth": 0,
             "ticks": ""
            },
            "colorscale": [
             [
              0,
              "#0d0887"
             ],
             [
              0.1111111111111111,
              "#46039f"
             ],
             [
              0.2222222222222222,
              "#7201a8"
             ],
             [
              0.3333333333333333,
              "#9c179e"
             ],
             [
              0.4444444444444444,
              "#bd3786"
             ],
             [
              0.5555555555555556,
              "#d8576b"
             ],
             [
              0.6666666666666666,
              "#ed7953"
             ],
             [
              0.7777777777777778,
              "#fb9f3a"
             ],
             [
              0.8888888888888888,
              "#fdca26"
             ],
             [
              1,
              "#f0f921"
             ]
            ],
            "type": "surface"
           }
          ],
          "table": [
           {
            "cells": {
             "fill": {
              "color": "#EBF0F8"
             },
             "line": {
              "color": "white"
             }
            },
            "header": {
             "fill": {
              "color": "#C8D4E3"
             },
             "line": {
              "color": "white"
             }
            },
            "type": "table"
           }
          ]
         },
         "layout": {
          "annotationdefaults": {
           "arrowcolor": "#2a3f5f",
           "arrowhead": 0,
           "arrowwidth": 1
          },
          "autotypenumbers": "strict",
          "coloraxis": {
           "colorbar": {
            "outlinewidth": 0,
            "ticks": ""
           }
          },
          "colorscale": {
           "diverging": [
            [
             0,
             "#8e0152"
            ],
            [
             0.1,
             "#c51b7d"
            ],
            [
             0.2,
             "#de77ae"
            ],
            [
             0.3,
             "#f1b6da"
            ],
            [
             0.4,
             "#fde0ef"
            ],
            [
             0.5,
             "#f7f7f7"
            ],
            [
             0.6,
             "#e6f5d0"
            ],
            [
             0.7,
             "#b8e186"
            ],
            [
             0.8,
             "#7fbc41"
            ],
            [
             0.9,
             "#4d9221"
            ],
            [
             1,
             "#276419"
            ]
           ],
           "sequential": [
            [
             0,
             "#0d0887"
            ],
            [
             0.1111111111111111,
             "#46039f"
            ],
            [
             0.2222222222222222,
             "#7201a8"
            ],
            [
             0.3333333333333333,
             "#9c179e"
            ],
            [
             0.4444444444444444,
             "#bd3786"
            ],
            [
             0.5555555555555556,
             "#d8576b"
            ],
            [
             0.6666666666666666,
             "#ed7953"
            ],
            [
             0.7777777777777778,
             "#fb9f3a"
            ],
            [
             0.8888888888888888,
             "#fdca26"
            ],
            [
             1,
             "#f0f921"
            ]
           ],
           "sequentialminus": [
            [
             0,
             "#0d0887"
            ],
            [
             0.1111111111111111,
             "#46039f"
            ],
            [
             0.2222222222222222,
             "#7201a8"
            ],
            [
             0.3333333333333333,
             "#9c179e"
            ],
            [
             0.4444444444444444,
             "#bd3786"
            ],
            [
             0.5555555555555556,
             "#d8576b"
            ],
            [
             0.6666666666666666,
             "#ed7953"
            ],
            [
             0.7777777777777778,
             "#fb9f3a"
            ],
            [
             0.8888888888888888,
             "#fdca26"
            ],
            [
             1,
             "#f0f921"
            ]
           ]
          },
          "colorway": [
           "#636efa",
           "#EF553B",
           "#00cc96",
           "#ab63fa",
           "#FFA15A",
           "#19d3f3",
           "#FF6692",
           "#B6E880",
           "#FF97FF",
           "#FECB52"
          ],
          "font": {
           "color": "#2a3f5f"
          },
          "geo": {
           "bgcolor": "white",
           "lakecolor": "white",
           "landcolor": "#E5ECF6",
           "showlakes": true,
           "showland": true,
           "subunitcolor": "white"
          },
          "hoverlabel": {
           "align": "left"
          },
          "hovermode": "closest",
          "mapbox": {
           "style": "light"
          },
          "paper_bgcolor": "white",
          "plot_bgcolor": "#E5ECF6",
          "polar": {
           "angularaxis": {
            "gridcolor": "white",
            "linecolor": "white",
            "ticks": ""
           },
           "bgcolor": "#E5ECF6",
           "radialaxis": {
            "gridcolor": "white",
            "linecolor": "white",
            "ticks": ""
           }
          },
          "scene": {
           "xaxis": {
            "backgroundcolor": "#E5ECF6",
            "gridcolor": "white",
            "gridwidth": 2,
            "linecolor": "white",
            "showbackground": true,
            "ticks": "",
            "zerolinecolor": "white"
           },
           "yaxis": {
            "backgroundcolor": "#E5ECF6",
            "gridcolor": "white",
            "gridwidth": 2,
            "linecolor": "white",
            "showbackground": true,
            "ticks": "",
            "zerolinecolor": "white"
           },
           "zaxis": {
            "backgroundcolor": "#E5ECF6",
            "gridcolor": "white",
            "gridwidth": 2,
            "linecolor": "white",
            "showbackground": true,
            "ticks": "",
            "zerolinecolor": "white"
           }
          },
          "shapedefaults": {
           "line": {
            "color": "#2a3f5f"
           }
          },
          "ternary": {
           "aaxis": {
            "gridcolor": "white",
            "linecolor": "white",
            "ticks": ""
           },
           "baxis": {
            "gridcolor": "white",
            "linecolor": "white",
            "ticks": ""
           },
           "bgcolor": "#E5ECF6",
           "caxis": {
            "gridcolor": "white",
            "linecolor": "white",
            "ticks": ""
           }
          },
          "title": {
           "x": 0.05
          },
          "xaxis": {
           "automargin": true,
           "gridcolor": "white",
           "linecolor": "white",
           "ticks": "",
           "title": {
            "standoff": 15
           },
           "zerolinecolor": "white",
           "zerolinewidth": 2
          },
          "yaxis": {
           "automargin": true,
           "gridcolor": "white",
           "linecolor": "white",
           "ticks": "",
           "title": {
            "standoff": 15
           },
           "zerolinecolor": "white",
           "zerolinewidth": 2
          }
         }
        },
        "title": {
         "text": "R2 Scores by Well and Hyperparameter Tuning"
        },
        "xaxis": {
         "title": {
          "text": "Wells"
         }
        },
        "yaxis": {
         "title": {
          "text": "R2 Score"
         }
        }
       }
      }
     },
     "metadata": {},
     "output_type": "display_data"
    }
   ],
   "source": [
    "# First model R2 scores (before hyperparameter tuning)\n",
    "r2_scores_rf = [r2_well1_rf, r2_well2_rf, r2_well3_rf, r2_well4_rf]\n",
    "\n",
    "# Second model R2 scores (after hyperparameter tuning)\n",
    "r2_scores_rf_gscv = [r2_well1_rf_gscv, r2_well2_rf_gscv, r2_well3_rf_gscv, r2_well4_rf_gscv]\n",
    "\n",
    "# Create traces\n",
    "trace1 = go.Bar(\n",
    "    x=['Well 1', 'Well 2', 'Well 3', 'Well 4'],\n",
    "    y=r2_scores_rf,\n",
    "    name='Random Forest (before hyperparameter tuning)',\n",
    "    marker_color='rgb(55, 83, 109)'\n",
    ")\n",
    "\n",
    "trace2 = go.Bar(\n",
    "    x=['Well 1', 'Well 2', 'Well 3', 'Well 4'],\n",
    "    y=r2_scores_rf_gscv,\n",
    "    name='Random Forest (after hyperparameter tuning)',\n",
    "    marker_color='rgb(26, 118, 255)'\n",
    ")\n",
    "\n",
    "data = [trace1, trace2]\n",
    "layout = go.Layout(\n",
    "    title='R2 Scores by Well and Hyperparameter Tuning',\n",
    "    xaxis=dict(title='Wells'),\n",
    "    yaxis=dict(title='R2 Score'),\n",
    "    barmode='group'\n",
    ")\n",
    "\n",
    "fig = go.Figure(data=data, layout=layout)\n",
    "\n",
    "fig.show()\n"
   ]
  },
  {
   "cell_type": "markdown",
   "metadata": {},
   "source": [
    "## Case study 2 (using other parameters)"
   ]
  },
  {
   "cell_type": "code",
   "execution_count": 495,
   "metadata": {},
   "outputs": [
    {
     "data": {
      "text/html": [
       "<div>\n",
       "<style scoped>\n",
       "    .dataframe tbody tr th:only-of-type {\n",
       "        vertical-align: middle;\n",
       "    }\n",
       "\n",
       "    .dataframe tbody tr th {\n",
       "        vertical-align: top;\n",
       "    }\n",
       "\n",
       "    .dataframe thead th {\n",
       "        text-align: right;\n",
       "    }\n",
       "</style>\n",
       "<table border=\"1\" class=\"dataframe\">\n",
       "  <thead>\n",
       "    <tr style=\"text-align: right;\">\n",
       "      <th></th>\n",
       "      <th>Date</th>\n",
       "      <th>WHP_well_1</th>\n",
       "      <th>Oil_Rate_well_1</th>\n",
       "      <th>GOR_well_1</th>\n",
       "      <th>WHP_well_2</th>\n",
       "      <th>Oil_Rate_well_2</th>\n",
       "      <th>GOR_well_2</th>\n",
       "      <th>WHP_well_3</th>\n",
       "      <th>Oil_Rate_well_3</th>\n",
       "      <th>GOR_well_3</th>\n",
       "      <th>WHP_well_4</th>\n",
       "      <th>Oil_Rate_well_4</th>\n",
       "      <th>GOR_well_4</th>\n",
       "      <th>total_oil_rate</th>\n",
       "    </tr>\n",
       "  </thead>\n",
       "  <tbody>\n",
       "    <tr>\n",
       "      <th>0</th>\n",
       "      <td>1999-01-19</td>\n",
       "      <td>1785.58</td>\n",
       "      <td>7409.0</td>\n",
       "      <td>936.158726</td>\n",
       "      <td>1378.95</td>\n",
       "      <td>11092.0</td>\n",
       "      <td>787.107825</td>\n",
       "      <td>1541.35</td>\n",
       "      <td>7888.0</td>\n",
       "      <td>746.957404</td>\n",
       "      <td>1286.15</td>\n",
       "      <td>10874.0</td>\n",
       "      <td>882.839801</td>\n",
       "      <td>37263.0</td>\n",
       "    </tr>\n",
       "    <tr>\n",
       "      <th>1</th>\n",
       "      <td>1999-01-20</td>\n",
       "      <td>1683.38</td>\n",
       "      <td>9205.0</td>\n",
       "      <td>1023.356871</td>\n",
       "      <td>1326.75</td>\n",
       "      <td>11784.0</td>\n",
       "      <td>853.971487</td>\n",
       "      <td>1442.75</td>\n",
       "      <td>8933.0</td>\n",
       "      <td>803.112056</td>\n",
       "      <td>1316.60</td>\n",
       "      <td>10280.0</td>\n",
       "      <td>894.941634</td>\n",
       "      <td>40202.0</td>\n",
       "    </tr>\n",
       "    <tr>\n",
       "      <th>2</th>\n",
       "      <td>1999-01-21</td>\n",
       "      <td>1566.58</td>\n",
       "      <td>10454.0</td>\n",
       "      <td>1034.245265</td>\n",
       "      <td>1338.35</td>\n",
       "      <td>11637.0</td>\n",
       "      <td>856.578156</td>\n",
       "      <td>1339.80</td>\n",
       "      <td>9558.0</td>\n",
       "      <td>813.810421</td>\n",
       "      <td>1307.90</td>\n",
       "      <td>10243.0</td>\n",
       "      <td>898.174363</td>\n",
       "      <td>41892.0</td>\n",
       "    </tr>\n",
       "    <tr>\n",
       "      <th>3</th>\n",
       "      <td>1999-01-22</td>\n",
       "      <td>1576.80</td>\n",
       "      <td>10006.0</td>\n",
       "      <td>1082.550470</td>\n",
       "      <td>1363.00</td>\n",
       "      <td>11305.0</td>\n",
       "      <td>863.617868</td>\n",
       "      <td>1370.25</td>\n",
       "      <td>8896.0</td>\n",
       "      <td>838.309353</td>\n",
       "      <td>1296.30</td>\n",
       "      <td>10209.0</td>\n",
       "      <td>893.329415</td>\n",
       "      <td>40416.0</td>\n",
       "    </tr>\n",
       "    <tr>\n",
       "      <th>4</th>\n",
       "      <td>1999-01-25</td>\n",
       "      <td>1575.34</td>\n",
       "      <td>9877.0</td>\n",
       "      <td>1111.268604</td>\n",
       "      <td>1138.25</td>\n",
       "      <td>13307.0</td>\n",
       "      <td>897.692944</td>\n",
       "      <td>1377.50</td>\n",
       "      <td>8725.0</td>\n",
       "      <td>842.269341</td>\n",
       "      <td>1595.00</td>\n",
       "      <td>9524.0</td>\n",
       "      <td>852.498950</td>\n",
       "      <td>41433.0</td>\n",
       "    </tr>\n",
       "  </tbody>\n",
       "</table>\n",
       "</div>"
      ],
      "text/plain": [
       "        Date  WHP_well_1  Oil_Rate_well_1   GOR_well_1  WHP_well_2  \\\n",
       "0 1999-01-19     1785.58           7409.0   936.158726     1378.95   \n",
       "1 1999-01-20     1683.38           9205.0  1023.356871     1326.75   \n",
       "2 1999-01-21     1566.58          10454.0  1034.245265     1338.35   \n",
       "3 1999-01-22     1576.80          10006.0  1082.550470     1363.00   \n",
       "4 1999-01-25     1575.34           9877.0  1111.268604     1138.25   \n",
       "\n",
       "   Oil_Rate_well_2  GOR_well_2  WHP_well_3  Oil_Rate_well_3  GOR_well_3  \\\n",
       "0          11092.0  787.107825     1541.35           7888.0  746.957404   \n",
       "1          11784.0  853.971487     1442.75           8933.0  803.112056   \n",
       "2          11637.0  856.578156     1339.80           9558.0  813.810421   \n",
       "3          11305.0  863.617868     1370.25           8896.0  838.309353   \n",
       "4          13307.0  897.692944     1377.50           8725.0  842.269341   \n",
       "\n",
       "   WHP_well_4  Oil_Rate_well_4  GOR_well_4  total_oil_rate  \n",
       "0     1286.15          10874.0  882.839801         37263.0  \n",
       "1     1316.60          10280.0  894.941634         40202.0  \n",
       "2     1307.90          10243.0  898.174363         41892.0  \n",
       "3     1296.30          10209.0  893.329415         40416.0  \n",
       "4     1595.00           9524.0  852.498950         41433.0  "
      ]
     },
     "execution_count": 495,
     "metadata": {},
     "output_type": "execute_result"
    }
   ],
   "source": [
    "df.head()"
   ]
  },
  {
   "cell_type": "code",
   "execution_count": 496,
   "metadata": {},
   "outputs": [],
   "source": [
    "#create x and y arrays in which x has independent variables and y has Oil_Rate for all wells\n",
    "x = df[['WHP_well_1', 'GOR_well_1', 'WHP_well_2', 'GOR_well_2', 'WHP_well_3', 'GOR_well_3',  'WHP_well_4', 'GOR_well_4', 'total_oil_rate']]\n",
    "y = df[['Oil_Rate_well_1', 'Oil_Rate_well_2', 'Oil_Rate_well_3', 'Oil_Rate_well_4']]"
   ]
  },
  {
   "cell_type": "markdown",
   "metadata": {},
   "source": [
    "#### Multiple linear regression"
   ]
  },
  {
   "cell_type": "code",
   "execution_count": 497,
   "metadata": {},
   "outputs": [
    {
     "name": "stdout",
     "output_type": "stream",
     "text": [
      "Cross-validation scores:  [ 0.83644881  0.79748011  0.86315747  0.86169494 -0.11192785]\n",
      "Average cross-validation score:  0.649370693063735\n",
      "R2 Score for Well 1 Oil rate: 0.921086860179134\n",
      "R2 Score for Well 2 Oil rate: 0.9649992854522577\n",
      "R2 Score for Well 3 Oil rate: 0.6110373554999353\n",
      "R2 Score for Well 4 Oil rate: 0.7527589708341427\n"
     ]
    }
   ],
   "source": [
    "# Model building using Linear regression\n",
    "lr = LinearRegression()\n",
    "\n",
    "# Create the multi-output regressor\n",
    "model = MultiOutputRegressor(lr)\n",
    "\n",
    "# Fit the model to the data\n",
    "model.fit(x_train, y_train)\n",
    "\n",
    "# Apply cross validation\n",
    "scores = cross_val_score(model, x_train, y_train, cv=5, scoring='r2')\n",
    "\n",
    "# Print the cross validation scores\n",
    "print(\"Cross-validation scores: \", scores)\n",
    "print(\"Average cross-validation score: \", scores.mean())\n",
    "\n",
    "# Evaluate the model\n",
    "y_pred = model.predict(x_test)\n",
    "\n",
    "r2_well1_lr = r2_score(y_test['Oil_Rate_well_1'], y_pred[:, 0])\n",
    "r2_well2_lr = r2_score(y_test['Oil_Rate_well_2'], y_pred[:, 1])\n",
    "r2_well3_lr = r2_score(y_test['Oil_Rate_well_3'], y_pred[:, 2])\n",
    "r2_well4_lr = r2_score(y_test['Oil_Rate_well_4'], y_pred[:, 3])\n",
    "\n",
    "print(f\"R2 Score for Well 1 Oil rate: {r2_well1_lr}\")\n",
    "print(f\"R2 Score for Well 2 Oil rate: {r2_well2_lr}\")\n",
    "print(f\"R2 Score for Well 3 Oil rate: {r2_well3_lr}\")\n",
    "print(f\"R2 Score for Well 4 Oil rate: {r2_well4_lr}\")\n"
   ]
  },
  {
   "cell_type": "markdown",
   "metadata": {},
   "source": [
    "#### Support Vector Regressor"
   ]
  },
  {
   "cell_type": "code",
   "execution_count": 498,
   "metadata": {},
   "outputs": [
    {
     "name": "stdout",
     "output_type": "stream",
     "text": [
      "Cross-validation scores:  [ 0.85164869  0.8079855   0.84420732  0.86988212 -0.08579723]\n",
      "Average cross-validation score:  0.6575852827243625\n",
      "R2 Score for Well 1 Oil rate: 0.917286525988887\n",
      "R2 Score for Well 2 Oil rate: 0.9643041968957614\n",
      "R2 Score for Well 3 Oil rate: 0.5896286756464837\n",
      "R2 Score for Well 4 Oil rate: 0.7399334973136331\n"
     ]
    }
   ],
   "source": [
    "# Model building using Support Vector regression\n",
    "svr = SVR(kernel='linear') # You can change the kernel as needed\n",
    "\n",
    "# Create the multi-output regressor\n",
    "model = MultiOutputRegressor(svr)\n",
    "\n",
    "# Fit the model to the data\n",
    "model.fit(x_train, y_train)\n",
    "\n",
    "# Apply cross validation\n",
    "scores = cross_val_score(model, x_train, y_train, cv=5, scoring='r2')\n",
    "\n",
    "# Print the cross validation scores\n",
    "print(\"Cross-validation scores: \", scores)\n",
    "print(\"Average cross-validation score: \", scores.mean())\n",
    "\n",
    "# Evaluate the model\n",
    "y_pred = model.predict(x_test)\n",
    "\n",
    "r2_well1_svr = r2_score(y_test['Oil_Rate_well_1'], y_pred[:, 0])\n",
    "r2_well2_svr = r2_score(y_test['Oil_Rate_well_2'], y_pred[:, 1])\n",
    "r2_well3_svr = r2_score(y_test['Oil_Rate_well_3'], y_pred[:, 2])\n",
    "r2_well4_svr = r2_score(y_test['Oil_Rate_well_4'], y_pred[:, 3])\n",
    "\n",
    "print(f\"R2 Score for Well 1 Oil rate: {r2_well1_svr}\")\n",
    "print(f\"R2 Score for Well 2 Oil rate: {r2_well2_svr}\")\n",
    "print(f\"R2 Score for Well 3 Oil rate: {r2_well3_svr}\")\n",
    "print(f\"R2 Score for Well 4 Oil rate: {r2_well4_svr}\")\n"
   ]
  },
  {
   "cell_type": "markdown",
   "metadata": {},
   "source": [
    "#### Random Forest regressor"
   ]
  },
  {
   "cell_type": "code",
   "execution_count": 499,
   "metadata": {},
   "outputs": [
    {
     "name": "stdout",
     "output_type": "stream",
     "text": [
      "Cross-validation scores:  [0.8976673  0.94234019 0.90775244 0.91365868 0.58725272]\n",
      "Average cross-validation score:  0.8497342658276594\n",
      "R2 Score for Well 1 Oil rate: 0.973586599137983\n",
      "R2 Score for Well 2 Oil rate: 0.9760502938743304\n",
      "R2 Score for Well 3 Oil rate: 0.934549776865238\n",
      "R2 Score for Well 4 Oil rate: 0.9065313724732235\n"
     ]
    }
   ],
   "source": [
    "# model building using RandomForest regressor\n",
    "rf = RandomForestRegressor()\n",
    "# create the multi-output regressor\n",
    "model = MultiOutputRegressor(rf)\n",
    "\n",
    "# fit the model to the data\n",
    "model.fit(x_train, y_train)\n",
    "\n",
    "# Apply cross validation\n",
    "scores = cross_val_score(model, x_train, y_train, cv=5, scoring='r2')\n",
    "\n",
    "# Print the cross validation scores\n",
    "print(\"Cross-validation scores: \", scores)\n",
    "print(\"Average cross-validation score: \", scores.mean())\n",
    "\n",
    "# evaluate the model\n",
    "y_pred = model.predict(x_test)\n",
    "\n",
    "r2_well1_rf = r2_score(y_test['Oil_Rate_well_1'], y_pred[:, 0])\n",
    "r2_well2_rf = r2_score(y_test['Oil_Rate_well_2'], y_pred[:, 1])\n",
    "r2_well3_rf = r2_score(y_test['Oil_Rate_well_3'], y_pred[:, 2])\n",
    "r2_well4_rf = r2_score(y_test['Oil_Rate_well_4'], y_pred[:, 3])\n",
    "\n",
    "print(f\"R2 Score for Well 1 Oil rate: {r2_well1_rf}\")\n",
    "print(f\"R2 Score for Well 2 Oil rate: {r2_well2_rf}\")\n",
    "print(f\"R2 Score for Well 3 Oil rate: {r2_well3_rf}\")\n",
    "print(f\"R2 Score for Well 4 Oil rate: {r2_well4_rf}\")"
   ]
  },
  {
   "cell_type": "markdown",
   "metadata": {},
   "source": [
    "#### XGBoost regressor"
   ]
  },
  {
   "cell_type": "code",
   "execution_count": 500,
   "metadata": {},
   "outputs": [
    {
     "name": "stdout",
     "output_type": "stream",
     "text": [
      "Cross-validation scores:  [0.90662463 0.93630481 0.84789663 0.93257567 0.56405188]\n",
      "Average cross-validation score:  0.837490722425237\n",
      "R2 Score for Well 1 Oil rate: 0.9670891194898724\n",
      "R2 Score for Well 2 Oil rate: 0.9740342778887588\n",
      "R2 Score for Well 3 Oil rate: 0.9259803490314873\n",
      "R2 Score for Well 4 Oil rate: 0.8706910416279905\n"
     ]
    }
   ],
   "source": [
    "#model building using xgboost regressor\n",
    "xgb = XGBRegressor()\n",
    "# create the multi-output regressor\n",
    "model = MultiOutputRegressor(xgb)\n",
    "# fit the model to the data\n",
    "model.fit(x_train, y_train)\n",
    "# Apply cross validation\n",
    "scores = cross_val_score(model, x_train, y_train, cv=5, scoring='r2')\n",
    "\n",
    "# Print the cross validation scores\n",
    "print(\"Cross-validation scores: \", scores)\n",
    "print(\"Average cross-validation score: \", scores.mean())\n",
    "\n",
    "#evaluate the model\n",
    "y_pred = model.predict(x_test)\n",
    "#evaluation for all wells \n",
    "r2_well1_xgb = r2_score(y_test['Oil_Rate_well_1'], y_pred[:, 0])\n",
    "r2_well2_xgb = r2_score(y_test['Oil_Rate_well_2'], y_pred[:, 1])\n",
    "r2_well3_xgb = r2_score(y_test['Oil_Rate_well_3'], y_pred[:, 2])\n",
    "r2_well4_xgb = r2_score(y_test['Oil_Rate_well_4'], y_pred[:, 3])\n",
    "\n",
    "print(f\"R2 Score for Well 1 Oil rate: {r2_well1_xgb}\")\n",
    "print(f\"R2 Score for Well 2 Oil rate: {r2_well2_xgb}\")\n",
    "print(f\"R2 Score for Well 3 Oil rate: {r2_well3_xgb}\")\n",
    "print(f\"R2 Score for Well 4 Oil rate: {r2_well4_xgb}\")"
   ]
  },
  {
   "cell_type": "markdown",
   "metadata": {},
   "source": [
    "#### Visually comparison"
   ]
  },
  {
   "cell_type": "code",
   "execution_count": 501,
   "metadata": {},
   "outputs": [
    {
     "data": {
      "application/vnd.plotly.v1+json": {
       "config": {
        "plotlyServerURL": "https://plot.ly"
       },
       "data": [
        {
         "name": "Random Forest",
         "type": "bar",
         "x": [
          "Well 1",
          "Well 2",
          "Well 3",
          "Well 4"
         ],
         "y": [
          0.973586599137983,
          0.9760502938743304,
          0.934549776865238,
          0.9065313724732235
         ]
        },
        {
         "name": "Support Vector Regression",
         "type": "bar",
         "x": [
          "Well 1",
          "Well 2",
          "Well 3",
          "Well 4"
         ],
         "y": [
          0.917286525988887,
          0.9643041968957614,
          0.5896286756464837,
          0.7399334973136331
         ]
        },
        {
         "name": "Linear Regression",
         "type": "bar",
         "x": [
          "Well 1",
          "Well 2",
          "Well 3",
          "Well 4"
         ],
         "y": [
          0.921086860179134,
          0.9649992854522577,
          0.6110373554999353,
          0.7527589708341427
         ]
        },
        {
         "name": "XGBoost",
         "type": "bar",
         "x": [
          "Well 1",
          "Well 2",
          "Well 3",
          "Well 4"
         ],
         "y": [
          0.9670891194898724,
          0.9740342778887588,
          0.9259803490314873,
          0.8706910416279905
         ]
        }
       ],
       "layout": {
        "barmode": "group",
        "template": {
         "data": {
          "bar": [
           {
            "error_x": {
             "color": "#2a3f5f"
            },
            "error_y": {
             "color": "#2a3f5f"
            },
            "marker": {
             "line": {
              "color": "#E5ECF6",
              "width": 0.5
             },
             "pattern": {
              "fillmode": "overlay",
              "size": 10,
              "solidity": 0.2
             }
            },
            "type": "bar"
           }
          ],
          "barpolar": [
           {
            "marker": {
             "line": {
              "color": "#E5ECF6",
              "width": 0.5
             },
             "pattern": {
              "fillmode": "overlay",
              "size": 10,
              "solidity": 0.2
             }
            },
            "type": "barpolar"
           }
          ],
          "carpet": [
           {
            "aaxis": {
             "endlinecolor": "#2a3f5f",
             "gridcolor": "white",
             "linecolor": "white",
             "minorgridcolor": "white",
             "startlinecolor": "#2a3f5f"
            },
            "baxis": {
             "endlinecolor": "#2a3f5f",
             "gridcolor": "white",
             "linecolor": "white",
             "minorgridcolor": "white",
             "startlinecolor": "#2a3f5f"
            },
            "type": "carpet"
           }
          ],
          "choropleth": [
           {
            "colorbar": {
             "outlinewidth": 0,
             "ticks": ""
            },
            "type": "choropleth"
           }
          ],
          "contour": [
           {
            "colorbar": {
             "outlinewidth": 0,
             "ticks": ""
            },
            "colorscale": [
             [
              0,
              "#0d0887"
             ],
             [
              0.1111111111111111,
              "#46039f"
             ],
             [
              0.2222222222222222,
              "#7201a8"
             ],
             [
              0.3333333333333333,
              "#9c179e"
             ],
             [
              0.4444444444444444,
              "#bd3786"
             ],
             [
              0.5555555555555556,
              "#d8576b"
             ],
             [
              0.6666666666666666,
              "#ed7953"
             ],
             [
              0.7777777777777778,
              "#fb9f3a"
             ],
             [
              0.8888888888888888,
              "#fdca26"
             ],
             [
              1,
              "#f0f921"
             ]
            ],
            "type": "contour"
           }
          ],
          "contourcarpet": [
           {
            "colorbar": {
             "outlinewidth": 0,
             "ticks": ""
            },
            "type": "contourcarpet"
           }
          ],
          "heatmap": [
           {
            "colorbar": {
             "outlinewidth": 0,
             "ticks": ""
            },
            "colorscale": [
             [
              0,
              "#0d0887"
             ],
             [
              0.1111111111111111,
              "#46039f"
             ],
             [
              0.2222222222222222,
              "#7201a8"
             ],
             [
              0.3333333333333333,
              "#9c179e"
             ],
             [
              0.4444444444444444,
              "#bd3786"
             ],
             [
              0.5555555555555556,
              "#d8576b"
             ],
             [
              0.6666666666666666,
              "#ed7953"
             ],
             [
              0.7777777777777778,
              "#fb9f3a"
             ],
             [
              0.8888888888888888,
              "#fdca26"
             ],
             [
              1,
              "#f0f921"
             ]
            ],
            "type": "heatmap"
           }
          ],
          "heatmapgl": [
           {
            "colorbar": {
             "outlinewidth": 0,
             "ticks": ""
            },
            "colorscale": [
             [
              0,
              "#0d0887"
             ],
             [
              0.1111111111111111,
              "#46039f"
             ],
             [
              0.2222222222222222,
              "#7201a8"
             ],
             [
              0.3333333333333333,
              "#9c179e"
             ],
             [
              0.4444444444444444,
              "#bd3786"
             ],
             [
              0.5555555555555556,
              "#d8576b"
             ],
             [
              0.6666666666666666,
              "#ed7953"
             ],
             [
              0.7777777777777778,
              "#fb9f3a"
             ],
             [
              0.8888888888888888,
              "#fdca26"
             ],
             [
              1,
              "#f0f921"
             ]
            ],
            "type": "heatmapgl"
           }
          ],
          "histogram": [
           {
            "marker": {
             "pattern": {
              "fillmode": "overlay",
              "size": 10,
              "solidity": 0.2
             }
            },
            "type": "histogram"
           }
          ],
          "histogram2d": [
           {
            "colorbar": {
             "outlinewidth": 0,
             "ticks": ""
            },
            "colorscale": [
             [
              0,
              "#0d0887"
             ],
             [
              0.1111111111111111,
              "#46039f"
             ],
             [
              0.2222222222222222,
              "#7201a8"
             ],
             [
              0.3333333333333333,
              "#9c179e"
             ],
             [
              0.4444444444444444,
              "#bd3786"
             ],
             [
              0.5555555555555556,
              "#d8576b"
             ],
             [
              0.6666666666666666,
              "#ed7953"
             ],
             [
              0.7777777777777778,
              "#fb9f3a"
             ],
             [
              0.8888888888888888,
              "#fdca26"
             ],
             [
              1,
              "#f0f921"
             ]
            ],
            "type": "histogram2d"
           }
          ],
          "histogram2dcontour": [
           {
            "colorbar": {
             "outlinewidth": 0,
             "ticks": ""
            },
            "colorscale": [
             [
              0,
              "#0d0887"
             ],
             [
              0.1111111111111111,
              "#46039f"
             ],
             [
              0.2222222222222222,
              "#7201a8"
             ],
             [
              0.3333333333333333,
              "#9c179e"
             ],
             [
              0.4444444444444444,
              "#bd3786"
             ],
             [
              0.5555555555555556,
              "#d8576b"
             ],
             [
              0.6666666666666666,
              "#ed7953"
             ],
             [
              0.7777777777777778,
              "#fb9f3a"
             ],
             [
              0.8888888888888888,
              "#fdca26"
             ],
             [
              1,
              "#f0f921"
             ]
            ],
            "type": "histogram2dcontour"
           }
          ],
          "mesh3d": [
           {
            "colorbar": {
             "outlinewidth": 0,
             "ticks": ""
            },
            "type": "mesh3d"
           }
          ],
          "parcoords": [
           {
            "line": {
             "colorbar": {
              "outlinewidth": 0,
              "ticks": ""
             }
            },
            "type": "parcoords"
           }
          ],
          "pie": [
           {
            "automargin": true,
            "type": "pie"
           }
          ],
          "scatter": [
           {
            "fillpattern": {
             "fillmode": "overlay",
             "size": 10,
             "solidity": 0.2
            },
            "type": "scatter"
           }
          ],
          "scatter3d": [
           {
            "line": {
             "colorbar": {
              "outlinewidth": 0,
              "ticks": ""
             }
            },
            "marker": {
             "colorbar": {
              "outlinewidth": 0,
              "ticks": ""
             }
            },
            "type": "scatter3d"
           }
          ],
          "scattercarpet": [
           {
            "marker": {
             "colorbar": {
              "outlinewidth": 0,
              "ticks": ""
             }
            },
            "type": "scattercarpet"
           }
          ],
          "scattergeo": [
           {
            "marker": {
             "colorbar": {
              "outlinewidth": 0,
              "ticks": ""
             }
            },
            "type": "scattergeo"
           }
          ],
          "scattergl": [
           {
            "marker": {
             "colorbar": {
              "outlinewidth": 0,
              "ticks": ""
             }
            },
            "type": "scattergl"
           }
          ],
          "scattermapbox": [
           {
            "marker": {
             "colorbar": {
              "outlinewidth": 0,
              "ticks": ""
             }
            },
            "type": "scattermapbox"
           }
          ],
          "scatterpolar": [
           {
            "marker": {
             "colorbar": {
              "outlinewidth": 0,
              "ticks": ""
             }
            },
            "type": "scatterpolar"
           }
          ],
          "scatterpolargl": [
           {
            "marker": {
             "colorbar": {
              "outlinewidth": 0,
              "ticks": ""
             }
            },
            "type": "scatterpolargl"
           }
          ],
          "scatterternary": [
           {
            "marker": {
             "colorbar": {
              "outlinewidth": 0,
              "ticks": ""
             }
            },
            "type": "scatterternary"
           }
          ],
          "surface": [
           {
            "colorbar": {
             "outlinewidth": 0,
             "ticks": ""
            },
            "colorscale": [
             [
              0,
              "#0d0887"
             ],
             [
              0.1111111111111111,
              "#46039f"
             ],
             [
              0.2222222222222222,
              "#7201a8"
             ],
             [
              0.3333333333333333,
              "#9c179e"
             ],
             [
              0.4444444444444444,
              "#bd3786"
             ],
             [
              0.5555555555555556,
              "#d8576b"
             ],
             [
              0.6666666666666666,
              "#ed7953"
             ],
             [
              0.7777777777777778,
              "#fb9f3a"
             ],
             [
              0.8888888888888888,
              "#fdca26"
             ],
             [
              1,
              "#f0f921"
             ]
            ],
            "type": "surface"
           }
          ],
          "table": [
           {
            "cells": {
             "fill": {
              "color": "#EBF0F8"
             },
             "line": {
              "color": "white"
             }
            },
            "header": {
             "fill": {
              "color": "#C8D4E3"
             },
             "line": {
              "color": "white"
             }
            },
            "type": "table"
           }
          ]
         },
         "layout": {
          "annotationdefaults": {
           "arrowcolor": "#2a3f5f",
           "arrowhead": 0,
           "arrowwidth": 1
          },
          "autotypenumbers": "strict",
          "coloraxis": {
           "colorbar": {
            "outlinewidth": 0,
            "ticks": ""
           }
          },
          "colorscale": {
           "diverging": [
            [
             0,
             "#8e0152"
            ],
            [
             0.1,
             "#c51b7d"
            ],
            [
             0.2,
             "#de77ae"
            ],
            [
             0.3,
             "#f1b6da"
            ],
            [
             0.4,
             "#fde0ef"
            ],
            [
             0.5,
             "#f7f7f7"
            ],
            [
             0.6,
             "#e6f5d0"
            ],
            [
             0.7,
             "#b8e186"
            ],
            [
             0.8,
             "#7fbc41"
            ],
            [
             0.9,
             "#4d9221"
            ],
            [
             1,
             "#276419"
            ]
           ],
           "sequential": [
            [
             0,
             "#0d0887"
            ],
            [
             0.1111111111111111,
             "#46039f"
            ],
            [
             0.2222222222222222,
             "#7201a8"
            ],
            [
             0.3333333333333333,
             "#9c179e"
            ],
            [
             0.4444444444444444,
             "#bd3786"
            ],
            [
             0.5555555555555556,
             "#d8576b"
            ],
            [
             0.6666666666666666,
             "#ed7953"
            ],
            [
             0.7777777777777778,
             "#fb9f3a"
            ],
            [
             0.8888888888888888,
             "#fdca26"
            ],
            [
             1,
             "#f0f921"
            ]
           ],
           "sequentialminus": [
            [
             0,
             "#0d0887"
            ],
            [
             0.1111111111111111,
             "#46039f"
            ],
            [
             0.2222222222222222,
             "#7201a8"
            ],
            [
             0.3333333333333333,
             "#9c179e"
            ],
            [
             0.4444444444444444,
             "#bd3786"
            ],
            [
             0.5555555555555556,
             "#d8576b"
            ],
            [
             0.6666666666666666,
             "#ed7953"
            ],
            [
             0.7777777777777778,
             "#fb9f3a"
            ],
            [
             0.8888888888888888,
             "#fdca26"
            ],
            [
             1,
             "#f0f921"
            ]
           ]
          },
          "colorway": [
           "#636efa",
           "#EF553B",
           "#00cc96",
           "#ab63fa",
           "#FFA15A",
           "#19d3f3",
           "#FF6692",
           "#B6E880",
           "#FF97FF",
           "#FECB52"
          ],
          "font": {
           "color": "#2a3f5f"
          },
          "geo": {
           "bgcolor": "white",
           "lakecolor": "white",
           "landcolor": "#E5ECF6",
           "showlakes": true,
           "showland": true,
           "subunitcolor": "white"
          },
          "hoverlabel": {
           "align": "left"
          },
          "hovermode": "closest",
          "mapbox": {
           "style": "light"
          },
          "paper_bgcolor": "white",
          "plot_bgcolor": "#E5ECF6",
          "polar": {
           "angularaxis": {
            "gridcolor": "white",
            "linecolor": "white",
            "ticks": ""
           },
           "bgcolor": "#E5ECF6",
           "radialaxis": {
            "gridcolor": "white",
            "linecolor": "white",
            "ticks": ""
           }
          },
          "scene": {
           "xaxis": {
            "backgroundcolor": "#E5ECF6",
            "gridcolor": "white",
            "gridwidth": 2,
            "linecolor": "white",
            "showbackground": true,
            "ticks": "",
            "zerolinecolor": "white"
           },
           "yaxis": {
            "backgroundcolor": "#E5ECF6",
            "gridcolor": "white",
            "gridwidth": 2,
            "linecolor": "white",
            "showbackground": true,
            "ticks": "",
            "zerolinecolor": "white"
           },
           "zaxis": {
            "backgroundcolor": "#E5ECF6",
            "gridcolor": "white",
            "gridwidth": 2,
            "linecolor": "white",
            "showbackground": true,
            "ticks": "",
            "zerolinecolor": "white"
           }
          },
          "shapedefaults": {
           "line": {
            "color": "#2a3f5f"
           }
          },
          "ternary": {
           "aaxis": {
            "gridcolor": "white",
            "linecolor": "white",
            "ticks": ""
           },
           "baxis": {
            "gridcolor": "white",
            "linecolor": "white",
            "ticks": ""
           },
           "bgcolor": "#E5ECF6",
           "caxis": {
            "gridcolor": "white",
            "linecolor": "white",
            "ticks": ""
           }
          },
          "title": {
           "x": 0.05
          },
          "xaxis": {
           "automargin": true,
           "gridcolor": "white",
           "linecolor": "white",
           "ticks": "",
           "title": {
            "standoff": 15
           },
           "zerolinecolor": "white",
           "zerolinewidth": 2
          },
          "yaxis": {
           "automargin": true,
           "gridcolor": "white",
           "linecolor": "white",
           "ticks": "",
           "title": {
            "standoff": 15
           },
           "zerolinecolor": "white",
           "zerolinewidth": 2
          }
         }
        },
        "title": {
         "text": "R2 Scores for Different Models and Wells"
        },
        "xaxis": {
         "title": {
          "text": "Wells"
         }
        },
        "yaxis": {
         "title": {
          "text": "R2 Score"
         }
        }
       }
      }
     },
     "metadata": {},
     "output_type": "display_data"
    }
   ],
   "source": [
    "r2_scores_rf = [r2_well1_rf, r2_well2_rf, r2_well3_rf, r2_well4_rf]\n",
    "r2_scores_svr = [r2_well1_svr, r2_well2_svr, r2_well3_svr, r2_well4_svr]\n",
    "r2_scores_lr = [r2_well1_lr, r2_well2_lr, r2_well3_lr, r2_well4_lr]\n",
    "r2_scores_xgb = [r2_well1_xgb, r2_well2_xgb, r2_well3_xgb, r2_well4_xgb]\n",
    "\n",
    "# Create traces\n",
    "trace1 = go.Bar(\n",
    "    x=['Well 1', 'Well 2', 'Well 3', 'Well 4'],\n",
    "    y=r2_scores_rf,\n",
    "    name='Random Forest'\n",
    ")\n",
    "\n",
    "trace2 = go.Bar(\n",
    "    x=['Well 1', 'Well 2', 'Well 3', 'Well 4'],\n",
    "    y=r2_scores_svr,\n",
    "    name='Support Vector Regression'\n",
    ")\n",
    "\n",
    "trace3 = go.Bar(\n",
    "    x=['Well 1', 'Well 2', 'Well 3', 'Well 4'],\n",
    "    y=r2_scores_lr,\n",
    "    name='Linear Regression'\n",
    ")\n",
    "\n",
    "trace4 = go.Bar(\n",
    "    x=['Well 1', 'Well 2', 'Well 3', 'Well 4'],\n",
    "    y=r2_scores_xgb,\n",
    "    name='XGBoost'\n",
    ")\n",
    "\n",
    "data = [trace1, trace2, trace3, trace4]\n",
    "layout = go.Layout(\n",
    "    barmode='group',\n",
    "    title='R2 Scores for Different Models and Wells',\n",
    "    xaxis=dict(title='Wells'),\n",
    "    yaxis=dict(title='R2 Score')\n",
    ")\n",
    "\n",
    "fig = go.Figure(data=data, layout=layout)\n",
    "\n",
    "fig.show()\n"
   ]
  },
  {
   "cell_type": "markdown",
   "metadata": {},
   "source": [
    "#### Random Forest Comparison for case 1 vs case 2"
   ]
  },
  {
   "cell_type": "code",
   "execution_count": 502,
   "metadata": {},
   "outputs": [
    {
     "name": "stdout",
     "output_type": "stream",
     "text": [
      "R2 Score for Well 1 Oil rate: 0.9746953977658498\n",
      "R2 Score for Well 2 Oil rate: 0.9745393469843454\n",
      "R2 Score for Well 3 Oil rate: 0.932608348844675\n",
      "R2 Score for Well 4 Oil rate: 0.9089727750971897\n",
      "R2 Score for Well 1 Oil rate: 0.9721331968811758\n",
      "R2 Score for Well 2 Oil rate: 0.975194229466734\n",
      "R2 Score for Well 3 Oil rate: 0.9330266894188868\n",
      "R2 Score for Well 4 Oil rate: 0.9029161826883575\n"
     ]
    },
    {
     "data": {
      "application/vnd.plotly.v1+json": {
       "config": {
        "plotlyServerURL": "https://plot.ly"
       },
       "data": [
        {
         "marker": {
          "color": "rgb(55, 83, 109)"
         },
         "name": "Case 1",
         "type": "bar",
         "x": [
          "Well 1",
          "Well 2",
          "Well 3",
          "Well 4"
         ],
         "y": [
          0.9746953977658498,
          0.9745393469843454,
          0.932608348844675,
          0.9089727750971897
         ]
        },
        {
         "marker": {
          "color": "rgb(26, 118, 255)"
         },
         "name": "Case 2",
         "type": "bar",
         "x": [
          "Well 1",
          "Well 2",
          "Well 3",
          "Well 4"
         ],
         "y": [
          0.9721331968811758,
          0.975194229466734,
          0.9330266894188868,
          0.9029161826883575
         ]
        }
       ],
       "layout": {
        "barmode": "group",
        "template": {
         "data": {
          "bar": [
           {
            "error_x": {
             "color": "#2a3f5f"
            },
            "error_y": {
             "color": "#2a3f5f"
            },
            "marker": {
             "line": {
              "color": "#E5ECF6",
              "width": 0.5
             },
             "pattern": {
              "fillmode": "overlay",
              "size": 10,
              "solidity": 0.2
             }
            },
            "type": "bar"
           }
          ],
          "barpolar": [
           {
            "marker": {
             "line": {
              "color": "#E5ECF6",
              "width": 0.5
             },
             "pattern": {
              "fillmode": "overlay",
              "size": 10,
              "solidity": 0.2
             }
            },
            "type": "barpolar"
           }
          ],
          "carpet": [
           {
            "aaxis": {
             "endlinecolor": "#2a3f5f",
             "gridcolor": "white",
             "linecolor": "white",
             "minorgridcolor": "white",
             "startlinecolor": "#2a3f5f"
            },
            "baxis": {
             "endlinecolor": "#2a3f5f",
             "gridcolor": "white",
             "linecolor": "white",
             "minorgridcolor": "white",
             "startlinecolor": "#2a3f5f"
            },
            "type": "carpet"
           }
          ],
          "choropleth": [
           {
            "colorbar": {
             "outlinewidth": 0,
             "ticks": ""
            },
            "type": "choropleth"
           }
          ],
          "contour": [
           {
            "colorbar": {
             "outlinewidth": 0,
             "ticks": ""
            },
            "colorscale": [
             [
              0,
              "#0d0887"
             ],
             [
              0.1111111111111111,
              "#46039f"
             ],
             [
              0.2222222222222222,
              "#7201a8"
             ],
             [
              0.3333333333333333,
              "#9c179e"
             ],
             [
              0.4444444444444444,
              "#bd3786"
             ],
             [
              0.5555555555555556,
              "#d8576b"
             ],
             [
              0.6666666666666666,
              "#ed7953"
             ],
             [
              0.7777777777777778,
              "#fb9f3a"
             ],
             [
              0.8888888888888888,
              "#fdca26"
             ],
             [
              1,
              "#f0f921"
             ]
            ],
            "type": "contour"
           }
          ],
          "contourcarpet": [
           {
            "colorbar": {
             "outlinewidth": 0,
             "ticks": ""
            },
            "type": "contourcarpet"
           }
          ],
          "heatmap": [
           {
            "colorbar": {
             "outlinewidth": 0,
             "ticks": ""
            },
            "colorscale": [
             [
              0,
              "#0d0887"
             ],
             [
              0.1111111111111111,
              "#46039f"
             ],
             [
              0.2222222222222222,
              "#7201a8"
             ],
             [
              0.3333333333333333,
              "#9c179e"
             ],
             [
              0.4444444444444444,
              "#bd3786"
             ],
             [
              0.5555555555555556,
              "#d8576b"
             ],
             [
              0.6666666666666666,
              "#ed7953"
             ],
             [
              0.7777777777777778,
              "#fb9f3a"
             ],
             [
              0.8888888888888888,
              "#fdca26"
             ],
             [
              1,
              "#f0f921"
             ]
            ],
            "type": "heatmap"
           }
          ],
          "heatmapgl": [
           {
            "colorbar": {
             "outlinewidth": 0,
             "ticks": ""
            },
            "colorscale": [
             [
              0,
              "#0d0887"
             ],
             [
              0.1111111111111111,
              "#46039f"
             ],
             [
              0.2222222222222222,
              "#7201a8"
             ],
             [
              0.3333333333333333,
              "#9c179e"
             ],
             [
              0.4444444444444444,
              "#bd3786"
             ],
             [
              0.5555555555555556,
              "#d8576b"
             ],
             [
              0.6666666666666666,
              "#ed7953"
             ],
             [
              0.7777777777777778,
              "#fb9f3a"
             ],
             [
              0.8888888888888888,
              "#fdca26"
             ],
             [
              1,
              "#f0f921"
             ]
            ],
            "type": "heatmapgl"
           }
          ],
          "histogram": [
           {
            "marker": {
             "pattern": {
              "fillmode": "overlay",
              "size": 10,
              "solidity": 0.2
             }
            },
            "type": "histogram"
           }
          ],
          "histogram2d": [
           {
            "colorbar": {
             "outlinewidth": 0,
             "ticks": ""
            },
            "colorscale": [
             [
              0,
              "#0d0887"
             ],
             [
              0.1111111111111111,
              "#46039f"
             ],
             [
              0.2222222222222222,
              "#7201a8"
             ],
             [
              0.3333333333333333,
              "#9c179e"
             ],
             [
              0.4444444444444444,
              "#bd3786"
             ],
             [
              0.5555555555555556,
              "#d8576b"
             ],
             [
              0.6666666666666666,
              "#ed7953"
             ],
             [
              0.7777777777777778,
              "#fb9f3a"
             ],
             [
              0.8888888888888888,
              "#fdca26"
             ],
             [
              1,
              "#f0f921"
             ]
            ],
            "type": "histogram2d"
           }
          ],
          "histogram2dcontour": [
           {
            "colorbar": {
             "outlinewidth": 0,
             "ticks": ""
            },
            "colorscale": [
             [
              0,
              "#0d0887"
             ],
             [
              0.1111111111111111,
              "#46039f"
             ],
             [
              0.2222222222222222,
              "#7201a8"
             ],
             [
              0.3333333333333333,
              "#9c179e"
             ],
             [
              0.4444444444444444,
              "#bd3786"
             ],
             [
              0.5555555555555556,
              "#d8576b"
             ],
             [
              0.6666666666666666,
              "#ed7953"
             ],
             [
              0.7777777777777778,
              "#fb9f3a"
             ],
             [
              0.8888888888888888,
              "#fdca26"
             ],
             [
              1,
              "#f0f921"
             ]
            ],
            "type": "histogram2dcontour"
           }
          ],
          "mesh3d": [
           {
            "colorbar": {
             "outlinewidth": 0,
             "ticks": ""
            },
            "type": "mesh3d"
           }
          ],
          "parcoords": [
           {
            "line": {
             "colorbar": {
              "outlinewidth": 0,
              "ticks": ""
             }
            },
            "type": "parcoords"
           }
          ],
          "pie": [
           {
            "automargin": true,
            "type": "pie"
           }
          ],
          "scatter": [
           {
            "fillpattern": {
             "fillmode": "overlay",
             "size": 10,
             "solidity": 0.2
            },
            "type": "scatter"
           }
          ],
          "scatter3d": [
           {
            "line": {
             "colorbar": {
              "outlinewidth": 0,
              "ticks": ""
             }
            },
            "marker": {
             "colorbar": {
              "outlinewidth": 0,
              "ticks": ""
             }
            },
            "type": "scatter3d"
           }
          ],
          "scattercarpet": [
           {
            "marker": {
             "colorbar": {
              "outlinewidth": 0,
              "ticks": ""
             }
            },
            "type": "scattercarpet"
           }
          ],
          "scattergeo": [
           {
            "marker": {
             "colorbar": {
              "outlinewidth": 0,
              "ticks": ""
             }
            },
            "type": "scattergeo"
           }
          ],
          "scattergl": [
           {
            "marker": {
             "colorbar": {
              "outlinewidth": 0,
              "ticks": ""
             }
            },
            "type": "scattergl"
           }
          ],
          "scattermapbox": [
           {
            "marker": {
             "colorbar": {
              "outlinewidth": 0,
              "ticks": ""
             }
            },
            "type": "scattermapbox"
           }
          ],
          "scatterpolar": [
           {
            "marker": {
             "colorbar": {
              "outlinewidth": 0,
              "ticks": ""
             }
            },
            "type": "scatterpolar"
           }
          ],
          "scatterpolargl": [
           {
            "marker": {
             "colorbar": {
              "outlinewidth": 0,
              "ticks": ""
             }
            },
            "type": "scatterpolargl"
           }
          ],
          "scatterternary": [
           {
            "marker": {
             "colorbar": {
              "outlinewidth": 0,
              "ticks": ""
             }
            },
            "type": "scatterternary"
           }
          ],
          "surface": [
           {
            "colorbar": {
             "outlinewidth": 0,
             "ticks": ""
            },
            "colorscale": [
             [
              0,
              "#0d0887"
             ],
             [
              0.1111111111111111,
              "#46039f"
             ],
             [
              0.2222222222222222,
              "#7201a8"
             ],
             [
              0.3333333333333333,
              "#9c179e"
             ],
             [
              0.4444444444444444,
              "#bd3786"
             ],
             [
              0.5555555555555556,
              "#d8576b"
             ],
             [
              0.6666666666666666,
              "#ed7953"
             ],
             [
              0.7777777777777778,
              "#fb9f3a"
             ],
             [
              0.8888888888888888,
              "#fdca26"
             ],
             [
              1,
              "#f0f921"
             ]
            ],
            "type": "surface"
           }
          ],
          "table": [
           {
            "cells": {
             "fill": {
              "color": "#EBF0F8"
             },
             "line": {
              "color": "white"
             }
            },
            "header": {
             "fill": {
              "color": "#C8D4E3"
             },
             "line": {
              "color": "white"
             }
            },
            "type": "table"
           }
          ]
         },
         "layout": {
          "annotationdefaults": {
           "arrowcolor": "#2a3f5f",
           "arrowhead": 0,
           "arrowwidth": 1
          },
          "autotypenumbers": "strict",
          "coloraxis": {
           "colorbar": {
            "outlinewidth": 0,
            "ticks": ""
           }
          },
          "colorscale": {
           "diverging": [
            [
             0,
             "#8e0152"
            ],
            [
             0.1,
             "#c51b7d"
            ],
            [
             0.2,
             "#de77ae"
            ],
            [
             0.3,
             "#f1b6da"
            ],
            [
             0.4,
             "#fde0ef"
            ],
            [
             0.5,
             "#f7f7f7"
            ],
            [
             0.6,
             "#e6f5d0"
            ],
            [
             0.7,
             "#b8e186"
            ],
            [
             0.8,
             "#7fbc41"
            ],
            [
             0.9,
             "#4d9221"
            ],
            [
             1,
             "#276419"
            ]
           ],
           "sequential": [
            [
             0,
             "#0d0887"
            ],
            [
             0.1111111111111111,
             "#46039f"
            ],
            [
             0.2222222222222222,
             "#7201a8"
            ],
            [
             0.3333333333333333,
             "#9c179e"
            ],
            [
             0.4444444444444444,
             "#bd3786"
            ],
            [
             0.5555555555555556,
             "#d8576b"
            ],
            [
             0.6666666666666666,
             "#ed7953"
            ],
            [
             0.7777777777777778,
             "#fb9f3a"
            ],
            [
             0.8888888888888888,
             "#fdca26"
            ],
            [
             1,
             "#f0f921"
            ]
           ],
           "sequentialminus": [
            [
             0,
             "#0d0887"
            ],
            [
             0.1111111111111111,
             "#46039f"
            ],
            [
             0.2222222222222222,
             "#7201a8"
            ],
            [
             0.3333333333333333,
             "#9c179e"
            ],
            [
             0.4444444444444444,
             "#bd3786"
            ],
            [
             0.5555555555555556,
             "#d8576b"
            ],
            [
             0.6666666666666666,
             "#ed7953"
            ],
            [
             0.7777777777777778,
             "#fb9f3a"
            ],
            [
             0.8888888888888888,
             "#fdca26"
            ],
            [
             1,
             "#f0f921"
            ]
           ]
          },
          "colorway": [
           "#636efa",
           "#EF553B",
           "#00cc96",
           "#ab63fa",
           "#FFA15A",
           "#19d3f3",
           "#FF6692",
           "#B6E880",
           "#FF97FF",
           "#FECB52"
          ],
          "font": {
           "color": "#2a3f5f"
          },
          "geo": {
           "bgcolor": "white",
           "lakecolor": "white",
           "landcolor": "#E5ECF6",
           "showlakes": true,
           "showland": true,
           "subunitcolor": "white"
          },
          "hoverlabel": {
           "align": "left"
          },
          "hovermode": "closest",
          "mapbox": {
           "style": "light"
          },
          "paper_bgcolor": "white",
          "plot_bgcolor": "#E5ECF6",
          "polar": {
           "angularaxis": {
            "gridcolor": "white",
            "linecolor": "white",
            "ticks": ""
           },
           "bgcolor": "#E5ECF6",
           "radialaxis": {
            "gridcolor": "white",
            "linecolor": "white",
            "ticks": ""
           }
          },
          "scene": {
           "xaxis": {
            "backgroundcolor": "#E5ECF6",
            "gridcolor": "white",
            "gridwidth": 2,
            "linecolor": "white",
            "showbackground": true,
            "ticks": "",
            "zerolinecolor": "white"
           },
           "yaxis": {
            "backgroundcolor": "#E5ECF6",
            "gridcolor": "white",
            "gridwidth": 2,
            "linecolor": "white",
            "showbackground": true,
            "ticks": "",
            "zerolinecolor": "white"
           },
           "zaxis": {
            "backgroundcolor": "#E5ECF6",
            "gridcolor": "white",
            "gridwidth": 2,
            "linecolor": "white",
            "showbackground": true,
            "ticks": "",
            "zerolinecolor": "white"
           }
          },
          "shapedefaults": {
           "line": {
            "color": "#2a3f5f"
           }
          },
          "ternary": {
           "aaxis": {
            "gridcolor": "white",
            "linecolor": "white",
            "ticks": ""
           },
           "baxis": {
            "gridcolor": "white",
            "linecolor": "white",
            "ticks": ""
           },
           "bgcolor": "#E5ECF6",
           "caxis": {
            "gridcolor": "white",
            "linecolor": "white",
            "ticks": ""
           }
          },
          "title": {
           "x": 0.05
          },
          "xaxis": {
           "automargin": true,
           "gridcolor": "white",
           "linecolor": "white",
           "ticks": "",
           "title": {
            "standoff": 15
           },
           "zerolinecolor": "white",
           "zerolinewidth": 2
          },
          "yaxis": {
           "automargin": true,
           "gridcolor": "white",
           "linecolor": "white",
           "ticks": "",
           "title": {
            "standoff": 15
           },
           "zerolinecolor": "white",
           "zerolinewidth": 2
          }
         }
        },
        "title": {
         "text": "Comparison of R2 Scores for Two Cases"
        },
        "xaxis": {
         "title": {
          "text": "Wells"
         }
        },
        "yaxis": {
         "title": {
          "text": "R2 Score"
         }
        }
       }
      }
     },
     "metadata": {},
     "output_type": "display_data"
    }
   ],
   "source": [
    "#case 1\n",
    "#create x and y arrays in which x has independent variables and y has Oil_Rate for all wells\n",
    "x = df[['WHP_well_1', 'WHP_well_2', 'WHP_well_3', 'WHP_well_4']]\n",
    "y = df[['Oil_Rate_well_1', 'Oil_Rate_well_2', 'Oil_Rate_well_3', 'Oil_Rate_well_4']]\n",
    "\n",
    "# model building using RandomForest regressor\n",
    "rf = RandomForestRegressor()\n",
    "# create the multi-output regressor\n",
    "model = MultiOutputRegressor(rf)\n",
    "\n",
    "# fit the model to the data\n",
    "model.fit(x_train, y_train)\n",
    "\n",
    "# evaluate the model\n",
    "y_pred = model.predict(x_test)\n",
    "\n",
    "r2_well1_rf_c1 = r2_score(y_test['Oil_Rate_well_1'], y_pred[:, 0])\n",
    "r2_well2_rf_c1 = r2_score(y_test['Oil_Rate_well_2'], y_pred[:, 1])\n",
    "r2_well3_rf_c1 = r2_score(y_test['Oil_Rate_well_3'], y_pred[:, 2])\n",
    "r2_well4_rf_c1 = r2_score(y_test['Oil_Rate_well_4'], y_pred[:, 3])\n",
    "\n",
    "print(f\"R2 Score for Well 1 Oil rate: {r2_well1_rf_c1}\")\n",
    "print(f\"R2 Score for Well 2 Oil rate: {r2_well2_rf_c1}\")\n",
    "print(f\"R2 Score for Well 3 Oil rate: {r2_well3_rf_c1}\")\n",
    "print(f\"R2 Score for Well 4 Oil rate: {r2_well4_rf_c1}\")\n",
    "\n",
    "#case 2\n",
    "#create x and y arrays in which x has independent variables and y has Oil_Rate for all wells\n",
    "x = df[['WHP_well_1', 'GOR_well_1', 'WHP_well_2', 'GOR_well_2', 'WHP_well_3', 'GOR_well_3',  'WHP_well_4', 'GOR_well_4', 'total_oil_rate']]\n",
    "y = df[['Oil_Rate_well_1', 'Oil_Rate_well_2', 'Oil_Rate_well_3', 'Oil_Rate_well_4']]\n",
    "\n",
    "# model building using RandomForest regressor\n",
    "rf = RandomForestRegressor()\n",
    "# create the multi-output regressor\n",
    "model = MultiOutputRegressor(rf)\n",
    "\n",
    "# fit the model to the data\n",
    "model.fit(x_train, y_train)\n",
    "\n",
    "# evaluate the model\n",
    "y_pred = model.predict(x_test)\n",
    "\n",
    "r2_well1_rf_c2 = r2_score(y_test['Oil_Rate_well_1'], y_pred[:, 0])\n",
    "r2_well2_rf_c2 = r2_score(y_test['Oil_Rate_well_2'], y_pred[:, 1])\n",
    "r2_well3_rf_c2 = r2_score(y_test['Oil_Rate_well_3'], y_pred[:, 2])\n",
    "r2_well4_rf_c2 = r2_score(y_test['Oil_Rate_well_4'], y_pred[:, 3])\n",
    "\n",
    "print(f\"R2 Score for Well 1 Oil rate: {r2_well1_rf_c2}\")\n",
    "print(f\"R2 Score for Well 2 Oil rate: {r2_well2_rf_c2}\")\n",
    "print(f\"R2 Score for Well 3 Oil rate: {r2_well3_rf_c2}\")\n",
    "print(f\"R2 Score for Well 4 Oil rate: {r2_well4_rf_c2}\")\n",
    "\n",
    "\n",
    "import plotly.graph_objects as go\n",
    "\n",
    "# R2 scores for case 1\n",
    "r2_scores_rf_c1 = [r2_well1_rf_c1, r2_well2_rf_c1, r2_well3_rf_c1, r2_well4_rf_c1]\n",
    "\n",
    "# R2 scores for case 2\n",
    "r2_scores_rf_c2 = [r2_well1_rf_c2, r2_well2_rf_c2, r2_well3_rf_c2, r2_well4_rf_c2]\n",
    "\n",
    "# Create traces\n",
    "trace1 = go.Bar(\n",
    "    x=['Well 1', 'Well 2', 'Well 3', 'Well 4'],\n",
    "    y=r2_scores_rf_c1,\n",
    "    name='Case 1',\n",
    "    marker_color='rgb(55, 83, 109)'\n",
    ")\n",
    "\n",
    "trace2 = go.Bar(\n",
    "    x=['Well 1', 'Well 2', 'Well 3', 'Well 4'],\n",
    "    y=r2_scores_rf_c2,\n",
    "    name='Case 2',\n",
    "    marker_color='rgb(26, 118, 255)'\n",
    ")\n",
    "\n",
    "data = [trace1, trace2]\n",
    "layout = go.Layout(\n",
    "    title='Comparison of R2 Scores for Two Cases',\n",
    "    xaxis=dict(title='Wells'),\n",
    "    yaxis=dict(title='R2 Score'),\n",
    "    barmode='group'\n",
    ")\n",
    "\n",
    "fig = go.Figure(data=data, layout=layout)\n",
    "\n",
    "fig.show()\n"
   ]
  },
  {
   "attachments": {},
   "cell_type": "markdown",
   "metadata": {},
   "source": [
    "# End"
   ]
  }
 ],
 "metadata": {
  "kernelspec": {
   "display_name": "risehill",
   "language": "python",
   "name": "python3"
  },
  "language_info": {
   "codemirror_mode": {
    "name": "ipython",
    "version": 3
   },
   "file_extension": ".py",
   "mimetype": "text/x-python",
   "name": "python",
   "nbconvert_exporter": "python",
   "pygments_lexer": "ipython3",
   "version": "3.8.16"
  },
  "orig_nbformat": 4
 },
 "nbformat": 4,
 "nbformat_minor": 2
}
